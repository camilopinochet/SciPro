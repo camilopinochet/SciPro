{
 "cells": [
  {
   "cell_type": "markdown",
   "metadata": {},
   "source": [
    "\n",
    "<!-- dom:TITLE: Ch.1: Computing with formulas -->\n",
    "# Ch.1: Computación con fórmulas\n",
    "<!-- dom:AUTHOR: Hans Petter Langtangen at Simula Research Laboratory & University of Oslo, Dept. of Informatics -->\n",
    "<!-- Author: --> **Hans Petter Langtangen**, Simula Research Laboratory and University of Oslo, Dept. of Informatics\n",
    "\n",
    "Fecha: **21 de agosto de 2016**\n",
    "\n",
    "## ¿Por qué programar?\n",
    "\n",
    "> *Todo el mundo en este país debería aprender a programar una computadora ... porque te enseña a pensar*. Steve Jobs, 1955-2011.\n",
    "\n",
    "\n",
    "\n",
    "\n",
    "\n",
    "## La estrategia de enseñanza está basada en ejemplos.\n",
    "\n",
    "  * Presentar un caso (ejemplo)\n",
    "\n",
    "  * Presentar el programa completo.\n",
    "\n",
    "  * Diseccionar y discutir cada línea.\n",
    "\n",
    "  * Simular programas a mano (¡sé la computadora!)\n",
    "\n",
    "\n",
    "\n",
    "## La estrategia de aprendizaje consiste en hacer ejercicios.\n",
    "\n",
    "  * Estudiar y tratar de entender ejemplos.\n",
    "\n",
    "  * Programar mucho!\n",
    "\n",
    "  * Este curso tiene muchos ejercicios obligatorios.\n",
    "\n",
    "  * El currículo del curso se define a través de ejercicios.\n",
    "\n",
    "\n",
    "\n",
    "## El capítulo 1 trata sobre la evaluación de fórmulas.\n",
    "\n",
    "**¿Por qué?**\n",
    "\n",
    "  * Todo el mundo entiende el problema.\n",
    "\n",
    "  * Se introducen muchos conceptos fundamentales.\n",
    "\n",
    "   * variables\n",
    "\n",
    "   * expresiones aritméticas\n",
    "\n",
    "   * objetos\n",
    "\n",
    "   * impresión de texto y números\n",
    "\n",
    "\n",
    "\n",
    "## Las fórmulas y aritmética son fundamentales ...\n",
    "\n",
    "Un físico, un biólogo y un matemático estaban en un café cuando, al otro lado de la calle, dos personas entraron a una casa. Momentos después salieron tres personas. El físico dijo: \"Hmm, eso debe ser un error de medición\". El biólogo se preguntó: \"¡Debe ser reproducción!\" Y el matemático dijo: \"Si alguien entra en la casa, volverá a estar vacío\".\n",
    "\n",
    "\n",
    "\n",
    "## Evaluando una fórmula matemática\n",
    "\n",
    "** Altura de una pelota en movimiento vertical. **"
   ]
  },
  {
   "cell_type": "markdown",
   "metadata": {},
   "source": [
    "$$\n",
    "y(t) = v_0t- \\frac{1}{2}gt^2\n",
    "$$"
   ]
  },
  {
   "cell_type": "markdown",
   "metadata": {},
   "source": [
    "\n",
    "dónde\n",
    "\n",
    "  * $y$ es la altura (posición) en función del tiempo $ t $\n",
    "\n",
    "  * $v_0$ es la velocidad inicial en $ t = 0 $\n",
    "\n",
    "  * $g$ es la aceleración de la gravedad\n",
    "\n",
    "Tarea: dados $ v_0 $, $ g $ y $ t $, computar $ y $.\n",
    "\n",
    "\n",
    "\n",
    "## ¿Usar una calculadora? ¡Un programa es mucho más poderoso!\n",
    "\n",
    "** ¿Qué es un programa? **\n",
    "\n",
    "Una secuencia de instrucciones para la computadora, escritas en un lenguaje de programación, algo así como el inglés, pero mucho más simple y mucho más estricto.\n",
    "\n",
    "\n",
    "\n",
    "Este curso enseña el idioma de Python.\n",
    "\n",
    "\n",
    "\n",
    "** Nuestro primer programa de ejemplo: **\n",
    "\n",
    "Evalúe $y(t) = v_0t- \\frac{1}{2}gt^2$ for $v_0=5$, $g=9.81$ and $t=0.6$:"
   ]
  },
  {
   "cell_type": "markdown",
   "metadata": {},
   "source": [
    "$$\n",
    "y = 5\\cdot 0.6 - \\frac{1}{2}\\cdot 9.81 \\cdot 0.6^2\n",
    "$$"
   ]
  },
  {
   "cell_type": "markdown",
   "metadata": {},
   "source": [
    "The complete Python program:"
   ]
  },
  {
   "cell_type": "code",
   "execution_count": null,
   "metadata": {},
   "outputs": [],
   "source": [
    "print (5*0.6 - 0.5*9.81*0.6**2)"
   ]
  },
  {
   "cell_type": "markdown",
   "metadata": {},
   "source": [
    "## Cómo escribir y ejecutar el programa\n",
    "\n",
    "  * Un programa es texto sin formato, escrito en un *editor de texto sin formato*\n",
    "\n",
    "  * Utilice Gedit, Emacs, Vim, Spyder o IDLE (*no* MS Word!)\n",
    "\n",
    "**Paso 1.** Escribe el programa en un editor de texto, aquí la línea"
   ]
  },
  {
   "cell_type": "code",
   "execution_count": null,
   "metadata": {},
   "outputs": [],
   "source": [
    "print (5*0.6 - 0.5*9.81*0.6**2)"
   ]
  },
  {
   "cell_type": "markdown",
   "metadata": {},
   "source": [
    "**Paso 2.**\n",
    "Guarda el programa en un archivo (por ejemplo) `ball1.py`.\n",
    "(`.py` denota Python.)\n",
    "\n",
    "**Paso 3.**\n",
    "Vaya a una ventana de terminal y vaya a la carpeta que contiene el archivo de programa.\n",
    "\n",
    "**Paso 4.** Ejecutar el programa:"
   ]
  },
  {
   "cell_type": "markdown",
   "metadata": {},
   "source": [
    "        Terminal> python ball1.py"
   ]
  },
  {
   "cell_type": "markdown",
   "metadata": {},
   "source": [
    "El programa imprime `1.2342` en la ventana del terminal.\n",
    "\n",
    "\n",
    "\n",
    "## En este curso, probablemente usamos computadoras de manera diferente a lo que está acostumbrado.\n",
    "\n",
    "  * Cuando usas una computadora, siempre ejecutas algunos programas\n",
    "\n",
    "  * La computadora no puede hacer nada sin que se le diga con precisión qué hacer, y los humanos escriben y usan programas para decirle a la computadora qué hacer\n",
    "\n",
    "  * La mayoría de las personas están acostumbradas a hacer doble clic en un símbolo para ejecutar un programa. En este curso, damos comandos en una ventana de terminal porque eso es más eficiente si trabaja intensamente con la programación.\n",
    "\n",
    "  * Los problemas de matemáticas difíciles de repente se vuelven sencillos al escribir programas\n",
    "\n",
    "\n",
    "\n",
    "## Un programa corto puede calcular cualquier integral\n",
    "\n",
    "No puedes calcular esta integral a mano:"
   ]
  },
  {
   "cell_type": "markdown",
   "metadata": {},
   "source": [
    "$$\n",
    "\\int_{-\\infty}^1 e^{-x^2}dx{\\thinspace .}\n",
    "$$"
   ]
  },
  {
   "cell_type": "markdown",
   "metadata": {},
   "source": [
    "Un pequeño programa puede calcular esto y \"todas\" otras integrales:"
   ]
  },
  {
   "cell_type": "code",
   "execution_count": null,
   "metadata": {},
   "outputs": [],
   "source": [
    "from numpy import *\n",
    "\n",
    "def integrate(f, a, b, n=100):\n",
    "    \"\"\"\n",
    "    Integrar f desde a hasta b,\n",
    "    utilizando la regla Trapezoidal con n intervalos.\n",
    "    \"\"\"\n",
    "    x = linspace(a, b, n+1)    # Coordenadas de los intervalos\n",
    "    h = x[1] - x[0]            # espacio entre intervalos\n",
    "    I = h*(sum(f(x)) - 0.5*(f(a) + f(b)))\n",
    "    return I\n",
    "\n",
    "# Definir mi integral especial\n",
    "def my_function(x):\n",
    "    return exp(-x**2)\n",
    "\n",
    "minus_infinity = -20  # Aproximación de menos infinito\n",
    "I = integrate(my_function, minus_infinity, 1, n=1000)\n",
    "print (\"Value of integral:\", I)"
   ]
  },
  {
   "cell_type": "markdown",
   "metadata": {},
   "source": [
    "**El programa calcula una aproximación con el error $ 10 ^ {- 12} $ dentro de 0.1 s** ($ n = 10 ^ 6 $)!\n",
    "\n",
    "## Las computadoras son muy exigentes con las reglas gramaticales y los errores tipográficos\n",
    "\n",
    "Mira esto"
   ]
  },
  {
   "cell_type": "markdown",
   "metadata": {},
   "source": [
    "        print 5*0.6 - 0.5*9.81*0.6**2\n",
    "        write 5*0,6 - 0,5*9,81*0,6^2"
   ]
  },
  {
   "cell_type": "markdown",
   "metadata": {},
   "source": [
    "¿Considerarías estas dos líneas iguales?\n",
    "\n",
    "  * Los humanos pueden decir *sí*, las computadoras siempre *no*\n",
    "\n",
    "  * La segunda línea no tiene significado como un programa de Python\n",
    "\n",
    "  * `write` no es una palabra de Python legal en este contexto, la coma tiene otra, es decir, que en matemáticas, y el `hat` no es exponenciación.\n",
    "\n",
    "  * ¡Tenemos que ser extremadamente precisos con la forma en que escribimos los programas de computadora!\n",
    "\n",
    "  * Se necesita tiempo y experiencia para aprender esto.\n",
    "\n",
    "\n",
    "\n",
    "## La programación abre una nueva vida\n",
    "\n",
    "> *Las personas solo se convierten en programadores de computadoras si son\n",
    "> obsesivo con los detalles, anhela poder sobre las máquinas y puede soportar\n",
    "> para ser contados día tras día exactamente cómo\n",
    "> estúpidos son.* G. J. E. Rawlins\n",
    "\n",
    "\n",
    "\n",
    "## Almacena números en variables para hacer un programa más legible\n",
    "\n",
    "Desde las matemáticas estás acostumbrado a las variables, por ejemplo,"
   ]
  },
  {
   "cell_type": "markdown",
   "metadata": {},
   "source": [
    "$$\n",
    "v_0=5,\\quad g=9.81,\\quad t=0.6,\\quad y = v_0t -\\frac{1}{2}gt^2\n",
    "$$"
   ]
  },
  {
   "cell_type": "markdown",
   "metadata": {},
   "source": [
    "Podemos usar variables en un programa también, y esto hace que el último programa más fácil de leer y entender:"
   ]
  },
  {
   "cell_type": "code",
   "execution_count": null,
   "metadata": {},
   "outputs": [],
   "source": [
    "v0 = 5\n",
    "g = 9.81\n",
    "t = 0.6\n",
    "y = v0*t - 0.5*g*t**2\n",
    "print (y)"
   ]
  },
  {
   "cell_type": "markdown",
   "metadata": {},
   "source": [
    "\n",
    "Este programa abarca varias líneas de texto y utiliza variables, de lo contrario, el programa realiza los mismos cálculos y ofrece el mismo resultado que el programa anterior.\n",
    "\n",
    "\n",
    "\n",
    "## Hay una gran flexibilidad en la elección de nombres de variables\n",
    "\n",
    "  * En matemáticas usualmente usamos una letra para una variable\n",
    "\n",
    "  * El nombre de una variable en un programa puede contener las letras a-z, A-Z, subrayado `_` y los dígitos 0-9, pero no puede comenzar con un dígito\n",
    "\n",
    "  * Los nombres de las variables se distinguen entre mayúsculas y minúsculas (por ejemplo, `a` es diferente de` A`)"
   ]
  },
  {
   "cell_type": "code",
   "execution_count": null,
   "metadata": {},
   "outputs": [],
   "source": [
    "initial_velocity = 5\n",
    "accel_of_gravity = 9.81\n",
    "TIME = 0.6\n",
    "VerticalPositionOfBall = initial_velocity*TIME - \\\n",
    "                         0.5*accel_of_gravity*TIME**2\n",
    "print (VerticalPositionOfBall)"
   ]
  },
  {
   "cell_type": "markdown",
   "metadata": {},
   "source": [
    "(Nota: la barra invertida permite que una instrucción continúe en la siguiente línea)\n",
    "\n",
    "\n",
    "¡Los buenos nombres de variables hacen que un programa sea más fácil de entender!\n",
    "\n",
    "\n",
    "\n",
    "## Algunas palabras están reservadas en Python\n",
    "\n",
    "Ciertas palabras tienen un significado especial en Python y no pueden usarse como nombres de variables. Estos son: 'y',\n",
    "`as`,\n",
    "`assert`,\n",
    "`break`,\n",
    "`class`,\n",
    "`continue`,\n",
    "`def`,\n",
    "`del`,\n",
    "`elif`,\n",
    "`else`,\n",
    "`except`,\n",
    "`exec`,\n",
    "`finally`,\n",
    "`for`,\n",
    "`from`,\n",
    "`global`,\n",
    "`if`,\n",
    "`import`,\n",
    "`in`,\n",
    "`is`,\n",
    "`lambda`,\n",
    "`not`,\n",
    "`or`,\n",
    "`pass`,\n",
    "`print`,\n",
    "`raise`,\n",
    "`return`,\n",
    "`try`,\n",
    "`with`,\n",
    "`while`, and\n",
    "`yield`.\n",
    "\n",
    "\n",
    "\n",
    "\n",
    "## Los comentarios son útiles para explicar cómo piensas en los programas.\n",
    "\n",
    "**Programa con comentarios:**"
   ]
  },
  {
   "cell_type": "code",
   "execution_count": null,
   "metadata": {},
   "outputs": [],
   "source": [
    "# programa para calcular la altura de la bola\n",
    "# en movimiento vertical\n",
    "v0 = 5    # velocidad inicial\n",
    "g = 9.81  # acceleration of gravity\n",
    "t = 0.6   # time\n",
    "y = v0*t - 0.5*g*t**2  # vertical position\n",
    "print (y)"
   ]
  },
  {
   "cell_type": "markdown",
   "metadata": {},
   "source": [
    "**Nota:**\n",
    "\n",
    "  * Todo después de `#` en una línea es un comentario e ignorado por Python\n",
    "\n",
    "  * Los comentarios se utilizan para explicar qué significan las instrucciones de la computadora, qué significan las variables, cómo razonó el programador cuando escribió el programa, etc.\n",
    "\n",
    "  * Los comentarios incorrectos no dicen más que el código: `a = 5 # establece a a 5`\n",
    "\n",
    "\n",
    "\n",
    "## Los comentarios no siempre son ignorados ....\n",
    "\n",
    "Regla normal: los programas de Python, incluidos los comentarios, solo pueden contener caracteres del alfabeto inglés.\n",
    "\n",
    "El cuaderno IPython permite caracteres que no están en inglés (pero Python común sí lo hace) no a menos que tenga una línea `# - * - codificación: utf-8 - * -` en el código)."
   ]
  },
  {
   "cell_type": "markdown",
   "metadata": {},
   "source": [
    "        hilsen = 'Kjære Åsmund!'  # er æ og Å lov i en streng?\n",
    "        print hilsen\n"
   ]
  },
  {
   "cell_type": "markdown",
   "metadata": {},
   "source": [
    "\n",
    "## La sintaxis de printf proporciona una gran flexibilidad para formatear texto con números\n",
    "\n",
    "La salida de los cálculos a menudo contiene texto y números, por ejemplo,"
   ]
  },
  {
   "cell_type": "markdown",
   "metadata": {},
   "source": [
    "        At t=0.6 s, y is 1.23 m.\n"
   ]
  },
  {
   "cell_type": "markdown",
   "metadata": {},
   "source": [
    "\n",
    "Queremos controlar el formato de los números: no decimales, estilo: `0.6` vs` 6E-01` o `6.0e-01`. El llamado * formato de printf * es útil para este propósito:"
   ]
  },
  {
   "cell_type": "code",
   "execution_count": null,
   "metadata": {},
   "outputs": [],
   "source": [
    "t = 0.6;  y = 1.2342\n",
    "print (\"At t=%g s, y is %.2f m.\" % (t, y))"
   ]
  },
  {
   "cell_type": "markdown",
   "metadata": {},
   "source": [
    "El formato print tiene \"ranuras\" donde se colocan las variables enumeradas al final: `%g` $\\leftarrow$ `t`, `%.2f` $\\leftarrow$ `y`\n",
    "\n",
    "## Ejemplos en diferentes formatos de print"
   ]
  },
  {
   "cell_type": "markdown",
   "metadata": {},
   "source": [
    "\n",
    "        %g       el formato más compacto de un número real\n",
    "        %f       notación decimal (-34.674)\n",
    "        %10.3f   notación decimal, 3 decimales, ancho de campo 10\n",
    "        %.3f     notación decimal, 3 decimales, ancho mínimo\n",
    "        %e or %E notación científica (1.42e-02 o 1.42E-02)\n",
    "        %9.2e    notación científica, 2 decimales, ancho de campo 9\n",
    "        %d       entero\n",
    "        %5d      entero en un campo de ancho 5 caracteres\n",
    "        %s       cadena (texto)\n",
    "        %-20s,   cadena ancho de campo 20, ajustado a la izquierda\n",
    "        %%       el signo de porcentaje% en sí"
   ]
  },
  {
   "cell_type": "markdown",
   "metadata": {},
   "source": [
    "(Vea el libro para más explicación y descripción)\n",
    "\n",
    "\n",
    "\n",
    "## Usando el formato de print en nuestro programa\n",
    "\n",
    "Las cadenas entre comillas triples (`\" \"\" `) se pueden usar para salidas de varias líneas, y aquí combinamos dicha cadena con el formato de printf:"
   ]
  },
  {
   "cell_type": "code",
   "execution_count": null,
   "metadata": {},
   "outputs": [],
   "source": [
    "v0 = 5\n",
    "g = 9.81\n",
    "t = 0.6\n",
    "y = v0*t - 0.5*g*t**2\n",
    "\n",
    "print (\"\"\")\n",
    "At t=%f s, a ball with\n",
    "initial velocity v0=%.3E m/s\n",
    "is located at the height %.2f m.\n",
    "\"\"\" % (t, v0, y)"
   ]
  },
  {
   "cell_type": "markdown",
   "metadata": {},
   "source": [
    "## Algunos términos informáticos de uso frecuente\n",
    "\n",
    "  * Programa o código o aplicación\n",
    "\n",
    "  * Código fuente (texto del programa)\n",
    "\n",
    "  * Fragmento de código / programa\n",
    "\n",
    "  * Ejecutar o ejecutar un programa\n",
    "\n",
    "  * Algoritmo (receta para un programa)\n",
    "\n",
    "  * Implementación (escribir el programa)\n",
    "\n",
    "  * Verificación (¿el programa funciona correctamente?)\n",
    "\n",
    "  * Errores (errores) y depuración.\n",
    "\n",
    "\n",
    "\n",
    "El significado de los términos informáticos es a menudo diferente del significado del lenguaje humano.\n",
    "\n",
    "\n",
    "\n",
    "## Un programa consiste en declaraciones"
   ]
  },
  {
   "cell_type": "code",
   "execution_count": null,
   "metadata": {},
   "outputs": [],
   "source": [
    "a = 1     # primera declaración (declaración de asignación)\n",
    "b = 2     # 2da declaración (declaración de asignación)\n",
    "c = a + b # 3ra declaración (declaración de asignación)\n",
    "print (c) # 4a declaración (imprimir declaración)"
   ]
  },
  {
   "cell_type": "markdown",
   "metadata": {},
   "source": [
    "Regla normal: una declaración por línea, pero múltiples declaraciones por línea es posible con un punto y coma. entre las declaraciones:"
   ]
  },
  {
   "cell_type": "code",
   "execution_count": null,
   "metadata": {},
   "outputs": [],
   "source": [
    "a = 1;  b = 2;  c = a + b;  print (c)"
   ]
  },
  {
   "cell_type": "markdown",
   "metadata": {},
   "source": [
    "## Las declaraciones de asignación evalúan el lado derecho y asignan el resultado a la variable del lado izquierdo"
   ]
  },
  {
   "cell_type": "code",
   "execution_count": null,
   "metadata": {},
   "outputs": [],
   "source": [
    "myvar = 10\n",
    "myvar = 3*myvar   # = 30\n",
    "myvar"
   ]
  },
  {
   "cell_type": "markdown",
   "metadata": {},
   "source": [
    "## La sintaxis es la especificación exacta de las instrucciones para la computadora\n",
    "\n",
    "Los programas deben tener la sintaxis correcta, es decir, el uso correcto de las reglas gramaticales del lenguaje de computadora, ¡y no tener errores de impresión!\n",
    "\n",
    "\n",
    "**Este es un programa con dos errores de sintaxis:**"
   ]
  },
  {
   "cell_type": "code",
   "execution_count": null,
   "metadata": {},
   "outputs": [],
   "source": [
    "myvar = 5.2\n",
    "prinnt (Myvar)"
   ]
  },
  {
   "cell_type": "markdown",
   "metadata": {},
   "source": [
    "Solo se informa el primer error encontrado y el programa se detiene (corrija el error y continúe con el siguiente error)\n",
    "\n",
    "\n",
    "\n",
    "> *La programación exige un nivel de precisión significativamente más alto. Las cosas no solo tienen que tener sentido para otro ser humano, deben tener sentido para una computadora.* Donald Knuth, informático, 1938-\n",
    "\n",
    "\n",
    "\n",
    "\n",
    "\n",
    "## Los espacios en blanco (espacios en blanco) se pueden usar para formatear bien el texto del programa\n",
    "\n",
    "Los espacios en blanco pueden o no ser importantes en los programas de Python.\n",
    "Estas declaraciones son equivalentes (los espacios en blanco no importan):"
   ]
  },
  {
   "cell_type": "code",
   "execution_count": null,
   "metadata": {},
   "outputs": [],
   "source": [
    "v0=3\n",
    "v0  =  3\n",
    "v0=   3\n",
    "v0 = 3"
   ]
  },
  {
   "cell_type": "markdown",
   "metadata": {},
   "source": [
    "Aquí los espacios en blanco sí importan:"
   ]
  },
  {
   "cell_type": "code",
   "execution_count": null,
   "metadata": {},
   "outputs": [],
   "source": [
    "counter = 1\n",
    "while counter <= 4:\n",
    "    counter = counter + 1   # correct (4 leading blanks)\n",
    "\n",
    "while counter <= 4:\n",
    "counter = counter + 1       # invalid syntax"
   ]
  },
  {
   "cell_type": "markdown",
   "metadata": {},
   "source": [
    "(más sobre esto en el capítulo 2)\n",
    "\n",
    "\n",
    "\n",
    "## Un programa toma algunos datos conocidos * de entrada * y calcula algunos datos de * salida *"
   ]
  },
  {
   "cell_type": "code",
   "execution_count": null,
   "metadata": {},
   "outputs": [],
   "source": [
    "v0 = 3;  g = 9.81;  t = 0.6\n",
    "position = v0*t - 0.5*g*t*t\n",
    "velocity = v0 - g*t\n",
    "print 'position:', position, 'velocity:', velocity"
   ]
  },
  {
   "cell_type": "markdown",
   "metadata": {},
   "source": [
    "Aquí:\n",
    "\n",
    "  * Input: `v0`,` g` y `t`\n",
    "\n",
    "  * Output: `position` y` velocity`\n",
    "\n",
    "\n",
    "\n",
    "## Un sistema operativo (SO) es un conjunto de programas que administran los recursos de hardware y software en una computadora\n",
    "\n",
    "  * Linux, Unix (Ubuntu, RedHat, Suse, Solaris)\n",
    "\n",
    "  * Windows (95, 98, NT, ME, 2000, XP, Vista, 7, 8)\n",
    "\n",
    "  * Macintosh (antiguo Mac OS, Mac OS X)\n",
    "\n",
    "  * Mac OS X $ \\ approx $ Unix $ \\ approx $ Linux $ \\ neq $ Windows\n",
    "\n",
    "  * Los comandos típicos del sistema operativo son bastante similares:\n",
    "\n",
    "    * Linux / Unix: `carpeta mkdir; carpeta de cd; ls`\n",
    "\n",
    "    * Windows: `carpeta mkdir; carpeta de cd; dir`\n",
    "\n",
    "\n",
    "  * Python admite la programación multiplataforma, es decir, un programa es independiente del sistema operativo en el que ejecutamos el programa.\n",
    "\n",
    "\n",
    "\n",
    "## Evaluando una fórmula para la conversión de temperatura\n",
    "\n",
    "Dado $C$ como temperatura en grados Celsius,\n",
    "Calcule los grados Fahrenheit correspondientes $F$:"
   ]
  },
  {
   "cell_type": "markdown",
   "metadata": {},
   "source": [
    "$$\n",
    "F = \\frac{9}{5}C + 32\n",
    "$$"
   ]
  },
  {
   "cell_type": "markdown",
   "metadata": {},
   "source": [
    "Programa:"
   ]
  },
  {
   "cell_type": "code",
   "execution_count": null,
   "metadata": {},
   "outputs": [],
   "source": [
    "C = 21\n",
    "F = (9/5)*C + 32\n",
    "print (F)"
   ]
  },
  {
   "cell_type": "markdown",
   "metadata": {},
   "source": [
    "## Siempre debemos comprobar que un nuevo programa calcula la respuesta correcta\n",
    "\n",
    "**Usando una calculadora:**\n",
    "\n",
    "9/5 veces 21 más 32 es 69.8, no 53.\n",
    "\n",
    "\n",
    "\n",
    "## El error es causado por la división entera (no intencionada)\n",
    "\n",
    "  * 9/5 no es 1.8 sino 1 en la mayoría de los lenguajes de computadora (!)\n",
    "\n",
    "  * Si $a$ y $b$ son enteros, $a/b$ implica división entera: el entero más grande $ c $ tal que $cb\\leq a$\n",
    "\n",
    "  * Ejemplos: $1/5=0,\\quad  2/5=0,\\quad 7/5=1,\\quad 12/5=2$\n",
    "\n",
    "  * En matemáticas, 9/5 es un número real (1.8), esto se denomina división flotante en Python y es la división que queremos\n",
    "\n",
    "  * Uno de los operandos ($ a $ o $ b $) en $ a / b $ debe ser un número real (\"float\") para obtener la división float\n",
    "\n",
    "  * Un float en Python tiene un punto (o decimales): `9.0` o` 9.` es float\n",
    "\n",
    "  * Ningún punto implica entero: `9` es un entero\n",
    "\n",
    "  * `9.0 / 5` produce `1.8`,` 9 / 5.' produce `1.8`, `9 / 5` produce `1`\n",
    "\n",
    "Programa corregido (con salida correcta 69.8):"
   ]
  },
  {
   "cell_type": "code",
   "execution_count": null,
   "metadata": {},
   "outputs": [],
   "source": [
    "C = 21\n",
    "F = (9.0/5)*C + 32\n",
    "print (F)"
   ]
  },
  {
   "cell_type": "markdown",
   "metadata": {},
   "source": [
    "\n",
    "## Todo en Python es un objeto\n",
    "\n",
    "Las variables se refieren a objetos:"
   ]
  },
  {
   "cell_type": "code",
   "execution_count": null,
   "metadata": {},
   "outputs": [],
   "source": [
    "\n",
    "a = 5        # a se refiere a un objeto entero (int)\n",
    "b = 9        # b se refiere a un objeto entero (int)\n",
    "c = 9.0      # c se refiere a un objeto de número real (flotante)\n",
    "d = b / a    # d se refiere a un objeto int / int => int\n",
    "e = c / a    # e se refiere a float / int => float object\n",
    "s = 'b / a =% g'% (b / a) # s es un objeto de cadena / texto (str)\n",
    "print  (d, e, s)"
   ]
  },
  {
   "cell_type": "markdown",
   "metadata": {},
   "source": [
    "Podemos convertir entre tipos de objetos:"
   ]
  },
  {
   "cell_type": "code",
   "execution_count": null,
   "metadata": {},
   "outputs": [],
   "source": [
    "a = 3         # a es int\n",
    "b = float (a) # b es float 3.0\n",
    "c = 3.9       # c es flotante\n",
    "d = int (c)   # d es int 3\n",
    "d = round (c) # d es float 4.0\n",
    "d = int (round (c)) # d es int 4\n",
    "d = str (c)   # d es str '3.9'\n",
    "e = '-4.2'    # e es str\n",
    "f = float (e) # f es float -4.2"
   ]
  },
  {
   "cell_type": "markdown",
   "metadata": {},
   "source": [
    "## Las expresiones aritméticas se evalúan como has aprendido en matemáticas\n",
    "\n",
    "  * Ejemplo: $\\frac{5}{9} + 2a^4/2$, en Python escrito como `5/9 + 2 * a ** 4 / 2`\n",
    "\n",
    "  * Las mismas reglas que en matemáticas: proceda término por término (sumas / restas) desde la izquierda, primero calcula los poderes, luego multiplica y divide, en cada término\n",
    "\n",
    "  * `r1 = 5 / 9` (= 0)\n",
    "\n",
    "  * `r2 = a ** 4`\n",
    "\n",
    "  * `r3 = 2 * r2`\n",
    "\n",
    "  * `r4 = r3 / 2`\n",
    "\n",
    "  * `r5 = r1 + r4`\n",
    "\n",
    "  * Use paréntesis para anular estas reglas predeterminadas, o use paréntesis para indicar explícitamente cómo funcionan las reglas:\n",
    "    `(5/9) + (2 * (a ** 4)) / 2`\n",
    "\n",
    "\n",
    "\n",
    "## Las funciones matemáticas estándar se encuentran en el módulo `math`\n",
    "\n",
    "  * ¿Qué sucede si necesitamos calcular $ \\ sin x $, $ \\ cos x $, $ \\ ln x $, etc. en un programa?\n",
    "\n",
    "  * Tales funciones están disponibles en el módulo `math` de Python\n",
    "\n",
    "  * En general: muchas funciones útiles en Python están disponibles en módulos, pero los módulos deben ser * importados * en nuestros programas\n",
    "\n",
    "Compute $ \\sqrt {2} $ usando la función `sqrt` en el módulo` math`:"
   ]
  },
  {
   "cell_type": "code",
   "execution_count": null,
   "metadata": {},
   "outputs": [],
   "source": [
    "import math\n",
    "r = math.sqrt(2)\n",
    "# or\n",
    "from math import sqrt\n",
    "r = sqrt(2)\n",
    "# or\n",
    "from math import *   # import everything in math\n",
    "r = sqrt(2)"
   ]
  },
  {
   "cell_type": "markdown",
   "metadata": {},
   "source": [
    "\n",
    "## Otro ejemplo sobre computación con funciones de `math`\n",
    "\n",
    "Evaluar"
   ]
  },
  {
   "cell_type": "markdown",
   "metadata": {},
   "source": [
    "$$\n",
    "Q = \\sin x\\cos x + 4\\ln x\n",
    "$$"
   ]
  },
  {
   "cell_type": "markdown",
   "metadata": {},
   "source": [
    "for $x=1.2$."
   ]
  },
  {
   "cell_type": "code",
   "execution_count": null,
   "metadata": {},
   "outputs": [],
   "source": [
    "from math import sin, cos, log\n",
    "x = 1.2\n",
    "Q = sin(x)*cos(x) + 4*log(x)   # log is ln (base e)\n",
    "print Q"
   ]
  },
  {
   "cell_type": "markdown",
   "metadata": {},
   "source": [
    "\n",
    "## Las computadoras tienen aritmética inexacta debido a errores de redondeo\n",
    "\n",
    "Calculemos $1/49\\cdot 49$ and $1/51\\cdot 51$:"
   ]
  },
  {
   "cell_type": "code",
   "execution_count": null,
   "metadata": {},
   "outputs": [],
   "source": [
    "v1 = 1/49.0*49\n",
    "v2 = 1/51.0*51\n",
    "print '%.16f %.16f' % (v1, v2)"
   ]
  },
  {
   "cell_type": "markdown",
   "metadata": {},
   "source": [
    "Nota:\n",
    "\n",
    "  * La mayoría de los números reales se representan de manera inexacta en una computadora (17 dígitos)\n",
    "\n",
    "  * Ni 1/49 ni 1/51 se representan exactamente, el error suele ser de $ 10 ^ {- 16} $\n",
    "\n",
    "  * Algunas veces, errores tan pequeños se propagan a la respuesta final, a veces no, y algunas veces los errores pequeños se acumulan a través de muchas operaciones matemáticas\n",
    "\n",
    "  * Lección aprendida: los números reales en una computadora y los resultados de los cálculos matemáticos son solo aproximados\n",
    "\n",
    "\n",
    "\n",
    "## Prueba de que un cálculo es correcto\n",
    "\n",
    "¿Qué se imprime?"
   ]
  },
  {
   "cell_type": "code",
   "execution_count": null,
   "metadata": {},
   "outputs": [],
   "source": [
    "a = 1; b = 2;\n",
    "computed = a + b\n",
    "expected = 3\n",
    "correct = computed == expected\n",
    "print 'Correct:', correct"
   ]
  },
  {
   "cell_type": "markdown",
   "metadata": {},
   "source": [
    "\n",
    "Cambie a `a = 0.1` y` b = 0.2` (`esperado = 0.3`). ¿Qué se imprime ahora?\n",
    "¿Por qué? ¿Cómo se puede realizar la comparación?\n",
    "\n",
    "## Respuesta al ejercicio en la diapositiva anterior: ¡use la prueba de igualdad con tolerancia!"
   ]
  },
  {
   "cell_type": "code",
   "execution_count": null,
   "metadata": {},
   "outputs": [],
   "source": [
    "a = 0.1; b = 0.2; expected = 0.3\n",
    "a + b == expected"
   ]
  },
  {
   "cell_type": "code",
   "execution_count": null,
   "metadata": {},
   "outputs": [],
   "source": [
    "print '%.17f\\n%.17f\\n%.17f\\n%.17f' % (0.1, 0.2, 0.1 + 0.2, 0.3)"
   ]
  },
  {
   "cell_type": "markdown",
   "metadata": {},
   "source": [
    "\n",
    "## Otro ejemplo que involucra funciones matemáticas\n",
    "\n",
    "La función $\\sinh x $ se define como"
   ]
  },
  {
   "cell_type": "markdown",
   "metadata": {},
   "source": [
    "$$\n",
    "\\sinh (x) = \\frac{1}{2}\\left(e^{x} - e^{-x}\\right)\n",
    "$$"
   ]
  },
  {
   "cell_type": "markdown",
   "metadata": {},
   "source": [
    "\n",
    "Podemos evaluar esta función de tres maneras:\n",
    "\n",
    " 1. `math.sinh`\n",
    "\n",
    " 2. Combinación de dos `math.exp`\n",
    "\n",
    " 3. Combinación de dos potencias de `math.e`"
   ]
  },
  {
   "cell_type": "code",
   "execution_count": null,
   "metadata": {},
   "outputs": [],
   "source": [
    "from math import sinh, exp, e, pi\n",
    "x = 2*pi\n",
    "r1 = sinh(x)\n",
    "r2 = 0.5*(exp(x) - exp(-x))\n",
    "r3 = 0.5*(e**x - e**(-x))\n",
    "print '%.16f %.16f %.16f' % (r1,r2,r3)"
   ]
  },
  {
   "cell_type": "markdown",
   "metadata": {},
   "source": [
    "Output: `r1` is $267.744894041016\\underline{4369}$, `r2` is\n",
    "$267.744894041016\\underline{4369}$, `r3` is\n",
    "$267.744894041016\\underline{3232}$ (!)\n",
    "\n",
    "## Python se puede usar interactivamente como una calculadora y para probar sentencias\n",
    "\n",
    "  * Hasta ahora hemos realizado cálculos en Python * programas *\n",
    "\n",
    "  * Python también se puede usar interactivamente en lo que se conoce como * shell *\n",
    "\n",
    "  * Escribe `python`,` ipython` o `idle` en la ventana de la terminal\n",
    "\n",
    "  * Se ingresa un shell de Python donde puede escribir sentencias después de `>>>`\n",
    "    (IPython tiene un prompt diferente)\n",
    "\n",
    "Aquí, en un cuaderno, todas las celdas con código son, de hecho, conchas interactivas"
   ]
  },
  {
   "cell_type": "code",
   "execution_count": null,
   "metadata": {},
   "outputs": [],
   "source": [
    "C = 41\n",
    "F = (9.0/5)*C + 32\n",
    "print F"
   ]
  },
  {
   "cell_type": "code",
   "execution_count": null,
   "metadata": {},
   "outputs": [],
   "source": [
    "F"
   ]
  },
  {
   "cell_type": "markdown",
   "metadata": {},
   "source": [
    "\n",
    "Los comandos anteriores se pueden recuperar y editar\n",
    "\n",
    "\n",
    "\n",
    "## Python tiene soporte completo para números complejos\n",
    "\n",
    "  * $ 2 + 3i $ en matemáticas se escribe como `2 + 3j` en Python"
   ]
  },
  {
   "cell_type": "code",
   "execution_count": null,
   "metadata": {},
   "outputs": [],
   "source": [
    "a = -2\n",
    "b = 0.5\n",
    "s = complex(a, b)  # make complex from variables\n",
    "s"
   ]
  },
  {
   "cell_type": "code",
   "execution_count": null,
   "metadata": {},
   "outputs": [],
   "source": [
    "s*w                # complex*complex"
   ]
  },
  {
   "cell_type": "code",
   "execution_count": null,
   "metadata": {},
   "outputs": [],
   "source": [
    "s/w                # complex/complex"
   ]
  },
  {
   "cell_type": "code",
   "execution_count": null,
   "metadata": {},
   "outputs": [],
   "source": [
    "s.real"
   ]
  },
  {
   "cell_type": "code",
   "execution_count": null,
   "metadata": {},
   "outputs": [],
   "source": [
    "s.imag"
   ]
  },
  {
   "cell_type": "markdown",
   "metadata": {},
   "source": [
    "\n",
    "Ver el libro para información adicional.\n",
    "\n",
    "\n",
    "\n",
    "## Python también puede hacer computación simbólica\n",
    "\n",
    " * Computación numérica: cómputo con números.\n",
    "\n",
    " * Computación simbólica: trabajo con fórmulas (como en trad. Math)"
   ]
  },
  {
   "cell_type": "code",
   "execution_count": null,
   "metadata": {},
   "outputs": [],
   "source": [
    "from sympy import *\n",
    "t, v0, g = symbols('t v0 g')\n",
    "y = v0*t - Rational(1,2)*g*t**2\n",
    "dydt = diff(y, t)                     # 1st derivative\n",
    "dydt"
   ]
  },
  {
   "cell_type": "code",
   "execution_count": null,
   "metadata": {},
   "outputs": [],
   "source": [
    "print 'acceleration:', diff(y, t, t)  # 2nd derivative"
   ]
  },
  {
   "cell_type": "code",
   "execution_count": null,
   "metadata": {},
   "outputs": [],
   "source": [
    "y2 = integrate(dydt, t)\n",
    "y2"
   ]
  },
  {
   "cell_type": "markdown",
   "metadata": {},
   "source": [
    "\n",
    "## SymPy puede hacer muchas matemáticas tradicionales"
   ]
  },
  {
   "cell_type": "markdown",
   "metadata": {},
   "source": []
  },
  {
   "cell_type": "code",
   "execution_count": null,
   "metadata": {},
   "outputs": [],
   "source": [
    "y = v0*t - Rational(1,2)*g*t**2\n",
    "roots = solve(y, t)    # solve y=0 wrt t\n",
    "roots"
   ]
  },
  {
   "cell_type": "code",
   "execution_count": null,
   "metadata": {},
   "outputs": [],
   "source": [
    "x, y = symbols('x y')\n",
    "f = -sin(x)*sin(y) + cos(x)*cos(y)\n",
    "simplify(f)"
   ]
  },
  {
   "cell_type": "code",
   "execution_count": null,
   "metadata": {},
   "outputs": [],
   "source": [
    "expand(sin(x+y), trig=True)  # requires a trigonometric hint"
   ]
  },
  {
   "cell_type": "markdown",
   "metadata": {},
   "source": [
    "\n",
    "## Resumen del Capítulo 1 (parte 1)\n",
    "\n",
    "  * Los programas deben ser precisos!\n",
    "\n",
    "  * Las variables son nombres para objetos.\n",
    "\n",
    "  * Hemos encontrado diferentes tipos de objetos: `int`,` float`, `str`\n",
    "\n",
    "  * Elegir nombres de variables cercanos a los símbolos matemáticos en\n",
    "    el problema esta siendo resuelto\n",
    "\n",
    "  * Operaciones aritméticas en Python: término por término (+/-) de izquierda a derecha, potencia antes de * y / - como en matemáticas; Usa paréntesis cuando hay alguna duda.\n",
    "\n",
    "  * ¡Cuidado con la división entera no deseada!\n",
    "\n",
    "\n",
    "\n",
    "## Resumen del Capítulo 1 (parte 2)\n",
    "\n",
    "Las funciones matemáticas como $ \\sin x $ y $ \\ln x $ deben importarse desde el módulo `math`:"
   ]
  },
  {
   "cell_type": "code",
   "execution_count": null,
   "metadata": {},
   "outputs": [],
   "source": [
    "from math import sin, log\n",
    "x = 5\n",
    "r = sin(3*log(10*x))"
   ]
  },
  {
   "cell_type": "markdown",
   "metadata": {},
   "source": [
    "¡Utilice la sintaxis de printf para un control total de la salida de texto y números!\n",
    "\n",
    "Términos importantes: objeto, variable, algoritmo, declaración, asignación, implementación, verificación, depuración\n",
    "\n",
    "\n",
    "\n",
    "## La programación es un reto\n",
    "\n",
    "> * *Crees que sabes cuándo puedes aprender,\n",
    ">    están más seguros cuando puedes escribir,\n",
    ">    aún más cuando puedes enseñar,\n",
    ">    pero cierto cuando puedes programar*\n",
    ">\n",
    "> * *Dentro de una computadora, el lenguaje natural no es natural*\n",
    ">\n",
    "> * *Para entender un programa, debes convertirte tanto en la máquina como en el programa*\n",
    ">\n",
    "> Alan Perlis, informático, 1922-1990.\n",
    "\n",
    "\n",
    "\n",
    "\n",
    "\n",
    "\n",
    "## Ejemplo de resumen: lanzar una pelota (problema)\n",
    "\n",
    "Lanzamos una bola con velocidad $ v_0 $, en un ángulo $ \\theta $ con la horizontal, desde el punto $ (x = 0, y = y_0) $. La trayectoria de la pelota es una parábola (descuidamos la resistencia del aire):"
   ]
  },
  {
   "cell_type": "markdown",
   "metadata": {},
   "source": [
    "$$\n",
    "y = x\\tan\\theta - \\frac{1}{2v_0}\\frac{gx^2}{\\cos^2\\theta} + y_0\n",
    "$$"
   ]
  },
  {
   "cell_type": "markdown",
   "metadata": {},
   "source": [
    "\n",
    "* Tareas del programa:\n",
    "\n",
    "   * inicializar datos de entrada ($ v_0 $, $ g $, $ \\theta $, $ y_0 $)\n",
    "\n",
    "   * Importar desde `math`\n",
    "\n",
    "   * calcular $ y $\n",
    "\n",
    "\n",
    "  * Damos $ x $, $ y $ y $ y_0 $ en m, $ g = 9.81 \\ hbox {m / s} ^ 2 $, $ v_0 $ en km / hy $ \\ theta $ en grados. Esto requiere conversión de $ v_0 $ a m / s y $ \\ theta $ a radianes\n",
    "\n",
    "\n",
    "\n",
    "## Ejemplo de resumen: lanzar una pelota (solución)\n",
    "\n",
    "Programa:"
   ]
  },
  {
   "cell_type": "code",
   "execution_count": null,
   "metadata": {},
   "outputs": [],
   "source": [
    "g = 9.81    # m/s**2\n",
    "v0 = 15     # km/h\n",
    "theta = 60  # degrees\n",
    "x = 0.5     # m\n",
    "y0 = 1      # m\n",
    "\n",
    "print \"\"\"v0    = %.1f km/h\n",
    "theta = %d degrees\n",
    "y0    = %.1f m\n",
    "x     = %.1f m\"\"\" % (v0, theta, y0, x)\n",
    "\n",
    "# convert v0 to m/s and theta to radians:\n",
    "v0 = v0/3.6\n",
    "from math import pi, tan, cos\n",
    "theta = theta*pi/180\n",
    "\n",
    "y = x*tan(theta) - 1/(2*v0)*g*x**2/((cos(theta))**2) + y0\n",
    "\n",
    "print 'y     = %.1f m' % y"
   ]
  }
 ],
 "metadata": {
  "kernelspec": {
   "display_name": "Python 3",
   "language": "python",
   "name": "python3"
  },
  "language_info": {
   "codemirror_mode": {
    "name": "ipython",
    "version": 3
   },
   "file_extension": ".py",
   "mimetype": "text/x-python",
   "name": "python",
   "nbconvert_exporter": "python",
   "pygments_lexer": "ipython3",
   "version": "3.6.8"
  }
 },
 "nbformat": 4,
 "nbformat_minor": 2
}
