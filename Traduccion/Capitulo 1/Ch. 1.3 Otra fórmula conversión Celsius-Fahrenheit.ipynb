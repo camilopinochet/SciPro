{
 "cells": [
  {
   "cell_type": "markdown",
   "metadata": {},
   "source": [
    "## 1.3 Otra fórmula: conversión Celsius-Fahrenheit\n",
    "\n",
    "Nuestro siguiente ejemplo incluye la fórmula para convertir la temperatura medida en grados Celsius al valor correspondiente en grados Fahrenheit:"
   ]
  },
  {
   "cell_type": "markdown",
   "metadata": {},
   "source": [
    "$$\n",
    "F(C)={9\\over5}C+32\n",
    "$$"
   ]
  },
  {
   "cell_type": "markdown",
   "metadata": {},
   "source": [
    "En esta fórmula, C es la cantidad de grados en grados Celsius y F es la temperatura correspondiente a la medida en Fahrenheit. Nuestro objetivo ahora es escribir un programa de computadora que pueda calcular F desde (1.3) cuando C es conocido."
   ]
  },
  {
   "cell_type": "markdown",
   "metadata": {},
   "source": [
    "### 1.3.1 Error potencial: división entera\n",
    "Codificación directa de la fórmula. Un intento directo de\n",
    "La codificación de la fórmula (1.3) es la siguiente:"
   ]
  },
  {
   "cell_type": "markdown",
   "metadata": {},
   "source": [
    "    C = 21\n",
    "    F = (9/5)*C + 32\n",
    "    print F"
   ]
  },
  {
   "cell_type": "markdown",
   "metadata": {},
   "source": [
    "Los paréntesis alrededor de 9/5 no son estrictamente necesarios, es decir, (9/5) * C es computacionalmente idéntico a 9/5 * C, pero los paréntesis eliminan cualquier duda de que 9/5 * C podría significar 9 / (5 * C) . La sección 1.3.4 tiene más información sobre este tema.\n",
    "\n",
    "Cuando se ejecuta con Python versión 2.x, el programa imprime el valor 53. Puede encontrar el programa en el archivo c2f_v1.py en la carpeta src/formulas en el directorio de carpetas de programas de ejemplo de este libro (descargado de http://hplgit.github.com/scipro-primer). La parte v1 del nombre significa versión 1. A lo largo de este libro, a menudo desarrollaremos varias versiones de prueba de un programa, pero eliminamos el número de versión en la versión final del programa.\n",
    "\n",
    "**Verificando los resultados.** Probar la corrección es fácil en este caso, ya que podemos evaluar la fórmula en una calculadora: 9/5 · 21 + 32 es 69.8, no 53. ¿Qué está mal? ¡La fórmula en el programa se ve correcta!\n",
    "\n",
    "**Flotación y división entera.** El error en nuestro programa anterior es uno de los errores más comunes en software matemático y no es en absoluto obvio para un recién llegado a la programación. En muchos lenguajes informáticos, hay dos tipos de divisiones: división flotante y división entera. La división flotante es lo que sabes de las matemáticas: 9/5 se convierte en 1.8 en notación decimal.\n",
    "La división de enteros a / b con enteros (números enteros) a y b da como resultado un entero que se trunca (o matemáticamente, se redondea hacia abajo). Más precisamente, el resultado es el entero más grande c tal que bc <= a. Esto implica que 9/5 se convierte en 1 desde 1 · 5 = 5 <= 9 mientras que 2 · 5 = 10 > 9. \n",
    "\n",
    "Otro ejemplo es 1/5, que se convierte en 0 desde 0 · 5 <= 1 (y 1 · 5 > 1). Otro ejemplo más es 16/6, que da como resultado 2 (intente 2 · 6 y 3 · 6 para convencerse). Muchos lenguajes informáticos, incluidos Fortran, C, C ++, Java y Python versión 2, interpretan una operación de división a / b como división de enteros si ambos operandos a y b son enteros. Si a o b es un número real (punto flotante), a / b implica la división matemática matemática estándar. Otros idiomas, como `MATLAB` y Python versión 3, interpretan a / b como división flotante, incluso si ambos operandos son enteros, o división compleja si uno de los operandos es un número complejo.\n",
    "\n",
    "El problema con nuestro programa es la codificación de la fórmula (9/5)* C + 32. Esta fórmula se evalúa de la siguiente manera. Primero, se calcula 9/5. Como 9 y 5 son interpretados por Python como enteros (números enteros), 9/5 es una división entre dos enteros, y Python versión 2 elige la división de enteros predeterminada, lo que da como resultado 1. Entonces 1 se multiplica por C, que\n",
    "es igual a 21, resultando en 21. Finalmente, 21 y 32 se agregan con 53 como resultado. Muy pronto presentaremos una versión correcta del programa de conversión de temperatura, pero primero puede ser ventajoso introducir una término utilizado en la programación de Python: *objeto.*"
   ]
  },
  {
   "cell_type": "markdown",
   "metadata": {},
   "source": [
    "### 1.3.2 Objetos en Python\n",
    "\n",
    "Cuando escribimos\n",
    "\n",
    "    C = 21\n",
    "\n",
    "Python interpreta el número 21 en el lado derecho de la asignación como un entero y crea un objeto int (para el entero) que tiene el valor 21. La variable C actúa como un nombre para este objeto int. De manera similar, si escribimos C = 21.0, Python reconoce 21.0 como un número real y, por lo tanto, crea un objeto flotante (para punto flotante) que tiene el valor 21.0 y deja que C sea un nombre para este objeto. De hecho, cualquier declaración de asignación tiene la forma de un nombre de variable en el lado izquierdo y un objeto en el lado derecho. Se puede decir que la programación de Python se trata de resolver un problema definiendo y cambiando objetos.\n",
    "\n",
    "En esta etapa, no necesita saber qué es realmente un objeto, solo piense en un objeto int como una colección, por ejemplo, en un cuadro de almacenamiento, con algo de información sobre un número entero. Esta información se almacena en algún lugar de la memoria de la computadora y, con el nombre C, el programa obtiene acceso a esta información. El problema fundamental en este momento es que 21 y 21.0 son números idénticos en matemáticas, mientras que en un programa Python, 21 da lugar a un objeto int y 21.0 a un objeto flotante.\n",
    "\n",
    "Hay muchos tipos diferentes de objetos en Python, y más adelante aprenderá cómo crear sus propios objetos personalizados. Algunos objetos contienen una gran cantidad de datos, no solo un número entero o real. Por ejemplo, cuando escribimos\n",
    "\n",
    "     print (\"Un texto con un entero% d y un float% f\"% (2, 2.0))\n",
    "\n",
    "un objeto str (cadena), sin nombre, primero se hace del texto entre las comillas y luego se imprime este objeto str. Alternativamente podemos hacer esto en dos pasos:\n",
    "\n",
    "      s = \"A text with an integer %d and a float %f\" % (2, 2.0)\n",
    "      print s "
   ]
  },
  {
   "cell_type": "markdown",
   "metadata": {},
   "source": [
    "### 1.3.3 Evitando la división entera\n",
    "\n",
    "Como regla general, uno debe tener cuidado de evitar la división de enteros al programar fórmulas matemáticas. En los raros casos en que un algoritmo matemático hace uso de la división de enteros, se debe usar una barra diagonal doble, //, como operador de la división, porque esta es la forma de Python de indicar explícitamente la división de enteros.\n",
    "\n",
    "Python versión 3 no tiene problemas con la división de enteros involuntarios, por lo que el problema solo surge con Python versión 2 (y muchos otros lenguajes comunes para computación científica). Hay varias formas de evitar la división de enteros con el plano / operador. El remedio más simple en Python versión 2 es escribir\n",
    "\n",
    "    from __future__ import division\n",
    "\n",
    "Esta declaración de importación debe estar presente al comienzo de cada archivo donde el operador / siempre implique división de flotación. Alternativamente, uno puede ejecutar un programa Python someprogram.py desde la línea de comandos con el argumento -Qnew al intérprete de Python:\n",
    "\n",
    "    Terminal> python -Qnew someprogram.py\n",
    "    \n",
    "Un método más ampliamente aplicable, también en otros lenguajes de programación que Python versión 2, es hacer que uno de los operandos sea un objeto flotante. En el ejemplo actual, hay varias formas de hacer esto:\n",
    "\n",
    "    F = (9.0/5)*C + 32\n",
    "    F = (9/5.0)*C + 32\n",
    "    F = float(C)*9/5 + 32\n",
    "\n",
    "\n",
    "En las dos primeras líneas, uno de los operandos se escribe como un número decimal, lo que implica un objeto flotante y, por lo tanto, una división flotante. En la última línea, float (C) * 9 significa float times int, lo que da como resultado un objeto float, y la división float está garantizada.\n",
    "\n",
    "Una construcción relacionada,\n",
    "\n",
    "    F = float (C) * (9/5) + 32\n",
    "\n",
    "no funciona correctamente, porque 9/5 se evalúa por división entera, lo que da 1, antes de ser multiplicado por una representación flotante de C (consulte la sección siguiente para ver cómo se calculan las operaciones aritméticas compuestas). En otras palabras, la fórmula lee F = C + 32, lo cual es incorrecto.\n",
    "\n",
    "Ahora entendemos por qué la primera versión del programa no funciona y cuál es el remedio. Un programa correcto es\n",
    "\n",
    "    C = 21\n",
    "    F = (9.0 / 5) * C + 32\n",
    "    print F\n",
    "    \n",
    "En lugar de 9.0 podemos escribir 9. (el punto implica una interpretación flotante del número). El programa está disponible en el archivo c2f.py. Trate de ejecutarlo, y observe que la salida se convierte en 69.8, lo cual es correcto.\n",
    "\n",
    "**Localización de la división entera potencial.** Ejecutando un programa Python con el argumento -Qwarnall, digamos\n",
    "\n",
    "    Terminal> python -Qwarnall someprogram.py\n",
    "\n",
    "imprimirá una advertencia cada vez que se encuentre una expresión de división entera en Python versión 2.\n",
    "\n",
    "**Observación.** Podríamos haber tenido problemas fácilmente en nuestros primeros programas si en lugar de escribir la fórmula $1/2*g*t^2$ como 0.5 * g * t ** 2 escribiéramos (1/2) * g * t ** 2. ¡Este término entonces siempre sería cero!"
   ]
  },
  {
   "cell_type": "markdown",
   "metadata": {},
   "source": [
    "### 1.3.4 Operadores aritméticos y precedencia\n",
    "\n",
    "Las fórmulas en los programas de Python generalmente se evalúan de la misma manera que las evaluaríamos matemáticamente. Python procede de izquierda a derecha, término por término en una expresión (los términos están separados por más o menos). En cada término, las operaciones de potencia como ab, codificadas como ** b, tienen prioridad sobre la multiplicación y la división. Como en matemáticas, podemos usar paréntesis para dictar la forma en que se evalúa una fórmula. A continuación se presentan dos ilustraciones de estos principios.\n",
    "\n",
    "- **5/9 + 2 * a ** 4/2**: Primero se evalúa el 5/9 (como división entera, dando 0 como resultado), luego se evalúa $a^4$ (a ** 4), luego 2 se multiplica por $a^4$, que el resultado se divide por 2 y la respuesta se agrega al resultado del primer término. La respuesta es por lo tanto un ** 4.\n",
    "\n",
    "- 5 / (9 + 2) * a ** (4/2): Se evalúa primero 5/9+2 (como división entera, rendimiento - 9 + 2  ing 0), luego se calcula 4/2 (como división entera, que da 2), luego se calcula un ** 2, y ese número se multiplica por el resultado de 5 / (9 + 2). La respuesta es por lo tanto siempre cero.\n",
    "\n",
    "Como se desprende de estos dos ejemplos, es fácil obtener  involuntariamente la división entera en fórmulas. Si bien la división de enteros se puede desactivar en Python, creemos que es importante estar muy conscientes del concepto de división de enteros y desarrollar buenos hábitos de programación para evitarlo. La razón es que este concepto aparece en tantos lenguajes informáticos comunes, por lo que es mejor aprender lo antes posible cómo tratar el problema en lugar de usar una función específica de Python para eliminar el problema."
   ]
  }
 ],
 "metadata": {
  "kernelspec": {
   "display_name": "Python 3",
   "language": "python",
   "name": "python3"
  },
  "language_info": {
   "codemirror_mode": {
    "name": "ipython",
    "version": 3
   },
   "file_extension": ".py",
   "mimetype": "text/x-python",
   "name": "python",
   "nbconvert_exporter": "python",
   "pygments_lexer": "ipython3",
   "version": "3.6.8"
  }
 },
 "nbformat": 4,
 "nbformat_minor": 2
}
