{
 "cells": [
  {
   "cell_type": "markdown",
   "metadata": {},
   "source": [
    "## 1.9 Ejercicios\n",
    "\n",
    "**¿Qué significa resolver un ejercicio?** La solución para la mayoría de los ejercicios en este libro es un programa de Python. Para generar la solución, primero debe comprender el problema y lo que se supone que debe hacer el programa, y luego debe comprender cómo traducir la descripción del problema en una serie de declaraciones de Python. Igualmente importante es la verificación (prueba) del programa. Por lo tanto, una solución completa para los ejercicios de programación consta de dos partes: 1) el texto del programa y 2) una demostración de que el programa funciona correctamente. Algunos programas simples, como los de los primeros dos ejercicios a continuación, tienen una salida tan obviamente correcta que la verificación puede ser simplemente ejecutar el programa y registrar la salida.\n",
    "\n",
    "En los casos en que la corrección de la salida no es obvia, es necesario probar o aportar pruebas de que el resultado es correcto. Esto se puede hacer a través de comparaciones con cálculos realizados por separado en una calculadora, o se puede aplicar el programa a un caso de prueba simple especial\n",
    "\n",
    "http://www.python.org/dev/peps/pep-0008/\n",
    "\n",
    "con resultados conocidos. El requisito es proporcionar evidencia de la afirmación de que el programa no tiene errores de programación.\n",
    "La ejecución de muestra del programa para verificar su corrección se puede insertar al final del programa como una cadena de comillas triples. Alternativamente, las líneas de salida se pueden insertar como comentarios, pero el uso de una cadena multilínea requiere menos escritura. (Técnicamente, se crea un objeto de cadena, pero no se asigna a ningún nombre ni se usa para nada en el programa más allá de proporcionar información útil para el lector del código). Uno puede hacer\n",
    "\n",
    "---\n",
    "\n",
    "    Terminal> python myprogram.py > result\n",
    "    \n",
    "---\n",
    "    \n",
    "y use un editor de texto para insertar el resultado del archivo dentro de la cadena multilínea de comillas triples. Este es un ejemplo de una ejecución de un programa de conversión de Fahrenheit a Celsius insertado al final como una cadena de tres citas:\n",
    "\n",
    "    F = 69.8                # Fahrenheit degrees\n",
    "    C = (5.0/9)*(F - 32)    # Corresponding Celsius degrees\n",
    "    print C\n",
    "    ’’’\n",
    "    Sample run (correct result is 21):\n",
    "    python f2c.py\n",
    "    21.0\n",
    "    ’’’\n",
    "\n"
   ]
  },
  {
   "cell_type": "markdown",
   "metadata": {},
   "source": [
    "### Ejercicio 1.1: Calcular 1 + 1\n",
    "\n",
    "El primer ejercicio se refiere a algunas matemáticas y programación muy básicas: asigne el resultado de 1 + 1 a una variable e imprima el valor de esa variable. Nombre de archivo: 1plus1.py.\n"
   ]
  },
  {
   "cell_type": "code",
   "execution_count": 1,
   "metadata": {},
   "outputs": [
    {
     "name": "stdout",
     "output_type": "stream",
     "text": [
      "2\n"
     ]
    }
   ],
   "source": [
    "v = 1 + 1\n",
    "print (v)"
   ]
  },
  {
   "cell_type": "markdown",
   "metadata": {},
   "source": [
    "### Ejercicio 1.2: Escribe un programa Hello World\n",
    "\n",
    "Casi todos los libros sobre lenguajes de programación comienzan con un programa muy simple que imprime el texto Hello, World! a la pantalla. Hacer tal programa en Python. Nombre de archivo: hello_world.py"
   ]
  },
  {
   "cell_type": "code",
   "execution_count": 2,
   "metadata": {},
   "outputs": [
    {
     "name": "stdout",
     "output_type": "stream",
     "text": [
      "Hello, World!\n"
     ]
    }
   ],
   "source": [
    "print ('Hello, World!')"
   ]
  },
  {
   "cell_type": "markdown",
   "metadata": {},
   "source": [
    "### Ejercicio 1.3: Deriva y calcula una fórmula\n",
    "\n",
    "¿Puede un bebé recién nacido en Noruega esperar vivir mil millones ($10^9$) segundos? Escribe un programa de Python para hacer aritmética la respuesta  esta pregunta. Nombre de archivo: seconds2years.py."
   ]
  },
  {
   "cell_type": "code",
   "execution_count": null,
   "metadata": {},
   "outputs": [],
   "source": []
  },
  {
   "cell_type": "markdown",
   "metadata": {},
   "source": [
    "### Ejercicio 1.4: Convertir de metros a unid. de longitud británicas.\n",
    "\n",
    "Haga un programa en el que establezca una longitud dada en metros y luego calcule y escriba la longitud correspondiente medida en pulgadas, en pies, en yardas y en millas. Use que una pulgada es 2.54 cm, un pie es 12 pulgadas, una yarda es 3 pies y una milla británica es 1760 yardas. Para la verificación, una longitud de 640 metros corresponde a 25196.85 pulgadas, 2099.74 pies, 699.91 yardas, o 0.3977 millas. \n",
    "Nombre de archivo: length_conversion.py."
   ]
  },
  {
   "cell_type": "code",
   "execution_count": null,
   "metadata": {},
   "outputs": [],
   "source": []
  },
  {
   "cell_type": "markdown",
   "metadata": {},
   "source": [
    "### Ejercicio 1.5: Calcular la masa de diversas sustancias.\n",
    "\n",
    "La densidad de una sustancia se define como $q = m/V$, donde $m$ es la masa de un volumen $V$. Calcule e imprima la masa de un litro de cada una de las siguientes sustancias cuyas densidades en g/cm3 se encuentran en el archivo **src/files/densities.dat:** hierro, aire, gasolina, hielo, cuerpo humano, plata y platino . Nombre de archivo: 1liter.py."
   ]
  },
  {
   "cell_type": "code",
   "execution_count": null,
   "metadata": {},
   "outputs": [],
   "source": []
  },
  {
   "cell_type": "markdown",
   "metadata": {},
   "source": [
    "### Ejercicio 1.6: Calcular el crecimiento del dinero en un banco.\n",
    "\n",
    "Sea $p$ la tasa de interés de un banco en porcentaje por año. Una cantidad inicial A ha crecido hasta\n",
    "\n",
    "$\n",
    "A (1+ \\frac {p}{100})^n\n",
    "$\n",
    "\n",
    "después de n años. Haga un programa para calcular cuánto dinero han crecido 1000 euros después de tres años con una tasa de interés del 5 por ciento. Nombre de archivo: interest_rate.py."
   ]
  },
  {
   "cell_type": "code",
   "execution_count": null,
   "metadata": {},
   "outputs": [],
   "source": []
  },
  {
   "cell_type": "markdown",
   "metadata": {},
   "source": [
    "### Ejercicio 1.7: encontrar errores en un programa\n",
    "\n",
    "Supongamos que alguien ha escrito un programa simple de una línea para calcular sin (1):\n",
    "\n",
    "    x = 1; print ’sin (% g) =% g’% (x, sin (x))\n",
    "    \n",
    "Crea este programa e intenta ejecutarlo. ¿Cuál es el problema?"
   ]
  },
  {
   "cell_type": "code",
   "execution_count": null,
   "metadata": {},
   "outputs": [],
   "source": []
  },
  {
   "cell_type": "markdown",
   "metadata": {},
   "source": [
    "### Ejercicio 1.8: Escriba el texto del programa\n",
    "\n",
    "Escriba el siguiente programa en su editor y ejecútelo. Si su programa no funciona, verifique que haya copiado el código correctamente.\n",
    "\n",
    "    from math import pi\n",
    "    h = 5.0 # height b=2.0 #base r = 1.5 # radius\n",
    "    area_parallelogram = h*b\n",
    "    print ’The area of the parallelogram is %.3f’ % area_parallelogram\n",
    "    area_square = b**2\n",
    "    print ’The area of the square is %g’ % area_square\n",
    "    area_circle = pi*r**2\n",
    "    print ’The area of the circle is %.3f’ % area_circle\n",
    "    volume_cone = 1.0/3*pi*r**2*h\n",
    "    print ’The volume of the cone is %.3f’ % volume_cone\n",
    "    \n",
    "Filename: formulas_shapes.py.\n"
   ]
  },
  {
   "cell_type": "markdown",
   "metadata": {},
   "source": [
    "### Ejercicio 1.9: teclear programas y depurarlos\n",
    "\n",
    "Escriba estos programas cortos en su editor y ejecútelos. Cuando no funcionan, identifique y corrija las afirmaciones erróneas."
   ]
  },
  {
   "cell_type": "markdown",
   "metadata": {},
   "source": [
    "a) Does $sin^2(x) + cos^2(x) = 1$?"
   ]
  },
  {
   "cell_type": "code",
   "execution_count": 3,
   "metadata": {},
   "outputs": [
    {
     "name": "stdout",
     "output_type": "stream",
     "text": [
      "1.0\n"
     ]
    }
   ],
   "source": [
    "from math import sin, cos, pi\n",
    "x = pi/4\n",
    "val_1 = sin(x)**2 + cos(x)**2\n",
    "print (val_1)"
   ]
  },
  {
   "cell_type": "markdown",
   "metadata": {},
   "source": [
    "b) Calcule s en metros cuando $s = v_0t + 0,5at^2$\n",
    "\n",
    ", con  $v_0=3m/s,t=1s , a=2m/s^2$ .\n"
   ]
  },
  {
   "cell_type": "code",
   "execution_count": 4,
   "metadata": {},
   "outputs": [
    {
     "name": "stdout",
     "output_type": "stream",
     "text": [
      "4.0\n"
     ]
    }
   ],
   "source": [
    "v0 = 3\n",
    "t = 1\n",
    "a = 2\n",
    "s = (v0 * t) + 0.5*(a*(t**2))\n",
    "print(s)"
   ]
  },
  {
   "cell_type": "markdown",
   "metadata": {},
   "source": [
    "c) Verifique estas ecuaciones\n",
    "\n",
    "$\n",
    "(a+b)^2 =a^2 +2ab+b^2\n",
    "$\n",
    "\n",
    "$\n",
    "(a-b)^2 =a^2  2ab+b^2\n",
    "$\n",
    "\n",
    "Filename: sin2_plus_cos2.py."
   ]
  },
  {
   "cell_type": "code",
   "execution_count": null,
   "metadata": {},
   "outputs": [],
   "source": [
    "a = 3.3\n",
    "b = 5.3\n",
    "a2 = a**2\n",
    "b2 = b**2\n",
    "\n",
    "eq1_sum = a2 + 2ab + b2\n",
    "eq2_sum = a2 - 2ab + b2\n",
    "\n",
    "eq1_pow = (a + b)**2\n",
    "eq2_pow = (a - b)**2\n",
    "\n",
    "print (\"First equation:  %g = %g\", % (eq1_sum, eq1_pow))\n",
    "print (\"Second equation: %h = %h\", % (eq2_pow, eq2_pow))"
   ]
  },
  {
   "cell_type": "markdown",
   "metadata": {},
   "source": [
    "### Ejercicio 1.10: Evaluar una función gaussiana.\n",
    "\n",
    "La función gaussiana en forma de campana,\n",
    "\n",
    "\n",
    "$$\n",
    "f (x) = \\frac{1}{\\sqrt{2\\pi s}}exp\\begin{bmatrix}-\\frac{1}{2}(\\frac{x-m}{s})^2\\end{bmatrix}\n",
    "$$\n",
    "\n",
    "es una de las funciones más utilizadas en ciencia y tecnología. Los parámetros m y s > 0 son números reales prescritos. Cree un programa para evaluar esta función cuando m = 0, s = 2 y x = 1. Verifique el resultado del programa comparándolo con los cálculos manuales en una calculadora.\n",
    "\n",
    "Nombre de archivo: gaussian1.py.\n",
    "\n",
    "**Observaciones.** La función (1.7) lleva el nombre de Carl Friedrich Gauss, 1777-1855, que fue un matemático y científico alemán, ahora considerado como uno de los más grandes científicos de todos los tiempos. Contribuyó a muchos campos, incluyendo teoría de números, estadística, análisis matemático, geometría diferencial, geodesia, electrostática, astronomía y óptica. Gauss introdujo la función (1.7) cuando analizó las probabilidades relacionadas con los datos astronómicos.\n",
    "\n"
   ]
  },
  {
   "cell_type": "code",
   "execution_count": null,
   "metadata": {},
   "outputs": [],
   "source": []
  },
  {
   "cell_type": "markdown",
   "metadata": {},
   "source": [
    "### Ejercicio 1.11: Calcula la resistencia del aire en una pelota de fútbol.\n",
    "\n",
    "La fuerza de arrastre, debida a la resistencia del aire, en un objeto se puede expresar como:\n",
    "\n",
    "$\n",
    "F_d =\\frac{1}{2}C_D \\varrho AV^2\n",
    "$\n",
    "\n",
    "donde $\\varrho$ es la densidad del aire, $V$ es la velocidad del objeto, $A$ es el área de la sección transversal (normal a la dirección de la velocidad) y $C_D$ es el coeficiente de arrastre, que depende en gran medida de la forma del objeto y la rugosidad de la superficie.\n",
    "\n",
    "La fuerza de gravedad en un objeto con masa m es Fg = mg, donde $g = 9.81ms^{-2}$\n",
    "\n",
    "Podemos usar las fórmulas de Fd y Fg para estudiar la importancia de la resistencia del aire frente a la gravedad al patear una pelota de fútbol. La densidad del aire es $\\varrho=1,2kg m^{-3}$. Tiene un peso $A=\\pi a^2$ para cualquier bola con radio a. Para el fútbol, a = 11 cm, la masa es de 0,43 kg y el $C_D$ puede tomarse como 0,2.\n",
    "\n",
    "Haga un programa que calcule la fuerza de arrastre y la fuerza de gravedad en un balón de fútbol. Escribe las fuerzas con un decimal en unidades de Newton.\n",
    "\n",
    "($N = kg m / s^2$). También imprima la relación de la fuerza de arrastre y la fuerza de gravedad. Defina $C_D$,$\\varrho$ , A, V, m, g, $F_{d1}$ y $F_g$ como variables, y ponga un comentario con la unidad correspondiente. Utilice el programa para calcular las fuerzas en the ball for a hard kick, V = 120km / hand for as of tkick, V = 10km / h\n",
    "(Es fácil mezclar unidades inconsistentes, así que asegúrese de calcular con V expresado en m/s).\n",
    "Nombre de archivo: kick.py."
   ]
  },
  {
   "cell_type": "code",
   "execution_count": null,
   "metadata": {},
   "outputs": [],
   "source": []
  }
 ],
 "metadata": {
  "kernelspec": {
   "display_name": "Python 3",
   "language": "python",
   "name": "python3"
  },
  "language_info": {
   "codemirror_mode": {
    "name": "ipython",
    "version": 3
   },
   "file_extension": ".py",
   "mimetype": "text/x-python",
   "name": "python",
   "nbconvert_exporter": "python",
   "pygments_lexer": "ipython3",
   "version": "3.6.8"
  }
 },
 "nbformat": 4,
 "nbformat_minor": 2
}
