{
 "cells": [
  {
   "cell_type": "markdown",
   "metadata": {},
   "source": [
    "## Ch. 3.1 Funciones y ramificacion.\n",
    "\n",
    "Este capítulo presenta dos conceptos fundamentales y extremadamente útiles en la programación: funciones definidas por el usuario y ramificación del flujo del programa, este último a menudo se denomina como **if test**. Los programas asociados con el capítulo se encuentran en la carpeta **src/funcif(1)**.\n",
    "\n",
    "### 3.1 Funciones\n",
    "\n",
    "En un lenguaje informático como Python, el término función significa más que una simple función matemática. Una función es una colección de sentencias que puede ejecutar donde y cuando quiera en el programa. Puede enviar variables a la función para influir en lo que las declaraciones en la función calculan, y la función puede devolverle nuevos objetos.\n",
    "\n",
    "En particular, las funciones ayudan a evitar la duplicación de fragmentos de código al colocar todos los fragmentos similares en un lugar común. Esta estrategia ahorra la escritura y hace que sea más fácil cambiar el programa más adelante. Las funciones a menudo también se usan para dividir un programa largo en partes más pequeñas y manejables, para que el programa y su propio pensamiento se vuelvan más claros. Python viene con muchas funciones predefinidas (math.sqrt, range y len son ejemplos que hemos conocido hasta ahora). Esta sección explica cómo puedes definir tus propias funciones.\n",
    "\n",
    "### 3.1.1 Funciones matemáticas como funciones de Python\n",
    "\n",
    "Comencemos haciendo una función Python que evalúa una función matemática, más precisamente la función F(C) para convertir grados Celsius C a los grados Fahrenheit correspondientes F:\n",
    "\n",
    "http://tinyurl.com/pwyasaa/funcif\n",
    "\n",
    "$$\n",
    "F(C) = \\frac{9}{5} C + 32\n",
    "$$\n",
    "\n",
    "\n"
   ]
  },
  {
   "cell_type": "markdown",
   "metadata": {},
   "source": [
    "La función Python correspondiente debe tomar C como argumento y devolver el valor F (C). El código para esto parece"
   ]
  },
  {
   "cell_type": "code",
   "execution_count": 1,
   "metadata": {},
   "outputs": [],
   "source": [
    "def F(C):\n",
    "    return (9.0/5) * C + 32"
   ]
  },
  {
   "cell_type": "markdown",
   "metadata": {},
   "source": [
    "Todas las funciones de Python comienzan con `def`, seguidas del nombre de la función y, a continuación, entre paréntesis, una lista de argumentos de función separados por comas. Aquí solo tenemos un argumento C. Este argumento actúa como una variable estándar dentro de la función. Las sentencias a realizar dentro de la función deben estar sangradas. Al final de una función es común devolver un valor, es decir, enviar un valor \"fuera de la función\". Este valor normalmente se asocia con el nombre de la función, como en el presente caso donde el valor devuelto es el resultado de la función matemática F (C).\n",
    "\n",
    "La línea de `def` con el nombre de la función y los argumentos a menudo se denomina encabezado de la función, mientras que las declaraciones con sangría constituyen el cuerpo de la función.\n",
    "\n",
    "Para usar una función, debemos llamarla (o invocarla). Debido a que la función devuelve un valor, necesitamos almacenar este valor en una variable o usarlo de otras maneras. Aquí hay algunas llamadas a F:\n"
   ]
  },
  {
   "cell_type": "code",
   "execution_count": 2,
   "metadata": {},
   "outputs": [
    {
     "name": "stdout",
     "output_type": "stream",
     "text": [
      "51.8\n"
     ]
    }
   ],
   "source": [
    "temp1 = F(15.5)\n",
    "a = 10\n",
    "temp2 = F(a)\n",
    "print (F(a+1))\n",
    "sum_temp = F(10) + F(20)"
   ]
  },
  {
   "cell_type": "markdown",
   "metadata": {},
   "source": [
    "El objeto devuelto de F (C) es en nuestro caso un objeto `float`. Por lo tanto, la llamada F (C) se puede colocar en cualquier lugar de un código donde un objeto `float` sería válido. La declaración `print` de arriba es un ejemplo.\n",
    "Como otro ejemplo, digamos que tenemos una lista `Cdegrees` de grados Celsius y queremos calcular una lista de los grados Fahrenheit correspondientes utilizando la función F de arriba en una lista de comprensión:"
   ]
  },
  {
   "cell_type": "code",
   "execution_count": 3,
   "metadata": {},
   "outputs": [],
   "source": [
    "Cdegrees = []\n",
    "Fdegrees = [F (C) for C in Cdegrees]"
   ]
  },
  {
   "cell_type": "markdown",
   "metadata": {},
   "source": [
    "Otro ejemplo más puede implicar una ligera variación de nuestra función F (C), donde se devuelve una cadena formateada en lugar de un número real:"
   ]
  },
  {
   "cell_type": "code",
   "execution_count": 43,
   "metadata": {},
   "outputs": [],
   "source": [
    "def F2(C):\n",
    "    F_value = (9.0/5) * C + 32\n",
    "    return (\"%.1f degrees Celsius corresponds to \"\\\n",
    "               \"%.1f degrees Fahrenheit\" % (C, F_value))"
   ]
  },
  {
   "cell_type": "code",
   "execution_count": 44,
   "metadata": {},
   "outputs": [
    {
     "ename": "NameError",
     "evalue": "name 'F_value' is not defined",
     "output_type": "error",
     "traceback": [
      "\u001b[0;31m---------------------------------------------------------------------------\u001b[0m",
      "\u001b[0;31mNameError\u001b[0m                                 Traceback (most recent call last)",
      "\u001b[0;32m<ipython-input-44-78c3994d47bf>\u001b[0m in \u001b[0;36m<module>\u001b[0;34m\u001b[0m\n\u001b[0;32m----> 1\u001b[0;31m \u001b[0mF_value\u001b[0m\u001b[0;34m\u001b[0m\u001b[0;34m\u001b[0m\u001b[0m\n\u001b[0m",
      "\u001b[0;31mNameError\u001b[0m: name 'F_value' is not defined"
     ]
    }
   ],
   "source": [
    "F_value"
   ]
  },
  {
   "cell_type": "code",
   "execution_count": 36,
   "metadata": {},
   "outputs": [
    {
     "data": {
      "text/plain": [
       "'21.0 degrees Celsius corresponds to 69.8 degrees Fahrenheit'"
      ]
     },
     "execution_count": 36,
     "metadata": {},
     "output_type": "execute_result"
    }
   ],
   "source": [
    "s1 = F2(21)\n",
    "s1"
   ]
  },
  {
   "cell_type": "markdown",
   "metadata": {},
   "source": [
    "La asignación a `F_value` demuestra que podemos crear variables dentro de una función según sea necesario."
   ]
  },
  {
   "cell_type": "markdown",
   "metadata": {},
   "source": [
    "### 3.1.2 Entendiendo el flujo del programa\n",
    "\n",
    "Un programador debe tener una comprensión profunda de la secuencia de instrucciones que se ejecutan en el programa y poder simular a mano lo que sucede con un programa en la computadora. Para ayudar a desarrollar esta comprensión, un depurador (ver la Sección F.1) o el Online Python Tutor2 son herramientas excelentes. Un depurador se puede utilizar para todo tipo de programas, grandes y pequeños, mientras que el Tutor de Python en línea es principalmente una herramienta educativa para programas pequeños. Lo demostraremos aquí.\n",
    "\n",
    "A continuación se muestra un programa **c2f.py** que tiene una función y un bucle `for`, con el propósito de imprimir una tabla para la conversión de grados Celsius a grados Fahrenheit:"
   ]
  },
  {
   "cell_type": "code",
   "execution_count": 37,
   "metadata": {},
   "outputs": [
    {
     "name": "stdout",
     "output_type": "stream",
     "text": [
      "-30.0 -22.000000000000000000000000000000000000000000000000000\n",
      "-20.0 -4.000000000000000000000000000000000000000000000000000\n",
      "-10.0 14.000000000000000000000000000000000000000000000000000\n",
      "  0.0 32.000000000000000000000000000000000000000000000000000\n",
      " 10.0 50.000000000000000000000000000000000000000000000000000\n",
      " 20.0 68.000000000000000000000000000000000000000000000000000\n",
      " 30.0 86.000000000000000000000000000000000000000000000000000\n",
      " 40.0 104.000000000000000000000000000000000000000000000000000\n",
      " 50.0 122.000000000000000000000000000000000000000000000000000\n"
     ]
    }
   ],
   "source": [
    "def F(C):\n",
    "    F = 9./5*C + 32\n",
    "    return F\n",
    "dC = 10\n",
    "C = -30\n",
    "while C <= 50:\n",
    "    print (\"%5.1f %.51f\" % (C, F(C)))\n",
    "    C += dC"
   ]
  },
  {
   "attachments": {
    "Captura%20de%20pantalla%202019-05-02%20a%20las%203.56.51%20p.m..png": {
     "image/png": "[encoded data removed]"
    }
   },
   "cell_type": "markdown",
   "metadata": {},
   "source": [
    "Ahora le pediremos al Tutor de Python en línea que explique visualmente cómo se ejecuta el programa. Vaya a http://www.pythontutor.com/visualize. html, borre el código allí y escriba o pegue el archivo c2f.py en el área del editor. Haga clic en Visualizar Ejecución. Presione el botón de avance para avanzar una frase a la vez y observe la evolución de las variables a la derecha en la ventana. Esta demostración ilustra cómo el programa salta en el bucle y sube a la función F (C) y luego regresa. La Figura 3.1 proporciona una instantánea del estado de las variables, la salida del terminal y las declaraciones actuales y siguientes.\n",
    "\n",
    "---\n",
    "**Tips: ¿Cómo funciona realmente un programa?**\n",
    "\n",
    "Cada vez que no esté seguro de cómo avanza el flujo de instrucciones en un programa con bucles y / o funciones, vaya a \n",
    "http://www.pythontutor.com/visualize.html, pegue su programa y vea exactamente qué sucede.\n",
    "\n",
    "---\n",
    "\n",
    "http://www.pythontutor.com/\n",
    "\n",
    "\n",
    "![Captura%20de%20pantalla%202019-05-02%20a%20las%203.56.51%20p.m..png](attachment:Captura%20de%20pantalla%202019-05-02%20a%20las%203.56.51%20p.m..png)\n",
    "\n",
    "Fig. 3.1 Captura de pantalla del Tutor de Python en línea y ejecución paso a paso del programa c2f.py."
   ]
  },
  {
   "cell_type": "markdown",
   "metadata": {},
   "source": [
    "### 3.1.3 Variables locales y globales\n",
    "\n",
    "**Las variables locales son funciones externas invisibles.** Reconsideremos la función **F2(C)** de la Sección 3.1.1. La variable **F_value** es una variable local en la función, y una variable local no existe fuera de la función, es decir, en el programa principal. Podemos demostrar este hecho fácilmente al continuar la sesión interactiva anterior:"
   ]
  },
  {
   "cell_type": "code",
   "execution_count": 45,
   "metadata": {},
   "outputs": [
    {
     "ename": "NameError",
     "evalue": "name 'F_value' is not defined",
     "output_type": "error",
     "traceback": [
      "\u001b[0;31m---------------------------------------------------------------------------\u001b[0m",
      "\u001b[0;31mNameError\u001b[0m                                 Traceback (most recent call last)",
      "\u001b[0;32m<ipython-input-45-32d8dd6df74c>\u001b[0m in \u001b[0;36m<module>\u001b[0;34m\u001b[0m\n\u001b[1;32m      1\u001b[0m \u001b[0mc1\u001b[0m \u001b[0;34m=\u001b[0m \u001b[0;36m37.5\u001b[0m\u001b[0;34m\u001b[0m\u001b[0;34m\u001b[0m\u001b[0m\n\u001b[1;32m      2\u001b[0m \u001b[0ms2\u001b[0m \u001b[0;34m=\u001b[0m \u001b[0mF2\u001b[0m\u001b[0;34m(\u001b[0m\u001b[0mc1\u001b[0m\u001b[0;34m)\u001b[0m\u001b[0;34m\u001b[0m\u001b[0;34m\u001b[0m\u001b[0m\n\u001b[0;32m----> 3\u001b[0;31m \u001b[0mF_value\u001b[0m\u001b[0;34m\u001b[0m\u001b[0;34m\u001b[0m\u001b[0m\n\u001b[0m",
      "\u001b[0;31mNameError\u001b[0m: name 'F_value' is not defined"
     ]
    }
   ],
   "source": [
    "c1 = 37.5\n",
    "s2 = F2(c1)\n",
    "F_value"
   ]
  },
  {
   "cell_type": "markdown",
   "metadata": {},
   "source": [
    "Este mensaje de error demuestra que el programa que está fuera de la función no tiene conocimiento de **F_value.** También el argumento de la función, C, es una variable local a la que no podemos acceder fuera de la función:"
   ]
  },
  {
   "cell_type": "code",
   "execution_count": 8,
   "metadata": {},
   "outputs": [
    {
     "data": {
      "text/plain": [
       "60"
      ]
     },
     "execution_count": 8,
     "metadata": {},
     "output_type": "execute_result"
    }
   ],
   "source": [
    "C"
   ]
  },
  {
   "cell_type": "markdown",
   "metadata": {},
   "source": [
    "Por el contrario, las variables definidas fuera de la función, como **s1, s2 y c1** en la sesión anterior, son variables globales. Se puede acceder a ellos en cualquier parte del programa, también dentro de la función F2.\n",
    "\n",
    "**Las variables locales ocultan las variables globales.** Las variables locales se crean dentro de una función y se destruyen cuando dejamos la función. Para aprender más sobre este hecho, podemos estudiar la siguiente sesión en la que escribimos **F_value, C** y alguna variable global **r** dentro de la función:"
   ]
  },
  {
   "cell_type": "code",
   "execution_count": 10,
   "metadata": {},
   "outputs": [
    {
     "name": "stdout",
     "output_type": "stream",
     "text": [
      "Inside F3: C=21 F_value=69.80000000000001 r=21\n"
     ]
    }
   ],
   "source": [
    "def F3(C):\n",
    "    F_value = (9.0/5)*C + 32\n",
    "    print (\"Inside F3: C=%s F_value=%s r=%s\" % (C, F_value, r))\n",
    "    return (\"%.1f degrees Celsius corresponds to \"\\\n",
    "           \"%.1f degrees Fahrenheit\"%(C, F_value))\n",
    "0\n",
    "\n",
    "C = 60\n",
    "r = 21\n",
    "s3 = F3(r)"
   ]
  },
  {
   "cell_type": "code",
   "execution_count": 46,
   "metadata": {},
   "outputs": [
    {
     "data": {
      "text/plain": [
       "'21.0 degrees Celsius corresponds to 69.8 degrees Fahrenheit'"
      ]
     },
     "execution_count": 46,
     "metadata": {},
     "output_type": "execute_result"
    }
   ],
   "source": [
    "s3"
   ]
  },
  {
   "cell_type": "code",
   "execution_count": 47,
   "metadata": {},
   "outputs": [
    {
     "data": {
      "text/plain": [
       "60"
      ]
     },
     "execution_count": 47,
     "metadata": {},
     "output_type": "execute_result"
    }
   ],
   "source": [
    "C"
   ]
  },
  {
   "cell_type": "markdown",
   "metadata": {},
   "source": [
    "Este ejemplo ilustra que hay dos variables C, una global, definida en el programa principal con el valor 60 (un objeto int), y una local, que vive cuando el flujo del programa está dentro de la función F3. El valor de este último `C` se da en la llamada a la función `F3` (un objeto `int`). Dentro de la función `F3`, la `C` local oculta la variable C global en el sentido de que cuando nos referimos a C accedemos a la variable local. (Técnicamente, se puede acceder a la C global como `globals()[’C’]`, ¡pero se debe evitar trabajar con variables locales y globales con los mismos nombres al mismo tiempo!)\n",
    "\n",
    "El Tutor de Python en línea proporciona una visión general completa de lo que son las variables locales y globales en cualquier momento. Por ejemplo, en el ejemplo de la Sección 3.1.2, la Figura 3.1 muestra el contenido de las tres variables globales `F, dC y C`, junto con el contenido de las variables que están en juego en esta llamada de la función `F(C)` : `C` y `F`.\n",
    "\n",
    "---\n",
    "### Cómo Python busca las variables\n",
    "La regla más general, cuando tiene varias variables con el mismo nombre, es que Python primero intenta buscar el nombre de la variable entre las variables locales, luego hay una búsqueda entre las variables globales y finalmente entre las funciones incorporadas de Python.\n",
    "\n",
    "---\n",
    "\n",
    "Ejemplo. Aquí hay un programa completo de ejemplo que pretende ilustrar la regla anterior:"
   ]
  },
  {
   "cell_type": "code",
   "execution_count": 48,
   "metadata": {},
   "outputs": [
    {
     "name": "stdout",
     "output_type": "stream",
     "text": [
      "4\n",
      "500\n",
      "3\n",
      "4\n"
     ]
    }
   ],
   "source": [
    "print (sum)  # sum is a built-in Python function\n",
    "sum = 500  # rebind the name sum to an int\n",
    "print (sum)  # sum is a global variable\n",
    "\n",
    "def myfunc(n):\n",
    "    sum = n + 1\n",
    "    print (sum)  # sum is a local variable\n",
    "    return sum\n",
    "sum = myfunc(2) + 1   # new value in global variable sum\n",
    "print (sum)"
   ]
  },
  {
   "cell_type": "markdown",
   "metadata": {},
   "source": [
    "En la primera línea, no hay variables locales, por lo que Python busca un valor global con `sum` de nombres, pero no puede encontrar ninguna, por lo que la búsqueda continúa con las funciones integradas, y entre ellas Python encuentra una función con `sum` de nombres. La impresión de `sum` se convierte en algo así como `<built-in function sum>`.\n",
    "\n",
    "La segunda línea vuelve a vincular la `sum` del nombre global a un objeto int. Cuando se intenta acceder a la `sum` en la siguiente declaración de impresión, Python busca entre las variables globales (hasta ahora no hay variables locales) y encuentra una. La impresión se convierte en 500. La llamada `myfunc(2)` invoca una función donde la suma es una variable local. Al hacer una `print sum`en esta función, Python realiza la primera búsqueda entre las variables locales y, como allí se encuentra la `sum`, la impresión se convierte en 3 (y no en 500, el valor de la suma de la variable global). El valor de la `sum` de la variable local se devuelve, se agrega a 1, para formar un objeto `int` con valor 4. Este objeto `int` se vincula a la `sum` de la variable global. El `print sum` final conduce a una búsqueda entre variables globales, y encontramos una con valor 4.\n",
    "\n",
    "**Cambio de variables globales dentro de funciones**. Se puede acceder a los valores de las variables globales dentro de las funciones, pero los valores no se pueden cambiar a menos que la variable se declare como `global`:"
   ]
  },
  {
   "cell_type": "code",
   "execution_count": 49,
   "metadata": {},
   "outputs": [
    {
     "name": "stdout",
     "output_type": "stream",
     "text": [
      "20\n",
      "20\n",
      "21\n"
     ]
    }
   ],
   "source": [
    "a = 20; \n",
    "b = -2.5\n",
    "def f1(x):\n",
    "    a = 21\n",
    "    return a*x + b\n",
    "print (a)\n",
    "def f2(x):\n",
    "    global a\n",
    "    a = 21\n",
    "    return a*x + b\n",
    "f1(3)\n",
    "print (a)\n",
    "f2(3)\n",
    "print (a)"
   ]
  },
  {
   "cell_type": "markdown",
   "metadata": {},
   "source": [
    "Note that in the `f1` function, `a=21` creates a local variable `a`. As a programmer you may think you change the global a, but it does not happen! You are strongly encouraged to run the programs in this section in the *Online Python Tutor*, which is an excellent tool to explore local versus global variables and thereby get a good understanding of these concepts."
   ]
  },
  {
   "cell_type": "markdown",
   "metadata": {},
   "source": [
    "### 3.1.4 Argumentos múltiples\n",
    "\n",
    "Las funciones `F(C)` y `F2(C)` anteriores de la Sección 3.1.1 son funciones de una variable, `C`, o como lo expresamos en informática: las funciones toman un argumento (`C`). Las funciones pueden tener tantos argumentos como se desee; simplemente separe los nombres de los argumentos por comas.\n",
    "\n",
    "Considera la función matemática.\n",
    "\n",
    "$$\n",
    "y(t)=v_ot - \\frac{1}{2}gt^2\n",
    "$$\n",
    "\n",
    "donde `g` es una constante fija y $v_0$ es un parámetro físico que puede variar.\n",
    "\n",
    "Matemáticamente, `y` es una función de una variable, t, pero los valores de la función también depende del valor de $v_0$. Es decir, para evaluar y, necesitamos valores para t y v0. Una implementación natural de Python es, por lo tanto, una función con dos argumentos:"
   ]
  },
  {
   "cell_type": "code",
   "execution_count": 50,
   "metadata": {},
   "outputs": [],
   "source": [
    "def yfunc(t, v0):\n",
    "    g = 9.81\n",
    "    return v0*t - 0.5*g*t**2"
   ]
  },
  {
   "cell_type": "markdown",
   "metadata": {},
   "source": [
    "Tenga en cuenta que los argumentos t y $v_0$ son variables locales en esta función. Ejemplos de llamadas válidas son"
   ]
  },
  {
   "cell_type": "code",
   "execution_count": 51,
   "metadata": {},
   "outputs": [],
   "source": [
    "y = yfunc(0.1, 6)\n",
    "y = yfunc(0.1, v0=6)\n",
    "y = yfunc(t=0.1, v0=6)\n",
    "y = yfunc(v0=6, t=0.1)"
   ]
  },
  {
   "cell_type": "markdown",
   "metadata": {},
   "source": [
    "La posibilidad de escribir `argument=value` en la llamada facilita la lectura y la comprensión de la declaración de la llamada. Con la sintaxis de `argument=value` para todos los argumentos, la secuencia de los argumentos no importa en la llamada, lo que aquí significa que podemos poner v0 antes de t. Cuando se omite el `argument=` part, la secuencia de argumentos en la llamada debe coincidir perfectamente con la secuencia de argumentos en la definición de la función. Los argumentos `argument=value` deben aparecer después de todos los argumentos donde solo se proporciona el valor (por ejemplo, yfunc (t = 0.1, 6) es ilegal).\n",
    "\n",
    "\n",
    "Ya sea que escribamos `yfunc(0.1, 6)` o `yfunc($v_0$=6, t = 0.1)`, los argumentos se inicializan como variables locales en la función de la misma manera que cuando asignamos valores a las variables:"
   ]
  },
  {
   "cell_type": "code",
   "execution_count": 52,
   "metadata": {},
   "outputs": [],
   "source": [
    "t = 0.1\n",
    "v0 = 6"
   ]
  },
  {
   "cell_type": "markdown",
   "metadata": {},
   "source": [
    "Estas declaraciones no son visibles en el código, pero una llamada a una función inicializa automáticamente los argumentos de esta manera."
   ]
  },
  {
   "cell_type": "markdown",
   "metadata": {},
   "source": [
    "### 3.1.5 ¿Argumento de función o variable global?\n",
    "\n",
    "Dado que y matemáticamente se considera una función de una variable, t, algunos pueden argumentar que la versión Python de la función, `yfunc`, debe ser una función de t solamente. Esto es fácil de reflejar en Python:\n",
    "\n"
   ]
  },
  {
   "cell_type": "code",
   "execution_count": 53,
   "metadata": {},
   "outputs": [],
   "source": [
    "def yfunc(t):\n",
    "    g = 9.81\n",
    "    return v0*t - 0.5*g*t**2"
   ]
  },
  {
   "cell_type": "markdown",
   "metadata": {},
   "source": [
    "La diferencia principal es que v0 ahora se convierte en una variable global, que debe inicializarse fuera de la función yfunc (en el programa principal) antes de intentar llamar a yfunc. La siguiente sesión demuestra lo que sucede si no podemos inicializar una variable global de este tipo:"
   ]
  },
  {
   "cell_type": "code",
   "execution_count": 54,
   "metadata": {},
   "outputs": [
    {
     "data": {
      "text/plain": [
       "1.8341999999999996"
      ]
     },
     "execution_count": 54,
     "metadata": {},
     "output_type": "execute_result"
    }
   ],
   "source": [
    "def yfunc(t):\n",
    "    g = 9.81\n",
    "    return v0*t - 0.5*g*t**2\n",
    "\n",
    "yfunc(0.6)"
   ]
  },
  {
   "cell_type": "markdown",
   "metadata": {},
   "source": [
    "El remedio es definir `v0` como una variable global antes de llamar a `yfunc`:"
   ]
  },
  {
   "cell_type": "code",
   "execution_count": 55,
   "metadata": {},
   "outputs": [
    {
     "data": {
      "text/plain": [
       "1.2342"
      ]
     },
     "execution_count": 55,
     "metadata": {},
     "output_type": "execute_result"
    }
   ],
   "source": [
    "v0 = 5\n",
    "yfunc(0.6)"
   ]
  },
  {
   "cell_type": "markdown",
   "metadata": {},
   "source": [
    "la razón para tener `yfunc` como una función de `t` solo se hace evidente\n",
    "en la Sección 3.1.12."
   ]
  },
  {
   "cell_type": "markdown",
   "metadata": {},
   "source": [
    "### 3.1.6 Más allá de las funciones matemáticas\n",
    "\n",
    "Hasta ahora, nuestras funciones de Python normalmente han calculado alguna función matemática, pero la utilidad de las funciones de Python va mucho más allá de las funciones matemáticas. Cualquier conjunto de declaraciones que deseamos ejecutar repetidamente en circunstancias potencialmente diferentes es candidato para una función de Python. Digamos que queremos hacer una lista de números a partir de algún valor y parando en otro valor, con incrementos de un tamaño determinado. Con las variables correspondientes `start=2`, `stop=8` e `inc=2`, deberíamos producir los números 2, 4, 6 y 8. Escribamos una función haciendo la tarea, junto con un par de declaraciones que demuestran cómo llamamos la función:"
   ]
  },
  {
   "cell_type": "code",
   "execution_count": 56,
   "metadata": {},
   "outputs": [
    {
     "name": "stdout",
     "output_type": "stream",
     "text": [
      "[0, 2, 4, 6, 8, 10, 12, 14, 16, 18, 20, 22, 24, 26, 28, 30, 32, 34, 36, 38, 40, 42, 44, 46, 48, 50, 52, 54, 56, 58, 60, 62, 64, 66, 68, 70, 72, 74, 76, 78, 80, 82, 84, 86, 88, 90, 92, 94, 96, 98, 100]\n"
     ]
    }
   ],
   "source": [
    "def makelist(start, stop, inc):\n",
    "    value = start\n",
    "    result = []\n",
    "    while value <= stop:\n",
    "        result.append(value)\n",
    "        value = value + inc\n",
    "    return result\n",
    "\n",
    "mylist = makelist(0, 100, 2)\n",
    "print (mylist)  # will print 0, 0.2, 0.4, 0.6, ... 99.8, 100"
   ]
  },
  {
   "cell_type": "markdown",
   "metadata": {},
   "source": [
    "**Observación 1**. La función `makelist` tiene tres argumentos: `start`, `stop` e `inc`, que se convierten en variables locales en la función. También el valor y el resultado son variables locales. En el programa que nos rodea definimos solo una variable, `mylist`, y esta es una variable global.\n",
    "\n",
    "**Observación 2**. Podría pensar que range (`start`, `stop`, `inc`) hace que la función `makelist` de listas sea redundante, pero el `range` solo puede generar enteros, mientras que la `makelist` puede generar números reales también, y más, como se demuestra en el Ejercicio 3.38."
   ]
  },
  {
   "cell_type": "markdown",
   "metadata": {},
   "source": [
    "### 3.1.7 Múltiples valores de retorno\n",
    "\n",
    "Las funciones de Python pueden devolver más de un valor. Supongamos que estamos interesados en evaluar tanto `y(t)` como `y'(t)`:\n",
    "\n",
    "$$\n",
    "y(t)=v_0t - \\frac{1}{2}gt^2\n",
    "$$\n",
    "\n",
    "$$\n",
    "y'(t)=v_0 - gt\n",
    "$$\n",
    "\n",
    "Para devolver tanto y como y' simplemente separamos sus variables correspondientes por una coma en la declaración de `return`:"
   ]
  },
  {
   "cell_type": "code",
   "execution_count": 57,
   "metadata": {},
   "outputs": [],
   "source": [
    "def yfunc (t, v0):\n",
    "    g = 9.81\n",
    "    y = v0*t - 0.5*g*t**2\n",
    "    dydt = v0 - g*t\n",
    "    return y, dydt"
   ]
  },
  {
   "cell_type": "markdown",
   "metadata": {},
   "source": [
    "Llamar a esta última función `yfunc` hace que se necesiten dos valores en el lado izquierdo del operador de asignación porque la función devuelve dos valores:"
   ]
  },
  {
   "cell_type": "code",
   "execution_count": 58,
   "metadata": {},
   "outputs": [],
   "source": [
    "position, velocity = yfunc(0.6, 3)"
   ]
  },
  {
   "cell_type": "markdown",
   "metadata": {},
   "source": [
    "Aquí hay una aplicación de la función `yfunc` para producir una tabla bien formateada con los valores de `t`, `y(t)` e `y'(t)`:"
   ]
  },
  {
   "cell_type": "code",
   "execution_count": 59,
   "metadata": {},
   "outputs": [
    {
     "name": "stdout",
     "output_type": "stream",
     "text": [
      "t = 0          position = 0          velocity = 5         \n",
      "t = 0.05       position = 0.237737   velocity = 4.5095    \n",
      "t = 0.1        position = 0.45095    velocity = 4.019     \n",
      "t = 0.15       position = 0.639638   velocity = 3.5285    \n",
      "t = 0.2        position = 0.8038     velocity = 3.038     \n",
      "t = 0.25       position = 0.943437   velocity = 2.5475    \n",
      "t = 0.3        position = 1.05855    velocity = 2.057     \n",
      "t = 0.35       position = 1.14914    velocity = 1.5665    \n",
      "t = 0.4        position = 1.2152     velocity = 1.076     \n",
      "t = 0.45       position = 1.25674    velocity = 0.5855    \n"
     ]
    }
   ],
   "source": [
    "t_values = [0.05*i for i in range(10)]\n",
    "for t in t_values:\n",
    "    position, velocity = yfunc(t, v0=5)\n",
    "    print (\"t = %-10g position = %-10g velocity = %-10g\" % \\\n",
    "    (t, position, velocity))"
   ]
  },
  {
   "cell_type": "markdown",
   "metadata": {},
   "source": [
    "Cuando una función devuelve varios valores, separados por una coma en la declaración de `return`, en realidad se devuelve una tupla (Sección 2.5). Podemos demostrar ese hecho por la siguiente sesión:"
   ]
  },
  {
   "cell_type": "code",
   "execution_count": 60,
   "metadata": {},
   "outputs": [
    {
     "data": {
      "text/plain": [
       "(2, 4, 16)"
      ]
     },
     "execution_count": 60,
     "metadata": {},
     "output_type": "execute_result"
    }
   ],
   "source": [
    "def f(x):\n",
    "    return x, x**2, x**4\n",
    "s = f(2)\n",
    "s"
   ]
  },
  {
   "cell_type": "code",
   "execution_count": 61,
   "metadata": {},
   "outputs": [
    {
     "data": {
      "text/plain": [
       "tuple"
      ]
     },
     "execution_count": 61,
     "metadata": {},
     "output_type": "execute_result"
    }
   ],
   "source": [
    "type(s)"
   ]
  },
  {
   "cell_type": "code",
   "execution_count": 62,
   "metadata": {},
   "outputs": [],
   "source": [
    "x, x2, x4 = f(2)"
   ]
  },
  {
   "cell_type": "markdown",
   "metadata": {},
   "source": [
    "Tenga en cuenta que almacenar múltiples valores de retorno en variables separadas, como lo hacemos en la última línea, es en realidad la misma funcionalidad que usamos para almacenar elementos de lista (o tupla) en variables separadas, consulte la Sección 2.2.1."
   ]
  },
  {
   "cell_type": "markdown",
   "metadata": {},
   "source": [
    "### 3.1.8 Sumas de cálculo\n",
    "\n",
    "Nuestro siguiente ejemplo se refiere a una función de Python para calcular la suma\n",
    "\n",
    "\n",
    "$$\n",
    "L(x;n) = \\sum_{i=1}^{n} \\frac{1}{i}(\\frac{x}{1+x})^i\n",
    "$$\n",
    "\n",
    "\n",
    "Para calcular una suma en un programa, usamos un bucle y agregamos términos a una variable de acumulación dentro del bucle. La sección 2.1.4 explica la idea. Sin embargo, las expresiones de suma con un contador entero, como i en\n",
    "(3.1), normalmente se implementan mediante un bucle for sobre el contador i y no un bucle while como en la Sección 2.1.4. Por ejemplo, la implementación de $\\sum_{i=1}^{n} i^2$ se implementa normalmente como"
   ]
  },
  {
   "cell_type": "code",
   "execution_count": 63,
   "metadata": {},
   "outputs": [
    {
     "ename": "NameError",
     "evalue": "name 'n' is not defined",
     "output_type": "error",
     "traceback": [
      "\u001b[0;31m---------------------------------------------------------------------------\u001b[0m",
      "\u001b[0;31mNameError\u001b[0m                                 Traceback (most recent call last)",
      "\u001b[0;32m<ipython-input-63-428d65314759>\u001b[0m in \u001b[0;36m<module>\u001b[0;34m\u001b[0m\n\u001b[1;32m      1\u001b[0m \u001b[0ms\u001b[0m \u001b[0;34m=\u001b[0m \u001b[0;36m0\u001b[0m\u001b[0;34m\u001b[0m\u001b[0;34m\u001b[0m\u001b[0m\n\u001b[0;32m----> 2\u001b[0;31m \u001b[0;32mfor\u001b[0m \u001b[0mi\u001b[0m \u001b[0;32min\u001b[0m \u001b[0mrange\u001b[0m \u001b[0;34m(\u001b[0m\u001b[0;36m1\u001b[0m\u001b[0;34m,\u001b[0m \u001b[0mn\u001b[0m\u001b[0;34m+\u001b[0m\u001b[0;36m1\u001b[0m\u001b[0;34m)\u001b[0m\u001b[0;34m:\u001b[0m\u001b[0;34m\u001b[0m\u001b[0;34m\u001b[0m\u001b[0m\n\u001b[0m\u001b[1;32m      3\u001b[0m     \u001b[0ms\u001b[0m \u001b[0;34m+=\u001b[0m \u001b[0mi\u001b[0m\u001b[0;34m**\u001b[0m\u001b[0;36m2\u001b[0m\u001b[0;34m\u001b[0m\u001b[0;34m\u001b[0m\u001b[0m\n",
      "\u001b[0;31mNameError\u001b[0m: name 'n' is not defined"
     ]
    }
   ],
   "source": [
    "s = 0\n",
    "for i in range (1, n+1):\n",
    "    s += i**2"
   ]
  },
  {
   "cell_type": "markdown",
   "metadata": {},
   "source": [
    "Para la suma específica (3.1) simplemente reemplazamos `i**2` por el término correcto dentro del `bucle for`:"
   ]
  },
  {
   "cell_type": "code",
   "execution_count": 64,
   "metadata": {},
   "outputs": [
    {
     "ename": "NameError",
     "evalue": "name 'n' is not defined",
     "output_type": "error",
     "traceback": [
      "\u001b[0;31m---------------------------------------------------------------------------\u001b[0m",
      "\u001b[0;31mNameError\u001b[0m                                 Traceback (most recent call last)",
      "\u001b[0;32m<ipython-input-64-7ea9aefd1682>\u001b[0m in \u001b[0;36m<module>\u001b[0;34m\u001b[0m\n\u001b[1;32m      1\u001b[0m \u001b[0ms\u001b[0m \u001b[0;34m=\u001b[0m \u001b[0;36m0\u001b[0m\u001b[0;34m\u001b[0m\u001b[0;34m\u001b[0m\u001b[0m\n\u001b[0;32m----> 2\u001b[0;31m \u001b[0;32mfor\u001b[0m \u001b[0mi\u001b[0m \u001b[0;32min\u001b[0m \u001b[0mrange\u001b[0m\u001b[0;34m(\u001b[0m\u001b[0;36m1\u001b[0m\u001b[0;34m,\u001b[0m \u001b[0mn\u001b[0m\u001b[0;34m+\u001b[0m\u001b[0;36m1\u001b[0m\u001b[0;34m)\u001b[0m\u001b[0;34m:\u001b[0m\u001b[0;34m\u001b[0m\u001b[0;34m\u001b[0m\u001b[0m\n\u001b[0m\u001b[1;32m      3\u001b[0m     \u001b[0ms\u001b[0m \u001b[0;34m+=\u001b[0m \u001b[0;34m(\u001b[0m\u001b[0;36m1.0\u001b[0m\u001b[0;34m/\u001b[0m\u001b[0mi\u001b[0m\u001b[0;34m)\u001b[0m\u001b[0;34m*\u001b[0m\u001b[0;34m(\u001b[0m\u001b[0mx\u001b[0m\u001b[0;34m/\u001b[0m\u001b[0;34m(\u001b[0m\u001b[0;36m1.0\u001b[0m\u001b[0;34m+\u001b[0m\u001b[0mx\u001b[0m\u001b[0;34m)\u001b[0m\u001b[0;34m)\u001b[0m\u001b[0;34m**\u001b[0m\u001b[0mi\u001b[0m\u001b[0;34m\u001b[0m\u001b[0;34m\u001b[0m\u001b[0m\n",
      "\u001b[0;31mNameError\u001b[0m: name 'n' is not defined"
     ]
    }
   ],
   "source": [
    "s = 0\n",
    "for i in range(1, n+1):\n",
    "    s += (1.0/i)*(x/(1.0+x))**i"
   ]
  },
  {
   "cell_type": "markdown",
   "metadata": {},
   "source": [
    "Observe los factores 1.0 utilizados para evitar la división de enteros, ya que i es int yx también puede ser int.\n",
    "Es natural incrustar el cálculo de la suma en una función que toma x y n como argumentos y devuelve la suma:"
   ]
  },
  {
   "cell_type": "code",
   "execution_count": 65,
   "metadata": {},
   "outputs": [],
   "source": [
    "def L(x, n):\n",
    "    s = 0\n",
    "    for i in range(1, n+1):\n",
    "        s += (1.0/i)*(x/(1.0+x))**i\n",
    "    return s"
   ]
  },
  {
   "cell_type": "markdown",
   "metadata": {},
   "source": [
    "Nuestra fórmula (3.1) no es elegida al azar. De hecho, se puede mostrar que `L(x; n)` es una aproximación a `ln(1 + x)` para un n finito y `x >= 1`. La aproximación se vuelve exacta en el límite\n",
    "\n",
    "$$\\lim\\limits_{x \\to \\inf} L (x ; n) = ln(1 + x)$$\n",
    "\n",
    "### Significación computacional de $L(x; n)$\n",
    "\n",
    "---\n",
    "Aunque podemos calcular ln(1+x) en una calculadora o `math.log(1+x)` en Python, es posible que se haya preguntado cómo se calcula realmente esa función dentro de la calculadora o el módulo `math`. En la mayoría de los casos, esto debe hacerse mediante expresiones matemáticas simples, como la suma en (3.1). Una calculadora y el módulo `math` usarán fórmulas más sofisticadas que (3.1) para la máxima eficiencia de los cálculos, pero el punto principal es que los valores numéricos de funciones matemáticas como ln(x), sin(x) y tan(x) se suele calcular por sumas similares a (3.1).\n",
    "\n",
    "---\n",
    "\n",
    "\n",
    "\n",
    "En lugar de que nuestra función L simplemente devuelva el valor de la suma, podríamos devolver información adicional sobre el error involucrado en la aproximación de ln(1+x) por L(x;n). El tamaño de los términos disminuye con el aumento de n, y el primer término descuidado es entonces más grande que todos los términos restantes, pero no necesariamente más grande que su suma. El primer término descuidado es, por lo tanto, una indicación del tamaño del error total que cometemos, por lo que podemos usar este término como una estimación aproximada del error. A modo de comparación, también podríamos devolver el error exacto ya que podemos calcular la función ln mediante `math.log`.\n",
    "\n",
    "Una nueva versión de la función L(x, n), donde devolvemos el valor de L (x; n), el primer término desatendido, y el error exacto es el siguiente:"
   ]
  },
  {
   "cell_type": "code",
   "execution_count": 66,
   "metadata": {},
   "outputs": [],
   "source": [
    "def L2(x, n): \n",
    "    s=0\n",
    "    for i in range(1, n+1):\n",
    "        s += (1.0/i)*(x/(1.0+x))**i\n",
    "    value_of_sum = s\n",
    "    first_neglected_term = (1.0/(n+1))*(x/(1.0+x))**(n+1)\n",
    "    from math import log\n",
    "    exact_error = log(1+x) - value_of_sum\n",
    "    return value_of_sum, first_neglected_term, exact_error\n",
    "# typical call:\n",
    "value, approximate_error, exact_error = L2(x, 100)"
   ]
  },
  {
   "cell_type": "markdown",
   "metadata": {},
   "source": [
    "La siguiente sección demuestra el uso de la función L2 para juzgar la calidad de la aproximación L (x; n) a ln (1 + x)."
   ]
  },
  {
   "cell_type": "markdown",
   "metadata": {},
   "source": [
    "### 3.1.9 Funciones sin valores de retorno\n",
    "\n",
    "A veces, una función simplemente realiza un conjunto de declaraciones, sin computar objetos que son naturales para volver al código de llamada. En tales situaciones, simplemente se puede omitir la declaración de retorno. Algunos lenguajes de programación usan los términos procedimiento o subrutina para funciones que no devuelven nada.\n",
    "Ejemplifiquemos una función sin valores de retorno haciendo una tabla de la precisión de la aproximación $L(x; n)$ a $ln(1+x)$ de la sección anterior:"
   ]
  },
  {
   "cell_type": "code",
   "execution_count": 74,
   "metadata": {},
   "outputs": [],
   "source": [
    "import math\n",
    "def table(x):\n",
    "    print (\"\\nx=%g, ln(1+x)=%g\" % (x, math.log(1+x)))\n",
    "    for n in [1, 2, 10, 100, 500]:\n",
    "        value, next, error = L2(x, n)\n",
    "        print (\"n=%-4d %-10g  (next term: %8.2e  \"\\\n",
    "            \"error: %8.2e)\" % (n, value, next, error))"
   ]
  },
  {
   "cell_type": "markdown",
   "metadata": {},
   "source": [
    "Esta función simplemente realiza un conjunto de sentencias que podemos querer ejecutar varias veces. Llamando da la salida."
   ]
  },
  {
   "cell_type": "code",
   "execution_count": 75,
   "metadata": {},
   "outputs": [
    {
     "name": "stdout",
     "output_type": "stream",
     "text": [
      "\n",
      "x=10, ln(1+x)=2.3979\n",
      "n=1    0.909091    (next term: 4.13e-01  error: 1.49e+00)\n",
      "n=2    1.32231     (next term: 2.50e-01  error: 1.08e+00)\n",
      "n=10   2.17907     (next term: 3.19e-02  error: 2.19e-01)\n",
      "n=100  2.39789     (next term: 6.53e-07  error: 6.59e-06)\n",
      "n=500  2.3979      (next term: 3.65e-24  error: 6.22e-15)\n",
      "\n",
      "x=100, ln(1+x)=4.61512\n",
      "n=1    0.990099    (next term: 4.90e-01  error: 3.63e+00)\n",
      "n=2    1.48025     (next term: 3.24e-01  error: 3.13e+00)\n",
      "n=10   2.83213     (next term: 8.15e-02  error: 1.78e+00)\n",
      "n=100  4.39574     (next term: 3.62e-03  error: 2.19e-01)\n",
      "n=500  4.61395     (next term: 1.37e-05  error: 1.18e-03)\n"
     ]
    }
   ],
   "source": [
    "table(10)\n",
    "table(100)"
   ]
  },
  {
   "cell_type": "markdown",
   "metadata": {},
   "source": [
    "Desde esta salida, vemos que la suma converge mucho más lentamente cuando x es grande que cuando x es pequeña. También vemos que el error es un orden de magnitud o más grande que el primer término descuidado en la suma. Las funciones L, L2 y la table se encuentran en el archivo `lnsum.py`.\n",
    "\n",
    "Cuando no hay una declaración de retorno explícita en una función, Python en realidad inserta una declaración de retorno invisible. Ninguno es un objeto especial en Python que representa algo que podríamos considerar como datos vacíos o simplemente \"nada\". Otros lenguajes informáticos, como C, C ++ y Java, usan la palabra void para algo similar. Normalmente, uno llamará a la función de tabla sin asignar el valor de retorno a cualquier variable, pero si asignamos el valor de retorno a una variable, `result = table(500)`, el resultado se referirá a un objeto `None`.\n",
    "\n",
    "El valor `None` se usa a menudo para las variables que deberían existir en un programa, pero donde es natural pensar que el valor no está definido conceptualmente. La forma estándar de probar si un objeto obj se establece en `None` o no lee"
   ]
  },
  {
   "cell_type": "raw",
   "metadata": {},
   "source": [
    "f obj is None:\n",
    "   ...\n",
    "f obj is not None:\n",
    "    ..."
   ]
  },
  {
   "cell_type": "markdown",
   "metadata": {},
   "source": [
    "También se puede utilizar `obj == None`. El operador `is` prueba si dos nombres se refieren al mismo objeto, `while == test` si el contenido de dos objetos es el mismo:"
   ]
  },
  {
   "cell_type": "code",
   "execution_count": 79,
   "metadata": {},
   "outputs": [
    {
     "data": {
      "text/plain": [
       "True"
      ]
     },
     "execution_count": 79,
     "metadata": {},
     "output_type": "execute_result"
    }
   ],
   "source": [
    "a = 1\n",
    "b = a\n",
    "a is b #a and b refer to the same object True\n",
    "c = 1.0\n",
    "a is c\n",
    "a == c"
   ]
  },
  {
   "cell_type": "markdown",
   "metadata": {},
   "source": [
    "### 3.1.10 Argumentos de palabras clave\n",
    "\n",
    "A algunos argumentos de función se les puede asignar un valor predeterminado para que podamos omitir estos argumentos en la llamada. Una función típica puede verse como"
   ]
  },
  {
   "cell_type": "code",
   "execution_count": 81,
   "metadata": {},
   "outputs": [],
   "source": [
    "def somefunc(arg1, arg2, kwarg1=True, kwarg2=0):\n",
    "    print (arg1, arg2, kwarg1, kwarg2)"
   ]
  },
  {
   "cell_type": "markdown",
   "metadata": {},
   "source": [
    "Los primeros dos argumentos, arg1 y arg2, son argumentos ordinarios o posicionales, mientras que los dos últimos son argumentos de palabras clave o argumentos con nombre. Cada argumento de palabra clave tiene un nombre (en este ejemplo, kwarg1 y kwarg2) y un valor predeterminado asociado. Los argumentos de palabras clave siempre deben aparecer después de los argumentos posicionales en la definición de la función.\n",
    "\n",
    "Al llamar a somefunc, podemos omitir algunos o todos los argumentos de palabras clave. Los argumentos de palabras clave que no aparecen en la llamada obtienen sus valores de los valores predeterminados especificados. Podemos demostrar el efecto a través de algunas llamadas:"
   ]
  },
  {
   "cell_type": "code",
   "execution_count": 85,
   "metadata": {},
   "outputs": [
    {
     "name": "stdout",
     "output_type": "stream",
     "text": [
      "Hello [1, 2] True 0\n"
     ]
    }
   ],
   "source": [
    "somefunc(\"Hello\", [1,2])"
   ]
  },
  {
   "cell_type": "code",
   "execution_count": 88,
   "metadata": {},
   "outputs": [
    {
     "name": "stdout",
     "output_type": "stream",
     "text": [
      "Hello [1, 2] Hi 0\n"
     ]
    }
   ],
   "source": [
    "somefunc(\"Hello\", [1,2], kwarg1=\"Hi\")"
   ]
  },
  {
   "cell_type": "code",
   "execution_count": 90,
   "metadata": {},
   "outputs": [
    {
     "name": "stdout",
     "output_type": "stream",
     "text": [
      "Hello [1, 2] True Hi\n"
     ]
    }
   ],
   "source": [
    "somefunc(\"Hello\", [1,2], kwarg2=\"Hi\")"
   ]
  },
  {
   "cell_type": "code",
   "execution_count": 91,
   "metadata": {},
   "outputs": [
    {
     "name": "stdout",
     "output_type": "stream",
     "text": [
      "Hello [1, 2] 6 Hi\n"
     ]
    }
   ],
   "source": [
    "somefunc(\"Hello\", [1,2], kwarg2=\"Hi\", kwarg1=6)"
   ]
  },
  {
   "cell_type": "markdown",
   "metadata": {},
   "source": [
    "La secuencia de los argumentos de palabras clave no importa en la llamada. También podemos mezclar los argumentos posicionales y de palabras clave si escribimos explícitamente nombre = valor para todos los argumentos en la llamada:"
   ]
  },
  {
   "cell_type": "code",
   "execution_count": 92,
   "metadata": {},
   "outputs": [
    {
     "name": "stdout",
     "output_type": "stream",
     "text": [
      "Hi [1, 2] 6 Hello\n"
     ]
    }
   ],
   "source": [
    "somefunc(kwarg2=\"Hello\", arg1=\"Hi\", kwarg1=6, arg2=[1,2],)"
   ]
  },
  {
   "cell_type": "markdown",
   "metadata": {},
   "source": [
    "**Ejemplo: Función con parámetros por defecto**. Considere una función de t que también contiene algunos parámetros, aquí A, a, y $w$:\n",
    "\n",
    "$$\n",
    "f(t; A, a, w) = Ae^{-at}sin(wt)\n",
    "$$\n",
    "\n",
    "Podemos implementar f como una función de Python donde la variable independiente t es un argumento posicional ordinario, y los parámetros A, a, y $w$ son argumentos de palabras clave con valores predeterminados adecuados:\n"
   ]
  },
  {
   "cell_type": "code",
   "execution_count": 93,
   "metadata": {},
   "outputs": [],
   "source": [
    "from math import pi, exp, sin\n",
    "def f(t, A=1, a=1, omega=2*pi):\n",
    "    return A*exp(-a*t)*sin(omega*t)"
   ]
  },
  {
   "cell_type": "markdown",
   "metadata": {},
   "source": [
    "Llamar f con solo el argumento t especificado es posible:"
   ]
  },
  {
   "cell_type": "code",
   "execution_count": 94,
   "metadata": {},
   "outputs": [],
   "source": [
    "v1 = f(0.2)"
   ]
  },
  {
   "cell_type": "markdown",
   "metadata": {},
   "source": [
    "En este caso evaluamos la expresión e 0.2 sen (2⇥ · 0.2). Otras posibles llamadas incluyen"
   ]
  },
  {
   "cell_type": "code",
   "execution_count": 95,
   "metadata": {},
   "outputs": [],
   "source": [
    "v2 = f(0.2, omega=1)\n",
    "v3 = f(1, A=5, omega=pi, a=pi**2)\n",
    "v4 = f(A=5, a=2, t=0.01, omega=0.1)\n",
    "v5 = f(0.2, 0.5, 1, 1)"
   ]
  },
  {
   "cell_type": "markdown",
   "metadata": {},
   "source": [
    "Debe escribir las expresiones matemáticas que surgen de estas cuatro llamadas. También observe en la tercera línea de arriba que un argumento posicional, t en ese caso, puede aparecer entre los argumentos de la palabra clave si escribimos el argumento posicional en el argumento de la palabra clave forma `name=value`. En la última línea, demostramos que los argumentos de palabras clave pueden usarse como argumentos posicionales, es decir, la parte del nombre puede omitirse, pero luego la secuencia de los argumentos de palabras clave en la llamada debe coincidir exactamente con la secuencia en la definición de la función.\n",
    "\n",
    "**Ejemplo: Calcular una suma con tolerancia predeterminada.** Considere la suma L (x; n) y las implementaciones de Python **L(x, n) y L2(x, n)** de la Sección 3.1.8. En lugar de especificar el número de términos en la suma, n, es mejor especificar una tolerancia de la precisión. Podemos usar el primer término descuidado como una estimación de la precisión. Esto significa que resumimos los términos siempre que el valor absoluto del siguiente término sea mayor que. Es natural proporcionar un valor predeterminado para $\\epsilon$:\n",
    "\n",
    "    def L3(x, epsilon=1.0E-6):\n",
    "        x = float(x)\n",
    "        i=1\n",
    "        term = (1.0/i)*(x/(1+x))**i s = term\n",
    "        while abs(term) > epsilon:\n",
    "            i += 1\n",
    "            term = (1.0/i)*(x/(1+x))**i\n",
    "            s += term\n",
    "        return s, i\n",
    "        \n",
    "Aquí hay un ejemplo de esta función para hacer una tabla del error de aproximación a medida que disminuy $\\epsilon$:\n",
    "\n",
    "    def table2(x):\n",
    "        from math import log\n",
    "        for k in range(4, 14, 2):\n",
    "        epsilon = 10**(-k)\n",
    "        approx, n = L3(x, epsilon=epsilon)\n",
    "        exact = log(1+x)\n",
    "        exact_error = exact - approx\n",
    "        \n",
    "La salida de la llamada table2 (10) se convierte en\n",
    "\n",
    "    epsilon: 1e-04, exact error: 8.18e-04, n=55\n",
    "    epsilon: 1e-06, exact error: 9.02e-06, n=97\n",
    "    epsilon: 1e-08, exact error: 8.70e-08, n=142\n",
    "    epsilon: 1e-10, exact error: 9.20e-10, n=187\n",
    "    epsilon: 1e-12, exact error: 9.31e-12, n=233\n",
    "    \n",
    "Vemos que la estimación de épsilon es casi 10 veces más pequeña que el error exacto, independientemente del tamaño de **épsilon**. Como **epsilon** sigue el error exacto bastante bien en muchos órdenes de magnitud, podemos ver épsilon como una indicación útil del tamaño del error."
   ]
  },
  {
   "cell_type": "markdown",
   "metadata": {},
   "source": [
    "### 3.1.11 Doc cadenas\n",
    "\n",
    "Hay una convención en Python para insertar una cadena de documentación justo después de la línea de `def` de la definición de la función. La cadena de documentación, conocida como cadena de documentación, debe contener una breve descripción del propósito de la función y explicar cuáles son los distintos argumentos y valores de retorno. Las sesiones interactivas de un shell de Python también son comunes para ilustrar cómo se usa el código. Las cadenas de documentos generalmente están entre comillas dobles \"\" \", que permiten que la cadena abarque varias líneas.\n",
    "\n",
    "Aquí hay dos ejemplos de cadenas de documentos cortas y largas:"
   ]
  },
  {
   "cell_type": "code",
   "execution_count": 99,
   "metadata": {},
   "outputs": [],
   "source": [
    "def C2F(C):\n",
    "    \"\"\"Convert Celsius degrees (C) to Fahrenheit.\"\"\"\n",
    "    return (9.0/5)*C + 32\n",
    "\n",
    "\n",
    "def line(x0, y0, x1, y1):\n",
    "    \"\"\"\n",
    "    Compute the coefficients a and b in the mathematical\n",
    "    expression for a straight line y = a*x + b that goes\n",
    "    through two points (x0, y0) and (x1, y1).\n",
    "    \n",
    "    x0, y0: a point on the line (floats).\n",
    "    x1, y1: another point on the line (floats).\n",
    "    return: coefficients a, b (floats) for the line (y=a*x+b).\n",
    "    \"\"\"\n",
    "    \n",
    "    a = (y1 - y0)/float(x1 - x0)\n",
    "    b = y0 - a*x0\n",
    "    return a, b"
   ]
  },
  {
   "cell_type": "markdown",
   "metadata": {},
   "source": [
    "Tenga en cuenta que la cadena de documentación debe aparecer antes de cualquier instrucción en el cuerpo de la función.\n",
    "\n",
    "Existen varias herramientas de Python que pueden extraer automáticamente cadenas de documentos desde el código fuente y producir varios tipos de documentación. La herramienta principal es Sphinx3, ver también `[14, Apéndice B.2].`\n",
    "\n",
    "Se puede acceder a la cadena de documentos en un código como `funcname .__ doc__`, donde `funcname` es el nombre de la función, por ejemplo,\n",
    "\n",
    "    print line.__doc__\n",
    "\n",
    "que imprime la documentación de la función de línea anterior:\n",
    "\n",
    "    Compute the coefficients a and b in the mathematical\n",
    "    expression for a straight line y = a*x + b that goes\n",
    "    through two points (x0, y0) and (x1, y1).\n",
    "    \n",
    "    x0, y0: a point on the line (float objects).\n",
    "    x1, y1: another point on the line (float objects).\n",
    "    return: coefficients a, b for the line (y=a*x+b).\n",
    "    \n",
    "Si la línea de función está en un archivo `funcs.py`, también podemos ejecutar `pydoc` funcs.line en una ventana de terminal para ver la documentación de la función de línea en términos de la firma de función y la cadena de documentos.\n",
    "\n",
    "Las cadenas de documentos a menudo contienen sesiones interactivas, copiadas desde un shell de Python, para ilustrar cómo se utiliza la función. Podemos agregar dicha sesión a la cadena doc en la función de línea:"
   ]
  },
  {
   "cell_type": "code",
   "execution_count": 102,
   "metadata": {},
   "outputs": [],
   "source": [
    "def line(x0, y0, x1, y1):\n",
    "    \"\"\"\n",
    "    Compute the coefficients a and b in the mathematical\n",
    "    expression for a straight line y = a*x + b that goes\n",
    "    through two points (x0,y0) and (x1,y1).\n",
    "    \n",
    "    x0, y0: a point on the line (float).\n",
    "    x1, y1: another point on the line (float).\n",
    "    return: coefficients a, b (floats) for the line (y=a*x+b).\n",
    "    \n",
    "    Example:\n",
    "    >>> a, b = line(1, -1, 4, 3)\n",
    "    >>> a\n",
    "    1.3333333333333333\n",
    "    >>> b\n",
    "    -2.333333333333333\n",
    "    \"\"\"\n",
    "    \n",
    "    a = (y1 - y0)/float(x1 - x0)\n",
    "    b = y0 - a*x0\n",
    "    return a, b"
   ]
  },
  {
   "cell_type": "markdown",
   "metadata": {},
   "source": [
    "Una característica particularmente interesante es que todas estas sesiones interactivas en cadenas de documentos pueden ejecutarse automáticamente, y los resultados nuevos se comparan con los resultados encontrados en las cadenas de documentos. Esto hace posible utilizar sesiones interactivas en cadenas de documentos tanto para ejemplificar cómo se usa el código como para probar que el código funciona.\n",
    "\n",
    "---\n",
    "\n",
    "### Función de entrada y salida.\n",
    "\n",
    "Es una convención en Python que los argumentos de la función representan los datos de entrada a la función, mientras que los objetos devueltos representan los datos de salida. Podemos dibujar una función general de Python como\n",
    "\n",
    "    def somefunc(i1, i2, i3, io4, io5, i6=value1, io7=value2):\n",
    "        # modify io4, io5, io6; compute o1, o2, o3\n",
    "        return o1, o2, o3, io4, io5, io7\n",
    "\n",
    "Aquí i1, i2, i3 son argumentos posicionales que representan datos de entrada; io4 y io5 son argumentos posicionales que representan datos de entrada y salida; i6 y io7 son argumentos de palabras clave que representan datos de entrada y de entrada / salida, respectivamente; y o1, o2 y o3 son objetos computados en la función, que representan datos de salida junto con io4, io5 y io7. Todos los ejemplos más adelante en el libro harán uso de esta convención.\n",
    "\n",
    "---"
   ]
  },
  {
   "cell_type": "markdown",
   "metadata": {},
   "source": [
    "### 3.1.12 Funciones como argumentos de funciones.\n",
    "\n",
    "Los programas que hacen cálculos con frecuencia necesitan tener funciones como argumentos en funciones. Por ejemplo, se necesita una función matemática f (x) en las funciones de Python para\n",
    "\n",
    "- búsqueda de raíz numérica: resuelva $f(x)=0$ aproximadamente (Secciones 4.10.2 y A.1.10)\n",
    "\n",
    "\n",
    "- diferenciación numérica: calcular $f'(x)$ aproximadamente (Secciones B.2 y 7.3.2)\n",
    "\n",
    "- integración numérica: calcular $\\int\\limits_{a}^{b}f(x)dx$ aproximadamente (Secciones B.3 y 7.3.3)\n",
    "\n",
    "- Solución numérica de ecuaciones diferenciales: $\\frac{dx}{dt}=f(x)$ (Apéndice E)\n",
    "\n",
    "En tales funciones de Python necesitamos tener la función f (x) como un argumento f. Esto es sencillo en Python y casi no necesita explicación, pero en la mayoría de los otros lenguajes se deben usar construcciones especiales para transferir una función a otra función como argumento.\n",
    "\n",
    "Como ejemplo, considere una función para calcular la derivada de segundo orden de una función $f(x)$ numéricamente:\n",
    "\n",
    "$$\n",
    "f''(x) \\approx \\frac{f(x-h)-2f(x)+f(x+h)}{h^2}\n",
    "$$\n",
    "\n",
    "donde h es un número pequeño. La aproximación (3.3) se vuelve exacta en el límite $h \\to 0$. Una función de Python para computación (3.3) se puede implementar de la siguiente manera:"
   ]
  },
  {
   "cell_type": "code",
   "execution_count": 103,
   "metadata": {},
   "outputs": [],
   "source": [
    "def diff2nd(f, x, h=1E-6):\n",
    "    r = (f(x-h) - 2*f(x) + f(x+h))/float(h*h)\n",
    "    return (r)"
   ]
  },
  {
   "cell_type": "markdown",
   "metadata": {},
   "source": [
    "El argumento f es como cualquier otro argumento, es decir, un nombre para un objeto, aquí un objeto de función que podemos llamar como normalmente llamamos funciones. Una aplicación de `diff2nd` puede ser"
   ]
  },
  {
   "cell_type": "code",
   "execution_count": 108,
   "metadata": {},
   "outputs": [
    {
     "name": "stdout",
     "output_type": "stream",
     "text": [
      "g(1.200000) = 9.767798\n"
     ]
    }
   ],
   "source": [
    "def g(t):\n",
    "    return t**(-6)\n",
    "t = 1.2\n",
    "d2g = diff2nd(g, t)\n",
    "print (\"g(%f) = %f\" % (t, d2g))"
   ]
  },
  {
   "cell_type": "markdown",
   "metadata": {},
   "source": [
    "**El comportamiento de la derivada numérica como** $h \\to  0$. A partir de las matemáticas, sabemos que la fórmula de aproximación (3.3) se vuelve más precisa a medida que h disminuye. Intentemos demostrar esta característica esperada haciendo una tabla de la derivada de segundo orden de $g(t)=t^{-6}$ en $t=1$ como $h \\to 0$:\n"
   ]
  },
  {
   "cell_type": "code",
   "execution_count": 109,
   "metadata": {},
   "outputs": [
    {
     "name": "stdout",
     "output_type": "stream",
     "text": [
      "h=1e-01: 44.61504\n",
      "h=1e-02: 42.02521\n",
      "h=1e-03: 42.00025\n",
      "h=1e-04: 42.00000\n",
      "h=1e-05: 41.99999\n",
      "h=1e-06: 42.00074\n",
      "h=1e-07: 41.94423\n",
      "h=1e-08: 47.73959\n",
      "h=1e-09: -666.13381\n",
      "h=1e-10: 0.00000\n",
      "h=1e-11: 0.00000\n",
      "h=1e-12: -666133814.77509\n",
      "h=1e-13: 66613381477.50939\n",
      "h=1e-14: 0.00000\n"
     ]
    }
   ],
   "source": [
    "for k in range(1,15):\n",
    "    h = 10**(-k)\n",
    "    d2g = diff2nd(g, 1, h)\n",
    "    print (\"h=%.0e: %.5f\" % (h, d2g))"
   ]
  },
  {
   "cell_type": "markdown",
   "metadata": {},
   "source": [
    "Con $g(t)= t^{-6}$, la respuesta exacta es $g''(1)=42$, pero para $h<10^{-8}$, los cálculos dan respuestas totalmente erróneas! El problema es que para la pequeña h en una computadora, los errores de redondeo en la fórmula (3.3) explotan y destruyen la precisión. ¡El resultado matemático que (3.3) se convierte en una aproximación cada vez mejor a medida que h se hace más y más pequeño no se mantiene en una computadora! O más precisamente, el resultado se mantiene hasta que h en el presente caso alcanza $10^{-4}$.\n",
    "\n",
    "La razón de la inexactitud es que el numerador en (3.3) para $g(t)= t^{-6}$ y $t=1$ contiene la resta de cantidades que son casi iguales. El resultado es un número muy pequeño e inexacto. La inexactitud se magnifica por h 2, un número que se vuelve muy grande para h pequeña.\n",
    "\n",
    "El cambio de los números de punto flotante estándar (`float`) a números con alta precisión arbitraria resuelve el problema. Python tiene un módulo decimal que puede usarse para este propósito. El archivo `high_precision.py` resuelve el problema actual utilizando aritmética basada en el módulo decimal. Con 25 dígitos en x y h dentro de la función de diferencia, obtenemos resultados precisos para $h \\leq 10^{-13}$. Sin embargo, para la mayoría de las aplicaciones prácticas de (3.3), una h moderadamente pequeña, digamos $10^{-3} \\leq h \\leq 10^{-4}$, da La precisión suficiente y luego los errores de redondeo de los cálculos de `float` no plantean problemas. Las aplicaciones de la ciencia o la ingeniería en el mundo real generalmente tienen muchos parámetros con incertidumbre, lo que hace que el resultado final también sea incierto, y las fórmulas como (3.3) se pueden calcular con una precisión moderada sin afectar la incertidumbre general en las respuestas."
   ]
  },
  {
   "cell_type": "markdown",
   "metadata": {},
   "source": [
    "### 3.1.13 El programa principal\n",
    "\n",
    "En los programas que contienen funciones, a menudo nos referimos a una parte del programa que se llama el programa principal. Esta es la recopilación de todas las declaraciones fuera de las funciones, más la definición de todas las funciones. Veamos un programa completo:"
   ]
  },
  {
   "cell_type": "code",
   "execution_count": 110,
   "metadata": {},
   "outputs": [
    {
     "name": "stdout",
     "output_type": "stream",
     "text": [
      "f(2)=-1.20319e-15\n"
     ]
    }
   ],
   "source": [
    "from math import *\n",
    "\n",
    "def f(x):\n",
    "    e = exp(-0.1*x)\n",
    "    s = sin(6*pi*x)\n",
    "    return e*s\n",
    "x= 2\n",
    "y = f(x)\n",
    "print (\"f(%g)=%g\" % (x, y))"
   ]
  },
  {
   "cell_type": "markdown",
   "metadata": {},
   "source": [
    "\n",
    "El programa principal aquí consiste en las líneas con un comentario `in main`. La ejecución siempre comienza con la primera línea en el programa principal. Cuando se encuentra una función, sus declaraciones solo se usan para definir la función: nada se computa dentro de la función antes de que llamemos explícitamente a la función, ya sea desde el programa principal o desde otra función. Todas las variables inicializadas en el programa principal se convierten en variables globales (consulte la Sección 3.1.3).\n",
    "\n",
    "El flujo del programa en el programa anterior es el siguiente:\n",
    "\n",
    "- Importar funciones desde el módulo `math`, \n",
    "- definir una función f (x),\n",
    "- definir x,\n",
    "- llamar fy ejecutar el cuerpo de la función,\n",
    "- defina y como el valor devuelto por f, \n",
    "- imprima la cadena.\n",
    "\n",
    "En el punto 4, saltamos a la función f y ejecutamos la instrucción dentro de esa función por primera vez. Luego volvemos al programa principal y asignamos el objeto `float` devuelto desde f a la variable y.\n",
    "\n",
    "Los lectores que no estén seguros sobre el flujo del programa y los saltos entre el programa principal y las funciones deben usar un depurador o el Tutor de Python en línea como se explica en la Sección 3.1.2."
   ]
  },
  {
   "cell_type": "markdown",
   "metadata": {},
   "source": [
    "### 3.1.14 funciones Lambda\n",
    "\n",
    "Hay una rápida construcción de funciones de una línea que a menudo es conveniente para hacer que el código Python sea compacto:"
   ]
  },
  {
   "cell_type": "code",
   "execution_count": 111,
   "metadata": {},
   "outputs": [],
   "source": [
    "f = lambda x: x**2 + 4"
   ]
  },
  {
   "cell_type": "markdown",
   "metadata": {},
   "source": [
    "Esta llamada función lambda es equivalente a escribir"
   ]
  },
  {
   "cell_type": "code",
   "execution_count": 112,
   "metadata": {},
   "outputs": [],
   "source": [
    "def f(x):\n",
    "    return x** + 4"
   ]
  },
  {
   "cell_type": "markdown",
   "metadata": {},
   "source": [
    "en general,"
   ]
  },
  {
   "cell_type": "code",
   "execution_count": 118,
   "metadata": {},
   "outputs": [],
   "source": [
    "def g (arg1, arg2, arg3,):\n",
    "    return expression"
   ]
  },
  {
   "cell_type": "markdown",
   "metadata": {},
   "source": [
    "puede ser escrito como:"
   ]
  },
  {
   "cell_type": "code",
   "execution_count": 120,
   "metadata": {},
   "outputs": [],
   "source": [
    "g = lambda arg1, arg2, arg3: expression"
   ]
  },
  {
   "cell_type": "markdown",
   "metadata": {},
   "source": [
    "Las funciones Lambda se usan generalmente para definir rápidamente una función como argumento de otra función. Considere, como ejemplo, la función `diff2nd` de la Sección 3.1.12. En el ejemplo de ese capítulo queremos diferenciar $g(t)=t^{-6}$ dos veces y primero hacer una función de Python g (t) y luego enviar este g a `diff2nd` como argumento. Podemos omitir el paso definiendo la función g(t) y, en su lugar, insertar una función lambda como el argumento f en la llamada a `diff2nd`:"
   ]
  },
  {
   "cell_type": "code",
   "execution_count": 121,
   "metadata": {},
   "outputs": [],
   "source": [
    "d2 = diff2nd (lambda t: t ** (- 6), 1, h = 1E-4)"
   ]
  },
  {
   "cell_type": "markdown",
   "metadata": {},
   "source": [
    "Debido a que las funciones lambda ahorran bastante escritura, al menos para funciones muy pequeñas, son populares entre muchos programadores.\n",
    "\n",
    "Las funciones Lambda también pueden tomar argumentos de palabras clave. Por ejemplo,"
   ]
  },
  {
   "cell_type": "code",
   "execution_count": 122,
   "metadata": {},
   "outputs": [],
   "source": [
    "d2 = diff2nd(lambda t, A=1, a=0.5: -a*2*t*A*exp(-a*t**2), 1.2)"
   ]
  },
  {
   "cell_type": "markdown",
   "metadata": {},
   "source": [
    "## 3.2 Ramificación\n",
    "\n",
    "El flujo de programas de computadora a menudo necesita ramificarse. Es decir, si se cumple una condición, hacemos una cosa, y si no, hacemos otra cosa. Un ejemplo simple es una función definida como\n",
    "\n",
    "$$\n",
    "f(x) =\\left\\{\\begin{array}{ll}\\sin x,  & \\mbox{} 0 \\leq x \\leq \\pi \\\\{0,} & \\mbox{} otherwise \\end{array}\\right.\n",
    "$$\n",
    "\n",
    "En una implementación de Python de esta función, necesitamos probar el valor de x, que se puede hacer como se muestra a continuación:\n"
   ]
  },
  {
   "cell_type": "code",
   "execution_count": 123,
   "metadata": {},
   "outputs": [],
   "source": [
    "def f(x):\n",
    "    if 0 <= x <= pi:\n",
    "        value = sin(x)\n",
    "    else:\n",
    "        value = 0 \n",
    "    return valu"
   ]
  },
  {
   "cell_type": "markdown",
   "metadata": {},
   "source": [
    "### 3.2.1 Bloques if-else\n",
    "\n",
    "La estructura general de una prueba if-else es if condition:\n",
    "\n",
    "    if condition:\n",
    "        <block of statements, executed if condition is True> \n",
    "    else:\n",
    "        <block of statements, executed if condition is False>\n",
    "    \n",
    "Cuando la condición se evalúa como `True`, el flujo del programa se ramifica en el primer bloque de declaraciones. Si la condición es `False`, el flujo del programa salta al segundo bloque de instrucciones, después de la línea else :. Al igual que con `while` y `for` los bucles, el bloque de sentencias está sangrado. Aquí hay otro ejemplo:"
   ]
  },
  {
   "cell_type": "code",
   "execution_count": 125,
   "metadata": {},
   "outputs": [
    {
     "name": "stdout",
     "output_type": "stream",
     "text": [
      "140.0\n",
      "end of program\n"
     ]
    }
   ],
   "source": [
    "if C < -273.15:\n",
    "    print (\"%g degrees Celsius is non-physical!\" % C)\n",
    "    print (\"The Fahrenheit temperature will not be computed.\")\n",
    "else:\n",
    "    F = 9.0/5*C + 32 \n",
    "    print (F)\n",
    "print (\"end of program\")"
   ]
  },
  {
   "cell_type": "markdown",
   "metadata": {},
   "source": [
    "Las dos declaraciones de impresión en el bloque if se ejecutan si y solo si **C < -273.15** se evalúa como `True`. De lo contrario, saltamos sobre las dos primeras declaraciones de impresión y realizamos el cálculo y la impresión de F. La impresión del final del programa se llevará a cabo independientemente del resultado de la prueba `if`, ya que esta declaración no tiene sangría y, por lo tanto, no es una parte de la prueba de bloque `if` o el bloque `else`.\n",
    "\n",
    "La otra parte de una prueba if se puede omitir, si se desea: \n",
    "\n",
    "    if condition:\n",
    "        <block of statements>\n",
    "    <next statement>\n",
    "\n",
    "por ejemplo"
   ]
  },
  {
   "cell_type": "code",
   "execution_count": 128,
   "metadata": {},
   "outputs": [],
   "source": [
    "if C < -273.15:\n",
    "    print (\"’%s degrees Celsius is non-physical!’\" % C)\n",
    "F = 9.0/5*C + 32"
   ]
  },
  {
   "cell_type": "markdown",
   "metadata": {},
   "source": [
    "En este caso, el cálculo de F siempre se llevará a cabo, ya que la instrucción no tiene sangría y, por lo tanto, no forma parte del bloque if.\n",
    "Con la palabra clave `elif`, abreviatura de \"`else if`\", podemos tener varias pruebas mutuamente excluyentes, lo que permite múltiples ramificaciones del programa.\n",
    "\n",
    "    if condition1:\n",
    "        <block of statements>\n",
    "    elif condition2:\n",
    "        <block of statements>\n",
    "    elif condition3:\n",
    "        <block of statements>\n",
    "    else:<block of statements> <next statement>\n",
    "    \n",
    "La última parte `else` se puede omitir si no es necesario. Para ilustrar las ramificaciones múltiples, implementaremos una función de sombrero, que se usa ampliamente en simulaciones por computadora avanzadas en ciencia e industria. Un ejemplo de una función de sombrero es:\n",
    "\n",
    "$$\n",
    "f(x) =\\left\\{\\begin{array}\n",
    "\\\\0,  & \\mbox{} x < 0 \n",
    "\\\\\n",
    "{x,} & \\mbox{} 0 \\leq x < 1\n",
    "\\\\\n",
    "{2-x,} & \\mbox{} 1 \\leq x < 2\n",
    "\\\\\n",
    "{0,} & \\mbox{} x \\geq 2\n",
    "\\end{array}\\right.\n",
    "$$\n",
    "\n",
    "La línea continua en la Figura 5.9 en la Sección 5.4.1 ilustra la forma de esta función y por qué se llama una función de sombrero. La implementación de Python asociada con (3.5) necesita múltiples ramas `if`:"
   ]
  },
  {
   "cell_type": "code",
   "execution_count": 129,
   "metadata": {},
   "outputs": [],
   "source": [
    "def N(x):\n",
    "    if x < 0:\n",
    "        return 0.0\n",
    "    elif 0 <= x < 1:\n",
    "        return x\n",
    "    elif 1 <= x < 2:\n",
    "        return 2 - x\n",
    "    elif x >= 2:\n",
    "        return 0"
   ]
  },
  {
   "cell_type": "markdown",
   "metadata": {},
   "source": [
    "Este código corresponde directamente a la especificación matemática, que es una estrategia sólida que ayuda a reducir la cantidad de errores en los programas. Podríamos mencionar que hay otra forma de construir la prueba if que resulta en un código más corto"
   ]
  },
  {
   "cell_type": "code",
   "execution_count": 130,
   "metadata": {},
   "outputs": [],
   "source": [
    "def N(x):\n",
    "    if 0 <= x < 1:\n",
    "        return x\n",
    "    elif 1 <= x < 2:\n",
    "        return 2 - x\n",
    "    else:\n",
    "        return 0"
   ]
  },
  {
   "cell_type": "markdown",
   "metadata": {},
   "source": [
    "Como parte de aprender a programar, entender este último código de ejemplo es importante, pero recomendamos la primera solución debido a su similitud directa con la definición matemática de la función.\n",
    "\n",
    "Una regla de programación popular es evitar múltiples declaraciones de devolución en una función, solo debería haber una devolución al final. Podemos hacerlo en la función N introduciendo una variable local, asignando valores a esta variable en los bloques y devolviendo la variable al final. Sin embargo, no creemos que una variable adicional y una línea adicional hagan una gran mejora en una función tan corta. Sin embargo, en funciones largas y complicadas, la regla puede ser útil."
   ]
  },
  {
   "cell_type": "markdown",
   "metadata": {},
   "source": [
    "### 3.2.2 Pruebas Inline if\n",
    "\n",
    "A una variable se le suele asignar un valor que depende de una expresión booleana. Esto se puede codificar usando una prueba común `if-else`:\n",
    "\n",
    "\n",
    "       if condicion:\n",
    "            a = value1\n",
    "       else:\n",
    "            a = value2\n",
    "    \n",
    "Debido a que esta construcción es a menudo necesaria, Python proporciona una sintaxis de una línea para las cuatro líneas anteriores:\n",
    "\n",
    "     a = (valor1 si condición más valor2)\n",
    "\n",
    "Los paréntesis no son necesarios, pero el estilo recomendado. Un ejemplo es\n",
    "\n",
    "    def f(x):\n",
    "        return (sin (x) if 0 <= x <= 2*pi else 0)\n",
    " \n",
    "Dado que la línea si la prueba es una expresión con un valor, se puede usar en las funciones lambda:\n",
    "\n",
    "    f = lambda x: sin (x) si 0 <= x <= 2 * pi más 0\n",
    "\n",
    "La construcción tradicional `if-else` con bloques con sangría no se puede usar dentro de las funciones lambda porque no es solo una expresión (las funciones lambda no pueden tener sentencias dentro de ellas, solo una expresión).\n"
   ]
  },
  {
   "cell_type": "markdown",
   "metadata": {},
   "source": [
    "### 3.3 Mezcla de bucles, ramificaciones y funciones en ejemplos de bioinformática\n",
    "\n",
    "La vida es definitivamente digital. El código genético de todos los organismos vivos está representado por una larga secuencia de moléculas simples llamadas nucleótidos o bases, que forman el ácido desoxirribonucleico, mejor conocido como ADN. Solo hay cuatro de estos nucleótidos, y el código genético completo de un ser humano puede verse como una simple, aunque de 3 mil millones de longitud, de las letras A, C, G y T. Analizar los datos de ADN para obtener un mayor entendimiento biológico es mucho más sobre la búsqueda en cadenas largas de ciertos patrones de cuerdas que incluyen las letras A, C, G y T. Esta es una parte integral de la bioinformática, una disciplina científica que aborda el uso de las computadoras para buscar, explorar y usar información sobre genes, nucleic ácidos y proteínas.\n",
    "\n",
    "El software líder de Python para aplicaciones de bioinformática es BioPython4. Los ejemplos en este libro (a continuación y en las Secciones 6.5, 8.3.4 y 9.5) son ilustraciones simples del tipo de configuración de problemas y las implementaciones correspondientes de Python que se encuentran en la bioinformática. Para la solución de problemas del mundo real, se debe utilizar BioPython, pero las secciones a continuación actúan como una introducción a lo que hay dentro de paquetes como BioPython.\n",
    "\n",
    "Comenzamos con algunos ejemplos muy simples sobre análisis de ADN que reúnen bloques de construcción básicos en la programación: bucles, pruebas y funciones.\n",
    "\n",
    "http://biopython.org"
   ]
  },
  {
   "cell_type": "markdown",
   "metadata": {},
   "source": [
    "### 3.3.1 Contar letras en cadenas de ADN\n",
    "\n",
    "Dada una secuencia de ADN que contiene las letras A, C, G o T, que representan las bases que conforman el ADN, nos preguntamos: ¿cuántas veces ocurre una cierta base en la cadena de ADN? Por ejemplo, si dna es ATGGCATTA y preguntamos cuántas veces ocurre la base A en esta cadena, la respuesta es 3.\n",
    "\n",
    "Una implementación general de Python que responde a este problema se puede hacer de muchas maneras. A continuación se presentan varias soluciones posibles.\n",
    "\n",
    "**Lista de iteraciones**. La solución más sencilla es recorrer las letras en la cadena, probar si la letra actual es igual a la deseada, y si es así, aumentar un contador. Pasar por encima de las letras es obvio si las letras están almacenadas en una lista. Esto se hace fácilmente convirtiendo una cadena en una lista:"
   ]
  },
  {
   "cell_type": "code",
   "execution_count": 2,
   "metadata": {},
   "outputs": [
    {
     "data": {
      "text/plain": [
       "['A', 'T', 'G', 'C']"
      ]
     },
     "execution_count": 2,
     "metadata": {},
     "output_type": "execute_result"
    }
   ],
   "source": [
    "list(\"ATGC\")"
   ]
  },
  {
   "cell_type": "code",
   "execution_count": 3,
   "metadata": {},
   "outputs": [],
   "source": [
    "def count_v1(dna, base):\n",
    "    dna = list(dna)       # convert string to list of letters\n",
    "    i = 0                 # counte r\n",
    "    for c in dna:\n",
    "        if c == bse:\n",
    "            i += 1\n",
    "    return 1"
   ]
  },
  {
   "cell_type": "markdown",
   "metadata": {},
   "source": [
    "**Iteración de cadenas** Python nos permite iterar directamente sobre una cadena sin convertirla en una lista:"
   ]
  },
  {
   "cell_type": "code",
   "execution_count": 4,
   "metadata": {},
   "outputs": [
    {
     "name": "stdout",
     "output_type": "stream",
     "text": [
      "A\n",
      "T\n",
      "G\n",
      "C\n"
     ]
    }
   ],
   "source": [
    "for c in \"ATGC\":\n",
    "    print(c)"
   ]
  },
  {
   "cell_type": "markdown",
   "metadata": {},
   "source": [
    "De hecho, todos los objetos incorporados en Python que contienen un conjunto de elementos en una secuencia particular permiten una construcción de bucle for del tipo para elemento en objeto.\n",
    "\n",
    "\n",
    "Una ligera mejora de nuestra solución es, por lo tanto, iterar directamente sobre la cadena:\n",
    "\n",
    "    def count_v2(dna, base):\n",
    "        i = 0 # counter\n",
    "        for c in dna:\n",
    "            if c == base:\n",
    "                i += 1\n",
    "        return i\n",
    "    dna = ’ATGCGGACCTAT’\n",
    "    \n",
    "     base = ’C’\n",
    "     n = count_v2(dna, base)\n",
    "    \n",
    "    # printf-style formatting\n",
    "    print ’%s appears %d times in %s’ % (base, n, dna)\n",
    "    \n",
    "    # or (new) format string syntax\n",
    "    print ’{base} appears {n} times in {dna}’.format(\n",
    "        base=base, n=n, dna=dna)\n",
    "        \n",
    "Aquí hemos ilustrado dos formas alternativas de escribir texto donde el valor de las variables se insertará en las \"ranuras\" de la cadena.\n",
    "\n",
    "**Índice de iteración**. Aunque es natural en Python iterar sobre las letras en una cadena (o más generalmente sobre elementos en una secuencia), los programadores con experiencia en otros lenguajes (Fortran, C y Java son ejemplos) se utilizan para bucles con un contador entero en ejecución sobre todos los índices en una cadena o matriz:\n",
    "\n",
    "    def count_v3(dna, base):\n",
    "        i = 0 # counter\n",
    "    for j in range(len(dna)):\n",
    "        if dna[j] == base:\n",
    "    return ii += 1\n",
    "    \n",
    "Los índices de Python siempre comienzan en 0, por lo que los índices legales para nuestra cadena se convierten en 0, 1, ..., `len(dna)-1`, donde `len(dna)` es el número de letras en la cadena dna. La función `range(x)` devuelve una lista de enteros 0, 1, ..., x-1, lo que implica que `range(len(dna))` genera todos los índices legales para dna.\n",
    "\n",
    "**While loops**. El bucle `while` equivalente a la última función lee\n",
    "\n",
    "    def count_v4(dna, base):\n",
    "        i = 0 # counter\n",
    "        j = 0 # string index\n",
    "        \n",
    "        while j < len(dna):\n",
    "            if dna[j] == base:\n",
    "                i += 1\n",
    "            j +=i\n",
    "        return i\n",
    "\n",
    "La sangría correcta es crucial aquí: un error típico es fallar la sangría j += 1 línea correctamente.\n",
    "\n",
    "**Sumando una lista booleana**. La idea ahora es crear una lista m donde `m[i]` sea Verdadero si `dna[i]` es igual a la letra que buscamos (`base`). El número de valores verdaderos en m es el número de letras base en ADN. Podemos usar la función de suma para encontrar este número porque hacer aritmética con listas booleanas interpreta automáticamente `True` como 1 y `False` como 0. Es decir, `sum(m)` devuelve el número de elementos `True` en m. Una posible función para hacer esto es\n",
    "\n",
    "    def count_v5(dna, base):\n",
    "            m = []   # matches for base in dna:\n",
    "                     #m[i]=True if dna[i]==base\n",
    "            for c in dna:\n",
    "                if c == base:\n",
    "                    m.append(True)\n",
    "            else:\n",
    "                m.append(False)\n",
    "        return sum(m)\n",
    "\n",
    "\n",
    "**Inline if test**  . Un código más corto y más compacto suele ser un objetivo si la compacidad mejora la legibilidad. La prueba de cuatro líneas si en la función anterior se puede condensar en una línea utilizando la línea si construcción: `if condition value1 else value2.`\n",
    "\n",
    "\n",
    "    def count_v6(dna, base):\n",
    "        m = []   # matches for base in dna: m[i]=True if dna[i]==base\n",
    "        for c in dna:\n",
    "            m.append(True if c == base else False)\n",
    "        return sum(m)\n",
    "\n",
    "\n",
    "**Usando valores booleanos directamente**. La línea si la prueba es de hecho redundante en la función anterior porque el valor de la condición `c==base` se puede usar directamente: tiene el valor `True` o `False`. Esto ahorra algo de escritura y agrega claridad, al menos a los programadores de Python con algo de experiencia:\n",
    "\n",
    "    def count_v7(dna, base):\n",
    "        m = []   # matches for base in dna: m[i]=True if dna[i]==base\n",
    "        for c in dna:\n",
    "            m.append(c == base)\n",
    "        return sum(m)\n",
    "        \n",
    "**Lista de comprensiones**. La construcción de una lista con la ayuda de un bucle for a menudo se puede condensar en una sola línea utilizando las comprensiones de listas: `[expr for e in sequence]`, donde `expr` es una expresión que normalmente involucra la variable de iteración e. En nuestro último ejemplo, podemos introducir una lista de comprensión.\n",
    "\n",
    "    def count_v8(dna, base):\n",
    "        m = [c == base for c in dna]\n",
    "        return sum(m)\n",
    "        \n",
    "Aquí es tentador deshacerse de la variable m y reducir el cuerpo de la función a una sola línea:\n",
    "\n",
    "    def count_v9(dna, base):\n",
    "        return sum([c==base for c in dna])\n",
    " \n",
    "**Usando un iterador de suma**. La cadena de ADN suele ser enorme: 3 mil millones de letras para la especie humana. Hacer una matriz booleana con valores `True` y `False` aumenta el uso de memoria en un factor de dos en nuestras funciones de muestra count_v5 a count_v9. Es deseable sumar sin almacenar realmente una lista adicional. Afortunadamente, la `sum([x for x in s])` se puede reemplazar por `sum(x for x in s)`, donde la última suma los elementos en **s** cuando **x** visita los elementos de **s** uno por uno. Quitar los corchetes, por lo tanto, evita hacer primero una lista antes de aplicar la suma a esa lista. Esta es una modificación menor de la función count_v9:\n",
    "\n",
    "    def count_v10(dna, base):\n",
    "            return sum(c == base for c in dna)\n",
    "\n",
    "A continuación, mediremos el impacto de las diversas construcciones de programas en el tiempo de CPU.\n",
    "\n",
    "**Extracción de índices**. En lugar de hacer una lista booleana con elementos que expresan si una letra coincide con la base dada o no, podemos recopilar todos los índices de las coincidencias. Esto se puede hacer agregando una prueba if a la comprensión de la lista:\n",
    "\n",
    "    def count_v11(dna, base):\n",
    "            return len([i for i in range(len(dna)) if dna[i] == base])\n",
    "\n",
    "El Online Python Tutor(5) es realmente útil para comprender este código compacto. Alternativamente, puedes jugar con las construcciones en un shell de Python interactivo:"
   ]
  },
  {
   "cell_type": "code",
   "execution_count": 6,
   "metadata": {},
   "outputs": [
    {
     "data": {
      "text/plain": [
       "[0, 1, 7]"
      ]
     },
     "execution_count": 6,
     "metadata": {},
     "output_type": "execute_result"
    }
   ],
   "source": [
    "dna = \"AATGCTTA\"\n",
    "base = \"A\"\n",
    "indices = [i for i in range(len(dna)) if dna[i]==base]\n",
    "indices"
   ]
  },
  {
   "cell_type": "code",
   "execution_count": 7,
   "metadata": {},
   "outputs": [
    {
     "name": "stdout",
     "output_type": "stream",
     "text": [
      "A A A\n"
     ]
    }
   ],
   "source": [
    "print (dna[0], dna[1], dna[7]) # check"
   ]
  },
  {
   "cell_type": "markdown",
   "metadata": {},
   "source": [
    "Observe que el elemento i en la lista de comprensión solo está hecho para aquellos i donde `dna[i]==base`.\n",
    "\n",
    "**Usando la biblioteca de Python**. Muy a menudo, cuando se propone realizar una tarea en Python, ya existe una funcionalidad para la tarea en el propio objeto, en las bibliotecas de Python o en bibliotecas de terceros que se encuentran en Internet. Contar cuántas veces aparece una base de letra (o subcadena) en un ADN de cadena es obviamente una tarea muy común, por lo que Python lo admite con la sintaxis dna.count (base):\n",
    "\n",
    "    def count_v12(dna, base):\n",
    "            return dna.count(base)\n",
    "            \n",
    "    def compare_efficiency():"
   ]
  },
  {
   "cell_type": "markdown",
   "metadata": {},
   "source": [
    "### 3.3.2 Evaluación de la eficiencia\n",
    "\n",
    "Ahora tenemos 11 versiones diferentes de cómo contar las ocurrencias de una letra en una cadena. ¿Cuál de estas implementaciones es la más rápida? Para responder a la pregunta, necesitamos algunos datos de prueba, que deberían ser un ADN de cadena enorme.\n",
    "\n",
    "**Generando cadenas de ADN aleatorias**. La forma más sencilla de generar una cadena larga es repetir un carácter una gran cantidad de veces:"
   ]
  },
  {
   "cell_type": "code",
   "execution_count": 8,
   "metadata": {},
   "outputs": [],
   "source": [
    "N = 1000000\n",
    "dna = \"A\" * N"
   ]
  },
  {
   "cell_type": "markdown",
   "metadata": {},
   "source": [
    "La cadena resultante es solo 'AAA ... A, de longitud N, que está bien para probar la eficiencia de las funciones de Python. Sin embargo, es más emocionante trabajar con una cadena de ADN con letras de todo el alfabeto A, C, G y T. Para hacer una cadena de ADN con una composición aleatoria de letras, primero podemos hacer una lista de letras al azar y luego une todas esas letras a una cadena:\n",
    "\n",
    "    import random\n",
    "    alphabet = list(’ATGC’)\n",
    "    dna = [random.choice(alphabet) for i in range(N)]\n",
    "    dna = ’’.join(dna)  # join the list elements to a string\n",
    "    \n",
    "La función `random.choice(x)` selecciona un elemento en la lista **x** al azar.\n",
    "\n",
    "Tenga en cuenta que N es muy a menudo un número grande. En la versión 2.x de Python, el `range(N)` genera una lista de N enteros. Podemos evitar la lista utilizando `xrange`, que genera un número entero a la vez y no toda la lista. En Python versión 3.x, la función de `range` es en realidad la función `xrange` en la versión 2.x. Al usar `xrange`, combinar las declaraciones y envolver la construcción de una cadena de ADN aleatoria en una función, se obtiene\n",
    "\n",
    "    import random\n",
    "    def generate_string(N, alphabet=’ACGT’):\n",
    "        return ’’.join([random.choice(alphabet) for i in xrange(N)])\n",
    "    dna = generate_string(6000000)\n",
    "\n",
    "La llamada `generate_string(10)` puede generar algo como AATGGCAGAA.\n",
    "\n",
    "`Medición del tiempo de CPU`. Nuestro siguiente objetivo es ver cuánto tiempo dedican las distintas funciones count_v * al contar letras en una cadena enorme, que se genera como se muestra arriba. La medición del tiempo empleado en un programa se puede realizar mediante el módulo de `time`:\n",
    "\n",
    "    import time\n",
    "    ...\n",
    "    t0 = time.clock()\n",
    "    # do stuff\n",
    "    t1 = time.clock()\n",
    "    cpu_time = t1 - t0\n",
    "    \n",
    "La función time.clock () devuelve el tiempo de CPU empleado en el programa desde su inicio. Si el interés está en el tiempo total, que también incluye la lectura y escritura de archivos, `time.time()` es la función adecuada para llamar.\n",
    "\n",
    "Pasando por todas nuestras funciones hechas hasta ahora y registrando los tiempos se puede hacer por\n",
    "\n",
    "    import time\n",
    "    functions = [count_v1, count_v2, count_v3, count_v4,\n",
    "                 count_v5, count_v6, count_v7, count_v8,\n",
    "                 count_v9, count_v10, count_v11, count_v12]\n",
    "    timings = []  # timings[i] holds CPU time for functions[i]\n",
    "    \n",
    "    for function in functions:\n",
    "        t0 = time.clock()\n",
    "        function(dna, ’A’\n",
    "    t1 = time.clock()\n",
    "    cpu_time = t1 - t0\n",
    "    timings.append(cpu_time)\n",
    "    \n",
    "En Python, las funciones son objetos ordinarios, por lo que hacer una lista de funciones no es más especial que hacer una lista de cadenas o números.\n",
    "\n",
    "Ahora podemos iterar sobre `timings` y `functions` simultáneamente a través de `zip` para hacer una buena impresión de los resultados:\n",
    "\n",
    "    for cpu_time, function in zip(timings, functions):\n",
    "        print ’{f:<9s}: {cpu:.2f} s’.format(\n",
    "        f=function.func_name, cpu=cpu_time)\n",
    "\n",
    "Los tiempos en una MacBook Air 11 que ejecuta Ubuntu muestran que las funciones que usan `list.append` requieren casi el doble de tiempo que las funciones que funcionan con las listas de comprensión. Aún más rápido es la iteración simple sobre la cadena. Sin embargo, la funcionalidad de conteo incorporada de cadenas (`dna.count(base)`) se ejecuta 30 veces más rápido que la mejor de nuestras funciones manuscritas de Python. La razón es que el bucle `for` necesario para contar en `dna.count(base)` se implementa en C y se ejecuta mucho más rápido que los bucles en Python.\n",
    "\n",
    "Una clara lección aprendida es: busque en Google antes de comenzar a implementar lo que parece ser una tarea bastante común. Es probable que otros ya lo hayan hecho por usted, y lo más probable es que su solución sea mucho mejor de lo que puede (fácilmente) proponer.\n",
    "\n",
    "(5) http://www.pythontutor.com/"
   ]
  },
  {
   "cell_type": "markdown",
   "metadata": {},
   "source": [
    "### 3.3.3 Verificación de las implementaciones\n",
    "\n",
    "Terminamos esta sección mostrando cómo realizar pruebas que verifiquen nuestras 12 funciones de conteo. Con este fin, creamos una nueva función que primero calcula una respuesta ciertamente correcta a un problema de conteo y luego llama a todas las funciones `count_*`, almacenadas en las `functions` de lista, para verificar que cada llamada tenga el resultado correcto:\n",
    "\n",
    "    def test_count_all():\n",
    "        dna = ’ATTTGCGGTCCAAA’\n",
    "        exact = dna.count(’A’)\n",
    "        for f in functions:\n",
    "            if f(dna, ’A’) != exact:\n",
    "                print f.__name__, ’failed’\n",
    "\n",
    "Aquí, creemos en dna.count ('A') como la respuesta correcta.\n",
    "\n",
    "Podríamos llevar esta función de prueba un paso más allá y adoptar la\n",
    "convenciones en los frameworks de prueba pytest(6) y nose(7) para el código Python. (Consulte la Sección H.6 para obtener más información sobre pytest y nose).\n",
    "\n",
    "Estas convenciones dicen que la función de prueba debería:\n",
    "\n",
    "* tiene un nombre que comienza con `test_`;\n",
    "* no tienen argumentos;\n",
    "* deje que una variable booleana, digamos `success`, sea `True` si una prueba pasa y `False` si la prueba falla;\n",
    "* cree un mensaje sobre lo que falló, almacenado en alguna cadena, por ejemplo, `msg`; \n",
    "* use la construcción `assert` `success`, `msg`, que abortará el programa y escriba el mensaje de error `msg` si el `success` es `False`\n",
    "\n",
    "Los marcos de prueba de pytest y nose pueden buscar todos los archivos de Python en un árbol de carpetas, ejecutar todas las funciones de `test_*` () e informar de cuántas pruebas fallaron, si adoptamos las convenciones anteriores. Nuestra función de prueba revisada se convierte en\n",
    "    \n",
    "    def test_count_all():\n",
    "        dna = ’ATTTGCGGTCCAAA’\n",
    "        exact = dna.count(’A’)\n",
    "        for f in functions:\n",
    "            success = f(dna, ’A’) == exact\n",
    "            msg = ’%s failed’ % f.__name__\n",
    "            assert success, msg\n",
    "\n",
    "Vale la pena notificar que el nombre de una función **f**, como un objeto de cadena, viene dado por `f.__name__`, y utilizamos esta información para construir un mensaje informativo en caso de que una prueba falle.\n",
    "\n",
    "Es un buen hábito escribir tales funciones de prueba, ya que la ejecución de todas las pruebas en todos los archivos se puede automatizar completamente. Cada vez que realice un cambio en algún archivo, puede hacer un mínimo de e -ort para ejecutar todas las pruebas.\n",
    "\n",
    "El conjunto completo de funciones presentadas anteriormente, incluidos los tiempos y las pruebas, se puede encontrar en el archivo `count.py`.\n",
    "\n",
    "(6) http://pytest.org\n",
    "(7) https://nose.readthedocs.org"
   ]
  },
  {
   "cell_type": "markdown",
   "metadata": {},
   "source": [
    "## 3.4 Resumen\n",
    "\n",
    "### 3.4.1 Temas del capítulo\n",
    "\n",
    "**Funciones definidas por el usuario**. Las funciones son útiles(i) cuando un conjunto de comandos se ejecutan varias veces, o (ii) para dividir el programa en partes más pequeñas para obtener una mejor visión general. Los argumentos de la función son variables locales dentro de la función cuyos valores se establecen al llamar a la función. Recuerda que cuando escribes la función, los valores de los argumentos no se conocen. Aquí hay un ejemplo de una función para polinomios de 2º grado:\n",
    "\n",
    "    # function definition:\n",
    "    def quadratic_polynomial(x, a, b, c)\n",
    "        value = a*x*x + b*x + c\n",
    "        derivative = 2*a*x + b\n",
    "        return value, derivative\n",
    "    \n",
    "    # function call:\n",
    "    x=1\n",
    "    p, dp = quadratic_polynomial(x, 2, 0.5, 1)\n",
    "    p, dp = quadratic_polynomial(x=x, a=-4, b=0.5, c=0)\n",
    "\n",
    "La secuencia de los argumentos es importante, a menos que todos los argumentos se den como `name=value`.\n",
    "\n",
    "Las funciones pueden no tener argumentos y / o ningún valor de retorno:\n",
    "\n",
    "    def print_date():\n",
    "        \"\"\"Print the current date in the format ’Jan 07, 2007’.\"\"\"\n",
    "        import time\n",
    "        print time.strftime(\"%b %d, %Y\")\n",
    "    # call:\n",
    "    print_date()\n",
    "\n",
    "Un error común es olvidar los paréntesis: `print_date` es el propio objeto de la función, mientras que `print_date()` es una llamada a la función.\n",
    "\n",
    "**Argumentos de palabras clave**. Los argumentos de función con valores predeterminados se denominan argumentos de palabras clave y ayudan a documentar el significado de los argumentos en las llamadas de función. También permiten especificar solo un subconjunto de los argumentos en las llamadas a funciones.\n",
    "\n",
    "    from math import exp, sin, pi\n",
    "    \n",
    "    def f(x, A=1, a=1, w=pi):\n",
    "        return A*exp(-a*x)*sin(w*x)\n",
    "    f1 = f(0)\n",
    "    x2 = 0.1\n",
    "    f2 = f(x2, w=2*pi)\n",
    "    f3 = f(x2, w=4*pi, A=10, a=0.1)\n",
    "    f4 = f(w=4*pi, A=10, a=0.1, x=x2)\n",
    "\n",
    "\n",
    "La secuencia de los argumentos de palabras clave puede ser arbitraria, y los argumentos de palabras clave que no se enumeran en la llamada obtienen sus valores predeterminados de acuerdo con la definición de la función. Los argumentos que no son palabras clave se denominan argumentos posicionales, que son x en este ejemplo. Los argumentos posicionales deben enumerarse antes de los argumentos de palabras clave. Sin embargo, también un argumento posicional puede aparecer como `name=value` en la llamada (vea la última línea arriba), y esta sintaxis permite que cualquier argumento posicional se incluya en cualquier lugar de la llamada.\n",
    "\n",
    "**Pruebas if**. Las pruebas `if-elif-else` se utilizan para ramificar el flujo de estados. Es decir, se ejecutan diferentes conjuntos de instrucciones dependiendo de si algunas condiciones son `True` o `False`.\n",
    "\n",
    "    def f(x):\n",
    "        if x < 0:\n",
    "            value = - 1\n",
    "        elif x >= 0 and x <= 1:\n",
    "            value = x\n",
    "        else:\n",
    "            value = 1\n",
    "        return value\n",
    "\n",
    "\n",
    "**Inline if test**. Asignar un valor de variable uno si una condición es `True` y otro valor si es `False`, se realiza de manera compacta con una prueba en línea si:\n",
    "\n",
    "    sign = -1 if a < 0 else 1\n",
    "\n",
    "**Terminología**. Los términos importantes de la informática en este capítulo son\n",
    "\n",
    "* función\n",
    "* método\n",
    "* declaración de retorno\n",
    "* argumentos posicionales\n",
    "* argumentos de palabras clave\n",
    "* variables locales y globales\n",
    "* cadenas de documentos\n",
    "* if pruebas con if, elif, y else (ramificación) \n",
    "* the None object\n",
    "* funciones de prueba (para verificación)"
   ]
  },
  {
   "cell_type": "markdown",
   "metadata": {},
   "source": [
    "### 3.4.2 Ejemplo: Integración numérica. \n",
    "#### Problema. Una integral\n",
    "\n",
    "$$\\int\\limits_{a}^{b}f(x)dx$$\n",
    "\n",
    "puede ser aproximado por la llamada regla de Simpson:\n",
    "\n",
    "\n",
    "$$\n",
    "\\frac{b-a}{3n} = (f(a) + f(b) + 4 \\sum_{i=1}^{n/2}f(a+(2i-1)h)+2 \\sum_{i=1}^{n/2-1}f(a+2ih))\n",
    "$$\n",
    "\n",
    "Aquí, $h=(b-a)/n$ y n debe ser un entero par. El problema es hacer una función `Simpson(f, a, b, n = 500)` que devuelve la mano derecha\n",
    "Fórmula lateral de (3.6). Para verificar la implementación, se puede hacer uso del hecho de que la regla de Simpson es exacta para todos los polinómicos f(x) de grado <= 2. Aplique la función Simpson a la integral $\\frac{3}{2}\\int\\limits_0^\\pi\\sin^{3}xdx$, que tiene un valor exacto 2, e investigue cómo varía el error de aproximación con n.\n",
    "\n",
    "**Solución**. La evaluación de la fórmula (3.6) en un programa es sencilla si sabemos cómo implementar la sumatoria $(\\sum)$ y cómo llamar a f. En la Sección 3.1.8 se proporciona una receta de Python para calcular sumas. Básicamente, $\\sum_{i=M}^{N}q(i)$, para alguna expresión $q(i)$ que involucra a $i$, se codifica con la ayuda de un bucle `for` sobre i y una variable de acumulación s para acumular la suma, un término a la vez:\n",
    "\n",
    "    s = 0\n",
    "    for i in range(M, N):\n",
    "        s +=q(i)\n",
    "        \n",
    "La función Simpson se puede codificar como\n",
    "\n",
    "    def Simpson(f, a, b, n=500):\n",
    "        h = (b - a)/float(n)\n",
    "        sum1 = 0\n",
    "        for i in range(1, n/2 + 1):\n",
    "            sum1 += f(a + (2*i-1)*h)\n",
    "    sum2 = 0\n",
    "    for i in range(1, n/2):\n",
    "        sum2 += f(a + 2*i*h)\n",
    "    integral = (b-a)/(3*n)*(f(a) + f(b) + 4*sum1 + 2*sum2)\n",
    "    return integral\n",
    "    \n",
    "Tenga en cuenta que Simpson puede integrar cualquier función de Python f de una variable. Específicamente, podemos implementar\n",
    "\n",
    "$$\n",
    "h(x)=\\frac{3}{2}\\sin^3xdx\n",
    "$$\n",
    "\n",
    "en una funcion python\n",
    "\n",
    "    def h(x):\n",
    "        return (3./2)*sin(x)**3\n",
    "        \n",
    "y llame a Simpson para calcular $\\int\\limits_{0}^{\\pi}h(x)dx$ para varias opciones de n, como se solicita:"
   ]
  },
  {
   "cell_type": "code",
   "execution_count": null,
   "metadata": {},
   "outputs": [],
   "source": [
    "s = 0\n",
    "for i in range(M, N):\n",
    "    s += q(i)"
   ]
  },
  {
   "cell_type": "code",
   "execution_count": 40,
   "metadata": {},
   "outputs": [],
   "source": [
    "def Simpson(f, a, b, n=500):\n",
    "    h = (b - a)/float(n)\n",
    "    sum1 = 0\n",
    "    for i in range(1, int(n/2 + 1)):\n",
    "#    for i in range(1, 250 + 1):        \n",
    "        sum1 += f(a + (2*i-1)*h)\n",
    "    \n",
    "    sum2 = 0\n",
    "    for i in range(1, int(n/2)):\n",
    "#    for i in range(1, 250):        \n",
    "        sum2 += f(a + 2*i*h)\n",
    "        \n",
    "    integral = (b-a)/(3*n)*(f(a) + f(b) + 4*sum1 + 2*sum2)\n",
    "    return integral"
   ]
  },
  {
   "cell_type": "code",
   "execution_count": 41,
   "metadata": {},
   "outputs": [],
   "source": [
    "def h(x):\n",
    "    return (3./2)*sin(x)**3"
   ]
  },
  {
   "cell_type": "code",
   "execution_count": 42,
   "metadata": {},
   "outputs": [],
   "source": [
    "from math import sin, pi\n",
    "    \n",
    "def application():\n",
    "    print (\"Integral of 1.5*sin^3 from 0 to pi:\")\n",
    "    for n in 2, 6, 12, 100, 500:\n",
    "        approx = Simpson(h, 0, pi, n)\n",
    "        print (\"n=%3d, approx=%18.15f, error=%9.2E\" % \\\n",
    "            (n, approx, 2-approx))"
   ]
  },
  {
   "cell_type": "code",
   "execution_count": 43,
   "metadata": {},
   "outputs": [
    {
     "name": "stdout",
     "output_type": "stream",
     "text": [
      "Integral of 1.5*sin^3 from 0 to pi:\n",
      "n=  2, approx= 3.141592653589793, error=-1.14E+00\n",
      "n=  6, approx= 1.989171700583579, error= 1.08E-02\n",
      "n= 12, approx= 1.999489233010781, error= 5.11E-04\n",
      "n=100, approx= 1.999999902476350, error= 9.75E-08\n",
      "n=500, approx= 1.999999999844138, error= 1.56E-10\n"
     ]
    }
   ],
   "source": [
    "application()"
   ]
  },
  {
   "cell_type": "code",
   "execution_count": null,
   "metadata": {},
   "outputs": [],
   "source": []
  },
  {
   "cell_type": "code",
   "execution_count": null,
   "metadata": {},
   "outputs": [],
   "source": []
  },
  {
   "cell_type": "code",
   "execution_count": null,
   "metadata": {},
   "outputs": [],
   "source": []
  },
  {
   "cell_type": "code",
   "execution_count": null,
   "metadata": {},
   "outputs": [],
   "source": []
  },
  {
   "cell_type": "code",
   "execution_count": null,
   "metadata": {},
   "outputs": [],
   "source": []
  },
  {
   "cell_type": "code",
   "execution_count": null,
   "metadata": {},
   "outputs": [],
   "source": []
  },
  {
   "cell_type": "code",
   "execution_count": null,
   "metadata": {},
   "outputs": [],
   "source": []
  },
  {
   "cell_type": "code",
   "execution_count": null,
   "metadata": {},
   "outputs": [],
   "source": []
  },
  {
   "cell_type": "code",
   "execution_count": null,
   "metadata": {},
   "outputs": [],
   "source": []
  },
  {
   "cell_type": "code",
   "execution_count": null,
   "metadata": {},
   "outputs": [],
   "source": []
  },
  {
   "cell_type": "code",
   "execution_count": null,
   "metadata": {},
   "outputs": [],
   "source": []
  },
  {
   "cell_type": "code",
   "execution_count": null,
   "metadata": {},
   "outputs": [],
   "source": []
  },
  {
   "cell_type": "code",
   "execution_count": null,
   "metadata": {},
   "outputs": [],
   "source": []
  },
  {
   "cell_type": "code",
   "execution_count": null,
   "metadata": {},
   "outputs": [],
   "source": []
  },
  {
   "cell_type": "code",
   "execution_count": null,
   "metadata": {},
   "outputs": [],
   "source": []
  },
  {
   "cell_type": "code",
   "execution_count": null,
   "metadata": {},
   "outputs": [],
   "source": []
  },
  {
   "cell_type": "code",
   "execution_count": null,
   "metadata": {},
   "outputs": [],
   "source": []
  },
  {
   "cell_type": "code",
   "execution_count": null,
   "metadata": {},
   "outputs": [],
   "source": []
  }
 ],
 "metadata": {
  "kernelspec": {
   "display_name": "Python 3",
   "language": "python",
   "name": "python3"
  },
  "language_info": {
   "codemirror_mode": {
    "name": "ipython",
    "version": 3
   },
   "file_extension": ".py",
   "mimetype": "text/x-python",
   "name": "python",
   "nbconvert_exporter": "python",
   "pygments_lexer": "ipython3",
   "version": "3.6.8"
  }
 },
 "nbformat": 4,
 "nbformat_minor": 2
}
