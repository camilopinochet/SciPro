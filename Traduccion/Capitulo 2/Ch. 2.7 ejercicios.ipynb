{
 "cells": [
  {
   "cell_type": "markdown",
   "metadata": {},
   "source": [
    "## 2.7 Ejercicios"
   ]
  },
  {
   "cell_type": "markdown",
   "metadata": {},
   "source": [
    "### Ejercicio 2.1: Hacer una tabla de conversión Fahrenheit-Celsius\n",
    "\n",
    "Escriba un programa en Python que imprima una tabla con grados Fahrenheit 0, 10, 20,. . . , 100 en la primera columna y los correspondientes grados Celsius en la segunda columna.\n",
    "\n",
    "**Consejo.** Modifique el programa c2f_table_while.py de la Sección 2.1.2.\n",
    "\n",
    "**Nombre de archivo: f2c_table_while.py.**"
   ]
  },
  {
   "cell_type": "markdown",
   "metadata": {},
   "source": [
    "### Ejercicio 2.2: generar una tabla de conversión aproximada Fahrenheit-Celsius\n",
    "\n",
    "Muchas personas usan una fórmula aproximada para convertir rápidamente grados Fahrenheit (F) a grados Celsius (C):\n",
    "\n",
    "$$\n",
    "C \\approx C` = \\frac {(F - 30)}{2}\n",
    "$$\n",
    "\n",
    "(2.2) Modifique el programa del Ejercicio 2.1 para que imprima tres columnas: F, C, y el valor aproximado Cˆ. \n",
    "\n",
    "**Nombre de archivo: f2c_approx_table.py.**"
   ]
  },
  {
   "cell_type": "markdown",
   "metadata": {},
   "source": [
    "### Ejercicio 2.3: Trabajar con una lista\n",
    "\n",
    "Establezca una variable primos en una lista que contenga los números 2, 3, 5, 7, 11 y 13. Escriba cada elemento de la lista en un **bucle for**. Asigne 17 a una variable p y agregue p al final de la lista. Imprime toda la nueva lista. \n",
    "**Nombre de archivo: primes.py.**"
   ]
  },
  {
   "cell_type": "code",
   "execution_count": 1,
   "metadata": {},
   "outputs": [
    {
     "name": "stdout",
     "output_type": "stream",
     "text": [
      "1\n",
      "3\n",
      "5\n",
      "7\n",
      "11\n",
      "13\n",
      "[1, 3, 5, 7, 11, 13, 17]\n"
     ]
    }
   ],
   "source": [
    "primes = [1, 3, 5, 7, 11, 13]\n",
    "\n",
    "for number in primes:\n",
    "    print (number)\n",
    "\n",
    "p = 17\n",
    "primes.append(p)\n",
    "\n",
    "print (primes)"
   ]
  },
  {
   "cell_type": "markdown",
   "metadata": {},
   "source": [
    "### Ejercicio 2.4: Generar números impares\n",
    "\n",
    "Escribe un programa que genere todos los números impares del 1 al n. Establezca n al principio del programa y use un bucle while para calcular los números. (Asegúrese de que si n es un número par, el mayor número impar generado sera n-1).**Nombre de archivo: odd.py.**"
   ]
  },
  {
   "cell_type": "markdown",
   "metadata": {},
   "source": [
    "### Ejercicio 2.5: Suma de los primeros $n$ enteros\n",
    "\n",
    "Escriba un programa que calcule la suma de los enteros desde 1 hasta $n$ incluyendo n. Compara el resultado con la famosa fórmula $n (n + 1) / 2$. **Nombre de archivo: sum_int.py.**"
   ]
  },
  {
   "cell_type": "code",
   "execution_count": 2,
   "metadata": {},
   "outputs": [
    {
     "data": {
      "text/plain": [
       "55.0"
      ]
     },
     "execution_count": 2,
     "metadata": {},
     "output_type": "execute_result"
    }
   ],
   "source": [
    "n=10\n",
    "r=(n*(n+1))/2\n",
    "r"
   ]
  },
  {
   "cell_type": "markdown",
   "metadata": {},
   "source": [
    "### Ejercicio 2.6: Generar coordenadas igualmente espaciadas\n",
    "\n",
    "Queremos generar $n + 1$ coordenadas $x$ igualmente espaciadas en [a, b]. Almacena las coordenadas en una lista.\n",
    "\n",
    "- a) Comience con una lista vacía, use un **bucle for** y agregue cada coordenada a la lista.\n",
    "\n",
    "**Consejo.** Con $n$ intervalos, correspondientes a $n+1$ puntos, en [a, b], cada intervalo tiene la longitud h=(b-a)/n. Las coordenadas pueden entonces ser generadas por la fórmula $x_1 = a + ih, i=0, ..., n+1$.\n",
    "\n",
    "- b) Use una **lista de comprensión** (ver Sección 2.3.5).\n",
    "**Nombre de archivo: coor.py**"
   ]
  },
  {
   "cell_type": "markdown",
   "metadata": {},
   "source": [
    "Generar coordenadas igualmente espaciadas entre 1 y 2. El espacio debe ser 0.01\n",
    "Queremos generar coordenadas x entre 1 y 2 con espacio 0.01. Las coordenadas vienen dados por la fórmula x_i = 1 + ih, donde h = 0.01 e i se ejecuta sobre enteros 0, 1, ..., 100. Calcule los valores x_i y guárdelos en una lista (use un bucle 'for', y agregue cada nuevo valor x_i a una lista, que inicialmente está vacía)."
   ]
  },
  {
   "cell_type": "markdown",
   "metadata": {},
   "source": [
    "### Ejercicio 2.7: Haz una tabla de valores a partir de una fórmula\n",
    "\n",
    "El propósito de este ejercicio es hacer un programa que imprima una tabla bien formateada con los valores de t e y(t), donde\n",
    "\n",
    "$$\n",
    "y_(t) = v_0t - \\frac{1}{2}gt^2\n",
    "$$\n",
    "\n",
    "Use n+1 valores t uniformemente espaciados a lo largo del intervalo [0,2v_0/g].\n",
    "\n",
    "- a) Usa un **bucle for** para producir la tabla.\n",
    "\n",
    "- b) Agregue código con un **bucle while** para producir la tabla.\n",
    "\n",
    "**Consejo** Debido a los posibles errores de redondeo, es posible que deba ajustar el límite superior del **bucle while** para asegurarse de que se incluya el último punto (t=2v_0/g, y=0). **Nombre de archivo: ball_table1.py.**"
   ]
  },
  {
   "cell_type": "code",
   "execution_count": null,
   "metadata": {},
   "outputs": [],
   "source": []
  },
  {
   "cell_type": "markdown",
   "metadata": {},
   "source": [
    "### Ejercicio 2.8: Almacenar valores de una fórmula en listas\n",
    "\n",
    "Este ejercicio pretende producir la misma tabla de números que en el **Ejercicio 2.7**, pero con un código diferente. Primero, almacene los valores t e y en dos listas t e y. A partir de entonces, escriba una tabla bien formateada recorriendo las dos listas con un **bucle for.**\n",
    "\n",
    "**Consejo**. En el **bucle for**, use cualquiera de zip para atravesar las dos listas en paralelo, o use un índice y la construcción del rango.**Nombre de archivo: ball_table2.py.**"
   ]
  },
  {
   "cell_type": "markdown",
   "metadata": {},
   "source": [
    "### Ejercicio 2.9: Simular operaciones en listas a mano\n",
    "\n",
    "Te dan el siguiente programa.\n",
    "\n",
    "Ir a través de cada declaración y explicar lo que está impreso por el programa."
   ]
  },
  {
   "cell_type": "code",
   "execution_count": 3,
   "metadata": {},
   "outputs": [
    {
     "name": "stdout",
     "output_type": "stream",
     "text": [
      "print 1: [1, 3, 5, 7, 11, 13, 17]\n",
      "print 2: -1\n",
      "a cada elemento de a se le suma 1\n",
      "print 3: [2, 4, 6, 8, 12]\n",
      "print 5: -1\n",
      "print 5: [2, 4, 6, 8, 12, 0]\n",
      "print 6: [2, 4, 6, 8, 12, 0, 18]\n",
      "print 7: [0, 18]\n",
      "print 8: [1, 3, 5, 7, 11]\n",
      "print 9: [-1, 17]\n",
      "0\n",
      "18\n",
      "2\n",
      "20\n",
      "4\n",
      "22\n",
      "6\n",
      "24\n",
      "10\n",
      "28\n"
     ]
    }
   ],
   "source": [
    "a = [1, 3, 5, 7, 11] \n",
    "b = [13, 17]\n",
    "c = a + b\n",
    "print (\"print 1:\",c)\n",
    "b[0] = -1\n",
    "print(\"print 2:\",b[0])\n",
    "d = [e+1 for e in a]\n",
    "print (\"a cada elemento de a se le suma 1\")\n",
    "print (\"print 3:\",d)\n",
    "\n",
    "\n",
    "d.append(b[0] + 1)\n",
    "print(\"print 5:\",b[0])\n",
    "print(\"print 5:\",d)\n",
    "\n",
    "\n",
    "d.append(b[-1] + 1)\n",
    "print(\"print 6:\",d)\n",
    "\n",
    "print (\"print 7:\",d[-2:])\n",
    "print(\"print 8:\",a)\n",
    "print(\"print 9:\",b)\n",
    "for e1 in a:\n",
    "    for e2 in b:\n",
    "        print (e1 + e2)"
   ]
  },
  {
   "cell_type": "markdown",
   "metadata": {},
   "source": [
    "### Ejercicio 2.10: Calcular una suma matemática\n",
    "\n",
    "El siguiente código debe calcular la suma\n",
    "\n",
    "$$\n",
    "s = \\sum_{k=1}^{M} \\frac{1}{k}\n",
    "$$"
   ]
  },
  {
   "cell_type": "code",
   "execution_count": 4,
   "metadata": {},
   "outputs": [
    {
     "name": "stdout",
     "output_type": "stream",
     "text": [
      "1 1.0\n",
      "2 1.5\n",
      "3 1.8333333333333333\n",
      "4 2.083333333333333\n",
      "5 2.283333333333333\n",
      "6 2.4499999999999997\n",
      "7 2.5928571428571425\n",
      "8 2.7178571428571425\n",
      "9 2.8289682539682537\n",
      "10 2.9289682539682538\n",
      "sum =  2.9289682539682538\n"
     ]
    }
   ],
   "source": [
    "s = 0\n",
    "k = 1\n",
    "M = 10\n",
    "while k <= M:\n",
    "    s += 1/k\n",
    "    print (k,s)\n",
    "    k += 1\n",
    "print(\"sum = \", s)"
   ]
  },
  {
   "cell_type": "markdown",
   "metadata": {},
   "source": [
    "Este programa no funciona correctamente. ¿Cuáles son los tres errores? (Si intenta ejecutar el programa, no ocurrirá nada en la pantalla. Escriba Ctrl + c, es decir, mantenga presionada la tecla Control (Ctrl) y luego presione la tecla c, para detener el programa). Escriba un programa correcto.\n",
    "\n",
    "**Consejo**. Hay dos formas básicas de encontrar errores en un programa:\n",
    "\n",
    "- 1. Lea el programa cuidadosamente y piense en las consecuencias de cada declaración.\n",
    "- 2. Imprima los resultados intermedios y compárelos con los cálculos manuales.\n",
    "\n",
    "Primero, pruebe el método 1 y encuentre tantos errores como pueda. A partir de entonces, pruebe el método 2 para M=3 y compare la evolución de s con sus propios cálculos manuales.**Nombre de archivo: sum_while.py.**"
   ]
  },
  {
   "cell_type": "markdown",
   "metadata": {},
   "source": [
    "### Ejercicio 2.11: reemplazar un bucle while por un bucle for\n",
    "\n",
    "Reescriba la versión corregida del programa en el Ejercicio 2.10 usando un **bucle for** sobre los valores k en lugar de un **bucle while**. **Nombre de archivo: sum_for.py.**"
   ]
  },
  {
   "cell_type": "code",
   "execution_count": 5,
   "metadata": {},
   "outputs": [
    {
     "name": "stdout",
     "output_type": "stream",
     "text": [
      "1.0\n",
      "1.5\n",
      "1.8333333333333333\n",
      "2.083333333333333\n",
      "2.283333333333333\n",
      "2.4499999999999997\n",
      "2.5928571428571425\n",
      "2.7178571428571425\n",
      "2.8289682539682537\n",
      "2.9289682539682538\n"
     ]
    }
   ],
   "source": [
    "s = 0\n",
    "k = 1\n",
    "M = 10\n",
    "for k in range (1,M+1):\n",
    "    s += 1/k\n",
    "    print (s)\n",
    "    "
   ]
  },
  {
   "cell_type": "markdown",
   "metadata": {},
   "source": [
    "### Ejercicio 2.12: Simular un programa a mano.\n",
    "\n",
    "Considere el siguiente programa para calcular con tasas de interés:\n",
    "\n"
   ]
  },
  {
   "cell_type": "code",
   "execution_count": 1,
   "metadata": {},
   "outputs": [
    {
     "name": "stdout",
     "output_type": "stream",
     "text": [
      "8\n"
     ]
    }
   ],
   "source": [
    "initial_amount = 100\n",
    "p = 5.5  # interest rate\n",
    "amount = initial_amount\n",
    "years = 0\n",
    "while amount <= 1.5*initial_amount:\n",
    "    amount = amount + p/100*amount\n",
    "    years = years + 1\n",
    "print (years)"
   ]
  },
  {
   "cell_type": "markdown",
   "metadata": {},
   "source": [
    "- a) Use una calculadora de bolsillo o el pocket interactivo de Python y realice los cálculos del programa a mano. Anote el valor de la cantidad y los años en cada paso del bucle.\n",
    "\n",
    "\n",
    "- b) Establecer **p = 5** en su lugar. ¿Por qué el bucle ahora se ejecutará para siempre? (Aplique Ctrl + c, vea el Ejercicio 2.10, para detener un programa con un ciclo que se ejecute para siempre). Haga que el programa sea sólido contra tales errores.\n",
    "\n",
    "\n",
    "- c) Use el operador += siempre que sea posible en el programa.\n",
    "\n",
    "\n",
    "- d) Explique con palabras qué tipo de problema matemático se resuelve con este programa.\n",
    "\n",
    "**Nombre de archivo: interest_rate_loop.py.**"
   ]
  },
  {
   "cell_type": "markdown",
   "metadata": {},
   "source": [
    "### Ejercicio 2.13: Explorar la documentación de Python\n",
    "\n",
    "Supongamos que desea calcular con la función de seno inverso: $sin^1 x$.\n",
    "\n",
    "¿Cómo se hace eso en un programa de Python?\n",
    "\n",
    "**Consejo**. El módulo matemático tiene una función senoidal inversa. Encuentre el nombre correcto de la función buscando el contenido del módulo en el documento en línea de Python Standard Library(7) o use pydoc, consulte la Sección 2.6.3. **Nombre de archivo: inverse_sine.py**"
   ]
  },
  {
   "cell_type": "code",
   "execution_count": null,
   "metadata": {},
   "outputs": [],
   "source": []
  },
  {
   "cell_type": "markdown",
   "metadata": {},
   "source": [
    "### Ejercicio 2.14: Indexar listas anidadas\n",
    "\n",
    "Definimos la siguiente lista anidada:\n",
    "\n",
    "    q = [[’a’, ’b’, ’c’], [’d ’,’ e ’, ’f’], [’g’, ’h’]]\n",
    "\n",
    "a)  Indexe esta lista para extraer\n",
    "\n",
    "    1) la letra a;\n",
    "    2) la lista [’d’, ’e’, ’f ’]; \n",
    "    3) el último elemento h; \n",
    "    4) El elemento d. Explica por qué q[-1][-2] tiene el valor g.\n",
    "\n",
    "b) Podemos visitar todos los elementos de q usando este bucle anidado para:"
   ]
  },
  {
   "cell_type": "code",
   "execution_count": 4,
   "metadata": {},
   "outputs": [
    {
     "name": "stdout",
     "output_type": "stream",
     "text": [
      "a\n",
      "b\n",
      "c\n",
      "d\n",
      "e\n",
      "f\n",
      "g\n",
      "h\n"
     ]
    }
   ],
   "source": [
    "q = [[\"a\",\"b\",\"c\"], [\"d\",\"e\",\"f\"], [\"g\",\"h\"]]\n",
    "for i in q:\n",
    "    for j in range  (len(i)):\n",
    "        print(i[j])"
   ]
  },
  {
   "cell_type": "markdown",
   "metadata": {},
   "source": [
    "¿Qué tipo de objetos son i y j?\n",
    "\n",
    "**Nombre de archivo: index_nested_list.py.**"
   ]
  },
  {
   "cell_type": "markdown",
   "metadata": {},
   "source": [
    "### Ejercicio 2.15: Almacenar datos en listas.\n",
    "\n",
    "Modifique el programa del Ejercicio 2.2 para que todos los valores F, C y Cˆ se almacenen en listas separadas F, C y C_approx, respectivamente.\n",
    "\n",
    "Luego haga una lista anidada **conversion** para que la conversion[i] contenga una fila en la tabla: [F [i], C [i], C_approx [i]]. Finalmente, deje que el programa recorra la lista conversion y escriba la misma tabla que en el Ejercicio 2.2. **Nombre de archivo: f2c_approx_lists.py.**"
   ]
  },
  {
   "cell_type": "markdown",
   "metadata": {},
   "source": [
    "### Ejercicio 2.16: Almacenar datos en una lista anidada\n",
    "\n",
    "**a)** Calcule dos listas de valores t e y como se explica en el Ejercicio 2.8. Almacene las dos listas en una nueva lista anidada ty1 tal que ty1 [0] y ty1 [1] correspondan a las dos listas. Escriba una tabla con los valores t e y en dos columnas haciendo un bucle sobre los datos en la lista ty1. Cada número debe escribirse con dos decimales.\n",
    "\n",
    "**b)** Haga una lista ty2 que contenga cada fila en la tabla de los valores de ty e (ty1 es una lista de columnas de la tabla, mientras que ty2 es una lista de filas de la tabla, como se explica en la Sección 2.4). Recorra la lista ty2 y escriba los valores t y y\n",
    "Con dos decimales cada uno. **Nombre de archivo: ball_table3.py.**"
   ]
  },
  {
   "cell_type": "markdown",
   "metadata": {},
   "source": [
    "### Ejercicio 2.17: Valores de expresiones booleanas.\n",
    "\n",
    "Explica el resultado de cada una de las siguientes expresiones booleanas:\n"
   ]
  },
  {
   "cell_type": "code",
   "execution_count": 9,
   "metadata": {},
   "outputs": [
    {
     "data": {
      "text/plain": [
       "True"
      ]
     },
     "execution_count": 9,
     "metadata": {},
     "output_type": "execute_result"
    }
   ],
   "source": [
    "C = 41\n",
    "C == 40\n",
    "C != 40 and C < 41 \n",
    "C != 40 or C < 41\n",
    "not C == 40\n",
    "not C > 40\n",
    "C <= 41\n",
    "not False\n",
    "True and False\n",
    "False or True\n",
    "False or False or False \n",
    "True and True and False \n",
    "False == 0\n",
    "True == 0\n",
    "True == 1"
   ]
  },
  {
   "cell_type": "markdown",
   "metadata": {},
   "source": [
    "**Nota**\n",
    "Tiene sentido comparar True y False con los enteros 0 y 1, pero no con otros enteros (por ejemplo, True == 12 es Falso, aunque el entero 12 se evalúa como True en un contexto booleano, como en bool (12) o si 12)."
   ]
  },
  {
   "cell_type": "markdown",
   "metadata": {},
   "source": [
    "### Ejercicio 2.18: Explorar errores de redondeo de una gran cantidad de operaciones inversas\n",
    "\n",
    "Quizás haya intentado golpear la tecla de la raíz cuadrada en una calculadora varias veces y luego vuelva a cuadrar el número una cantidad igual de veces. Este conjunto de operaciones matemáticas inversas, por supuesto, debería devolverle al valor inicial para los cálculos, pero esto no siempre sucede. Para evitar el tedioso apretado de las teclas de la calculadora, podemos dejar que una computadora automatice el proceso.\n",
    "\n",
    "Aquí hay un programa apropiado:"
   ]
  },
  {
   "cell_type": "code",
   "execution_count": 14,
   "metadata": {},
   "outputs": [
    {
     "name": "stdout",
     "output_type": "stream",
     "text": [
      "1 times sqrt and **2: 2.0000000000000004\n",
      "2 times sqrt and **2: 1.9999999999999996\n",
      "3 times sqrt and **2: 1.9999999999999996\n",
      "4 times sqrt and **2: 1.9999999999999964\n",
      "5 times sqrt and **2: 1.9999999999999964\n",
      "6 times sqrt and **2: 1.9999999999999964\n",
      "7 times sqrt and **2: 1.9999999999999714\n",
      "8 times sqrt and **2: 2.0000000000000235\n",
      "9 times sqrt and **2: 2.0000000000000235\n",
      "10 times sqrt and **2: 2.0000000000000235\n",
      "11 times sqrt and **2: 2.0000000000000235\n",
      "12 times sqrt and **2: 1.9999999999991336\n",
      "13 times sqrt and **2: 1.9999999999973292\n",
      "14 times sqrt and **2: 1.9999999999973292\n",
      "15 times sqrt and **2: 1.9999999999973292\n",
      "16 times sqrt and **2: 2.0000000000117746\n",
      "17 times sqrt and **2: 2.0000000000408580\n",
      "18 times sqrt and **2: 2.0000000000408580\n",
      "19 times sqrt and **2: 2.0000000001573586\n"
     ]
    }
   ],
   "source": [
    "from math import sqrt\n",
    "\n",
    "for n in range(1, 20):\n",
    "    r = 2.0\n",
    "\n",
    "    for i in range(n):\n",
    "        r = sqrt(r)\n",
    "    \n",
    "    for i in range(n):\n",
    "        r = r**2\n",
    "        \n",
    "    print (\"%d times sqrt and **2: %.16f\" % (n, r))"
   ]
  },
  {
   "cell_type": "markdown",
   "metadata": {},
   "source": [
    "Explique con palabras lo que hace el programa. A continuación, ejecute el programa. ¡Los errores de redondeo están aquí destruyendo completamente los cálculos cuando n es lo suficientemente grande! Investigue el caso cuando regresemos a 1 en lugar de 2 fijando un valor de n donde esto ocurra e imprimiendo r en ambos bucles sobre i. ¿Puedes explicar ahora por qué volvemos a 1 y no a 2? **Nombre de archivo: repeat_sqrt.py.**"
   ]
  },
  {
   "cell_type": "markdown",
   "metadata": {},
   "source": [
    "### Ejercicio 2.19: Explora lo que puede ser cero en una computadora\n",
    "\n",
    "Escriba el siguiente código y ejecútelo."
   ]
  },
  {
   "cell_type": "code",
   "execution_count": 17,
   "metadata": {},
   "outputs": [
    {
     "name": "stdout",
     "output_type": "stream",
     "text": [
      "........ 1.0\n",
      "........ 0.5\n",
      "........ 0.25\n",
      "........ 0.125\n",
      "........ 0.0625\n",
      "........ 0.03125\n",
      "........ 0.015625\n",
      "........ 0.0078125\n",
      "........ 0.00390625\n",
      "........ 0.001953125\n",
      "........ 0.0009765625\n",
      "........ 0.00048828125\n",
      "........ 0.000244140625\n",
      "........ 0.0001220703125\n",
      "........ 6.103515625e-05\n",
      "........ 3.0517578125e-05\n",
      "........ 1.52587890625e-05\n",
      "........ 7.62939453125e-06\n",
      "........ 3.814697265625e-06\n",
      "........ 1.9073486328125e-06\n",
      "........ 9.5367431640625e-07\n",
      "........ 4.76837158203125e-07\n",
      "........ 2.384185791015625e-07\n",
      "........ 1.1920928955078125e-07\n",
      "........ 5.960464477539063e-08\n",
      "........ 2.9802322387695312e-08\n",
      "........ 1.4901161193847656e-08\n",
      "........ 7.450580596923828e-09\n",
      "........ 3.725290298461914e-09\n",
      "........ 1.862645149230957e-09\n",
      "........ 9.313225746154785e-10\n",
      "........ 4.656612873077393e-10\n",
      "........ 2.3283064365386963e-10\n",
      "........ 1.1641532182693481e-10\n",
      "........ 5.820766091346741e-11\n",
      "........ 2.9103830456733704e-11\n",
      "........ 1.4551915228366852e-11\n",
      "........ 7.275957614183426e-12\n",
      "........ 3.637978807091713e-12\n",
      "........ 1.8189894035458565e-12\n",
      "........ 9.094947017729282e-13\n",
      "........ 4.547473508864641e-13\n",
      "........ 2.2737367544323206e-13\n",
      "........ 1.1368683772161603e-13\n",
      "........ 5.684341886080802e-14\n",
      "........ 2.842170943040401e-14\n",
      "........ 1.4210854715202004e-14\n",
      "........ 7.105427357601002e-15\n",
      "........ 3.552713678800501e-15\n",
      "........ 1.7763568394002505e-15\n",
      "........ 8.881784197001252e-16\n",
      "........ 4.440892098500626e-16\n",
      "........ 2.220446049250313e-16\n",
      "eps final 1.1102230246251565e-16\n"
     ]
    }
   ],
   "source": [
    "eps = 1.0\n",
    "while 1.0 != 1.0 + eps:\n",
    "    print(\"........\", eps)\n",
    "    eps = eps/2.0\n",
    "print(\"eps final\", eps)"
   ]
  },
  {
   "cell_type": "markdown",
   "metadata": {},
   "source": [
    "Explique con palabras lo que hace el código, línea por línea. Luego examina la salida. ¿Cómo puede ser que la “ecuación” **1!= 1 + eps** no sea True? O, en otras palabras, que un número de aproximadamente $10^{16}$ (el valor final de **eps** cuando finaliza el bucle) da el mismo resultado que si eps fuera cero? \n",
    "**Nombre de archivo: machine_zero.py.**"
   ]
  },
  {
   "cell_type": "markdown",
   "metadata": {},
   "source": [
    "**Observaciones**. El valor de eps distinto a cero calculado anteriormente se denomina epsilon máquina o máquina cero y es un parámetro importante que se debe conocer, especialmente cuando se aplican ciertas técnicas matemáticas para controlar los errores de redondeo."
   ]
  },
  {
   "cell_type": "markdown",
   "metadata": {},
   "source": [
    "### Ejercicio 2.20: Compara dos números reales con una tolerancia.\n",
    "\n",
    "Ejecuta el siguiente programa:"
   ]
  },
  {
   "cell_type": "code",
   "execution_count": 18,
   "metadata": {},
   "outputs": [
    {
     "name": "stdout",
     "output_type": "stream",
     "text": [
      "resultado equivocado\n"
     ]
    }
   ],
   "source": [
    "a = 1/947.0*947\n",
    "b = 1\n",
    "if a != b:\n",
    "    print(\"resultado equivocado\")"
   ]
  },
  {
   "cell_type": "markdown",
   "metadata": {},
   "source": [
    "La lección aprendida de este programa es que nunca se deben comparar dos objetos de punto flotante directamente usando a == b o a != b, porque los errores de redondeo rápidamente hacen que dos valores matemáticos idénticos no coincidan en una computadora. Un mejor resultado es probar si **abs(a - b) < tol**, donde **tol** es un número muy pequeño.\n",
    "\n",
    "Modificar la prueba según esta idea. **Nombre de archivo:compare_floats.py.**"
   ]
  },
  {
   "cell_type": "markdown",
   "metadata": {},
   "source": [
    "### Ejercicio 2.21: interpretar un código\n",
    "\n",
    "La función **time** del módulo **time** devuelve el número de segundos desde una fecha en particular (llamada Época, que es el 1 de enero de 1970, en muchos tipos de computadoras). Por lo tanto, los programas de Python pueden usar time.time () para imitar un cronómetro. Otra función, time.sleep (n) hace que el programa se detenga durante n segundos y es útil para insertar una pausa. Usa esta información para explicar lo que hace el siguiente código:\n"
   ]
  },
  {
   "cell_type": "code",
   "execution_count": 24,
   "metadata": {},
   "outputs": [
    {
     "name": "stdout",
     "output_type": "stream",
     "text": [
      "1556482574.6039832\n",
      "....I like while loops!\n",
      "1556482576.606535\n",
      "....I like while loops!\n",
      "1556482578.610344\n",
      "....I like while loops!\n",
      "1556482580.613108\n",
      "....I like while loops!\n",
      "1556482582.616469\n",
      "....I like while loops!\n",
      "Oh, no - the loop is over.\n"
     ]
    }
   ],
   "source": [
    "import time\n",
    "\n",
    "t0 = time.time()\n",
    "while time.time() - t0 < 10:\n",
    "    print(time.time())\n",
    "    print (\"....I like while loops!\")\n",
    "    time.sleep(2)\n",
    "print (\"Oh, no - the loop is over.\")"
   ]
  },
  {
   "cell_type": "markdown",
   "metadata": {},
   "source": [
    "¿Cuántas veces se ejecuta la instrucción de impresión dentro del bucle? Ahora, copie el segmento de código y cambie el signo `<` en el estado del bucle a un signo `>`. Explica qué pasa ahora. **Nombre de archivo: time_while.py.**"
   ]
  },
  {
   "cell_type": "markdown",
   "metadata": {},
   "source": [
    "### Ejercicio 2.22: Explorar problemas con sangría inexacta\n",
    "\n",
    "Escriba el siguiente programa en un archivo y compruebe cuidadosamente que tiene exactamente los mismos espacios:"
   ]
  },
  {
   "cell_type": "code",
   "execution_count": 26,
   "metadata": {},
   "outputs": [
    {
     "name": "stdout",
     "output_type": "stream",
     "text": [
      "-60 -76.0\n",
      "-58 -72.4\n",
      "-56 -68.8\n",
      "-54 -65.2\n",
      "-52 -61.60000000000001\n",
      "-50 -58.0\n",
      "-48 -54.400000000000006\n",
      "-46 -50.8\n",
      "-44 -47.2\n",
      "-42 -43.60000000000001\n",
      "-40 -40.0\n",
      "-38 -36.400000000000006\n",
      "-36 -32.8\n",
      "-34 -29.200000000000003\n",
      "-32 -25.6\n",
      "-30 -22.0\n",
      "-28 -18.4\n",
      "-26 -14.800000000000004\n",
      "-24 -11.200000000000003\n",
      "-22 -7.600000000000001\n",
      "-20 -4.0\n",
      "-18 -0.3999999999999986\n",
      "-16 3.1999999999999993\n",
      "-14 6.800000000000001\n",
      "-12 10.399999999999999\n",
      "-10 14.0\n",
      "-8 17.6\n",
      "-6 21.2\n",
      "-4 24.8\n",
      "-2 28.4\n",
      "0 32.0\n",
      "2 35.6\n",
      "4 39.2\n",
      "6 42.8\n",
      "8 46.4\n",
      "10 50.0\n",
      "12 53.6\n",
      "14 57.2\n",
      "16 60.8\n",
      "18 64.4\n",
      "20 68.0\n",
      "22 71.6\n",
      "24 75.2\n",
      "26 78.80000000000001\n",
      "28 82.4\n",
      "30 86.0\n",
      "32 89.6\n",
      "34 93.2\n",
      "36 96.8\n",
      "38 100.4\n",
      "40 104.0\n",
      "42 107.60000000000001\n",
      "44 111.2\n",
      "46 114.8\n",
      "48 118.4\n",
      "50 122.0\n",
      "52 125.60000000000001\n",
      "54 129.2\n",
      "56 132.8\n",
      "58 136.4\n",
      "60 140.0\n"
     ]
    }
   ],
   "source": [
    "C = -60\n",
    "dC = 2\n",
    "while C <= 60:\n",
    "    F = (9.0/5)*C + 32\n",
    "    print(C,F)\n",
    "    C = C + dC"
   ]
  },
  {
   "cell_type": "markdown",
   "metadata": {},
   "source": [
    "Ejecuta el programa. ¿Cuál es el primer problema? Corregir ese error. ¿Cuál es el siguiente problema? ¿Cuál es la causa de ese problema? (Consulte el Ejercicio 2.10 para saber cómo detener un programa que cuelga). **Nombre de archivo: indentation.py.**\n",
    "\n",
    "\n",
    "**Observaciones**. ¡La lección aprendida de este ejercicio es que uno tiene que tener mucho cuidado con la sangría en los programas Python! Otros lenguajes informáticos generalmente encierran bloques que pertenecen a bucles entre llaves, paréntesis o marcas de inicio y fin. La convención de Python con el uso exclusivo de indentación contribuye a un código visualmente atractivo y fácil de leer, al costo de requerir una actitud pedante para los espacios en blanco del programador."
   ]
  },
  {
   "cell_type": "markdown",
   "metadata": {},
   "source": [
    "### Ejercicio 2.23: Explorar la puntuación en los programas de Python\n",
    "\n",
    "Algunas de las siguientes tareas funcionan y otras no. Explique en cada caso por qué la asignación funciona/falla y, si funciona, a qué tipo de objeto x se refiere y cuál es el valor si hacemos una impresión x.\n",
    "\n",
    "**Consejo**. Explora las declaraciones en un shell interactivo de Python. Nombre de archivo: puntuación. *."
   ]
  },
  {
   "cell_type": "code",
   "execution_count": null,
   "metadata": {},
   "outputs": [],
   "source": [
    "x = 1\n",
    "x = 1. \n",
    "x = 1;\n",
    "x = 1! \n",
    "x = 1?\n",
    "x = 1: \n",
    "x = 1,"
   ]
  },
  {
   "cell_type": "markdown",
   "metadata": {},
   "source": [
    "### Ejercicio 2.24: Investigar un bucle for sobre una lista de cambios\n",
    "\n",
    "Estudie la siguiente sesión interactiva y explique en detalle lo que sucede en cada paso del bucle, y use esta explicación para comprender el resultado."
   ]
  },
  {
   "cell_type": "code",
   "execution_count": 66,
   "metadata": {},
   "outputs": [
    {
     "name": "stdout",
     "output_type": "stream",
     "text": [
      "[0, 1, 2, 3, 4, 5, 6, 7, 8, 9]\n"
     ]
    }
   ],
   "source": [
    "numbers = list(range(10))\n",
    "print (numbers)"
   ]
  },
  {
   "cell_type": "code",
   "execution_count": 67,
   "metadata": {},
   "outputs": [
    {
     "name": "stdout",
     "output_type": "stream",
     "text": [
      "n=0, del 5 [0, 1, 2, 3, 4, 6, 7, 8, 9]\n",
      "n=1, del 4 [0, 1, 2, 3, 6, 7, 8, 9]\n",
      "n=2, del 4 [0, 1, 2, 3, 7, 8, 9]\n",
      "n=3, del 3 [0, 1, 2, 7, 8, 9]\n",
      "n=8, del 3 [0, 1, 2, 8, 9]\n"
     ]
    }
   ],
   "source": [
    "for n in numbers:\n",
    "    i = int(len(numbers)/2)\n",
    "    del numbers[i]\n",
    "    print (\"n=%d, del %d\" % (n,i), numbers)"
   ]
  },
  {
   "cell_type": "markdown",
   "metadata": {},
   "source": [
    "### Advertencia\n",
    "\n",
    "El mensaje en este ejercicio es nunca modificar una lista sobre la que estamos realizando un bucle. La modificación es técnicamente posible, como se muestra arriba, pero realmente necesita saber lo que está haciendo. De lo contrario, experimentará un comportamiento de programa muy extraño."
   ]
  },
  {
   "cell_type": "code",
   "execution_count": null,
   "metadata": {},
   "outputs": [],
   "source": []
  },
  {
   "cell_type": "code",
   "execution_count": null,
   "metadata": {},
   "outputs": [],
   "source": []
  }
 ],
 "metadata": {
  "kernelspec": {
   "display_name": "Python 3",
   "language": "python",
   "name": "python3"
  },
  "language_info": {
   "codemirror_mode": {
    "name": "ipython",
    "version": 3
   },
   "file_extension": ".py",
   "mimetype": "text/x-python",
   "name": "python",
   "nbconvert_exporter": "python",
   "pygments_lexer": "ipython3",
   "version": "3.6.8"
  }
 },
 "nbformat": 4,
 "nbformat_minor": 2
}
