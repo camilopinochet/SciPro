{
 "cells": [
  {
   "cell_type": "markdown",
   "metadata": {},
   "source": [
    "## 2.7 ejercicios"
   ]
  },
  {
   "cell_type": "markdown",
   "metadata": {},
   "source": [
    "### Ejercicio 2.1: Hacer una tabla de conversión Fahrenheit-Celsius\n",
    "\n",
    "Escriba un programa en Python que imprima una tabla con grados Fahrenheit 0, 10, 20,. . . , 100 en la primera columna y los correspondientes grados Celsius en la segunda columna.\n",
    "\n",
    "**Consejo.** Modifique el programa c2f_table_while.py de la Sección 2.1.2.\n",
    "\n",
    "**Nombre de archivo: f2c_table_while.py.**"
   ]
  },
  {
   "cell_type": "markdown",
   "metadata": {},
   "source": [
    "### Ejercicio 2.2: generar una tabla de conversión aproximada Fahrenheit-Celsius\n",
    "\n",
    "Muchas personas usan una fórmula aproximada para convertir rápidamente grados Fahrenheit (F) a grados Celsius (C):\n",
    "\n",
    "$$\n",
    "C \\approx Č = \\frac {(F - 30)}{2}\n",
    "$$\n",
    "\n",
    "(2.2) Modifique el programa del Ejercicio 2.1 para que imprima tres columnas: F, C, y el valor aproximado Cˆ. \n",
    "\n",
    "**Nombre de archivo: f2c_approx_table.py.**"
   ]
  },
  {
   "cell_type": "markdown",
   "metadata": {},
   "source": [
    "### Ejercicio 2.3: Trabajar con una lista\n",
    "\n",
    "Establezca una variable primos en una lista que contenga los números 2, 3, 5, 7, 11 y 13. Escriba cada elemento de la lista en un **bucle for**. Asigne 17 a una variable p y agregue p al final de la lista. Imprime toda la nueva lista. \n",
    "**Nombre de archivo: primes.py.**"
   ]
  },
  {
   "cell_type": "code",
   "execution_count": 2,
   "metadata": {},
   "outputs": [
    {
     "name": "stdout",
     "output_type": "stream",
     "text": [
      "1\n",
      "3\n",
      "5\n",
      "7\n",
      "11\n",
      "13\n",
      "[1, 3, 5, 7, 11, 13, 17]\n"
     ]
    }
   ],
   "source": [
    "primes = [1, 3, 5, 7, 11, 13]\n",
    "\n",
    "for number in primes:\n",
    "    print (number)\n",
    "\n",
    "p = 17\n",
    "primes.append(p)\n",
    "\n",
    "print (primes)"
   ]
  },
  {
   "cell_type": "markdown",
   "metadata": {},
   "source": [
    "### Ejercicio 2.4: Generar números impares\n",
    "\n",
    "Escribe un programa que genere todos los números impares del 1 al n. Establezca n al principio del programa y use un bucle while para calcular los números. (Asegúrese de que si n es un número par, el mayor número impar generado sera n-1).**Nombre de archivo: odd.py.**"
   ]
  },
  {
   "cell_type": "markdown",
   "metadata": {},
   "source": [
    "### Ejercicio 2.5: Suma de los primeros $n$ enteros\n",
    "\n",
    "Escriba un programa que calcule la suma de los enteros desde 1 hasta $n$ incluyendo n. Compara el resultado con la famosa fórmula $n (n + 1) / 2$. **Nombre de archivo: sum_int.py.**"
   ]
  },
  {
   "cell_type": "code",
   "execution_count": 3,
   "metadata": {},
   "outputs": [
    {
     "data": {
      "text/plain": [
       "55.0"
      ]
     },
     "execution_count": 3,
     "metadata": {},
     "output_type": "execute_result"
    }
   ],
   "source": [
    "n=10\n",
    "r=(n*(n+1))/2\n",
    "r"
   ]
  },
  {
   "cell_type": "markdown",
   "metadata": {},
   "source": [
    "### Ejercicio 2.6: Generar coordenadas igualmente espaciadas\n",
    "\n",
    "Queremos generar $n + 1$ coordenadas $x$ igualmente espaciadas en [a, b]. Almacena las coordenadas en una lista.\n",
    "\n",
    "- a) Comience con una lista vacía, use un **bucle for** y agregue cada coordenada a la lista.\n",
    "\n",
    "**Consejo.** Con $n$ intervalos, correspondientes a $n+1$ puntos, en [a, b], cada intervalo tiene la longitud h=(b-a)/n. Las coordenadas pueden entonces ser generadas por la fórmula $x_1 = a + ih, i=0, ..., n+1$.\n",
    "\n",
    "- b) Use una **lista de comprensión** (ver Sección 2.3.5).\n",
    "**Nombre de archivo: coor.py**"
   ]
  },
  {
   "cell_type": "markdown",
   "metadata": {},
   "source": [
    "Generar coordenadas igualmente espaciadas entre 1 y 2. El espacio debe ser 0.01\n",
    "Queremos generar coordenadas x entre 1 y 2 con espacio 0.01. Las coordenadas vienen dados por la fórmula x_i = 1 + ih, donde h = 0.01 e i se ejecuta sobre enteros 0, 1, ..., 100. Calcule los valores x_i y guárdelos en una lista (use un bucle 'for', y agregue cada nuevo valor x_i a una lista, que inicialmente está vacía)."
   ]
  },
  {
   "cell_type": "markdown",
   "metadata": {},
   "source": [
    "### Ejercicio 2.7: Haz una tabla de valores a partir de una fórmula\n",
    "\n",
    "El propósito de este ejercicio es hacer un programa que imprima una tabla bien formateada con los valores de t e y(t), donde\n",
    "\n",
    "$$\n",
    "y_(t) = v_0t - \\frac{1}{2}gt^2\n",
    "$$\n",
    "\n",
    "Use n+1 valores t uniformemente espaciados a lo largo del intervalo [0,2v_0/g].\n",
    "\n",
    "- a) Usa un **bucle for** para producir la tabla.\n",
    "\n",
    "- b) Agregue código con un **bucle while** para producir la tabla.\n",
    "\n",
    "**Consejo** Debido a los posibles errores de redondeo, es posible que deba ajustar el límite superior del **bucle while** para asegurarse de que se incluya el último punto (t=2v_0/g, y=0). **Nombre de archivo: ball_table1.py.**"
   ]
  },
  {
   "cell_type": "markdown",
   "metadata": {},
   "source": [
    "### Ejercicio 2.8: Almacenar valores de una fórmula en listas\n",
    "\n",
    "Este ejercicio pretende producir la misma tabla de números que en el **Ejercicio 2.7**, pero con un código diferente. Primero, almacene los valores t e y en dos listas t e y. A partir de entonces, escriba una tabla bien formateada recorriendo las dos listas con un **bucle for.**\n",
    "\n",
    "**Consejo**. En el **bucle for**, use cualquiera de zip para atravesar las dos listas en paralelo, o use un índice y la construcción del rango.**Nombre de archivo: ball_table2.py.**"
   ]
  },
  {
   "cell_type": "markdown",
   "metadata": {},
   "source": [
    "### Ejercicio 2.9: Simular operaciones en listas a mano\n",
    "\n",
    "Te dan el siguiente programa.\n",
    "\n",
    "Ir a través de cada declaración y explicar lo que está impreso por el programa."
   ]
  },
  {
   "cell_type": "code",
   "execution_count": 27,
   "metadata": {},
   "outputs": [
    {
     "name": "stdout",
     "output_type": "stream",
     "text": [
      "print 1: [1, 3, 5, 7, 11, 13, 17]\n",
      "print 2: -1\n",
      "a cada elemento de a se le suma 1\n",
      "print 3: [2, 4, 6, 8, 12]\n",
      "print 5: -1\n",
      "print 5: [2, 4, 6, 8, 12, 0]\n",
      "print 6: [2, 4, 6, 8, 12, 0, 18]\n",
      "print 7: [0, 18]\n",
      "print 8: [1, 3, 5, 7, 11]\n",
      "print 9: [-1, 17]\n",
      "0\n",
      "18\n",
      "2\n",
      "20\n",
      "4\n",
      "22\n",
      "6\n",
      "24\n",
      "10\n",
      "28\n"
     ]
    }
   ],
   "source": [
    "a = [1, 3, 5, 7, 11] \n",
    "b = [13, 17]\n",
    "c = a + b\n",
    "print (\"print 1:\",c)\n",
    "b[0] = -1\n",
    "print(\"print 2:\",b[0])\n",
    "d = [e+1 for e in a]\n",
    "print (\"a cada elemento de a se le suma 1\")\n",
    "print (\"print 3:\",d)\n",
    "\n",
    "\n",
    "d.append(b[0] + 1)\n",
    "print(\"print 5:\",b[0])\n",
    "print(\"print 5:\",d)\n",
    "\n",
    "\n",
    "d.append(b[-1] + 1)\n",
    "print(\"print 6:\",d)\n",
    "\n",
    "print (\"print 7:\",d[-2:])\n",
    "print(\"print 8:\",a)\n",
    "print(\"print 9:\",b)\n",
    "for e1 in a:\n",
    "    for e2 in b:\n",
    "        print (e1 + e2)"
   ]
  },
  {
   "cell_type": "markdown",
   "metadata": {},
   "source": [
    "### Ejercicio 2.10: Calcular una suma matemática\n",
    "\n",
    "El siguiente código debe calcular la suma\n",
    "\n",
    "$$\n",
    "s = \\sum_{k=1}^{M} \\frac{1}{k}\n",
    "$$"
   ]
  },
  {
   "cell_type": "code",
   "execution_count": 52,
   "metadata": {},
   "outputs": [
    {
     "name": "stdout",
     "output_type": "stream",
     "text": [
      "1 1.0\n",
      "2 1.5\n",
      "3 1.8333333333333333\n",
      "4 2.083333333333333\n",
      "5 2.283333333333333\n",
      "6 2.4499999999999997\n",
      "7 2.5928571428571425\n",
      "8 2.7178571428571425\n",
      "9 2.8289682539682537\n",
      "10 2.9289682539682538\n",
      "sum =  2.9289682539682538\n"
     ]
    }
   ],
   "source": [
    "s = 0\n",
    "k = 1\n",
    "M = 10\n",
    "while k <= M:\n",
    "    s += 1/k\n",
    "    print (k,s)\n",
    "    k += 1\n",
    "print(\"sum = \", s)"
   ]
  },
  {
   "cell_type": "markdown",
   "metadata": {},
   "source": [
    "Este programa no funciona correctamente. ¿Cuáles son los tres errores? (Si intenta ejecutar el programa, no ocurrirá nada en la pantalla. Escriba Ctrl + c, es decir, mantenga presionada la tecla Control (Ctrl) y luego presione la tecla c, para detener el programa). Escriba un programa correcto.\n",
    "\n",
    "**Consejo**. Hay dos formas básicas de encontrar errores en un programa:\n",
    "\n",
    "- 1. Lea el programa cuidadosamente y piense en las consecuencias de cada declaración.\n",
    "- 2. Imprima los resultados intermedios y compárelos con los cálculos manuales.\n",
    "\n",
    "Primero, pruebe el método 1 y encuentre tantos errores como pueda. A partir de entonces, pruebe el método 2 para M=3 y compare la evolución de s con sus propios cálculos manuales.**Nombre de archivo: sum_while.py.**"
   ]
  },
  {
   "cell_type": "markdown",
   "metadata": {},
   "source": [
    "### Ejercicio 2.11: reemplazar un bucle while por un bucle for\n",
    "\n",
    "Reescriba la versión corregida del programa en el Ejercicio 2.10 usando un **bucle for** sobre los valores k en lugar de un **bucle while**. **Nombre de archivo: sum_for.py.**"
   ]
  },
  {
   "cell_type": "code",
   "execution_count": 54,
   "metadata": {},
   "outputs": [
    {
     "name": "stdout",
     "output_type": "stream",
     "text": [
      "1.0\n",
      "1.5\n",
      "1.8333333333333333\n",
      "2.083333333333333\n",
      "2.283333333333333\n",
      "2.4499999999999997\n",
      "2.5928571428571425\n",
      "2.7178571428571425\n",
      "2.8289682539682537\n",
      "2.9289682539682538\n"
     ]
    }
   ],
   "source": [
    "s = 0\n",
    "k = 1\n",
    "M = 10\n",
    "for k in range (1,M+1):\n",
    "    s += 1/k\n",
    "    print (s)\n",
    "    "
   ]
  },
  {
   "cell_type": "code",
   "execution_count": null,
   "metadata": {},
   "outputs": [],
   "source": []
  },
  {
   "cell_type": "code",
   "execution_count": null,
   "metadata": {},
   "outputs": [],
   "source": []
  },
  {
   "cell_type": "code",
   "execution_count": null,
   "metadata": {},
   "outputs": [],
   "source": []
  },
  {
   "cell_type": "code",
   "execution_count": null,
   "metadata": {},
   "outputs": [],
   "source": []
  },
  {
   "cell_type": "code",
   "execution_count": null,
   "metadata": {},
   "outputs": [],
   "source": []
  },
  {
   "cell_type": "code",
   "execution_count": null,
   "metadata": {},
   "outputs": [],
   "source": []
  },
  {
   "cell_type": "code",
   "execution_count": null,
   "metadata": {},
   "outputs": [],
   "source": []
  },
  {
   "cell_type": "code",
   "execution_count": null,
   "metadata": {},
   "outputs": [],
   "source": []
  }
 ],
 "metadata": {
  "kernelspec": {
   "display_name": "Python 3",
   "language": "python",
   "name": "python3"
  },
  "language_info": {
   "codemirror_mode": {
    "name": "ipython",
    "version": 3
   },
   "file_extension": ".py",
   "mimetype": "text/x-python",
   "name": "python",
   "nbconvert_exporter": "python",
   "pygments_lexer": "ipython3",
   "version": "3.6.8"
  }
 },
 "nbformat": 4,
 "nbformat_minor": 2
}
