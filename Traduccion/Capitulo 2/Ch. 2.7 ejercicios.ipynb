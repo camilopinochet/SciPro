{
 "cells": [
  {
   "cell_type": "markdown",
   "metadata": {},
   "source": [
    "## 2.7 Ejercicios"
   ]
  },
  {
   "cell_type": "markdown",
   "metadata": {},
   "source": [
    "### Ejercicio 2.1: Hacer una tabla de conversión Fahrenheit-Celsius\n",
    "\n",
    "Escriba un programa en Python que imprima una tabla con grados Fahrenheit 0, 10, 20,. . . , 100 en la primera columna y los correspondientes grados Celsius en la segunda columna.\n",
    "\n",
    "**Consejo.** Modifique el programa c2f_table_while.py de la Sección 2.1.2.\n",
    "\n",
    "**Nombre de archivo: f2c_table_while.py.**"
   ]
  },
  {
   "cell_type": "code",
   "execution_count": 1,
   "metadata": {},
   "outputs": [
    {
     "name": "stdout",
     "output_type": "stream",
     "text": [
      " F  C\n",
      " 0 -18\n",
      "10 -12\n",
      "20 -7\n",
      "30 -1\n",
      "40 4\n",
      "50 10\n",
      "60 16\n",
      "70 21\n",
      "80 27\n",
      "90 32\n",
      "100 38\n"
     ]
    }
   ],
   "source": [
    "print(\"F  C\".center(5))\n",
    "for fahr in range(0, 101, 10):\n",
    "    cel = ((fahr - 32) * 5.0) / 9\n",
    "    print(\"{:2d} {:.0f}\".format(fahr, cel))\n",
    "    \n"
   ]
  },
  {
   "cell_type": "code",
   "execution_count": 2,
   "metadata": {},
   "outputs": [
    {
     "name": "stdout",
     "output_type": "stream",
     "text": [
      "  0    -17.8\n",
      " 10    -12.2\n",
      " 20     -6.7\n",
      " 30     -1.1\n",
      " 40      4.4\n",
      " 50     10.0\n",
      " 60     15.6\n",
      " 70     21.1\n",
      " 80     26.7\n",
      " 90     32.2\n",
      "100     37.8\n"
     ]
    }
   ],
   "source": [
    "F = 0\n",
    "dC = 10\n",
    "while F <= 100:\n",
    "    C = ((F - 32) * 5.0) / 9\n",
    "    print (\"{:3d} {:8.1f}\".format(F, C))\n",
    "    F = F + dC"
   ]
  },
  {
   "cell_type": "markdown",
   "metadata": {},
   "source": [
    "### Ejercicio 2.2: generar una tabla de conversión aproximada Fahrenheit-Celsius\n",
    "\n",
    "Muchas personas usan una fórmula aproximada para convertir rápidamente grados Fahrenheit (F) a grados Celsius (C):\n",
    "\n",
    "$$\n",
    "C \\approx C` = \\frac {(F - 30)}{2}\n",
    "$$\n",
    "\n",
    "(2.2) Modifique el programa del Ejercicio 2.1 para que imprima tres columnas: F, C, y el valor aproximado Cˆ. \n",
    "\n",
    "**Nombre de archivo: f2c_approx_table.py.**"
   ]
  },
  {
   "cell_type": "code",
   "execution_count": 3,
   "metadata": {},
   "outputs": [
    {
     "name": "stdout",
     "output_type": "stream",
     "text": [
      "  0      -17.8      -15.0\n",
      " 10      -12.2      -10.0\n",
      " 20       -6.7       -5.0\n",
      " 30       -1.1        0.0\n",
      " 40        4.4        5.0\n",
      " 50       10.0       10.0\n",
      " 60       15.6       15.0\n",
      " 70       21.1       20.0\n",
      " 80       26.7       25.0\n",
      " 90       32.2       30.0\n",
      "100       37.8       35.0\n"
     ]
    }
   ],
   "source": [
    "F = 0\n",
    "dC = 10\n",
    "while F <= 100:\n",
    "    C = ((F - 32) * 5.0) / 9\n",
    "    Ca = (F-30)/2\n",
    "    print (\"{:3d} {:10.1f} {:10.1f}\".format(F, C, Ca))\n",
    "    F = F + dC"
   ]
  },
  {
   "cell_type": "code",
   "execution_count": 4,
   "metadata": {},
   "outputs": [
    {
     "name": "stdout",
     "output_type": "stream",
     "text": [
      " F  /  C  /  Ca\n",
      "  0   -18   -15\n",
      " 10   -12   -10\n",
      " 20    -7    -5\n",
      " 30    -1     0\n",
      " 40     4     5\n",
      " 50    10    10\n",
      " 60    16    15\n",
      " 70    21    20\n",
      " 80    27    25\n",
      " 90    32    30\n",
      "100    38    35\n"
     ]
    }
   ],
   "source": [
    "def f2c_approx(F):\n",
    "    return (F - 30.)/2.\n",
    "\n",
    "def f2c_exact(F):\n",
    "    return (F - 32) * 5. /9.\n",
    "\n",
    "F = []\n",
    "C = []\n",
    "Ca = []\n",
    "values = [F, C, Ca]\n",
    "for i in range(0, 101, 10):\n",
    "    F.append(i)\n",
    "    C.append(f2c_exact(i))\n",
    "    Ca.append(f2c_approx(i))\n",
    "\n",
    "print(\"F  /  C  /  Ca\".center(15))\n",
    "for i in range (len(F)):\n",
    "#    print(\"{:3d} {:5.0f} {:5.0f}\".format(F[i], C[i], Ca[i]))\n",
    "    print(f\"{F[i]:3} {C[i]:5.0f} {Ca[i]:5.0f}\")"
   ]
  },
  {
   "cell_type": "markdown",
   "metadata": {},
   "source": [
    "### Ejercicio 2.3: Trabajar con una lista\n",
    "\n",
    "Establezca una variable primos en una lista que contenga los números 2, 3, 5, 7, 11 y 13. Escriba cada elemento de la lista en un **bucle for**. Asigne 17 a una variable p y agregue p al final de la lista. Imprime toda la nueva lista. \n",
    "**Nombre de archivo: primes.py.**"
   ]
  },
  {
   "cell_type": "code",
   "execution_count": 5,
   "metadata": {},
   "outputs": [
    {
     "name": "stdout",
     "output_type": "stream",
     "text": [
      "2\n",
      "3\n",
      "5\n",
      "7\n",
      "11\n",
      "13\n",
      "[2, 3, 5, 7, 11, 13, 17]\n"
     ]
    }
   ],
   "source": [
    "primes = [2, 3, 5, 7, 11, 13]\n",
    "\n",
    "for number in primes:\n",
    "    print (number)\n",
    "\n",
    "p = 17\n",
    "primes.append(p)\n",
    "\n",
    "print (primes)"
   ]
  },
  {
   "cell_type": "markdown",
   "metadata": {},
   "source": [
    "### Ejercicio 2.4: Generar números impares\n",
    "\n",
    "Escribe un programa que genere todos los números impares del 1 al n. Establezca n al principio del programa y use un bucle while para calcular los números. (Asegúrese de que si n es un número par, el mayor número impar generado sera n-1).**Nombre de archivo: odd.py.**"
   ]
  },
  {
   "cell_type": "code",
   "execution_count": 6,
   "metadata": {},
   "outputs": [
    {
     "name": "stdout",
     "output_type": "stream",
     "text": [
      "[1, 3, 5, 7, 9]\n"
     ]
    }
   ],
   "source": [
    "n=9\n",
    "i=0\n",
    "impares = []\n",
    "while i <= n:\n",
    "    if i%2 != 0:\n",
    "        impares.append(i)\n",
    "    i+=1\n",
    "\n",
    "print(impares)\n"
   ]
  },
  {
   "cell_type": "code",
   "execution_count": 7,
   "metadata": {},
   "outputs": [
    {
     "name": "stdout",
     "output_type": "stream",
     "text": [
      "1\n",
      "3\n",
      "5\n",
      "7\n"
     ]
    }
   ],
   "source": [
    "n=9\n",
    "odd=1\n",
    "while odd < n:\n",
    "    print(odd)\n",
    "    odd = odd + 2"
   ]
  },
  {
   "cell_type": "markdown",
   "metadata": {},
   "source": [
    "### Ejercicio 2.5: Suma de los primeros $n$ enteros\n",
    "\n",
    "Escriba un programa que calcule la suma de los enteros desde 1 hasta $n$ incluyendo n. Compara el resultado con la famosa fórmula $n (n + 1) / 2$. **Nombre de archivo: sum_int.py.**"
   ]
  },
  {
   "cell_type": "code",
   "execution_count": 8,
   "metadata": {},
   "outputs": [
    {
     "name": "stdout",
     "output_type": "stream",
     "text": [
      "15\n"
     ]
    }
   ],
   "source": [
    "n = 5\n",
    "i = 0\n",
    "suma = 0\n",
    "while i <= n:\n",
    "    suma += i\n",
    "    i += 1\n",
    "print(suma)"
   ]
  },
  {
   "cell_type": "code",
   "execution_count": 9,
   "metadata": {},
   "outputs": [
    {
     "data": {
      "text/plain": [
       "15.0"
      ]
     },
     "execution_count": 9,
     "metadata": {},
     "output_type": "execute_result"
    }
   ],
   "source": [
    "n = 5\n",
    "r = (n*(n+1))/2\n",
    "r"
   ]
  },
  {
   "cell_type": "markdown",
   "metadata": {},
   "source": [
    "### Ejercicio 2.6: Generar coordenadas igualmente espaciadas\n",
    "\n",
    "Queremos generar $n + 1$ coordenadas $x$ igualmente espaciadas en [a, b]. Almacena las coordenadas en una lista.\n",
    "\n",
    "- a) Comience con una lista vacía, use un **bucle for** y agregue cada coordenada a la lista.\n",
    "\n",
    "**Consejo.** Con $n$ intervalos, correspondientes a $n+1$ puntos, en [a, b], cada intervalo tiene la longitud $h = (b - a) / n$. Las coordenadas pueden entonces ser generadas por la fórmula $x_1 = a + ih$ , $i=0, ..., n+1$.\n",
    "\n",
    "- b) Use una **lista de comprensión** (ver Sección 2.3.5).\n",
    "**Nombre de archivo: coor.py**"
   ]
  },
  {
   "cell_type": "code",
   "execution_count": 10,
   "metadata": {},
   "outputs": [
    {
     "name": "stdout",
     "output_type": "stream",
     "text": [
      "[1.0, 1.1, 1.2, 1.3, 1.4, 1.5, 1.6, 1.7000000000000002, 1.8, 1.9, 2.0]\n"
     ]
    }
   ],
   "source": [
    "a = 1\n",
    "b = 2\n",
    "n = 10\n",
    "h = (b - a) / n\n",
    "xcoor = []\n",
    "for i in range(n + 1):\n",
    "    ih = i * h\n",
    "    xcoor.append(a + ih)\n",
    "print(xcoor)"
   ]
  },
  {
   "cell_type": "markdown",
   "metadata": {},
   "source": [
    "### Ejercicio 2.7: Haz una tabla de valores a partir de una fórmula\n",
    "\n",
    "El propósito de este ejercicio es hacer un programa que imprima una tabla bien formateada con los valores de **$t$** e $y(t)$, donde:\n",
    "\n",
    "$$\n",
    "y_(t) = v_0t - \\frac{1}{2}gt^2\n",
    "$$\n",
    "\n",
    "Use $n+1$ valores t uniformemente espaciados a lo largo del intervalo $[0,2v_0/g]$.\n",
    "\n",
    "**a)** Usa un **bucle for** para generar la tabla.\n",
    "\n",
    "**b)** Agregue código con un **bucle while** para producir la tabla.\n",
    "\n",
    "**Consejo** Debido a los posibles errores de redondeo, es posible que deba ajustar el límite superior del **bucle while** para asegurarse de que se incluya el último punto ($t=2v_0/g, y=0$). **Nombre de archivo: ball_table1.py.**"
   ]
  },
  {
   "cell_type": "code",
   "execution_count": 11,
   "metadata": {},
   "outputs": [
    {
     "name": "stdout",
     "output_type": "stream",
     "text": [
      "1.019367991845056 0.1019367991845056\n",
      "       t      (y)t       \n",
      "0.00000    0.00000\n",
      "0.10194    0.45872\n",
      "0.20387    0.81549\n",
      "0.30581    1.07034\n",
      "0.40775    1.22324\n",
      "0.50968    1.27421\n",
      "0.61162    1.22324\n",
      "0.71356    1.07034\n",
      "0.81549    0.81549\n",
      "0.91743    0.45872\n"
     ]
    }
   ],
   "source": [
    "# Utilice n=10+1 y v=5\n",
    "# Cuando y = 0; t = 2*v_0/g\n",
    "\n",
    "v = 5.\n",
    "g = 9.81\n",
    "t = 0.0\n",
    "n = 10\n",
    "\n",
    "ultimo_punto = 2*(v/g)\n",
    "intervalo = ultimo_punto / n\n",
    "\n",
    "print(ultimo_punto, intervalo)\n",
    "print(\"t      (y)t\".center(25))\n",
    "\n",
    "while t < ultimo_punto:\n",
    "    y = (v * t) - (0.5 * g * t**2)\n",
    "    print (\"{:.5f} {:10.5f}\".format(t,y))\n",
    "    t += intervalo"
   ]
  },
  {
   "cell_type": "markdown",
   "metadata": {},
   "source": [
    "### Ejercicio 2.8: Almacenar valores de una fórmula en listas\n",
    "\n",
    "Este ejercicio pretende producir la misma tabla de números que en el **Ejercicio 2.7**, pero con un código diferente. Primero, almacene los valores t e y en dos listas t e y. A partir de entonces, escriba una tabla bien formateada recorriendo las dos listas con un **bucle for.**\n",
    "\n",
    "**Consejo**. En el **bucle for**, use cualquiera de zip para atravesar las dos listas en paralelo, o use un índice y la construcción del rango.**Nombre de archivo: ball_table2.py.**"
   ]
  },
  {
   "cell_type": "code",
   "execution_count": 12,
   "metadata": {},
   "outputs": [
    {
     "name": "stdout",
     "output_type": "stream",
     "text": [
      "0.00000 0.00000\n",
      "0.10194 0.45872\n",
      "0.20387 0.81549\n",
      "0.30581 1.07034\n",
      "0.40775 1.22324\n",
      "0.50968 1.27421\n",
      "0.61162 1.22324\n",
      "0.71356 1.07034\n",
      "0.81549 0.81549\n",
      "0.91743 0.45872\n"
     ]
    }
   ],
   "source": [
    "v = 5\n",
    "g = 9.81\n",
    "n = 10\n",
    "\n",
    "t = []\n",
    "y = []\n",
    "\n",
    "intv = 0\n",
    "\n",
    "up = 2*(v/g)\n",
    "dt = up / n\n",
    "\n",
    "\n",
    "for i in range (n):\n",
    "    t.append(i*dt)\n",
    "    y.append((v * t[i]) - (0.5 * g * t[i]**2))\n",
    "    print(\"{:5.5f} {:5.5f}\".format(t[i],y[i]))        \n"
   ]
  },
  {
   "cell_type": "code",
   "execution_count": 13,
   "metadata": {},
   "outputs": [
    {
     "name": "stdout",
     "output_type": "stream",
     "text": [
      "     t      y\n",
      "0.00000 0.00000\n",
      "0.10194 0.45872\n",
      "0.20387 0.81549\n",
      "0.30581 1.07034\n",
      "0.40775 1.22324\n",
      "0.50968 1.27421\n",
      "0.61162 1.22324\n",
      "0.71356 1.07034\n",
      "0.81549 0.81549\n",
      "0.91743 0.45872\n"
     ]
    }
   ],
   "source": [
    "v0 = 5\n",
    "g = 9.81\n",
    "n = 10\n",
    "dt = 2 * v0 / g / (n)\n",
    "\n",
    "t = [i * dt for i in range(0, n)]\n",
    "\n",
    "y = [v0 * t[i] - 0.5 * g * t[i] ** 2 for i in range(0, n)]\n",
    "\n",
    "print (\"%6s %6s\" % (\"t\", \"y\"))\n",
    "for tval, yval in zip(t, y):\n",
    "    print (\"%6.5f %6.5f\" % (tval, yval))"
   ]
  },
  {
   "cell_type": "code",
   "execution_count": 14,
   "metadata": {},
   "outputs": [
    {
     "name": "stdout",
     "output_type": "stream",
     "text": [
      "     t      y\n",
      "0.00000 0.00000\n",
      "0.10194 0.45872\n",
      "0.20387 0.81549\n",
      "0.30581 1.07034\n",
      "0.40775 1.22324\n",
      "0.50968 1.27421\n",
      "0.61162 1.22324\n",
      "0.71356 1.07034\n",
      "0.81549 0.81549\n",
      "0.91743 0.45872\n",
      "     t      y\n",
      "0.00000 0.00000\n",
      "0.10194 0.45872\n",
      "0.20387 0.81549\n",
      "0.30581 1.07034\n",
      "0.40775 1.22324\n",
      "0.50968 1.27421\n",
      "0.61162 1.22324\n",
      "0.71356 1.07034\n",
      "0.81549 0.81549\n",
      "0.91743 0.45872\n"
     ]
    }
   ],
   "source": [
    "v0 = 5\n",
    "g = 9.81\n",
    "n = 10\n",
    "dt = 2 * v0 / g / (n)\n",
    "\n",
    "t = [i * dt for i in range(n)]\n",
    "y = [v0 * t[i] - 0.5 * g * t[i] ** 2 for i in range(n)]\n",
    "\n",
    "ty1 = [t, y]\n",
    "\n",
    "print (\"%6s %6s\" % ('t', 'y'))\n",
    "\n",
    "for i in range(n):\n",
    "    print (\"%6.5f %6.5f\" % (ty1[0][i], ty1[1][i]))\n",
    "\n",
    "ty2 = [[tval, yval] for tval, yval in zip(t, y)]\n",
    "\n",
    "print (\"%6s %6s\" % (\"t\", \"y\"))\n",
    "for tval, yval in ty2:\n",
    "    print (\"%6.5f %6.5f\" % (tval, yval))"
   ]
  },
  {
   "cell_type": "markdown",
   "metadata": {},
   "source": [
    "### Ejercicio 2.9: Simular operaciones en listas a mano\n",
    "\n",
    "Te dan el siguiente programa.\n",
    "\n",
    "Ir a través de cada declaración y explicar lo que está impreso por el programa."
   ]
  },
  {
   "cell_type": "code",
   "execution_count": 15,
   "metadata": {},
   "outputs": [
    {
     "name": "stdout",
     "output_type": "stream",
     "text": [
      "print 1: [1, 3, 5, 7, 11, 13, 17]\n",
      "print 2: -1\n",
      "a cada elemento de a se le suma 1\n",
      "print 3: [2, 4, 6, 8, 12]\n",
      "print 5: -1\n",
      "print 5: [2, 4, 6, 8, 12, 0]\n",
      "print 6: [2, 4, 6, 8, 12, 0, 18]\n",
      "print 7: [0, 18]\n",
      "print 8: [1, 3, 5, 7, 11]\n",
      "print 9: [-1, 17]\n",
      "0\n",
      "18\n",
      "2\n",
      "20\n",
      "4\n",
      "22\n",
      "6\n",
      "24\n",
      "10\n",
      "28\n"
     ]
    }
   ],
   "source": [
    "a = [1, 3, 5, 7, 11] \n",
    "b = [13, 17]\n",
    "c = a + b\n",
    "print (\"print 1:\",c)\n",
    "b[0] = -1\n",
    "print(\"print 2:\",b[0])\n",
    "d = [e+1 for e in a]\n",
    "print (\"a cada elemento de a se le suma 1\")\n",
    "print (\"print 3:\",d)\n",
    "\n",
    "\n",
    "d.append(b[0] + 1)\n",
    "print(\"print 5:\",b[0])\n",
    "print(\"print 5:\",d)\n",
    "\n",
    "\n",
    "d.append(b[-1] + 1)\n",
    "print(\"print 6:\",d)\n",
    "\n",
    "print (\"print 7:\",d[-2:])\n",
    "print(\"print 8:\",a)\n",
    "print(\"print 9:\",b)\n",
    "for e1 in a:\n",
    "    for e2 in b:\n",
    "        print (e1 + e2)"
   ]
  },
  {
   "cell_type": "markdown",
   "metadata": {},
   "source": [
    "### Ejercicio 2.10: Calcular una suma matemática\n",
    "\n",
    "El siguiente código debe calcular la suma\n",
    "\n",
    "$$\n",
    "s = \\sum_{k=1}^{M} \\frac{1}{k}\n",
    "$$"
   ]
  },
  {
   "cell_type": "code",
   "execution_count": 16,
   "metadata": {},
   "outputs": [
    {
     "name": "stdout",
     "output_type": "stream",
     "text": [
      " 1    1.00000\n",
      " 2    1.50000\n",
      " 3    1.83333\n",
      " 4    2.08333\n",
      " 5    2.28333\n",
      " 6    2.45000\n",
      " 7    2.59286\n",
      " 8    2.71786\n",
      " 9    2.82897\n",
      "10    2.92897\n"
     ]
    }
   ],
   "source": [
    "s = 0\n",
    "k = 1\n",
    "M = 10\n",
    "while k <= M:\n",
    "    s += 1/k\n",
    "    print (\"{:2d} {:10.5f}\".format(k,s))\n",
    "    k += 1"
   ]
  },
  {
   "cell_type": "markdown",
   "metadata": {},
   "source": [
    "Este programa no funciona correctamente. ¿Cuáles son los tres errores? (Si intenta ejecutar el programa, no ocurrirá nada en la pantalla. Escriba Ctrl + c, es decir, mantenga presionada la tecla Control (Ctrl) y luego presione la tecla c, para detener el programa). Escriba un programa correcto.\n",
    "\n",
    "**Consejo**. Hay dos formas básicas de encontrar errores en un programa:\n",
    "\n",
    "- 1. Lea el programa cuidadosamente y piense en las consecuencias de cada declaración.\n",
    "- 2. Imprima los resultados intermedios y compárelos con los cálculos manuales.\n",
    "\n",
    "Primero, pruebe el método 1 y encuentre tantos errores como pueda. A partir de entonces, pruebe el método 2 para M=3 y compare la evolución de s con sus propios cálculos manuales.**Nombre de archivo: sum_while.py.**"
   ]
  },
  {
   "cell_type": "markdown",
   "metadata": {},
   "source": [
    "### Ejercicio 2.11: reemplazar un bucle while por un bucle for\n",
    "\n",
    "Reescriba la versión corregida del programa en el Ejercicio 2.10 usando un **bucle for** sobre los valores k en lugar de un **bucle while**. **Nombre de archivo: sum_for.py.**"
   ]
  },
  {
   "cell_type": "code",
   "execution_count": 17,
   "metadata": {},
   "outputs": [
    {
     "name": "stdout",
     "output_type": "stream",
     "text": [
      " 1    1.00000\n",
      " 2    1.50000\n",
      " 3    1.83333\n",
      " 4    2.08333\n",
      " 5    2.28333\n",
      " 6    2.45000\n",
      " 7    2.59286\n",
      " 8    2.71786\n",
      " 9    2.82897\n",
      "10    2.92897\n"
     ]
    }
   ],
   "source": [
    "s = 0\n",
    "k = 1\n",
    "M = 10\n",
    "for k in range (1,M+1):\n",
    "    s += 1/k\n",
    "    print (\"{:2d} {:10.5f}\".format(k,s))\n",
    "    "
   ]
  },
  {
   "cell_type": "markdown",
   "metadata": {},
   "source": [
    "### Ejercicio 2.12: Simular un programa a mano.\n",
    "\n",
    "Considere el siguiente programa para calcular con tasas de interés:\n",
    "\n",
    "Este programa calcula la cantidad de años que se necesita para llegar a 1,5 multiplicado por su cantidad inicial a tasa de interés de p \n",
    "\n",
    "Para resolver el error de división de enteros si p es un\n",
    "int, fue necesario cambiar p / 100 a p / 100."
   ]
  },
  {
   "cell_type": "code",
   "execution_count": 18,
   "metadata": {},
   "outputs": [
    {
     "name": "stdout",
     "output_type": "stream",
     "text": [
      "1 105.5\n",
      "2 111.0\n",
      "3 116.5\n",
      "4 122.0\n",
      "5 127.5\n",
      "6 133.0\n",
      "7 138.5\n",
      "8 144.0\n",
      "9 149.5\n",
      "10 155.0\n",
      "10\n"
     ]
    }
   ],
   "source": [
    "monto_inicial = 100\n",
    "i = 5.5  # tasa de interes\n",
    "monto = monto_inicial\n",
    "anos = 0\n",
    "while monto <= 1.5 * monto_inicial:\n",
    "    monto += i / 100. * monto_inicial\n",
    "    anos += 1\n",
    "    print(anos, monto)\n",
    "print (anos)\n"
   ]
  },
  {
   "cell_type": "markdown",
   "metadata": {},
   "source": [
    "- a) Use una calculadora de bolsillo o el pocket interactivo de Python y realice los cálculos del programa a mano. Anote el valor de la cantidad y los años en cada paso del bucle.\n",
    "\n",
    "\n",
    "- b) Establecer **p = 5** en su lugar. ¿Por qué el bucle ahora se ejecutará para siempre? (Aplique Ctrl + c, vea el Ejercicio 2.10, para detener un programa con un ciclo que se ejecute para siempre). Haga que el programa sea sólido contra tales errores.\n",
    "\n",
    "\n",
    "- c) Use el operador += siempre que sea posible en el programa.\n",
    "\n",
    "\n",
    "- d) Explique con palabras qué tipo de problema matemático se resuelve con este programa.\n",
    "\n",
    "**Nombre de archivo: interest_rate_loop.py.**"
   ]
  },
  {
   "cell_type": "markdown",
   "metadata": {},
   "source": [
    "### Ejercicio 2.13: Explorar la documentación de Python\n",
    "\n",
    "Supongamos que desea calcular con la función de seno inverso: $sin^1 x$.\n",
    "\n",
    "¿Cómo se hace eso en un programa de Python?\n",
    "\n",
    "**Consejo**. El módulo matemático tiene una función senoidal inversa. Encuentre el nombre correcto de la función buscando el contenido del módulo en el documento en línea de Python Standard Library(7) o use pydoc, consulte la Sección 2.6.3. **Nombre de archivo: inverse_sine.py**"
   ]
  },
  {
   "cell_type": "code",
   "execution_count": 19,
   "metadata": {},
   "outputs": [
    {
     "name": "stdout",
     "output_type": "stream",
     "text": [
      "      0.00       0.00\n",
      "      0.10       5.74\n",
      "      0.20      11.54\n",
      "      0.30      17.46\n",
      "      0.40      23.58\n",
      "      0.50      30.00\n",
      "      0.60      36.87\n",
      "      0.70      44.43\n",
      "      0.80      53.13\n",
      "      0.90      64.16\n",
      "      1.00      90.00\n"
     ]
    }
   ],
   "source": [
    "import math\n",
    "n = 10\n",
    "x_lista = []\n",
    "for i in range (0,n+1):\n",
    "    x_lista.append(i*1/n)\n",
    "\n",
    "for x in x_lista:\n",
    "    print(\"{:10.2f} {:10.2f}\".format(x,(math.asin(x)*180/math.pi)))"
   ]
  },
  {
   "cell_type": "markdown",
   "metadata": {},
   "source": [
    "### Ejercicio 2.14: Indexar listas anidadas\n",
    "\n",
    "Definimos la siguiente lista anidada:\n",
    "\n",
    "    q = [[’a’, ’b’, ’c’], [’d ’,’ e ’, ’f’], [’g’, ’h’]]\n",
    "\n",
    "a)  Indexe esta lista para extraer\n",
    "\n",
    "    1) la letra a;\n",
    "    2) la lista [’d’, ’e’, ’f ’]; \n",
    "    3) el último elemento h; \n",
    "    4) El elemento d. Explica por qué q[-1][-2] tiene el valor g.\n",
    "\n",
    "b) Podemos visitar todos los elementos de q usando este bucle anidado para:"
   ]
  },
  {
   "cell_type": "code",
   "execution_count": 20,
   "metadata": {},
   "outputs": [
    {
     "name": "stdout",
     "output_type": "stream",
     "text": [
      "a\n",
      "['d', 'e', 'f']\n",
      "h\n",
      "d\n"
     ]
    }
   ],
   "source": [
    "q = [[\"a\",\"b\",\"c\"], [\"d\",\"e\",\"f\"], [\"g\",\"h\"]]\n",
    "print(q[0][0])\n",
    "print(q[1])\n",
    "print(q[-1][-1])\n",
    "print(q[1][0])"
   ]
  },
  {
   "cell_type": "markdown",
   "metadata": {},
   "source": [
    "¿Qué tipo de objetos son i y j?\n",
    "\n",
    "**Nombre de archivo: index_nested_list.py.**"
   ]
  },
  {
   "cell_type": "code",
   "execution_count": 21,
   "metadata": {},
   "outputs": [
    {
     "name": "stdout",
     "output_type": "stream",
     "text": [
      "a\n",
      "b\n",
      "c\n",
      "d\n",
      "e\n",
      "f\n",
      "g\n",
      "h\n"
     ]
    }
   ],
   "source": [
    "# ¿Qué tipo de objetos son i y j?\n",
    "\n",
    "q = [[\"a\",\"b\",\"c\"], [\"d\",\"e\",\"f\"], [\"g\",\"h\"]]\n",
    "for i in q:\n",
    "    for j in range (len(i)):\n",
    "        print(i[j])"
   ]
  },
  {
   "cell_type": "markdown",
   "metadata": {},
   "source": [
    "### Ejercicio 2.15: Almacenar datos en listas.\n",
    "\n",
    "Modifique el programa del Ejercicio 2.2 para que todos los valores F, C y Cˆ se almacenen en listas separadas F, C y C_approx, respectivamente.\n",
    "\n",
    "Luego haga una lista anidada **conversion** para que la conversion[i] contenga una fila en la tabla: [F [i], C [i], C_approx [i]]. Finalmente, deje que el programa recorra la lista conversion y escriba la misma tabla que en el Ejercicio 2.2. **Nombre de archivo: f2c_approx_lists.py.**"
   ]
  },
  {
   "cell_type": "code",
   "execution_count": 22,
   "metadata": {},
   "outputs": [
    {
     "name": "stdout",
     "output_type": "stream",
     "text": [
      "  0      -17.8      -15.0\n",
      " 10      -12.2      -10.0\n",
      " 20       -6.7       -5.0\n",
      " 30       -1.1        0.0\n",
      " 40        4.4        5.0\n",
      " 50       10.0       10.0\n",
      " 60       15.6       15.0\n",
      " 70       21.1       20.0\n",
      " 80       26.7       25.0\n",
      " 90       32.2       30.0\n",
      "100       37.8       35.0\n"
     ]
    }
   ],
   "source": [
    "n = 110\n",
    "F = []\n",
    "C = []\n",
    "C_approx = []\n",
    "dC = 10\n",
    "\n",
    "for i in range(0,n,dC):\n",
    "    F.append(i)\n",
    "    C.append(((i - 32) * 5.0) / 9)\n",
    "    C_approx.append((i-30)/2)\n",
    "    \n",
    "for i in range(len(F)):\n",
    "    print (\"{:3d} {:10.1f} {:10.1f}\".format(F[i], C[i], C_approx[i]))\n"
   ]
  },
  {
   "cell_type": "code",
   "execution_count": 23,
   "metadata": {},
   "outputs": [
    {
     "name": "stdout",
     "output_type": "stream",
     "text": [
      "    0.00      -17.8      -15.0\n",
      "   10.00      -12.2      -10.0\n",
      "   20.00       -6.7       -5.0\n",
      "   30.00       -1.1        0.0\n",
      "   40.00        4.4        5.0\n",
      "   50.00       10.0       10.0\n",
      "   60.00       15.6       15.0\n",
      "   70.00       21.1       20.0\n",
      "   80.00       26.7       25.0\n",
      "   90.00       32.2       30.0\n",
      "  100.00       37.8       35.0\n"
     ]
    }
   ],
   "source": [
    "n = 110\n",
    "F = []\n",
    "C = []\n",
    "C_approx = []\n",
    "dC = 10\n",
    "\n",
    "for i in range(int(n/dC)):\n",
    "    F.append(i*dC)\n",
    "    C.append(((F[i] - 32) * 5.0) / 9)\n",
    "    C_approx.append((F[i]-30)/2)\n",
    "\n",
    "    print (\"{:8.2F} {:10.1f} {:10.1f}\".format(F[i], C[i], C_approx[i]))\n"
   ]
  },
  {
   "cell_type": "code",
   "execution_count": 24,
   "metadata": {},
   "outputs": [
    {
     "name": "stdout",
     "output_type": "stream",
     "text": [
      "'------------------------'\n",
      "'   'F'      'C'     '~C''\n",
      "'  0.00   -17.78   -15.00'\n",
      "' 10.00   -12.22   -10.00'\n",
      "' 20.00    -6.67    -5.00'\n",
      "' 30.00    -1.11     0.00'\n",
      "' 40.00     4.44     5.00'\n",
      "' 50.00    10.00    10.00'\n",
      "' 60.00    15.56    15.00'\n",
      "' 70.00    21.11    20.00'\n",
      "' 80.00    26.67    25.00'\n",
      "' 90.00    32.22    30.00'\n",
      "'100.00    37.78    35.00'\n",
      "'------------------------'\n"
     ]
    }
   ],
   "source": [
    "F = [i for i in range(0, 110, 10)]\n",
    "C = [(5. / 9) * (F[i] - 32) for i in range(len(F))]\n",
    "C_approx = [0.5 * (F[i] - 30) for i in range(len(F))]\n",
    "\n",
    "conversion = [[Fval, Cval, C_approxval]\n",
    "              for Fval, Cval, C_approxval in zip(F, C, C_approx)]\n",
    "\n",
    "print (\"'------------------------'\")\n",
    "print (\"'%6s %8s %8s'\" % (\"'F'\", \"'C'\", \"'~C'\"))  # column headers\n",
    "for Fval, Cval, C_approxval in conversion:\n",
    "    print (\"'%6.2f %8.2f %8.2f'\" % (Fval, Cval, C_approxval))\n",
    "print (\"'------------------------'\")"
   ]
  },
  {
   "cell_type": "markdown",
   "metadata": {},
   "source": [
    "### Ejercicio 2.16: Almacenar datos en una lista anidada\n",
    "\n",
    "**a)** Calcule dos listas de valores t e y como se explica en el Ejercicio 2.8. Almacene las dos listas en una nueva lista anidada ty1 tal que ty1 [0] y ty1 [1] correspondan a las dos listas. Escriba una tabla con los valores t e y en dos columnas haciendo un bucle sobre los datos en la lista ty1. Cada número debe escribirse con dos decimales.\n",
    "\n",
    "**b)** Haga una lista ty2 que contenga cada fila en la tabla de los valores de ty e (ty1 es una lista de columnas de la tabla, mientras que ty2 es una lista de filas de la tabla, como se explica en la Sección 2.4). Recorra la lista ty2 y escriba los valores t y y\n",
    "Con dos decimales cada uno. **Nombre de archivo: ball_table3.py.**"
   ]
  },
  {
   "cell_type": "code",
   "execution_count": 25,
   "metadata": {},
   "outputs": [
    {
     "name": "stdout",
     "output_type": "stream",
     "text": [
      "0.00000 0.00000\n",
      "0.10194 0.45872\n",
      "0.20387 0.81549\n",
      "0.30581 1.07034\n",
      "0.40775 1.22324\n",
      "0.50968 1.27421\n",
      "0.61162 1.22324\n",
      "0.71356 1.07034\n",
      "0.81549 0.81549\n",
      "0.91743 0.45872\n"
     ]
    }
   ],
   "source": [
    "v = 5\n",
    "g = 9.81\n",
    "n = 10\n",
    "t, y = [],[]\n",
    "up = 2*(v/g)\n",
    "dt = up / n\n",
    "\n",
    "for i in range (n):\n",
    "    t.append(i*dt)\n",
    "    y.append((v * t[i]) - (0.5 * g * t[i]**2))\n",
    "\n",
    "ty1 = [[tval, yval] for tval, yval in zip (t, y)]\n",
    "for tval, yval in ty1:\n",
    "    print(\"{:.5f} {:.5f}\".format(tval, yval))"
   ]
  },
  {
   "cell_type": "code",
   "execution_count": 26,
   "metadata": {},
   "outputs": [
    {
     "name": "stdout",
     "output_type": "stream",
     "text": [
      "0.000000 0.000000\n",
      "0.101937 0.458716\n",
      "0.203874 0.815494\n",
      "0.305810 1.070336\n",
      "0.407747 1.223242\n",
      "0.509684 1.274210\n",
      "0.611621 1.223242\n",
      "0.713558 1.070336\n",
      "0.815494 0.815494\n",
      "0.917431 0.458716\n"
     ]
    }
   ],
   "source": [
    "# Otro metodo\n",
    "\n",
    "v = 5\n",
    "g = 9.81\n",
    "n = 10\n",
    "t, y = [],[]\n",
    "up = 2*(v/g)\n",
    "dt = up / n\n",
    "\n",
    "for i in range (n):\n",
    "    t.append(i*dt)\n",
    "    y.append((v * t[i]) - (0.5 * g * t[i]**2))\n",
    "    \n",
    "ty1 = [t, y]\n",
    "for j in range (len(t)):\n",
    "    print(\"{:.6f} {:.6f}\".format(ty1[0][j],ty1[1][j]))"
   ]
  },
  {
   "cell_type": "markdown",
   "metadata": {},
   "source": [
    "### Ejercicio 2.17: Valores de expresiones booleanas.\n",
    "\n",
    "Explica el resultado de cada una de las siguientes expresiones booleanas:\n"
   ]
  },
  {
   "cell_type": "code",
   "execution_count": 27,
   "metadata": {},
   "outputs": [
    {
     "data": {
      "text/plain": [
       "True"
      ]
     },
     "execution_count": 27,
     "metadata": {},
     "output_type": "execute_result"
    }
   ],
   "source": [
    "C = 41\n",
    "C == 40\n",
    "C != 40 and C < 41 \n",
    "C != 40 or C < 41\n",
    "not C == 40\n",
    "not C > 40\n",
    "C <= 41\n",
    "not False\n",
    "True and False\n",
    "False or True\n",
    "False or False or False \n",
    "True and True and False \n",
    "False == 0\n",
    "True == 0\n",
    "True == 1"
   ]
  },
  {
   "cell_type": "markdown",
   "metadata": {},
   "source": [
    "**Nota**\n",
    "Tiene sentido comparar True y False con los enteros 0 y 1, pero no con otros enteros (por ejemplo, True == 12 es Falso, aunque el entero 12 se evalúa como True en un contexto booleano, como en bool (12) o si 12)."
   ]
  },
  {
   "cell_type": "markdown",
   "metadata": {},
   "source": [
    "### Ejercicio 2.18: Explorar errores de redondeo de una gran cantidad de operaciones inversas\n",
    "\n",
    "Quizás haya intentado pulsar la tecla de la raíz cuadrada en una calculadora varias veces y luego vuelva a cuadrar el número una cantidad igual de veces. Este conjunto de operaciones matemáticas inversas, por supuesto, debería devolverle al valor inicial para los cálculos, pero esto no siempre sucede. Para evitar el tedioso apretado de las teclas de la calculadora, podemos dejar que una computadora automatice el proceso.\n",
    "\n",
    "Aquí hay un programa apropiado:"
   ]
  },
  {
   "cell_type": "code",
   "execution_count": 28,
   "metadata": {},
   "outputs": [
    {
     "name": "stdout",
     "output_type": "stream",
     "text": [
      " 0 times sqrt and **2: 9.0000000000000000\n",
      " 1 times sqrt and **2: 9.0000000000000000\n",
      " 2 times sqrt and **2: 8.9999999999999964\n",
      " 3 times sqrt and **2: 8.9999999999999929\n",
      " 4 times sqrt and **2: 9.0000000000000071\n",
      " 5 times sqrt and **2: 9.0000000000000302\n",
      " 6 times sqrt and **2: 9.0000000000000302\n",
      " 7 times sqrt and **2: 9.0000000000000302\n",
      " 8 times sqrt and **2: 9.0000000000002505\n",
      " 9 times sqrt and **2: 8.9999999999997762\n",
      "10 times sqrt and **2: 8.9999999999997762\n",
      "11 times sqrt and **2: 8.9999999999997762\n",
      "12 times sqrt and **2: 8.9999999999997762\n",
      "13 times sqrt and **2: 9.0000000000078302\n",
      "14 times sqrt and **2: 9.0000000000240234\n",
      "15 times sqrt and **2: 8.9999999999914682\n",
      "16 times sqrt and **2: 9.0000000000568612\n",
      "17 times sqrt and **2: 9.0000000001873861\n",
      "18 times sqrt and **2: 8.9999999999266507\n",
      "19 times sqrt and **2: 9.0000000004491323\n"
     ]
    }
   ],
   "source": [
    "from math import sqrt\n",
    "\n",
    "for n in range(20):\n",
    "    r = 9.0\n",
    "    for i in range(n):\n",
    "        r = sqrt(r)\n",
    "    for i in range(n):\n",
    "        r = r**2\n",
    "    print (\"{:2d} times sqrt and **2: {:.16f}\".format(n, r))"
   ]
  },
  {
   "cell_type": "markdown",
   "metadata": {},
   "source": [
    "Explique con palabras lo que hace el programa. A continuación, ejecute el programa. ¡Los errores de redondeo están aquí destruyendo completamente los cálculos cuando n es lo suficientemente grande! Investigue el caso cuando regresemos a 1 en lugar de 2 fijando un valor de n donde esto ocurra e imprimiendo r en ambos bucles sobre i. ¿Puedes explicar ahora por qué volvemos a 1 y no a 2? **Nombre de archivo: repeat_sqrt.py.**"
   ]
  },
  {
   "cell_type": "markdown",
   "metadata": {},
   "source": [
    "### Ejercicio 2.19: Explora lo que puede ser cero en una computadora\n",
    "\n",
    "Escriba el siguiente código y ejecútelo."
   ]
  },
  {
   "cell_type": "code",
   "execution_count": 29,
   "metadata": {},
   "outputs": [
    {
     "name": "stdout",
     "output_type": "stream",
     "text": [
      "... 1.0\n",
      "... 0.5\n",
      "... 0.25\n",
      "... 0.125\n",
      "... 0.0625\n",
      "... 0.03125\n",
      "... 0.015625\n",
      "... 0.0078125\n",
      "... 0.00390625\n",
      "... 0.001953125\n",
      "... 0.0009765625\n",
      "... 0.00048828125\n",
      "... 0.000244140625\n",
      "... 0.0001220703125\n",
      "... 6.103515625e-05\n",
      "... 3.0517578125e-05\n",
      "... 1.52587890625e-05\n",
      "... 7.62939453125e-06\n",
      "... 3.814697265625e-06\n",
      "... 1.9073486328125e-06\n",
      "... 9.5367431640625e-07\n",
      "... 4.76837158203125e-07\n",
      "... 2.384185791015625e-07\n",
      "... 1.1920928955078125e-07\n",
      "... 5.960464477539063e-08\n",
      "... 2.9802322387695312e-08\n",
      "... 1.4901161193847656e-08\n",
      "... 7.450580596923828e-09\n",
      "... 3.725290298461914e-09\n",
      "... 1.862645149230957e-09\n",
      "... 9.313225746154785e-10\n",
      "... 4.656612873077393e-10\n",
      "... 2.3283064365386963e-10\n",
      "... 1.1641532182693481e-10\n",
      "... 5.820766091346741e-11\n",
      "... 2.9103830456733704e-11\n",
      "... 1.4551915228366852e-11\n",
      "... 7.275957614183426e-12\n",
      "... 3.637978807091713e-12\n",
      "... 1.8189894035458565e-12\n",
      "... 9.094947017729282e-13\n",
      "... 4.547473508864641e-13\n",
      "... 2.2737367544323206e-13\n",
      "... 1.1368683772161603e-13\n",
      "... 5.684341886080802e-14\n",
      "... 2.842170943040401e-14\n",
      "... 1.4210854715202004e-14\n",
      "... 7.105427357601002e-15\n",
      "... 3.552713678800501e-15\n",
      "... 1.7763568394002505e-15\n",
      "... 8.881784197001252e-16\n",
      "... 4.440892098500626e-16\n",
      "... 2.220446049250313e-16\n",
      "eps final 1.1102230246251565e-16\n"
     ]
    }
   ],
   "source": [
    "eps = 1.0\n",
    "while 1.0 != 1.0 + eps:\n",
    "    print(\"...\", eps)\n",
    "    eps /= 2.0\n",
    "print(\"eps final\", eps)"
   ]
  },
  {
   "cell_type": "markdown",
   "metadata": {},
   "source": [
    "Explique con palabras lo que hace el código, línea por línea. Luego examina la salida. ¿Cómo puede ser que la “ecuación” **1!= 1 + eps** no sea True? O, en otras palabras, que un número de aproximadamente $10^{16}$ (el valor final de **eps** cuando finaliza el bucle) da el mismo resultado que si eps fuera cero? \n",
    "**Nombre de archivo: machine_zero.py.**"
   ]
  },
  {
   "cell_type": "markdown",
   "metadata": {},
   "source": [
    "**Observaciones**. El valor de eps distinto a cero calculado anteriormente se denomina epsilon máquina o máquina cero y es un parámetro importante que se debe conocer, especialmente cuando se aplican ciertas técnicas matemáticas para controlar los errores de redondeo."
   ]
  },
  {
   "cell_type": "markdown",
   "metadata": {},
   "source": [
    "### Ejercicio 2.20: Compara dos números reales con una tolerancia.\n",
    "\n",
    "Ejecuta el siguiente programa:"
   ]
  },
  {
   "cell_type": "code",
   "execution_count": 30,
   "metadata": {},
   "outputs": [
    {
     "name": "stdout",
     "output_type": "stream",
     "text": [
      "resultado equivocado\n"
     ]
    }
   ],
   "source": [
    "a = 1/947.0*947\n",
    "b = 1\n",
    "if a != b:\n",
    "    print(\"resultado equivocado\")"
   ]
  },
  {
   "cell_type": "code",
   "execution_count": 31,
   "metadata": {},
   "outputs": [
    {
     "name": "stdout",
     "output_type": "stream",
     "text": [
      "resultado equivocado\n"
     ]
    }
   ],
   "source": [
    "a = 1/947.0*947\n",
    "b = 1\n",
    "if abs (a - b) < 1e-15:\n",
    "    print(\"resultado equivocado\")"
   ]
  },
  {
   "cell_type": "markdown",
   "metadata": {},
   "source": [
    "La lección aprendida de este programa es que nunca se deben comparar dos objetos de punto flotante directamente usando a == b o a != b, porque los errores de redondeo rápidamente hacen que dos valores matemáticos idénticos no coincidan en una computadora. Un mejor resultado es probar si **abs(a - b) < tol**, donde **tol** es un número muy pequeño.\n",
    "\n",
    "Modificar la prueba según esta idea. **Nombre de archivo:compare_floats.py.**"
   ]
  },
  {
   "cell_type": "markdown",
   "metadata": {},
   "source": [
    "### Ejercicio 2.21: interpretar un código\n",
    "\n",
    "La función **time** del módulo **time** devuelve el número de segundos desde una fecha en particular (llamada Época, que es el 1 de enero de 1970, en muchos tipos de computadoras). Por lo tanto, los programas de Python pueden usar time.time () para imitar un cronómetro. Otra función, time.sleep (n) hace que el programa se detenga durante n segundos y es útil para insertar una pausa. Usa esta información para explicar lo que hace el siguiente código:\n"
   ]
  },
  {
   "cell_type": "code",
   "execution_count": 32,
   "metadata": {},
   "outputs": [
    {
     "name": "stdout",
     "output_type": "stream",
     "text": [
      "1556659574.751978\n",
      "....I like while loops!\n",
      "1556659576.7541661\n",
      "....I like while loops!\n",
      "1556659578.759061\n",
      "....I like while loops!\n",
      "1556659580.760437\n",
      "....I like while loops!\n",
      "1556659582.760688\n",
      "....I like while loops!\n",
      "Oh, no - the loop is over.\n"
     ]
    }
   ],
   "source": [
    "import time\n",
    "\n",
    "t0 = time.time()\n",
    "while time.time() - t0 < 10:\n",
    "    print(time.time())\n",
    "    print (\"....I like while loops!\")\n",
    "    time.sleep(2)\n",
    "print (\"Oh, no - the loop is over.\")"
   ]
  },
  {
   "cell_type": "markdown",
   "metadata": {},
   "source": [
    "¿Cuántas veces se ejecuta la instrucción de impresión dentro del bucle? Ahora, copie el segmento de código y cambie el signo `<` en el estado del bucle a un signo `>`. Explica qué pasa ahora. **Nombre de archivo: time_while.py.**"
   ]
  },
  {
   "cell_type": "markdown",
   "metadata": {},
   "source": [
    "### Ejercicio 2.22: Explorar problemas con sangría inexacta\n",
    "\n",
    "Escriba el siguiente programa en un archivo y compruebe cuidadosamente que tiene exactamente los mismos espacios:"
   ]
  },
  {
   "cell_type": "code",
   "execution_count": 33,
   "metadata": {},
   "outputs": [
    {
     "name": "stdout",
     "output_type": "stream",
     "text": [
      "-10 14.0\n",
      "-8 17.6\n",
      "-6 21.2\n",
      "-4 24.8\n",
      "-2 28.4\n",
      "0 32.0\n",
      "2 35.6\n",
      "4 39.2\n",
      "6 42.8\n",
      "8 46.4\n",
      "10 50.0\n"
     ]
    }
   ],
   "source": [
    "C = -10\n",
    "dC = 2\n",
    "while C <= 10:\n",
    "    F = (9.0/5) * C + 32\n",
    "    print(C,F)\n",
    "    C += dC"
   ]
  },
  {
   "cell_type": "markdown",
   "metadata": {},
   "source": [
    "Ejecuta el programa. ¿Cuál es el primer problema? Corregir ese error. ¿Cuál es el siguiente problema? ¿Cuál es la causa de ese problema? (Consulte el Ejercicio 2.10 para saber cómo detener un programa que cuelga). **Nombre de archivo: indentation.py.**\n",
    "\n",
    "\n",
    "**Observaciones**. ¡La lección aprendida de este ejercicio es que uno tiene que tener mucho cuidado con la sangría en los programas Python! Otros lenguajes informáticos generalmente encierran bloques que pertenecen a bucles entre llaves, paréntesis o marcas de inicio y fin. La convención de Python con el uso exclusivo de indentación contribuye a un código visualmente atractivo y fácil de leer, al costo de requerir una actitud pedante para los espacios en blanco del programador."
   ]
  },
  {
   "cell_type": "markdown",
   "metadata": {},
   "source": [
    "### Ejercicio 2.23: Explorar la puntuación en los programas de Python\n",
    "\n",
    "Algunas de las siguientes tareas funcionan y otras no. Explique en cada caso por qué la asignación funciona/falla y, si funciona, a qué tipo de objeto x se refiere y cuál es el valor si hacemos una impresión x.\n",
    "\n",
    "**Consejo**. Explora las declaraciones en un shell interactivo de Python. Nombre de archivo: puntuación. *."
   ]
  },
  {
   "cell_type": "code",
   "execution_count": 34,
   "metadata": {},
   "outputs": [],
   "source": [
    "x = 1"
   ]
  },
  {
   "cell_type": "code",
   "execution_count": 35,
   "metadata": {},
   "outputs": [],
   "source": [
    "x = 1."
   ]
  },
  {
   "cell_type": "code",
   "execution_count": 36,
   "metadata": {},
   "outputs": [],
   "source": [
    "x = 1;"
   ]
  },
  {
   "cell_type": "code",
   "execution_count": 37,
   "metadata": {},
   "outputs": [
    {
     "ename": "SyntaxError",
     "evalue": "invalid syntax (<ipython-input-37-b71ff8ef2c2a>, line 1)",
     "output_type": "error",
     "traceback": [
      "\u001b[0;36m  File \u001b[0;32m\"<ipython-input-37-b71ff8ef2c2a>\"\u001b[0;36m, line \u001b[0;32m1\u001b[0m\n\u001b[0;31m    x = 1!\u001b[0m\n\u001b[0m         ^\u001b[0m\n\u001b[0;31mSyntaxError\u001b[0m\u001b[0;31m:\u001b[0m invalid syntax\n"
     ]
    }
   ],
   "source": [
    "x = 1!"
   ]
  },
  {
   "cell_type": "code",
   "execution_count": 38,
   "metadata": {},
   "outputs": [
    {
     "ename": "SyntaxError",
     "evalue": "invalid syntax (<ipython-input-38-867163a4e0c5>, line 1)",
     "output_type": "error",
     "traceback": [
      "\u001b[0;36m  File \u001b[0;32m\"<ipython-input-38-867163a4e0c5>\"\u001b[0;36m, line \u001b[0;32m1\u001b[0m\n\u001b[0;31m    x = 1?\u001b[0m\n\u001b[0m         ^\u001b[0m\n\u001b[0;31mSyntaxError\u001b[0m\u001b[0;31m:\u001b[0m invalid syntax\n"
     ]
    }
   ],
   "source": [
    "x = 1?"
   ]
  },
  {
   "cell_type": "code",
   "execution_count": 39,
   "metadata": {},
   "outputs": [
    {
     "ename": "SyntaxError",
     "evalue": "invalid syntax (<ipython-input-39-52ff38a728ac>, line 1)",
     "output_type": "error",
     "traceback": [
      "\u001b[0;36m  File \u001b[0;32m\"<ipython-input-39-52ff38a728ac>\"\u001b[0;36m, line \u001b[0;32m1\u001b[0m\n\u001b[0;31m    x = 1:\u001b[0m\n\u001b[0m         ^\u001b[0m\n\u001b[0;31mSyntaxError\u001b[0m\u001b[0;31m:\u001b[0m invalid syntax\n"
     ]
    }
   ],
   "source": [
    "x = 1:"
   ]
  },
  {
   "cell_type": "code",
   "execution_count": 40,
   "metadata": {},
   "outputs": [],
   "source": [
    "x = 1,"
   ]
  },
  {
   "cell_type": "markdown",
   "metadata": {},
   "source": [
    "### Ejercicio 2.24: Investigar un bucle for sobre una lista de cambios\n",
    "\n",
    "Estudie la siguiente sesión interactiva y explique en detalle lo que sucede en cada paso del bucle, y use esta explicación para comprender el resultado."
   ]
  },
  {
   "cell_type": "code",
   "execution_count": 41,
   "metadata": {},
   "outputs": [
    {
     "name": "stdout",
     "output_type": "stream",
     "text": [
      "[0, 1, 2, 3, 4, 5, 6, 7, 8, 9]\n"
     ]
    }
   ],
   "source": [
    "numbers = list(range(10))\n",
    "print (numbers)"
   ]
  },
  {
   "cell_type": "code",
   "execution_count": 42,
   "metadata": {},
   "outputs": [
    {
     "name": "stdout",
     "output_type": "stream",
     "text": [
      "n=0, del 5 [0, 1, 2, 3, 4, 6, 7, 8, 9]\n",
      "n=1, del 4 [0, 1, 2, 3, 6, 7, 8, 9]\n",
      "n=2, del 4 [0, 1, 2, 3, 7, 8, 9]\n",
      "n=3, del 3 [0, 1, 2, 7, 8, 9]\n",
      "n=8, del 3 [0, 1, 2, 8, 9]\n"
     ]
    }
   ],
   "source": [
    "for n in numbers:\n",
    "    i = int(len(numbers)/2)\n",
    "    del numbers[i]\n",
    "    print (\"n=%d, del %d\" % (n,i), numbers)"
   ]
  },
  {
   "cell_type": "markdown",
   "metadata": {},
   "source": [
    "### Advertencia\n",
    "\n",
    "El mensaje en este ejercicio es nunca modificar una lista sobre la que estamos realizando un bucle. La modificación es técnicamente posible, como se muestra arriba, pero realmente necesita saber lo que está haciendo. De lo contrario, experimentará un comportamiento de programa muy extraño."
   ]
  }
 ],
 "metadata": {
  "kernelspec": {
   "display_name": "Python 3",
   "language": "python",
   "name": "python3"
  },
  "language_info": {
   "codemirror_mode": {
    "name": "ipython",
    "version": 3
   },
   "file_extension": ".py",
   "mimetype": "text/x-python",
   "name": "python",
   "nbconvert_exporter": "python",
   "pygments_lexer": "ipython3",
   "version": "3.6.8"
  }
 },
 "nbformat": 4,
 "nbformat_minor": 2
}
