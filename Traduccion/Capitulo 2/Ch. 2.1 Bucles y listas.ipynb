{
 "cells": [
  {
   "cell_type": "markdown",
   "metadata": {},
   "source": [
    "## Ch. 2.1 Bucles y listas\n",
    "\n",
    "\n",
    "Este capítulo explica cómo las tareas repetitivas en un programa se pueden automatizar mediante bucles. También introducimos objetos de lista para almacenar y procesar colecciones de datos con un orden específico. Los bucles y las listas, junto con las funciones y las pruebas del Capítulo 3, establecen la base de programación fundamental para el resto del libro. Los programas asociados con el capítulo se encuentran en la carpeta src / looplist1.\n",
    "\n",
    "\n",
    "### 2.1 While loops\n",
    "\n",
    "Nuestra tarea ahora es imprimir una tabla de conversión con grados Celsius en la primera columna de la tabla y los grados Fahrenheit correspondientes en la segunda columna. Tal tabla puede verse así:\n",
    "\n",
    "    -20  -4.0\n",
    "    -15   5.0\n",
    "    -10  14.0\n",
    "    -5  23.0\n",
    "     0  32.0\n",
    "     5  41.0\n",
    "    10  50.0\n",
    "    15  59.0\n",
    "    20  68.0\n",
    "    25  77.0\n",
    "    30  86.0\n",
    "    35  95.0\n",
    "    40 104.0\n",
    "    \n",
    "para la tabla de arriba. Usando tres instrucciones por línea en el programa, para un diseño compacto del código, podemos escribir todo el programa como:\n",
    "\n",
    "    C=-20; F=9.0/5*C+32; printC,F \n",
    "    C=-15; F=9.0/5*C+32; printC,F \n",
    "    C=-10; F=9.0/5*C+32; printC,F \n",
    "    C= -5; F=9.0/5*C+32; printC,F \n",
    "    C= 0; F=9.0/5*C+32; printC,F \n",
    "    C= 5; F=9.0/5*C+32; printC,F \n",
    "    C= 10; F=9.0/5*C+32; printC,F \n",
    "    C= 15; F=9.0/5*C+32; printC,F \n",
    "    C= 20; F=9.0/5*C+32; printC,F \n",
    "    C= 25; F=9.0/5*C+32; printC,F \n",
    "    C= 30; F=9.0/5*C+32; printC,F \n",
    "    C= 35; F=9.0/5*C+32; printC,F\n",
    "    C= 40; F=9.0/5*C+32; printC,F\n",
    "    \n",
    "Al ejecutar este programa (que se almacena en el archivo c2f_table_repeat.py), se demuestra que la salida se convierte en   \n",
    "    \n",
    "    -20 -4.0\n",
    "    -15 5.0\n",
    "    -10 14.0\n",
    "    -5 23.0\n",
    "    0 32.0\n",
    "    5 41.0\n",
    "    10 50.0\n",
    "    15 59.0\n",
    "    20 68.0\n",
    "    25 77.0\n",
    "    30 86.0\n",
    "    35 95.0\n",
    "    40 104.0\n",
    "    \n",
    "Esta salida está sujeta a un formato algo feo, pero ese problema puede solucionarse rápidamente reemplazando la impresión C, F por una declaración de impresión basada en el formato de printf. Volveremos a este detalle más adelante.\n",
    "\n",
    "El principal problema con el programa anterior es que muchas declaraciones son idénticas y repetidas. En primer lugar, es aburrido escribir este tipo de declaraciones repetidas, especialmente si queremos muchos más valores de C y F en la tabla. En segundo lugar, la idea de la computadora es automatizar la repetición. Por lo tanto, todos los lenguajes informáticos tienen construcciones para expresar de manera eficiente la repetición. Estas construcciones se denominan bucles y vienen en dos variantes en Python: while bucles y para bucles. La mayoría de los programas en este libro emplean bucles, por lo que este concepto es extremadamente importante para aprender.    \n",
    "   "
   ]
  },
  {
   "cell_type": "markdown",
   "metadata": {},
   "source": [
    "### 2.1.2 mientras bucles\n",
    "\n",
    "El bucle while se usa para repetir un conjunto de declaraciones siempre que una condición sea verdadera. Vamos a introducir este tipo de bucle a través de un ejemplo. La tarea es generar las filas de la tabla de valores C y F. El valor de C comienza en 20 y se incrementa en 5 mientras C <= 40. Para cada valor de C, calculamos el valor de F correspondiente y escribimos las dos temperaturas. Además, también agregamos una línea de guiones encima y debajo de la tabla.\n",
    "\n",
    "La lista de tareas a realizar se puede resumir de la siguiente manera:\n",
    "\n",
    "- Línea de impresión con guiones \n",
    "- C = 20\n",
    "- While C <= 40:\n",
    "    - F = 9/5 C + 32\n",
    "    - Print C y F\n",
    "    - Incremento C por 5\n",
    "- Línea de impresión con guiones\n",
    "\n",
    "Este es el algoritmo de nuestra tarea de programación. El camino de un algoritmo detallado a un código de Python completamente funcional se puede hacer muy corto, lo que es definitivamente cierto en el presente caso:\n",
    "\n",
    "\n",
    "    print ’------------------’     # table heading\n",
    "    C = -20                        # start value for C\n",
    "    dC = 5                          # increment of C in loop\n",
    "    while C <= 40:                   # loop heading with condition\n",
    "        F = (9.0/5)*C + 32             # 1st statement inside loop\n",
    "        print C, F                    # 2nd statement inside loop\n",
    "        C = C + dC               # 3rd statement inside loop\n",
    "    print ’------------------’      # end of table line (after loop)\n",
    "\n",
    "\n",
    "Ahora se encuentra una característica muy importante de Python: el bloque de instrucciones que se ejecutará en cada paso del bucle while debe estar sangrado. En el ejemplo anterior, el bloque consta de tres líneas, y todas estas líneas deben tener exactamente la misma sangría. Nuestra elección de sangría en este libro son cuatro espacios. La primera declaración cuya sangría coincide con la de la línea while marca el final del bucle y se ejecuta después de que el bucle haya terminado. En este ejemplo, esta es la declaración de impresión final. Se le recomienda escribir el código anterior en un archivo, sangrar los últimos cuatro espacios de la línea y observar lo que sucede (verá que las líneas de la tabla están separadas por una línea de guiones: ––––).\n",
    "\n",
    "Muchos programadores principiantes de Python olvidan los dos puntos al final de la línea while: estos dos puntos son esenciales y marcan el comienzo del bloque de declaraciones con sangría dentro del bucle. Más adelante, veremos que hay muchas otras construcciones de programas similares en Python donde hay un encabezado que termina con dos puntos, seguido de un bloque de declaraciones con sangría.\n",
    "\n",
    "Los programadores deben comprender completamente lo que está sucediendo en un programa y poder simular el programa a mano. Hagamos esto con el segmento de programa arriba. Primero, definimos el valor de inicio para la secuencia de temperaturas Celsius: C = -20. También definimos el incremento dC que se agregará a C dentro del bucle. Entonces entramos en la condición de bucle C <= 40. La primera vez que C es -20, lo que implica que C <= 40 (equivalente a C ⇧ 40 en notación matemática) es verdadero. Dado que la condición de bucle es verdadera, ingresamos al bucle y ejecutamos todas las sentencias con sangría. Es decir, calculamos F correspondiente al valor actual de C, imprimimos las temperaturas e incrementamos C en dC. Para simplificar, hemos utilizado una letra C, F sin formato, por lo que las columnas no se alinearán, pero esto puede solucionarse fácilmente más adelante.\n",
    "\n",
    "A partir de entonces, entramos en la segunda pasada del bucle. Primero verificamos la condición: C es -15 y C <= 40 sigue siendo cierto. Ejecutamos las instrucciones en el bloque de bucle con sangría, C se convierte en -10, esto es aún menor o igual a 40, por lo que ingresamos nuevamente en el bloque de bucle. Este procedimiento se repite hasta que C se actualiza de 40 a 45 en la declaración final en el bloque de bucle. Cuando luego probamos la condición, C <= 40, esta condición ya no es verdadera y el ciclo se termina. Continuamos con la siguiente declaración que tiene la misma sangría que la instrucción while, que es la declaración de impresión final en este ejemplo.\n",
    "\n",
    "Los recién llegados a la programación a veces se confunden con declaraciones como\n",
    "\n",
    "    C = C + dC\n",
    "\n",
    "Esta línea parece errónea desde un punto de vista matemático, pero la declaración es un código de computadora perfectamente válido, porque primero evaluamos la expresión en el lado derecho del signo de igualdad y luego dejamos que la variable en el lado izquierdo se refiera a Resultado de esta evaluación. En nuestro caso, C y dC son dos objetos int diferentes. La operación C + dC da como resultado un nuevo objeto int, que en la asignación C = C + dC está vinculado al nombre C. Antes de esta asignación, C ya estaba vinculado a un objeto int, y este objeto se destruye automáticamente cuando C es enlazado a un nuevo objeto y no hay otros nombres (variables) que se refieran a este objeto anterior (si no obtuvo este último punto, simplemente relájese y continúe leyendo).\n",
    "\n",
    "Como el incremento del valor de una variable se realiza con frecuencia en programas informáticos, hay una notación corta especial para esta y otras operaciones relacionadas:\n",
    "   "
   ]
  },
  {
   "cell_type": "code",
   "execution_count": 1,
   "metadata": {},
   "outputs": [
    {
     "name": "stdout",
     "output_type": "stream",
     "text": [
      "’------------------’\n",
      "-20 -4.0\n",
      "-15 5.0\n",
      "-10 14.0\n",
      "-5 23.0\n",
      "0 32.0\n",
      "5 41.0\n",
      "10 50.0\n",
      "15 59.0\n",
      "20 68.0\n",
      "25 77.0\n",
      "30 86.0\n",
      "35 95.0\n",
      "40 104.0\n",
      "’------------------’\n"
     ]
    }
   ],
   "source": [
    "print (\"’------------------’\")     # table heading\n",
    "C = -20                        # start value for C\n",
    "dC = 5                          # increment of C in loop\n",
    "while C <= 40:                   # loop heading with condition\n",
    "    F = (9.0/5)*C + 32             # 1st statement inside loop\n",
    "    print (C, F)                    # 2nd statement inside loop\n",
    "    C = C + dC               # 3rd statement inside loop\n",
    "print (\"’------------------’\")      # end of table line (after loop)"
   ]
  },
  {
   "cell_type": "code",
   "execution_count": 2,
   "metadata": {},
   "outputs": [],
   "source": [
    "C+=dC #equivalenttoC=C+dC \n",
    "C-=dC #equivalenttoC=C-dC \n",
    "C*= dC # equivalent to C = C*dC \n",
    "C/= dC # equivalent to C = C/dC"
   ]
  },
  {
   "cell_type": "markdown",
   "metadata": {},
   "source": [
    "### 2.1.3 expresiones booleanas\n",
    "\n",
    "En nuestro primer ejemplo en un bucle while, trabajamos con una condición C <= 40, que se evalúa como verdadera o falsa, escrita como Verdadero o Falso en Python. Otras comparaciones también son útiles:"
   ]
  },
  {
   "cell_type": "code",
   "execution_count": 3,
   "metadata": {},
   "outputs": [
    {
     "data": {
      "text/plain": [
       "False"
      ]
     },
     "execution_count": 3,
     "metadata": {},
     "output_type": "execute_result"
    }
   ],
   "source": [
    "C==40 #C equals 40\n",
    "C!=40 #C does not equal 40\n",
    "C>=40 #C is greater than or equal to 40 \n",
    "C> 40 #C is greater than 40\n",
    "C< 40 # C is less than 40"
   ]
  },
  {
   "cell_type": "markdown",
   "metadata": {},
   "source": [
    "No solo las comparaciones entre números se pueden usar como condiciones en bucles while: se puede usar cualquier expresión que tenga un valor booleano (Verdadero o Falso). Estas expresiones se conocen como expresiones lógicas o booleanas.\n",
    "\n",
    "La palabra clave no se puede insertar delante de la expresión booleana para cambiar el valor de Verdadero a Falso o de Falso a Verdadero. Para evaluar not C == 40, primero evaluamos C == 40, for C = 1 this is False, y luego no convertimos el valor en True. Por el contrario, si C == 40 es verdadero, no C == 40 se convierte en falso. Matemáticamente es más fácil leer C! = 40 que no C == 40, pero estas dos expresiones booleanas son equivalentes.\n",
    "\n",
    "Las expresiones booleanas se pueden combinar con y o para formar nuevas expresiones booleanas compuestas, como en"
   ]
  },
  {
   "cell_type": "raw",
   "metadata": {},
   "source": [
    "While x > 0 and y <= 1:\n",
    "    print (x, y) "
   ]
  },
  {
   "cell_type": "markdown",
   "metadata": {},
   "source": [
    "Si cond1 y cond2 son dos expresiones booleanas con valores Verdadero o Falso, la expresión booleana compuesta cond1 y cond2 es verdadera si cond1 y cond2 son verdaderas. Por otro lado, cond1 o cond2 es verdadero si al menos una de las condiciones, cond1 o cond2, es verdadero\n",
    "\n",
    "---\n",
    "**Observación**\n",
    "\n",
    "En Python, cond1 y cond2 o cond1 o cond2 devuelve uno de los operandos y no solo valores verdaderos o falsos como en la mayoría de los otros lenguajes de computadora. Los operandos cond1 o cond2 pueden ser expresiones u objetos. En el caso de las expresiones, éstas se evalúan primero en un objeto antes de evaluar la expresión booleana compuesta. Por ejemplo, (5 + 1) o -1 se evalúa como 6 (el segundo operando no se evalúa cuando el primero es Verdadero), y (5 + 1) y -1 se evalúa como -1.\n",
    "\n",
    "---\n",
    "\n",
    "Aquí hay algunos ejemplos más de una sesión interactiva en la que solo evaluamos las expresiones booleanas en sí mismas sin usarlas en condiciones de bucle:\n",
    "\n"
   ]
  },
  {
   "cell_type": "markdown",
   "metadata": {},
   "source": [
    "x=0\n",
    "y=1.2 \n",
    "x >= 0 and y < 1 False\n",
    "x >= 0 or y < 1 True\n",
    "x > 0 or y > 1\n",
    "True\n",
    "x > 0 or not y > 1\n",
    "False\n",
    "-1<x<=0 # -1<xandx<=0 True\n",
    "not (x > 0 or y > 0)\n",
    "False"
   ]
  },
  {
   "cell_type": "markdown",
   "metadata": {},
   "source": [
    "En la última expresión de muestra, no se aplica al valor de la expresión booleana entre paréntesis: x > 0 es False, y > 0 es True, por lo que la expresión combinada con or es True, y no convierte este valor en False\n",
    "\n",
    "Los valores booleanos comunes en Python son Verdadero, Falso, **0** (falso) y cualquier entero distinto a cero (verdadero). Para ver tales valores en acción, recomendamos hacer los Ejercicios 2.21 y 2.17.\n",
    "\n",
    "---\n",
    "**Evaluación booleana de un objeto.**\n",
    "\n",
    "* De hecho, todos los objetos en Python se pueden evaluar en un contexto booleano, y todos son verdaderos, excepto Falso, números cero y cadenas vacías, listas y diccionarios:"
   ]
  },
  {
   "cell_type": "code",
   "execution_count": 4,
   "metadata": {},
   "outputs": [
    {
     "data": {
      "text/plain": [
       "False"
      ]
     },
     "execution_count": 4,
     "metadata": {},
     "output_type": "execute_result"
    }
   ],
   "source": [
    ">>> s = \"’some string’\"\n",
    ">>> bool(s)\n",
    "True\n",
    ">>> s = \"\"  # empty string\n",
    ">>> bool(s)\n",
    "False\n",
    ">>> L = [1, 4, 6]\n",
    ">>> bool(L)\n",
    "True\n",
    ">>> L = []\n",
    ">>> bool(L)\n",
    "False\n",
    ">>> a = 88.0\n",
    ">>> bool(a)\n",
    "True\n",
    ">>> a = 0.0\n",
    ">>> bool(a)\n",
    "False"
   ]
  },
  {
   "cell_type": "markdown",
   "metadata": {},
   "source": [
    "* Esencialmente, si una prueba si a es un objeto no vacío o si es un valor distinto de cero. Tales construcciones son frecuentes en el código Python.\n",
    "\n",
    "El pensamiento erróneo sobre las expresiones booleanas es una de las fuentes más comunes de errores en los programas de computadora, por lo que debe tener cuidado cada vez que encuentre una expresión booleana y verificar que esté correctamente establecida.\n"
   ]
  },
  {
   "cell_type": "markdown",
   "metadata": {},
   "source": [
    "### 2.1.4 Implementación en bucle de una suma\n",
    "\n",
    "Las sumas frecuentemente aparecen en las matemáticas. Por ejemplo, la función seno se puede calcular como un polinomio:\n",
    "\n",
    "#### Ecuacion Nº 2.1\n",
    "\n",
    "\n",
    "$$\n",
    "\\sin(x) \\approx x- \\frac{x^3}{3!}+\\frac{x^5}{5!}-\\frac{x^7}{7!}+...\n",
    "$$\n",
    "\n",
    "donde 3! = 3 · 2 · 1, 5! = 5 · 4 · 3 · 2 · 1, etc., son expresiones factoriales. Computando k! = k (k 1) (k 2) · · · 2 · 1 se realiza mediante **math.factorial (k)**.\n",
    "\n",
    "Se necesita un número infinito de términos en el lado derecho de (2.1)\n",
    "para que el signo de igualdad se mantenga. Con un número finito de términos, obtenemos una aproximación a sin(x), que es adecuada para ser calculada en un programa ya que solo están involucradas las potencias y las cuatro operaciones aritméticas básicas. Digamos que queremos calcular el lado derecho de (2.1) para potencias hasta N = 25. Escribir e implementar cada uno de estos términos es un trabajo tedioso que se puede automatizar fácilmente mediante un ciclo.\n",
    "\n",
    "El cálculo de la suma en (2.1) mediante un bucle while en Python, utiliza (i) un contador k que corre a través de números impares desde 1 hasta una potencia máxima dada N, y (ii) una variable de suma, digamos s, que acumula los términos, uno a la vez. El propósito de cada paso del bucle es calcular un nuevo término y agregarlo a s. Como el signo de cada término se alterna, introducimos un signo variable que cambia entre -1 y 1 en cada pasada del bucle.\n",
    "\n",
    "El párrafo anterior se puede expresar con precisión mediante este código de Python:"
   ]
  },
  {
   "cell_type": "code",
   "execution_count": 5,
   "metadata": {},
   "outputs": [
    {
     "name": "stdout",
     "output_type": "stream",
     "text": [
      "sin(1.2) = 0.932039 (approximation with 25 terms)\n"
     ]
    }
   ],
   "source": [
    "x = 1.2 # assign some value\n",
    "N = 25 # maximum power in sum \n",
    "k=1\n",
    "s=x\n",
    "sign = 1.0\n",
    "\n",
    "import math\n",
    "\n",
    "while k < N:\n",
    "    sign = - sign\n",
    "    k=k+2\n",
    "    term = sign*x**k/math.factorial(k) \n",
    "    s = s + term\n",
    "\n",
    "print (\"sin(%g) = %g (approximation with %d terms)\" % (x, s, N))"
   ]
  },
  {
   "cell_type": "markdown",
   "metadata": {},
   "source": [
    "La mejor manera de entender un programa así es simularlo a mano. Es decir, repasamos las declaraciones, una por una, y escribimos en un pedazo de papel cuál es el estado de cada variable.\n",
    "\n",
    "Cuando el bucle se ingresa por primera vez, k < N implica 1 < 25, que es verdadero, por lo que ingresamos al bloque de bucle. Allí, calculamos el signo = -1.0, k = 3, el término = -1.0 * x ** 3 / (3 * 2 * 1)) (tenga en cuenta que el signo es flotante, por lo que siempre tenemos float dividido por int), y s = x - x ** 3/6, que es igual a los dos primeros términos en la suma. Luego probamos la condición del bucle: 3 <25 es Verdadero, por lo que ingresamos nuevamente en el bloque del bucle. Esta vez obtenemos el término = 1.0 * x ** 5 / math.factorial (5), que implementa correctamente el tercer término en la suma. En algún momento, k se actualiza de 23 a 25 dentro del bucle y la condición del bucle se convierte en 25 <25, lo que es Falso, lo que implica que el programa salta sobre el bloque del bucle y continúa con la declaración de print (que tiene la misma sangría). como la sentencia while).\n"
   ]
  },
  {
   "cell_type": "markdown",
   "metadata": {},
   "source": [
    "## 2.2 Listas\n",
    "\n",
    "Hasta ahora, una variable ha contenido típicamente un solo número. A veces los números se agrupan de forma natural. Por ejemplo, todos los grados Celsius en la primera columna de nuestra tabla de la Sección 2.1.2 podrían almacenarse convenientemente juntos como un grupo. Se puede utilizar una lista de Python para representar tal grupo de números en un programa. Con una variable que hace referencia a la lista, podemos trabajar con todo el grupo a la vez, pero también podemos acceder a elementos individuales del grupo. **La Figura 2.1** ilustra la diferencia entre un objeto int y un objeto de lista. En general, una lista puede contener una secuencia de objetos arbitrarios en un orden dado. Python tiene una gran funcionalidad para examinar y manipular tales secuencias de objetos, que se demostrarán a continuación."
   ]
  },
  {
   "cell_type": "markdown",
   "metadata": {},
   "source": [
    "![Turing's Device](http://www.google.com/logos/2012/turing-doodle-static.jpg)\n",
    "\n",
    "**Fig. 2.1** Ilustración de dos variables: var1 se refiere a un objeto int con valor 21, creado por la declaración var1 = 21, y var2 se refiere a un objeto de lista con valor [20, 21, 29, 4.0], es decir, tres objetos int y un flotante objeto, creado por la sentencia var2 = [20, 21, 29, 4.0]."
   ]
  },
  {
   "cell_type": "markdown",
   "metadata": {},
   "source": [
    "## 2.2.1 Operaciones de lista básicas\n",
    "\n",
    "Para crear una lista con los números de la primera columna de nuestra tabla, solo colocamos todos los números entre corchetes y separamos los números con comas:\n",
    "\n",
    "     C = [-20, -15, -10, -5, 0, 5, 10, 15, 20, 25, 30, 35, 40]\n",
    "\n",
    "La variable C ahora se refiere a un objeto de lista que contiene 13 elementos de lista. Todos los elementos de la lista son en este caso int objetos.\n",
    "\n",
    "Cada elemento de una lista está asociado con un índice, que refleja la posición del elemento en la lista. El primer elemento tiene índice 0, el segundo índice 1 y así sucesivamente. Asociados a la lista C anterior tenemos 13 índices, comenzando con 0 y terminando con 12. Para acceder al elemento con el índice 3, es decir, el cuarto elemento de la lista, podemos escribir C [3]. Como vemos en la lista, C [3] se refiere a un objeto int con el valor -5.\n",
    "\n",
    "Los elementos de las listas se pueden eliminar y los nuevos elementos se pueden insertar en cualquier lugar. La funcionalidad para hacer esto está integrada en el objeto de lista y se accede mediante una notación de puntos. Dos ejemplos son **C.append (v)**, que agrega un nuevo elemento v al final de la lista, y **C.insert (i, v)**, que inserta un nuevo elemento v en el número de posición i en la lista. El número de elementos en una lista viene dado por **len (C)**. Ejemplifiquemos algunas operaciones de lista en una sesión interactiva para ver el efecto de las operaciones:"
   ]
  },
  {
   "cell_type": "code",
   "execution_count": 6,
   "metadata": {},
   "outputs": [
    {
     "data": {
      "text/plain": [
       "[-10, -5, 0, 5, 10, 15, 20, 25, 30, 35]"
      ]
     },
     "execution_count": 6,
     "metadata": {},
     "output_type": "execute_result"
    }
   ],
   "source": [
    ">>> C = [-10, -5, 0, 5, 10, 15, 20, 25, 30]     # create list\n",
    ">>> C.append(35)              # add new element 35 at the end\n",
    ">>> C                         # view list C\n",
    "[-10, -5, 0, 5, 10, 15, 20, 25, 30, 35]"
   ]
  },
  {
   "cell_type": "markdown",
   "metadata": {},
   "source": [
    "Se pueden añadir dos listas:"
   ]
  },
  {
   "cell_type": "code",
   "execution_count": 7,
   "metadata": {},
   "outputs": [
    {
     "data": {
      "text/plain": [
       "[-10, -5, 0, 5, 10, 15, 20, 25, 30, 35, 40, 45]"
      ]
     },
     "execution_count": 7,
     "metadata": {},
     "output_type": "execute_result"
    }
   ],
   "source": [
    ">>> C = C + [40, 45]          # extend C at the end\n",
    ">>> C\n",
    "[-10, -5, 0, 5, 10, 15, 20, 25, 30, 35, 40, 45]"
   ]
  },
  {
   "cell_type": "markdown",
   "metadata": {},
   "source": [
    "Lo que significa agregar dos listas depende del objeto de la lista para definir, y no es sorprendente que la adición de dos listas se defina como la adición de la segunda lista a la primera. El resultado de C + [40,45] es un nuevo objeto de lista, que luego asignamos a C de modo que este nombre se refiera a esta nueva lista. De hecho, cada objeto en Python y todo lo que puedes hacer con él está definido por programas creados por humanos. Con las técnicas de programación de clases (consulte el Capítulo 7), puede crear sus propios objetos y definir (si lo desea) lo que significa agregar dichos objetos. Todo esto da un enorme poder en manos de los programadores. Como ejemplo, puede definir su propio objeto de lista si no está satisfecho con la funcionalidad de las propias listas de Python.\n",
    "\n",
    "Se pueden insertar nuevos elementos en cualquier parte de la lista (y no solo al final como hicimos con **C.append**):"
   ]
  },
  {
   "cell_type": "code",
   "execution_count": 8,
   "metadata": {},
   "outputs": [
    {
     "data": {
      "text/plain": [
       "[-15, -10, -5, 0, 5, 10, 15, 20, 25, 30, 35, 40, 45]"
      ]
     },
     "execution_count": 8,
     "metadata": {},
     "output_type": "execute_result"
    }
   ],
   "source": [
    ">>> C.insert(0, -15)          # insert new element -15 as index 0\n",
    ">>> C\n",
    "[-15, -10, -5, 0, 5, 10, 15, 20, 25, 30, 35, 40, 45]"
   ]
  },
  {
   "cell_type": "markdown",
   "metadata": {},
   "source": [
    "Con **del** `C [i]` podemos eliminar un elemento con índice **i** de la lista C. Observe que esto cambia la lista, por lo que `C [i]` se refiere a otro elemento (el siguiente) después de la eliminación :"
   ]
  },
  {
   "cell_type": "code",
   "execution_count": 9,
   "metadata": {},
   "outputs": [
    {
     "data": {
      "text/plain": [
       "11"
      ]
     },
     "execution_count": 9,
     "metadata": {},
     "output_type": "execute_result"
    }
   ],
   "source": [
    ">>> del C[2]                  # delete 3rd element\n",
    ">>> C\n",
    "[-15, -10, 0, 5, 10, 15, 20, 25, 30, 35, 40, 45]\n",
    ">>> del C[2]                  # delete what is now 3rd element\n",
    ">>> C\n",
    "[-15, -10, 5, 10, 15, 20, 25, 30, 35, 40, 45]\n",
    ">>> len(C)                    # length of list\n",
    "11"
   ]
  },
  {
   "cell_type": "markdown",
   "metadata": {},
   "source": [
    "El comando **C.index** (10) devuelve el índice correspondiente al primer elemento con valor 10 (este es el cuarto elemento en nuestra lista de muestra, con el índice 3):"
   ]
  },
  {
   "cell_type": "code",
   "execution_count": 10,
   "metadata": {},
   "outputs": [
    {
     "data": {
      "text/plain": [
       "3"
      ]
     },
     "execution_count": 10,
     "metadata": {},
     "output_type": "execute_result"
    }
   ],
   "source": [
    ">>> C.index(10)               # find index for an element (10)"
   ]
  },
  {
   "cell_type": "markdown",
   "metadata": {},
   "source": [
    "Para probar si un objeto con el valor 10 es un elemento de la lista, se puede escribir la expresión booleana 10 en C:"
   ]
  },
  {
   "cell_type": "code",
   "execution_count": 11,
   "metadata": {},
   "outputs": [
    {
     "data": {
      "text/plain": [
       "True"
      ]
     },
     "execution_count": 11,
     "metadata": {},
     "output_type": "execute_result"
    }
   ],
   "source": [
    ">>> 10 in C                   # is 10 an element in C?"
   ]
  },
  {
   "cell_type": "markdown",
   "metadata": {},
   "source": [
    "Python permite índices negativos, lo que lleva a la indexación desde la derecha. Como se muestra a continuación, C [-1] proporciona el último elemento de la lista C. C [-2] es el elemento anterior a C [-1], y así sucesivamente."
   ]
  },
  {
   "cell_type": "code",
   "execution_count": 12,
   "metadata": {},
   "outputs": [
    {
     "data": {
      "text/plain": [
       "40"
      ]
     },
     "execution_count": 12,
     "metadata": {},
     "output_type": "execute_result"
    }
   ],
   "source": [
    ">>> C[-1]                     # view the last list element\n",
    "45\n",
    ">>> C[-2]                     # view the next last list element\n",
    "40"
   ]
  },
  {
   "cell_type": "markdown",
   "metadata": {},
   "source": [
    "Crear listas largas anotando todos los elementos separados por comas es un proceso tedioso que se puede automatizar fácilmente mediante un bucle, utilizando ideas de la Sección 2.1.4. Digamos que queremos construir una lista de grados de -50 a 200 en pasos de 2.5 grados. Luego comenzamos con una lista vacía y usamos un bucle while para agregar un elemento a la vez:"
   ]
  },
  {
   "cell_type": "code",
   "execution_count": 13,
   "metadata": {},
   "outputs": [
    {
     "name": "stdout",
     "output_type": "stream",
     "text": [
      "[-50, -47.5, -45.0, -42.5, -40.0, -37.5, -35.0, -32.5, -30.0, -27.5, -25.0, -22.5, -20.0, -17.5, -15.0, -12.5, -10.0, -7.5, -5.0, -2.5, 0.0, 2.5, 5.0, 7.5, 10.0, 12.5, 15.0, 17.5, 20.0, 22.5, 25.0, 27.5, 30.0, 32.5, 35.0, 37.5, 40.0, 42.5, 45.0, 47.5, 50.0, 52.5, 55.0, 57.5, 60.0, 62.5, 65.0, 67.5, 70.0, 72.5, 75.0, 77.5, 80.0, 82.5, 85.0, 87.5, 90.0, 92.5, 95.0, 97.5, 100.0, 102.5, 105.0, 107.5, 110.0, 112.5, 115.0, 117.5, 120.0, 122.5, 125.0, 127.5, 130.0, 132.5, 135.0, 137.5, 140.0, 142.5, 145.0, 147.5, 150.0, 152.5, 155.0, 157.5, 160.0, 162.5, 165.0, 167.5, 170.0, 172.5, 175.0, 177.5, 180.0, 182.5, 185.0, 187.5, 190.0, 192.5, 195.0, 197.5, 200.0]\n"
     ]
    }
   ],
   "source": [
    "C= []\n",
    "C_value = -50\n",
    "C_max = 200\n",
    "while C_value <= C_max:\n",
    "    C.append(C_value)\n",
    "    C_value+=2.5\n",
    "print(C)"
   ]
  },
  {
   "cell_type": "markdown",
   "metadata": {},
   "source": [
    "En las siguientes secciones, veremos cómo podemos expresar estas seis líneas de código con una sola declaración.\n",
    "\n",
    "Hay una sintaxis compacta para crear variables que se refieren a los diversos elementos de la lista. Simplemente liste una secuencia de variables en el lado izquierdo de una asignación a una lista:"
   ]
  },
  {
   "cell_type": "code",
   "execution_count": 14,
   "metadata": {},
   "outputs": [
    {
     "name": "stdout",
     "output_type": "stream",
     "text": [
      "book.tex book.log book.pdf\n"
     ]
    }
   ],
   "source": [
    ">>> somelist = [\"book.tex\", \"book.log\", \"book.pdf\"]\n",
    ">>> texfile, logfile, pdf = somelist\n",
    ">>> texfile\n",
    "\"book.tex\"\n",
    ">>> logfile\n",
    "\"book.log\"\n",
    ">>> pdf\n",
    "\"book.pdf\"\n",
    "print(texfile,logfile,pdf)"
   ]
  },
  {
   "cell_type": "markdown",
   "metadata": {},
   "source": [
    "El número de variables en el lado izquierdo debe coincidir con el número de elementos en la lista, de lo contrario se produce un error.\n",
    "\n",
    "Un comentario final se refiere a la sintaxis: algunas operaciones de lista son alcanzadas por una notación de puntos, como en **C.append(e)**, mientras que otras operaciones requieren el objeto de lista como un argumento de una función, como en **len(C)**. Aunque C.append para un programador se comporta como una función, es una función que se alcanza a través de un objeto de lista, y es común decir que **append** es un método en el objeto de lista, no una función. No hay reglas estrictas en Python si la funcionalidad con respecto a un objeto se alcanza a través de un método o una función."
   ]
  },
  {
   "cell_type": "markdown",
   "metadata": {},
   "source": [
    "## 2.2.2 Para bucles\n",
    "\n",
    "**La naturaleza de los bucles**. Cuando los datos se recopilan en una lista, a menudo queremos realizar las mismas operaciones en cada elemento de la lista. Entonces necesitamos recorrer todos los elementos de la lista. Los lenguajes informáticos tienen una construcción especial para hacer esto convenientemente, y esta construcción está en Python y en muchos otros lenguajes llamados bucle for. Usemos un bucle for para imprimir todos los elementos de la lista:"
   ]
  },
  {
   "cell_type": "code",
   "execution_count": 15,
   "metadata": {},
   "outputs": [
    {
     "name": "stdout",
     "output_type": "stream",
     "text": [
      "list element: 0\n",
      "list element: 10\n",
      "list element: 20\n",
      "list element: 40\n",
      "list element: 100\n",
      "The degrees list has 5 elements\n"
     ]
    }
   ],
   "source": [
    "degrees = [0, 10, 20, 40, 100]\n",
    "for C in degrees:\n",
    "    print (\"list element:\", C)\n",
    "print (\"The degrees list has\", len(degrees), \"elements\")"
   ]
  },
  {
   "cell_type": "markdown",
   "metadata": {},
   "source": [
    "La construcción de degrees C en grados crea un bucle sobre todos los elementos en los degrees de la lista. En cada paso del bucle, la variable C se refiere a un elemento de la lista, comenzando con degrees [0], procediendo con degrees [1] y así sucesivamente, antes de terminar con los degrees del último elemento [n-1] (si n denota el número de elementos en la lista, **len(degrees)**).\n",
    "\n",
    "La especificación de bucle for termina con dos puntos, y después de dos puntos viene un bloque de instrucciones que hace algo útil con el elemento actual. Cada instrucción en el bloque debe estar sangrada, como explicamos para los bucles while. En el ejemplo anterior, el bloque que pertenece al bucle for solo contiene una declaración. La instrucción de impresión final tiene la misma sangría (ninguna en este ejemplo) que la instrucción for y se ejecuta tan pronto como se termina el ciclo.\n",
    "\n",
    "Como ya se mencionó, a menudo es una buena idea comprender todos los detalles de un programa siguiendo el flujo del programa a mano. Aquí, primero definimos una lista de grados que contiene 5 elementos. Luego entramos en el bucle for. En la primera pasada del bucle, C se refiere al primer elemento en los grados de la lista, es decir, el objeto int que tiene el valor 0. Dentro del bucle, imprimimos el texto 'elemento de la lista:' y el valor de C, que es 0. No hay más declaraciones en el bloque de bucle, por lo que procedemos con la siguiente pasada del bucle. C se refiere al objeto int 10, la salida ahora imprime 10 después del texto inicial, procedemos con C como los enteros 20 y 40, y finalmente C es 100. Después de haber impreso el elemento de lista con el valor 100, pasamos a la declaración después del bloque de bucle con sangría, que imprime el número de elementos de la lista. La producción total se convierte en\n",
    "\n",
    "    list element: 0\n",
    "    list element: 10\n",
    "    list element: 20\n",
    "    list element: 40\n",
    "    list element: 100\n",
    "    The degrees list has 5 elements\n",
    "    \n",
    "La sangría correcta de las declaraciones es crucial en Python, por lo que le recomendamos encarecidamente que trabaje en el Ejercicio 2.22 para aprender más sobre este tema.\n",
    "\n",
    "**Haciendo la mesa**. Nuestro conocimiento de listas y de bucles sobre elementos en listas nos coloca en una buena posición para escribir un programa donde recopilamos todos los grados Celsius para aparecer en la tabla en una lista de grados centígrados, y luego usar un ciclo for para calcular y escribir los grados Fahrenheit correspondientes. El programa completo puede verse así:"
   ]
  },
  {
   "cell_type": "code",
   "execution_count": 16,
   "metadata": {},
   "outputs": [
    {
     "name": "stdout",
     "output_type": "stream",
     "text": [
      "-20 -4.0\n",
      "-15 5.0\n",
      "-10 14.0\n",
      "-5 23.0\n",
      "0 32.0\n",
      "5 41.0\n",
      "10 50.0\n",
      "15 59.0\n",
      "20 68.0\n",
      "25 77.0\n",
      "30 86.0\n",
      "35 95.0\n",
      "40 104.0\n"
     ]
    }
   ],
   "source": [
    "Cdegrees = [-20, -15, -10, -5, 0, 5, 10, 15, 20, 25, 30, 35, 40]\n",
    "for C in Cdegrees:\n",
    "    F = (9.0/5)*C + 32\n",
    "    print (C, F)"
   ]
  },
  {
   "cell_type": "markdown",
   "metadata": {},
   "source": [
    "La declaración de impresión C, F solo imprime el valor de C y F con un formato predeterminado, donde cada número está separado por un carácter de espacio (en blanco). Esto no se parece a una buena mesa (la salida es idéntica a la que se muestra en la Sección 2.1.1. El buen formato se obtiene forzando que C y F se escriban en campos de ancho fijo y con un número fijo de decimales. El formato de printf es% 5d (o% 5.0f) para C y% 5.1f para F. También podemos agregar un título a la tabla. El programa completo se convierte en:"
   ]
  },
  {
   "cell_type": "code",
   "execution_count": 17,
   "metadata": {},
   "outputs": [
    {
     "name": "stdout",
     "output_type": "stream",
     "text": [
      " C    F\n",
      "  -20  -4.0\n",
      "  -15   5.0\n",
      "  -10  14.0\n",
      "   -5  23.0\n",
      "    0  32.0\n",
      "    5  41.0\n",
      "   10  50.0\n",
      "   15  59.0\n",
      "   20  68.0\n",
      "   25  77.0\n",
      "   30  86.0\n",
      "   35  95.0\n",
      "   40 104.0\n"
     ]
    }
   ],
   "source": [
    "Cdegrees = [-20, -15, -10, -5, 0, 5, 10, 15, 20, 25, 30, 35, 40]\n",
    "print (\" C    F\")\n",
    "for C in Cdegrees:\n",
    "    F = (9.0/5)*C + 32\n",
    "#   print (\"%5d %5.1f\" % (C, F))\n",
    "    print(\"{:5} {:5}\".format(C,F))\n",
    "    \n",
    "#This code is found in the file c2f_table_list.py and its output becomes"
   ]
  },
  {
   "cell_type": "markdown",
   "metadata": {},
   "source": [
    "## 2.3 Implementaciones alternativas con listas y bucles.\n",
    "\n",
    "Ya hemos resuelto el problema de imprimir una tabla de conversión de buen aspecto para grados Celsius y Fahrenheit. Sin embargo, generalmente hay muchas formas alternativas de escribir un programa que resuelve un problema específico. Los siguientes párrafos exploran otras posibles construcciones y programas de Python para almacenar números en listas e imprimir tablas. Los diversos fragmentos de código se recopilan en el archivo de programa session.py.\n",
    "\n",
    "### 2.3.1 Implementación en bucle de un bucle for\n",
    "\n",
    "Cualquier bucle for puede implementarse como un bucle while. El codigo general\n"
   ]
  },
  {
   "cell_type": "code",
   "execution_count": 18,
   "metadata": {},
   "outputs": [],
   "source": [
    "for element in somelist:\n",
    "    #<process element>\n",
    "    continue"
   ]
  },
  {
   "cell_type": "markdown",
   "metadata": {},
   "source": [
    "Se puede transformar en este bucle **while**:"
   ]
  },
  {
   "cell_type": "code",
   "execution_count": 19,
   "metadata": {},
   "outputs": [],
   "source": [
    "index = 0\n",
    "while index < len(somelist):\n",
    "    element = somelist[index]\n",
    "    #<process element>\n",
    "    index += 1"
   ]
  },
  {
   "cell_type": "markdown",
   "metadata": {},
   "source": [
    "En particular, el ejemplo relacionado con la impresión de una tabla de grados Celsius y Fahrenheit se puede implementar de la siguiente manera en términos de un bucle while"
   ]
  },
  {
   "cell_type": "code",
   "execution_count": 20,
   "metadata": {},
   "outputs": [
    {
     "name": "stdout",
     "output_type": "stream",
     "text": [
      "’    C    F’\n",
      "  -20  -4.0\n",
      "  -15   5.0\n",
      "  -10  14.0\n",
      "   -5  23.0\n",
      "    0  32.0\n",
      "    5  41.0\n",
      "   10  50.0\n",
      "   15  59.0\n",
      "   20  68.0\n",
      "   25  77.0\n",
      "   30  86.0\n",
      "   35  95.0\n",
      "   40 104.0\n"
     ]
    }
   ],
   "source": [
    "Cdegrees = [-20, -15, -10, -5, 0, 5, 10, 15, 20, 25, 30, 35, 40]\n",
    "index = 0\n",
    "print (\"’    C    F’\")\n",
    "while index < len(Cdegrees):\n",
    "    C = Cdegrees[index]\n",
    "    F = (9.0/5)*C + 32\n",
    "    print(\"{:5} {:5}\".format(C,F))\n",
    "    index += 1"
   ]
  },
  {
   "cell_type": "markdown",
   "metadata": {},
   "source": [
    "### 2.3.2 La construcción de la gama.\n",
    "\n",
    "Es tedioso escribir los muchos elementos en los **Cdegrees** en los programas anteriores. Deberíamos usar un bucle para automatizar la construcción de la lista de **Cdegrees**. La construcción de un **range** es particularmente útil en este sentido:\n",
    "\n",
    "- range (n) genera números enteros 0, 1, 2, ..., n-1.\n",
    "\n",
    "- range (inicio, parada, paso) genera una secuencia si comienzan los enteros,  inicio + paso, inicio + 2 * paso, y así sucesivamente hasta, pero sin incluir, detener. Por ejemplo, el rango (2, 8, 3) devuelve 2 y 5 (y no 8), mientras que el rango (1, 11, 2) devuelve 1, 3, 5, 7, 9.\n",
    "\n",
    "- range (inicio, parada) es el mismo que el rango (inicio, parada, 1).\n",
    "\n",
    "Un bucle for sobre enteros se escribe como:\n",
    "\n",
    "    for i in range(start, stop, step):\n",
    "            \"......\"\n",
    "            continue"
   ]
  },
  {
   "cell_type": "markdown",
   "metadata": {},
   "source": [
    "Podemos usar esta construcción para crear una lista de **Cdegrees** de los valores 20, 15, ..., 40:"
   ]
  },
  {
   "cell_type": "code",
   "execution_count": 21,
   "metadata": {},
   "outputs": [],
   "source": [
    "Cdegrees = []\n",
    "for C in range(-20, 45, 5):\n",
    "    Cdegrees.append(C)\n",
    "# or just\n",
    "Cdegrees = range(-20, 45, 5)"
   ]
  },
  {
   "cell_type": "markdown",
   "metadata": {},
   "source": [
    "Tenga en cuenta que el límite superior debe ser mayor que 40 para garantizar que 40 esté incluido en el rango de enteros.\n",
    "\n",
    "Supongamos que queremos crear **Cdegrees** como 10, 7.5, 5,. . . , 40. Esta vez no podemos usar el **range** directamente, porque el **range** solo puede crear números enteros y tenemos grados decimales como -7.5 y 1.5. En este caso más general, introducimos un contador entero i y generamos los valores de C con la fórmula C = -10 + i · 2.5 para i = 0,1, ..., 20. El siguiente código de Python implementa esta tarea:"
   ]
  },
  {
   "cell_type": "code",
   "execution_count": 22,
   "metadata": {},
   "outputs": [],
   "source": [
    "Cdegrees = []\n",
    "for i in range(0,21):\n",
    "    C = -10 + i * 2.5\n",
    "    Cdegrees.append(C)"
   ]
  },
  {
   "cell_type": "markdown",
   "metadata": {},
   "source": [
    "### 2.3.3 Para bucles con índices de lista\n",
    "\n",
    "En lugar de iterar sobre una lista directamente con la construcción"
   ]
  },
  {
   "cell_type": "code",
   "execution_count": 23,
   "metadata": {},
   "outputs": [],
   "source": [
    "for element in somelist:\n",
    "    ..."
   ]
  },
  {
   "cell_type": "markdown",
   "metadata": {},
   "source": [
    "Podemos iterar de forma equivalente los índices de la lista e indexar la lista dentro del bucle:\n",
    "\n",
    "    for i in range(len(somelist)):\n",
    "        element = somelist[i]\n",
    "        ....."
   ]
  },
  {
   "cell_type": "markdown",
   "metadata": {},
   "source": [
    "Dado que **len(somelist)** devuelve la longitud de somelist y el índice legal más grande es **len(somelist) -1**, porque los índices siempre comienzan en 0, el rango **(len(somelist))** generará todos los índices correctos: 0, 1,. . ., **len(somelist)-1**.\n",
    "\n",
    "Los programadores que vienen de otros lenguajes, como Fortran, C, C ++, Java y C#, están muy acostumbrados a los bucles con contadores de números enteros y, por lo general, tienden a usar para **i in range(len (somelist))** y trabajan con somelist [i ] dentro del bucle. Esto puede ser necesario o conveniente, pero si es posible, se recomienda a los programadores de Python que utilicen para elemento en somelist, que es más elegante de leer.\n",
    "\n",
    "Iterar sobre los índices de bucle es útil cuando necesitamos procesar dos listas simultáneamente. Como ejemplo, primero creamos dos listas de Cdegrees y Fdegrees, y luego hacemos una lista para escribir una tabla con Cdegrees y Fdegrees como las dos columnas de la tabla. Iterar sobre un índice de bucle es conveniente en la lista final:\n",
    "    "
   ]
  },
  {
   "cell_type": "code",
   "execution_count": 24,
   "metadata": {},
   "outputs": [
    {
     "name": "stdout",
     "output_type": "stream",
     "text": [
      "-10.0  14.0\n",
      " -7.5  18.5\n",
      " -5.0  23.0\n",
      " -2.5  27.5\n",
      "  0.0  32.0\n",
      "  2.5  36.5\n",
      "  5.0  41.0\n",
      "  7.5  45.5\n",
      " 10.0  50.0\n",
      " 12.5  54.5\n",
      " 15.0  59.0\n",
      " 17.5  63.5\n",
      " 20.0  68.0\n",
      " 22.5  72.5\n",
      " 25.0  77.0\n",
      " 27.5  81.5\n",
      " 30.0  86.0\n",
      " 32.5  90.5\n",
      " 35.0  95.0\n",
      " 37.5  99.5\n",
      " 40.0 104.0\n"
     ]
    }
   ],
   "source": [
    "Cdegrees = []\n",
    "n = 21\n",
    "C_min = -10\n",
    "C_max = 40\n",
    "\n",
    "dC = (C_max - C_min)/float(n-1)  # increment in C\n",
    "for i in range(0, n):\n",
    "    C = -10 + i*dC\n",
    "    Cdegrees.append(C)\n",
    "    \n",
    "Fdegrees = []\n",
    "\n",
    "for C in Cdegrees:\n",
    "    F = (9.0/5)*C + 32\n",
    "    Fdegrees.append(F)\n",
    "    \n",
    "for i in range(len(Cdegrees)):\n",
    "    C = Cdegrees[i]\n",
    "    F = Fdegrees[i]\n",
    "    print (\"%5.1f %5.1f\" % (C, F))"
   ]
  },
  {
   "cell_type": "markdown",
   "metadata": {},
   "source": [
    "En lugar de agregar nuevos elementos a las listas, podemos comenzar con listas del tamaño correcto, que contengan ceros, y luego indexar las listas para completar los valores correctos. La creación de una lista de longitud n que consiste en ceros (por ejemplo) se realiza mediante\n",
    "\n",
    "        somelist = [0]*n"
   ]
  },
  {
   "cell_type": "markdown",
   "metadata": {},
   "source": [
    "Con esta construcción, el programa anterior puede usar para bucles sobre índices en todas partes:"
   ]
  },
  {
   "cell_type": "code",
   "execution_count": 26,
   "metadata": {},
   "outputs": [
    {
     "name": "stdout",
     "output_type": "stream",
     "text": [
      "-10.0  14.0\n",
      " -7.5  18.5\n",
      " -5.0  23.0\n",
      " -2.5  27.5\n",
      "  0.0  32.0\n",
      "  2.5  36.5\n",
      "  5.0  41.0\n",
      "  7.5  45.5\n",
      " 10.0  50.0\n",
      " 12.5  54.5\n",
      " 15.0  59.0\n",
      " 17.5  63.5\n",
      " 20.0  68.0\n",
      " 22.5  72.5\n",
      " 25.0  77.0\n",
      " 27.5  81.5\n",
      " 30.0  86.0\n",
      " 32.5  90.5\n",
      " 35.0  95.0\n",
      " 37.5  99.5\n",
      " 40.0 104.0\n"
     ]
    }
   ],
   "source": [
    "n = 21\n",
    "C_min = -10\n",
    "C_max = 40\n",
    "dC = (C_max - C_min)/float(n-1)  # increment in C\n",
    "\n",
    "Cdegrees = [0]*n\n",
    "for i in range(len(Cdegrees)):\n",
    "    Cdegrees[i] = -10 + i*dC\n",
    "\n",
    "Fdegrees = [0]*n\n",
    "for i in range(len(Cdegrees)):\n",
    "    Fdegrees[i] = (9.0/5)*Cdegrees[i] + 32\n",
    "    \n",
    "for i in range(len(Cdegrees)):\n",
    "    print (\"%5.1f %5.1f\" % (Cdegrees[i], Fdegrees[i]))"
   ]
  },
  {
   "cell_type": "markdown",
   "metadata": {},
   "source": [
    "Tenga en cuenta que necesitamos la construcción `[0] * n` para crear una lista de la longitud correcta, de lo contrario, el índice `[i]` será ilegal."
   ]
  },
  {
   "cell_type": "markdown",
   "metadata": {},
   "source": [
    "### 2.3.4 Cambiando elementos de lista\n",
    "\n",
    "Tenemos dos formas aparentemente alternativas para recorrer una lista, ya sea un bucle sobre elementos o sobre índices. Supongamos que queremos cambiar la lista de **Cdegrees** agregando 5 a todos los elementos. Podemos intentarlo\n",
    "\n",
    "    for c in Cdegrees:\n",
    "        c += 5\n",
    "\n",
    "pero este bucle deja sin cambiar **Cdegrees**, mientras\n",
    "\n",
    "    for i in range(len(Cdegrees)):\n",
    "        Cdegrees[i] += 5\n",
    "\n",
    "Funciona según lo previsto. ¿Qué está mal con el primer bucle? El problema es que c es una variable ordinaria, que se refiere a un elemento de lista en el bucle, pero cuando ejecutamos c += 5, dejamos que c se refiera a un nuevo objeto flotante (c + 5). \n",
    "\n",
    "Este objeto nunca se inserta en la lista. Las dos primeras pasadas del bucle son equivalentes a\n",
    "\n",
    "    c = Cdegrees[0]   # automatically done in the for statement\n",
    "    c += 5\n",
    "    c = Cdegrees[1]   # automatically done in the for statement\n",
    "    c += 5\n",
    "\n",
    "La variable c solo se puede utilizar para leer elementos de la lista y nunca para cambiarlos. Sólo una cesión del formulario.\n",
    "\n",
    "     Cdegrees [i] = ...\n",
    "     \n",
    "Puede cambiar un elemento de lista.\n",
    "\n",
    "Hay una forma de recorrer una lista donde obtenemos tanto el índice como un elemento en cada pasada del bucle:\n",
    "\n",
    "    for i, c in enumerate(Cdegrees):\n",
    "        Cdegrees[i] = c + 5\n",
    "\n",
    "Este bucle también agrega 5 a todos los elementos en la lista."
   ]
  },
  {
   "cell_type": "markdown",
   "metadata": {},
   "source": [
    "### 2.3.5 Lista de comprensión\n",
    "\n",
    "Debido a que ejecutar una lista y para cada elemento que crea un nuevo elemento en otra lista es una tarea frecuente, Python tiene una sintaxis compacta especial para hacer esto, llamada comprensión de lista. La sintaxis general se lee.\n",
    "\n",
    "     newlist = [E (e) para e en la lista]\n",
    "     \n",
    "donde **E(e)** representa una expresión que involucra el elemento **e**. Aquí hay tres ejemplos:\n",
    "\n",
    "    Cdegrees = [-5 + i*0.5 for i in range(n)]\n",
    "    Fdegrees = [(9.0/5)*C + 32 for C in Cdegrees]\n",
    "    C_plus_5 = [C+5 for C in Cdegrees]\n",
    "\n",
    "\n",
    "Las comprensiones de listas se reconocen como un bucle for entre corchetes y se ejemplificarán frecuentemente en todo el libro."
   ]
  },
  {
   "cell_type": "markdown",
   "metadata": {},
   "source": [
    "### 2.3.6 Atravesando múltiples listas simultáneamente\n",
    "\n",
    "Podemos usar las listas de **Cdegrees** y **Fdegrees** para hacer una tabla. Para este fin, necesitamos atravesar ambas matrices. El elemento for en la construcción de la lista no es adecuado en este caso, ya que extrae elementos de una sola lista. \n",
    "\n",
    "Una solución es usar un bucle for sobre los índices enteros para poder indexar ambas listas:\n",
    "\n",
    "    for i in range(len(Cdegrees)):\n",
    "        print (\"%5d %5.1f\" % (Cdegrees[i], Fdegrees[i]))\n",
    "        \n",
    "Sucede con bastante frecuencia que se deben recorrer dos o más listas simultáneamente. Como alternativa al bucle sobre índices, Python ofrece una sintaxis especial que se puede esbozar como\n",
    "\n",
    "    for e1, e2, e3, ... in zip(list1, list2, list3, ...):\n",
    "           # trabajar con el elemento e1 de la lista1, el elemento e2 de la lista2, elemento e3 de list3, etc.\n",
    "\n",
    "\n",
    "La función zip convierte **n** listas (lista1, lista2, lista3, ...) en una lista de n-tuplas, donde cada n-tupla (e1, e2, e3, ...) tiene su primer elemento (e1) del primera lista (lista1), el segundo elemento (e2) de la segunda lista (lista2), y así sucesivamente. \n",
    "\n",
    "El bucle se detiene cuando se llega al final de la lista más corta. En nuestro caso específico de iterar sobre las dos listas Cdegrees\n",
    "y Fdegrees, podemos usar la función zip:\n",
    "\n",
    "    for C, F in zip(Cdegrees, Fdegrees):\n",
    "        print ’%5d %5.1f’ % (C,F)\n",
    "\n",
    "\n",
    "Se considera más Pythonic para iterar sobre los elementos de la lista, aquí C y F, en lugar de sobre lista los índices como en la construcción de **for i in range (len(Cdegrees)).**\n"
   ]
  },
  {
   "cell_type": "markdown",
   "metadata": {},
   "source": [
    "## 2.4 listas anidadas\n",
    "\n",
    "Las listas anidadas son objetos de lista donde los elementos de las listas pueden ser listas. Un par de ejemplos motivarán las listas anidadas e ilustrarán las operaciones básicas en dichas listas.\n",
    "\n",
    "\n",
    "### 2.4.1 Una tabla como una lista de filas o columnas.\n",
    "\n",
    "Nuestros datos de tabla han utilizado hasta ahora una lista separada para cada columna. Si hubiera **n** columnas, necesitaríamos **n** objetos de lista para representar los datos en la tabla. Sin embargo, pensamos en una tabla como una entidad, no como una colección de **n** columnas. Por lo tanto, sería natural utilizar un argumento para toda la tabla. Esto es fácil de lograr utilizando una lista anidada, donde cada entrada en la lista es una lista en sí misma. Un objeto de tabla, por ejemplo, es una lista de listas, ya sea una lista de los elementos de fila de la tabla o una lista de los elementos de columna de la tabla. Aquí hay un ejemplo donde la tabla es una lista de dos columnas, y cada columna es una lista de números:"
   ]
  },
  {
   "cell_type": "code",
   "execution_count": 40,
   "metadata": {},
   "outputs": [],
   "source": [
    "Cdegrees = range(-20, 41, 5)   # -20, -15, ..., 35, 40\n",
    "\n",
    "Fdegrees = [(9.0/5)*C + 32 for C in Cdegrees]\n",
    "\n",
    "table = [Cdegrees, Fdegrees]"
   ]
  },
  {
   "cell_type": "markdown",
   "metadata": {},
   "source": [
    "(Tenga en cuenta que cualquier valor en `[41, 45]` se puede usar como segundo argumento (valor de parada) para el rango y se asegurará de que se incluya 40 en el rango de números generados).\n",
    "\n",
    "Con la tabla de subíndices `[0]` podemos acceder al primer elemento de la tabla, que no es más que la lista de **Cdegrees**, y con la tabla `[0]` `[2]` llegamos al tercer elemento del primer elemento, es decir, **Cdegrees** `[2]`.\n",
    "\n",
    "# INSERTAR FIGURA 2.2\n",
    "\n",
    "- Fig.2.2 Dos formas de crear una tabla como una lista anidada. Izquierda: tabla de columnas C y F,donde C y F son listas. Derecha: tabla de filas, donde cada fila [C, F] es una lista de dos flotantes.\n",
    "\n",
    "Sin embargo, los datos tabulares con filas y columnas suelen tener la convención de que los datos subyacentes son una lista anidada donde el primer índice cuenta las filas y el segundo índice las columnas. Para tener una **table** de esta forma, debemos construir una **table** como una lista de pares `[C, F]`. El primer índice se ejecutará sobre las filas `[C, F]`. Aquí es cómo podemos construir la lista anidada:"
   ]
  },
  {
   "cell_type": "code",
   "execution_count": 47,
   "metadata": {},
   "outputs": [],
   "source": [
    "table = []\n",
    "for C, F in zip(Cdegrees, Fdegrees):\n",
    "    table.append([C,F])"
   ]
  },
  {
   "cell_type": "markdown",
   "metadata": {},
   "source": [
    "Podemos acortar este segmento de código introduciendo una lista de comprensión:"
   ]
  },
  {
   "cell_type": "code",
   "execution_count": 48,
   "metadata": {},
   "outputs": [],
   "source": [
    "table = [[C, F] for C, F in zip(Cdegrees, Fdegrees)]"
   ]
  },
  {
   "cell_type": "markdown",
   "metadata": {},
   "source": [
    "Esta construcción recorre los pares C y F, y para cada paso en el bucle creamos un elemento de lista `[C, F]`.\n",
    "\n",
    "La tabla de subíndices `[1]` se refiere al segundo elemento de la tabla, que es un par `[C, F]`, mientras que la tabla `[1]` `[0]` es el valor C y la tabla `[1]` `[1]` es el valor F. La Figura 2.2 ilustra tanto una lista de columnas como una lista de pares. Usando esta figura, puedes darte cuenta de que el primer índice busca un elemento en la lista externa, y que este elemento se puede indexar con el segundo índice."
   ]
  },
  {
   "cell_type": "markdown",
   "metadata": {},
   "source": [
    "### 2.4.2 Impresión de objetos\n",
    "\n",
    "**Módulos para impresión bonita de objetos.** Podemos escribir la **tabla** de impresión para ver inmediatamente la tabla de la lista anidada de la sección anterior. De hecho, cualquier objeto de Python obj puede imprimirse en la pantalla con el comando `print obj`. La salida suele ser una línea, y esta línea puede llegar a ser muy larga si la lista tiene muchos elementos. Por ejemplo, una lista larga como nuestra variable de tabla, exige una línea bastante larga cuando se imprime.\n",
    "\n",
    "    [[-20, -4.0], [-15, 5.0], [-10, 14.0], ............., [40, 104.0]]\n",
    "    \n",
    "La división de la salida en varias líneas más cortas hace que el diseño sea más agradable y más legible. El módulo de impresión ofrece una bonita funcionalidad de impresión para este propósito. El uso de `pprint` se parece a"
   ]
  },
  {
   "cell_type": "code",
   "execution_count": 42,
   "metadata": {},
   "outputs": [
    {
     "name": "stdout",
     "output_type": "stream",
     "text": [
      "[range(-20, 41, 5),\n",
      " [-4.0, 5.0, 14.0, 23.0, 32.0, 41.0, 50.0, 59.0, 68.0, 77.0, 86.0, 95.0, 104.0]]\n"
     ]
    }
   ],
   "source": [
    "import pprint\n",
    "\n",
    "pprint.pprint(table)"
   ]
  },
  {
   "cell_type": "markdown",
   "metadata": {},
   "source": [
    "y la salida correspondiente se convierte en\n",
    "\n",
    "    [[-20, -4.0],\n",
    "     [-15, 5.0],\n",
    "     [-10, 14.0],\n",
    "     [-5, 23.0],\n",
    "     [0, 32.0],\n",
    "     [5, 41.0],\n",
    "     [10, 50.0],\n",
    "     [15, 59.0],\n",
    "     [20, 68.0],\n",
    "     [25, 77.0],\n",
    "     [30, 86.0],\n",
    "     [35, 95.0],\n",
    "     [40, 104.0]]\n",
    "     \n",
    "Con este libro viene un módulo `pprint` ligeramente modificado que tiene el nombre **scitools.pprint2**. Este módulo permite el control total del formato de la impresión de los objetos flotantes en listas especificando **scitools.pprint2.float_format** como una cadena de formato `printf`. El siguiente ejemplo muestra cómo se puede cambiar el formato de salida de los números reales:"
   ]
  },
  {
   "cell_type": "code",
   "execution_count": null,
   "metadata": {},
   "outputs": [],
   "source": [
    ">>> import pprint, scitools.pprint2\n",
    ">>> somelist = [15.8, [0.2, 1.7]]\n",
    ">>> pprint.pprint(somelist)\n",
    "[15.800000000000001, [0.20000000000000001, 1.7]]\n",
    ">>> scitools.pprint2.pprint(somelist)\n",
    "[15.8, [0.2, 1.7]]\n",
    ">>> # default output is ’%g’, change this to\n",
    ">>> scitools.pprint2.float_format = ’%.2e’\n",
    ">>> scitools.pprint2.pprint(somelist)\n",
    "[1.58e+01, [2.00e-01, 1.70e+00]]"
   ]
  },
  {
   "cell_type": "markdown",
   "metadata": {},
   "source": [
    "Como se puede ver en esta sesión, el módulo pprint escribe números de punto flotante con muchos dígitos, de hecho, tantos que vemos explícitamente errores de redondeo. Muchos encuentran que este tipo de salida es molesto y que la salida predeterminada del módulo scitools.pprint2 es más como lo que uno desearía y esperaría.\n",
    "\n",
    "Los módulos pprint y scitools.pprint2 también tienen una función pformat, que funciona como la función pprint, pero devuelve una cadena bastante formateada en lugar de imprimir la cadena:\n",
    "\n",
    "    s = pprint.pformat(somelist)\n",
    "    print s \n",
    "\n",
    "Esta última declaración impresa se imprime igual que **pprint.pprint (somelist).**\n",
    "\n",
    "**Impresión manual**. Muchos argumentarán que los datos tabulares, como los almacenados en la lista de tablas anidadas, no se imprimen de una manera particularmente bonita por el módulo de impresión. Uno preferiría que una salida bonita fuera una tabla con dos columnas bien alineadas. Para producir tal salida necesitamos codificar el formato manualmente. Esto es bastante fácil: hacemos un bucle sobre cada fila, extraemos los dos elementos C y F en cada fila, e imprimimos estos en campos de ancho fijo usando la sintaxis de printf. El código va de la siguiente manera:"
   ]
  },
  {
   "cell_type": "code",
   "execution_count": null,
   "metadata": {},
   "outputs": [],
   "source": [
    "for C, F in table:\n",
    "    print (\"%5d %5.1f\" % (C,F))"
   ]
  },
  {
   "cell_type": "markdown",
   "metadata": {},
   "source": [
    "### 2.4.3 Extracción de sublistas\n",
    "\n",
    "Python tiene una buena sintaxis para extraer partes de una estructura de lista. Tales partes son conocidas como sublistas o rebanadas:\n",
    "\n",
    "A[i:] es la lista secundaria que comienza con el índice i en A y continúa hasta el final de A:"
   ]
  },
  {
   "cell_type": "code",
   "execution_count": 32,
   "metadata": {},
   "outputs": [
    {
     "data": {
      "text/plain": [
       "[8, 10]"
      ]
     },
     "execution_count": 32,
     "metadata": {},
     "output_type": "execute_result"
    }
   ],
   "source": [
    "A = [2, 3.5, 8, 10]\n",
    "A[2:]"
   ]
  },
  {
   "cell_type": "markdown",
   "metadata": {},
   "source": [
    "A [i: j] es la lista secundaria que comienza con el índice i en A y continúa hasta e incluyendo el índice j-1. Asegúrese de recordar que el elemento correspondiente al índice j no está incluido en la lista secundaria:"
   ]
  },
  {
   "cell_type": "code",
   "execution_count": 33,
   "metadata": {},
   "outputs": [
    {
     "data": {
      "text/plain": [
       "[3.5, 8]"
      ]
     },
     "execution_count": 33,
     "metadata": {},
     "output_type": "execute_result"
    }
   ],
   "source": [
    "A[1:3]"
   ]
  },
  {
   "cell_type": "markdown",
   "metadata": {},
   "source": [
    "A [: i] es la lista secundaria que comienza con el índice 0 en A y continúa hasta e incluyendo el elemento con el índice i-1:"
   ]
  },
  {
   "cell_type": "code",
   "execution_count": 35,
   "metadata": {},
   "outputs": [
    {
     "data": {
      "text/plain": [
       "[2, 3.5, 8]"
      ]
     },
     "execution_count": 35,
     "metadata": {},
     "output_type": "execute_result"
    }
   ],
   "source": [
    "A[:3]"
   ]
  },
  {
   "cell_type": "markdown",
   "metadata": {},
   "source": [
    "A [1: -1] extrae todos los elementos excepto el primero y el último (recuerde que el índice -1 se refiere al último elemento), y A [:] es la lista completa:"
   ]
  },
  {
   "cell_type": "code",
   "execution_count": 36,
   "metadata": {},
   "outputs": [
    {
     "data": {
      "text/plain": [
       "[3.5, 8]"
      ]
     },
     "execution_count": 36,
     "metadata": {},
     "output_type": "execute_result"
    }
   ],
   "source": [
    "A[1:-1]"
   ]
  },
  {
   "cell_type": "code",
   "execution_count": 37,
   "metadata": {},
   "outputs": [
    {
     "data": {
      "text/plain": [
       "[2, 3.5, 8, 10]"
      ]
     },
     "execution_count": 37,
     "metadata": {},
     "output_type": "execute_result"
    }
   ],
   "source": [
    "A[:]"
   ]
  },
  {
   "cell_type": "markdown",
   "metadata": {},
   "source": [
    "En listas anidadas, podemos usar segmentos en el primer índice, por ejemplo,"
   ]
  },
  {
   "cell_type": "code",
   "execution_count": 50,
   "metadata": {},
   "outputs": [
    {
     "data": {
      "text/plain": [
       "[[0, 32.0],\n",
       " [5, 41.0],\n",
       " [10, 50.0],\n",
       " [15, 59.0],\n",
       " [20, 68.0],\n",
       " [25, 77.0],\n",
       " [30, 86.0],\n",
       " [35, 95.0],\n",
       " [40, 104.0]]"
      ]
     },
     "execution_count": 50,
     "metadata": {},
     "output_type": "execute_result"
    }
   ],
   "source": [
    "table[4:]"
   ]
  },
  {
   "cell_type": "markdown",
   "metadata": {},
   "source": [
    "También podemos cortar el segundo índice, o ambos índices:"
   ]
  },
  {
   "cell_type": "code",
   "execution_count": 52,
   "metadata": {},
   "outputs": [
    {
     "data": {
      "text/plain": [
       "[[0, 32.0], [5, 41.0]]"
      ]
     },
     "execution_count": 52,
     "metadata": {},
     "output_type": "execute_result"
    }
   ],
   "source": [
    "table[4:7][0:2]"
   ]
  },
  {
   "cell_type": "markdown",
   "metadata": {},
   "source": [
    "Observe que la tabla [4: 7] hace una lista [[0, 32.0], [5, 41.0], [10, 50.0]] con tres elementos. La división [0: 2] actúa en esta lista secundaria y selecciona sus primeros dos elementos, con los índices 0 y 1.\n",
    "Las listas secundarias siempre son copias de la lista original, por lo tanto, si modifica la lista secundaria, la lista original permanece inalterada y viceversa:"
   ]
  },
  {
   "cell_type": "code",
   "execution_count": 54,
   "metadata": {},
   "outputs": [
    {
     "data": {
      "text/plain": [
       "[1, 4]"
      ]
     },
     "execution_count": 54,
     "metadata": {},
     "output_type": "execute_result"
    }
   ],
   "source": [
    "l1 = [1,4,3]\n",
    "l2 = l1[:-1]\n",
    "l2"
   ]
  },
  {
   "cell_type": "code",
   "execution_count": 55,
   "metadata": {},
   "outputs": [
    {
     "data": {
      "text/plain": [
       "[100, 4, 3]"
      ]
     },
     "execution_count": 55,
     "metadata": {},
     "output_type": "execute_result"
    }
   ],
   "source": [
    "l1[0] = 100\n",
    "l1"
   ]
  },
  {
   "cell_type": "code",
   "execution_count": 56,
   "metadata": {},
   "outputs": [
    {
     "data": {
      "text/plain": [
       "[1, 4]"
      ]
     },
     "execution_count": 56,
     "metadata": {},
     "output_type": "execute_result"
    }
   ],
   "source": [
    "l2"
   ]
  },
  {
   "cell_type": "markdown",
   "metadata": {},
   "source": [
    "El hecho de que rebanar hace una copia también se puede ilustrar con el siguiente código:"
   ]
  },
  {
   "cell_type": "code",
   "execution_count": 59,
   "metadata": {},
   "outputs": [
    {
     "data": {
      "text/plain": [
       "True"
      ]
     },
     "execution_count": 59,
     "metadata": {},
     "output_type": "execute_result"
    }
   ],
   "source": [
    "B = A[:]\n",
    "C = A\n",
    "B == A"
   ]
  },
  {
   "cell_type": "code",
   "execution_count": 60,
   "metadata": {},
   "outputs": [
    {
     "data": {
      "text/plain": [
       "False"
      ]
     },
     "execution_count": 60,
     "metadata": {},
     "output_type": "execute_result"
    }
   ],
   "source": [
    "B is A"
   ]
  },
  {
   "cell_type": "code",
   "execution_count": 61,
   "metadata": {},
   "outputs": [
    {
     "data": {
      "text/plain": [
       "True"
      ]
     },
     "execution_count": 61,
     "metadata": {},
     "output_type": "execute_result"
    }
   ],
   "source": [
    "C is A"
   ]
  },
  {
   "cell_type": "markdown",
   "metadata": {},
   "source": [
    "La expresión booleana B == A es verdadera si todos los elementos en B son iguales a los elementos correspondientes en A. La prueba **B is A** es verdadera si A y B son nombres para la misma lista. La configuración C = A hace que C se refiera al mismo objeto de la lista que A, mientras que B = A [:] hace que B se refiera a una copia de la lista a la que se refiere A.\n",
    "\n",
    "**Ejemplo**. Terminamos esta información en listas secundarias escribiendo la parte de la lista de tablas de las filas [C, F] (consulte la Sección 2.4) donde los grados Celsius están entre 10 y 35 (sin incluir 35):"
   ]
  },
  {
   "cell_type": "code",
   "execution_count": 62,
   "metadata": {},
   "outputs": [
    {
     "name": "stdout",
     "output_type": "stream",
     "text": [
      "   10  50.0\n",
      "   15  59.0\n",
      "   20  68.0\n",
      "   25  77.0\n",
      "   30  86.0\n"
     ]
    }
   ],
   "source": [
    "for C, F in table[Cdegrees.index(10):Cdegrees.index(35)]:\n",
    "    print (\"%5.0f %5.1f\" % (C, F))"
   ]
  },
  {
   "cell_type": "markdown",
   "metadata": {},
   "source": [
    "Siempre debe dejar de leer y convencerse de que entiende por qué un segmento de código produce la salida impresa. En este último ejemplo, **Cdegrees.index(10)** devuelve el índice correspondiente al valor 10 en la lista de **Cdegrees**. Al observar los elementos de Cdegrees, uno se da cuenta (¡hazlo!) Que el bucle for es equivalente a"
   ]
  },
  {
   "cell_type": "code",
   "execution_count": null,
   "metadata": {},
   "outputs": [],
   "source": [
    "for C, F in table [6:11]:"
   ]
  },
  {
   "cell_type": "markdown",
   "metadata": {},
   "source": [
    "Este bucle recorre los índices 6, 7,. . . , 10 en **table**."
   ]
  },
  {
   "cell_type": "markdown",
   "metadata": {},
   "source": [
    "### 2.4.4 Atravesando listas anidadas\n",
    "\n",
    "Hemos visto que atravesar la tabla de la lista anidada se puede hacer mediante un bucle del formulario\n",
    "\n",
    "    for C, F in table:\n",
    "        # process C and F\n",
    "\n",
    "Este es un código natural cuando sabemos que la tabla es una lista de [C, F] listas. Ahora abordaremos listas anidadas más generales en las que no necesariamente sabemos cuántos elementos hay en cada elemento de la lista de la lista.\n",
    "\n",
    "Supongamos que utilizamos una lista anidada de puntuaciones para registrar las puntuaciones de los jugadores en un juego: las puntuaciones [i] contienen una lista de las puntuaciones históricas obtenidas por el número i de jugador. Los diferentes jugadores han jugado el juego un número diferente de veces, por lo que la longitud de las puntuaciones [i] depende de i. Algunos códigos pueden ayudar a aclarar esto:\n",
    "\n",
    "    scores = []\n",
    "    # score of player no. 0:\n",
    "    scores.append([12, 16, 11, 12])\n",
    "    \n",
    "    # score of player no. 1:\n",
    "    scores.append([9])\n",
    "    \n",
    "    # score of player no. 2:\n",
    "    scores.append([6, 9, 11, 14, 17, 15, 14, 20])\n",
    "\n",
    "\n",
    "\n",
    "Las puntuaciones de la lista tienen tres elementos, cada elemento corresponde a un jugador. El elemento no. g en la lista de puntuaciones [p] corresponde a la puntuación obtenida en el juego número g jugado por el jugador número p. La longitud de las puntuaciones de las listas [p] varía y es igual a 4, 1 y 8 para p igual a 0, 1 y 2, respectivamente.\n",
    "\n",
    "\n",
    "En el caso general, podemos tener n jugadores, y algunos pueden haber jugado el juego muchas veces, lo que hace que las puntuaciones sean potencialmente grandes lista anidada ¿Cómo podemos atravesar la lista de puntuaciones y escribirla en un formato de tabla con columnas bien formateadas? Cada fila en la tabla corresponde a un jugador, mientras que las columnas corresponden a puntajes. Por ejemplo, los datos inicializados anteriormente se pueden escribir como\n",
    "\n",
    "    12 16 11 12\n",
    "    9\n",
    "    6 9 11 14 17 15 14 20\n",
    "    \n",
    "En un programa, debemos usar dos bucles anidados, uno para los elementos en las puntuaciones y otro para los elementos en las listas de puntuaciones. El siguiente ejemplo lo aclarará.\n",
    "\n",
    "Hay dos formas básicas de recorrer una lista anidada: o usamos índices enteros para cada índice, o usamos variables para los elementos de la lista. Primero ejemplifiquemos la versión basada en índices:"
   ]
  },
  {
   "cell_type": "code",
   "execution_count": 83,
   "metadata": {},
   "outputs": [
    {
     "name": "stdout",
     "output_type": "stream",
     "text": [
      "12\n",
      "16\n",
      "11\n",
      "12\n",
      "\n"
     ]
    }
   ],
   "source": [
    "scores = []\n",
    "scores.append([12, 16, 11, 12])\n",
    "\n",
    "for p in range(len(scores)):\n",
    "    for g in range(len(scores[p])):\n",
    "                   \n",
    "                   score = scores[p][g]\n",
    "                   print (score)\n",
    "    print()"
   ]
  },
  {
   "cell_type": "markdown",
   "metadata": {},
   "source": [
    "Con la coma final después de la cadena de impresión, evitamos una nueva línea para que los valores de la columna en la tabla (es decir, los puntajes para un jugador) aparezcan en la misma línea. El comando de impresión individual después del bucle sobre c agrega una nueva línea después de cada fila de la tabla. Se alienta al lector a que recorra los bucles a mano y simule lo que sucede en cada declaración (use la lista de puntuaciones simples que se inició anteriormente).\n",
    "\n",
    "La versión alternativa donde usamos las variables para iterar sobre los elementos en la lista de puntuaciones y sus sublistas se ve así:"
   ]
  },
  {
   "cell_type": "code",
   "execution_count": 86,
   "metadata": {},
   "outputs": [
    {
     "name": "stdout",
     "output_type": "stream",
     "text": [
      "12\n",
      "16\n",
      "11\n",
      "12\n",
      "\n"
     ]
    }
   ],
   "source": [
    "for player in scores:\n",
    "    for game in player:\n",
    "        print(game)\n",
    "    print()"
   ]
  },
  {
   "cell_type": "markdown",
   "metadata": {},
   "source": [
    "Nuevamente, el lector debe recorrer el código a mano y darse cuenta de los valores del jugador y del juego en cada paso de los bucles.\n",
    "\n",
    "En el caso muy general, podemos tener una lista anidada con muchos índices: somelist [i1] [i2] [i3] .... Para visitar cada uno de los elementos de la lista, usamos tantos nidos para bucles como índices . Con cuatro índices, la iteración sobre los índices enteros se ve como"
   ]
  },
  {
   "cell_type": "code",
   "execution_count": 87,
   "metadata": {},
   "outputs": [],
   "source": [
    "for i1 in range(len(somelist)):\n",
    "    for i2 in range(len(somelist[i1])):\n",
    "        for i3 in range(len(somelist[i1][i2])):\n",
    "            for i4 in range(len(somelist[i1][i2][i3])):\n",
    "                value = somelist[i1][i2][i3][i4]\n",
    "# work with value"
   ]
  },
  {
   "cell_type": "markdown",
   "metadata": {},
   "source": [
    "La versión correspondiente iterando sobre sublistas se convierte en."
   ]
  },
  {
   "cell_type": "code",
   "execution_count": 88,
   "metadata": {},
   "outputs": [],
   "source": [
    "for sublist1 in somelist:\n",
    "    for sublist2 in sublist1:\n",
    "        for sublist3 in sublist2:\n",
    "            for sublist4 in sublist3:\n",
    "                value = sublist4\n",
    "                "
   ]
  },
  {
   "cell_type": "markdown",
   "metadata": {},
   "source": [
    "Recomendamos hacer el ejercicio 3.29 para obtener una mejor comprensión de los bucles anidados."
   ]
  },
  {
   "cell_type": "markdown",
   "metadata": {},
   "source": [
    "## 2.5 Tuplas\n",
    "\n",
    "Las tuplas son muy similares a las listas, pero las tuplas no se pueden cambiar. Es decir, una tupla puede verse como una lista constante. Mientras que las listas emplean corchetes, las tuplas se escriben con paréntesis estándar:\n",
    "\n",
    "     t = (2, 4, 6, ’temp.pdf’) # define una tupla con el nombre t\n",
    " \n",
    "También se puede quitar el paréntesis en muchas ocasiones:\n",
    "\n",
    "\n",
    "    t = 2, 4, 6, ’temp.pdf’\n",
    "    for element in ’myfile.txt’, ’yourfile.txt’, ’herfile.txt’:\n",
    "    ...     print element,\n",
    "    ...\n",
    "    myfile.txt yourfile.txt herfile.txt\n",
    "\n",
    "El bucle **for** aquí está sobre una tupla, porque una secuencia de objetos separados por comas, incluso sin encerrar paréntesis, se convierte en una tupla. Tenga en cuenta la coma final en la declaración de impresión. Esta coma suprime la nueva línea final que el comando de impresión agrega automáticamente a la cadena de salida. Esta es la manera de hacer que varias declaraciones de impresión construyan una línea de salida.\n",
    "\n",
    "Mucha funcionalidad para listas también está disponible para tuplas, por ejemplo:\n",
    "\n",
    "    >>> t = t + (-1.0, -2.0)     # add two tuples\n",
    "    >>> t\n",
    "    (2, 4, 6, ’temp.pdf’, -1.0, -2.0)\n",
    "\n",
    "    >>> t[1]     # indexing\n",
    "    4\n",
    "    \n",
    "    >>> t[2:]     # subtuple/slice\n",
    "    (6, ’temp.pdf’, -1.0, -2.0) \n",
    "    \n",
    "    >>> 6 in t     # membership\n",
    "    True\n",
    "    \n",
    "Cualquier operación de lista que cambie la lista no funcionará para las tuplas:\n",
    "\n",
    "    >>> t[1] = -1\n",
    "    ...\n",
    "    TypeError: object does not support item assignment\n",
    "    \n",
    "    >>> t.append(0)\n",
    "    ...\n",
    "    AttributeError: ’tuple’ object has no attribute ’append’\n",
    "    \n",
    "    >>> del t[1]\n",
    "    ...\n",
    "     TypeError: object doesn’t support item deletion\n",
    "     \n",
    " Algunos métodos de lista, como el índice, no están disponibles para las tuplas. Entonces, ¿por qué necesitamos tuplas cuando las listas pueden hacer más que tuplas?\n",
    " \n",
    "- Las tuplas protegen contra cambios accidentales de sus contenidos.\n",
    "- El código basado en tuplas es más rápido que el código basado en listas.\n",
    "- Las tuplas se utilizan con frecuencia en el software Python que se guramente hacer uso de, por lo que necesita saber este tipo de datos.\n",
    "\n",
    "\n",
    "También hay un cuarto argumento, que es importante para un tipo de datos llamado diccionarios (introducido en la Sección 6.1): las tuplas se pueden usar como claves en los diccionarios, mientras que las listas no pueden."
   ]
  },
  {
   "cell_type": "markdown",
   "metadata": {},
   "source": [
    "## 2.6 Resumen\n",
    "\n",
    "### 2.6.1 Temas del capítulo\n",
    "\n",
    "**Mientras bucles** . Los bucles se utilizan para repetir una colección de instrucciones del programa varias veces. Las declaraciones que pertenecen al bucle se deben sangrar de forma consistente en Python. \n",
    "\n",
    "Un bucle **while** se ejecuta mientras una condición se evalúe como Verdadero:\n",
    "\n",
    "      >>> t = 0; dt = 0.5; T = 2\n",
    "    >>> mientras t <= T:\n",
    "    ... imprimir t\n",
    "    ... t + = dt\n",
    "    ...\n",
    "    0.5\n",
    "    1.0\n",
    "    1.5\n",
    "    2.0\n",
    "    >>> imprimir ’Final t:’, t, ’; t <= T es ’, t <= T \n",
    "    Final t: 2.5; t <= T es Falso\n",
    "\n",
    "**Lista.** Una lista se utiliza para recopilar una serie de valores o variables en una secuencia ordenada.\n",
    "\n",
    "     >>> mylist = [t, dt, T, 'mynumbers.dat', 100]\n",
    "\n",
    "Un elemento de lista puede ser cualquier objeto de Python, incluidos números, cadenas, funciones y otras listas, por ejemplo.\n",
    "\n",
    "La tabla a continuación muestra algunas operaciones de lista importantes (solo se explica un subconjunto de estas en el presente capítulo).\n",
    "\n",
    "    a = []                  Inicializar una lista vacía\n",
    "    a = [1, 4.4, ’run.py’]  inicializar una lista\n",
    "    a.append(elem)          añadir objeto elem al final\n",
    "    a + [1,3]               agregar dos listas\n",
    "    a.insert(i, e)          inserta el elemento e antes del índice i\n",
    "    a[3]                    indexar un elemento de lista\n",
    "    a[-1]                   obtener el último elemento de la lista \n",
    "        a[1:3]      SLICE: copiar datos a la lista secundaria(aquí:índice 1, 2)\n",
    "    del a[3]                eliminar un elemento (índice 3)\n",
    "    a.remove(e)             eliminar un elemento con valor e\n",
    "        a.index(’run.py’) encontrar el índice correspondiente a la prueba de valor de un elemento \n",
    "    \n",
    "    ’run.py’ in a          si un valor está contenido en la lista\n",
    "        a.count(v)   cuente cuántos elementos tienen el valor v número de elementos en una lista\n",
    "    len(a)\n",
    "    min(a)   el elemento más pequeño en una lista\n",
    "    max(a)   el elemento más grande en una lista\n",
    "    sum(a)   sumar todos los elementos en una\n",
    "    sorted(a)  Volver versión ordenada de la lista a\n",
    "    reversed(a)  volver versión invertida ordenada de la lista una\n",
    "    b[3][0][2] indexación de lista anidada\n",
    "    isinstance(a, list) es cierto si a es una lista\n",
    "    type(a) is list  es cierto si a es una lista\n",
    "\n",
    "\n",
    "**Listas anidadas.**  Si los elementos de la lista son también listas, tenemos\n",
    "\n",
    "    >>> nl = [[0, 0, 1], [-1, -1, 2], [-10, 10, 5]]\n",
    "    >>> nl[0]\n",
    "    [0, 0, 1]\n",
    "    \n",
    "    >>> nl[-1]\n",
    "    [-10, 10, 5]\n",
    "    \n",
    "    >>> nl[0][2]\n",
    "    1\n",
    "    \n",
    "    >>> nl[-1][0]\n",
    "    -10\n",
    "    \n",
    "    >>> for p in nl:\n",
    "    ... print p ...\n",
    "    [0, 0, 1]\n",
    "    [-1, -1, 2]\n",
    "    [-10, 10, 5]\n",
    "    \n",
    "    >>> for a, b, c in nl:\n",
    "    ...     print ’%3d %3d %3d’ % (a, b, c)\n",
    "    ...\n",
    "    0 0 1\n",
    "    -1 -1 2\n",
    "    -10 10 5\n",
    "\n",
    "**Tuplas**. Una tupla se puede ver como una lista constante: no se permiten cambios en el contenido de la tupla. Las tuplas emplean paréntesis estándar o ningún paréntesis, y los elementos se separan con comas como en las listas:\n",
    "    \n",
    "    >>> mytuple = (t, dt, T, ’mynumbers.dat’, 100)\n",
    "    >>> mytuple =  t, dt, T, ’mynumbers.dat’, 100)\n",
    "\n",
    "Muchas operaciones de lista también son válidas para tuplas, pero las que cambian el contenido de la lista no se pueden usar con tuplas (los ejemplos son anexar, eliminar, eliminar, indexar y ordenar).\n",
    "\n",
    "\n",
    "Un objeto que contiene una colección ordenada de otros objetos de manera que una [i] se refiere a un objeto con índice i en la colección, se conoce como una secuencia en Python. Las listas, tuplas, cadenas y matrices son ejemplos de secuencias. Eliges un tipo de secuencia cuando hay un orden natural de los elementos. Para una colección de objetos no ordenados, un diccionario (ver Sección 6.1) es a menudo más conveniente.\n",
    "\n",
    "**for loops**. Un bucle for se utiliza para ejecutar los elementos de una lista o una tupla:\n",
    "\n",
    "    >>> for elem in [10, 20, 25, 27, 28.5]:\n",
    "    ...     print elem,\n",
    "    ...\n",
    "    10 20 25 27 28.5\n",
    "\n",
    "\n",
    "La coma final después de la instrucción de impresión evita que el carácter de nueva línea, que de lo contrario se agregaría automáticamente a la impresión.\n",
    "\n",
    "La función de rango se usa frecuentemente en bucles sobre una secuencia de enteros. Recuerde que el rango (inicio, parada, inc) no incluye la parada del límite superior entre los elementos de la lista.\n",
    "\n",
    "    >>> for elem in range(1, 5, 2):\n",
    "    ... print elem,\n",
    "    ...\n",
    "    1 3\n",
    "    >>> range(1,5,2)\n",
    "    [1 , 3]\n",
    "\n",
    "\n",
    "La implementación de una suma\n",
    "\n",
    "$$\n",
    "\\sum{_j^N}=M q(j)\n",
    "$$\n",
    "\n",
    "\n",
    "donde q (j) es una expresión matemática que involucra el contador entero j, normalmente se implementa utilizando un bucle for. Al elegir, por ejemplo, $q (j) = 1 / j^2$, la suma se calcula mediante\n",
    "\n",
    "\n"
   ]
  },
  {
   "cell_type": "code",
   "execution_count": null,
   "metadata": {},
   "outputs": [],
   "source": [
    "s = 0  # accumulation variable\n",
    "for j in range(M, N+1, 1):\n",
    "    a += 1./j**2"
   ]
  },
  {
   "cell_type": "markdown",
   "metadata": {},
   "source": [
    "**Impresión bonita**. Para imprimir una lista a, se puede usar a print, pero los módulos pprint y scitools.pprint2 y su función pprint ofrecen un diseño más agradable de la salida para listas largas y anidadas. El módulo scitools.pprint2 tiene la posibilidad de controlar el formato de los números de punto flotante.\n",
    "\n",
    "\n",
    "**Terminología.** Los términos importantes de la informática en este capítulo son\n",
    "\n",
    "- lista\n",
    "- tupla\n",
    "- lista anidada (y tupla anidada)\n",
    "- sublista (subtupla) o corte a[i:j]\n",
    "- while loop\n",
    "- for loop\n",
    "- lista de comprensión\n",
    "- expresión booleana\n"
   ]
  },
  {
   "cell_type": "code",
   "execution_count": null,
   "metadata": {},
   "outputs": [],
   "source": []
  },
  {
   "cell_type": "markdown",
   "metadata": {},
   "source": [
    "\n"
   ]
  },
  {
   "cell_type": "code",
   "execution_count": null,
   "metadata": {},
   "outputs": [],
   "source": []
  },
  {
   "cell_type": "code",
   "execution_count": null,
   "metadata": {},
   "outputs": [],
   "source": []
  },
  {
   "cell_type": "code",
   "execution_count": null,
   "metadata": {},
   "outputs": [],
   "source": []
  },
  {
   "cell_type": "code",
   "execution_count": null,
   "metadata": {},
   "outputs": [],
   "source": []
  },
  {
   "cell_type": "code",
   "execution_count": null,
   "metadata": {},
   "outputs": [],
   "source": []
  },
  {
   "cell_type": "code",
   "execution_count": null,
   "metadata": {},
   "outputs": [],
   "source": []
  },
  {
   "cell_type": "code",
   "execution_count": null,
   "metadata": {},
   "outputs": [],
   "source": []
  },
  {
   "cell_type": "code",
   "execution_count": null,
   "metadata": {},
   "outputs": [],
   "source": []
  },
  {
   "cell_type": "code",
   "execution_count": null,
   "metadata": {},
   "outputs": [],
   "source": []
  },
  {
   "cell_type": "code",
   "execution_count": null,
   "metadata": {},
   "outputs": [],
   "source": []
  },
  {
   "cell_type": "code",
   "execution_count": null,
   "metadata": {},
   "outputs": [],
   "source": []
  },
  {
   "cell_type": "code",
   "execution_count": null,
   "metadata": {},
   "outputs": [],
   "source": []
  },
  {
   "cell_type": "code",
   "execution_count": null,
   "metadata": {},
   "outputs": [],
   "source": []
  },
  {
   "cell_type": "code",
   "execution_count": null,
   "metadata": {},
   "outputs": [],
   "source": []
  }
 ],
 "metadata": {
  "kernelspec": {
   "display_name": "Python 3",
   "language": "python",
   "name": "python3"
  },
  "language_info": {
   "codemirror_mode": {
    "name": "ipython",
    "version": 3
   },
   "file_extension": ".py",
   "mimetype": "text/x-python",
   "name": "python",
   "nbconvert_exporter": "python",
   "pygments_lexer": "ipython3",
   "version": "3.6.8"
  }
 },
 "nbformat": 4,
 "nbformat_minor": 2
}
