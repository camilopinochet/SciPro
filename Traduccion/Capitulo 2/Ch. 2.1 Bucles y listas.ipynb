{
 "cells": [
  {
   "cell_type": "markdown",
   "metadata": {},
   "source": [
    "## Ch. 2.1 Bucles y listas\n",
    "\n",
    "\n",
    "Este capítulo explica cómo las tareas repetitivas en un programa se pueden automatizar mediante bucles. También introducimos objetos de lista para almacenar y procesar colecciones de datos con un orden específico. Los bucles y las listas, junto con las funciones y las pruebas del Capítulo 3, establecen la base de programación fundamental para el resto del libro. Los programas asociados con el capítulo se encuentran en la carpeta src / looplist1.\n",
    "\n",
    "\n",
    "### 2.1 While loops\n",
    "\n",
    "Nuestra tarea ahora es imprimir una tabla de conversión con grados Celsius en la primera columna de la tabla y los grados Fahrenheit correspondientes en la segunda columna. Tal tabla puede verse así:\n",
    "\n",
    "    -20  -4.0\n",
    "    -15   5.0\n",
    "    -10  14.0\n",
    "    -5  23.0\n",
    "     0  32.0\n",
    "     5  41.0\n",
    "    10  50.0\n",
    "    15  59.0\n",
    "    20  68.0\n",
    "    25  77.0\n",
    "    30  86.0\n",
    "    35  95.0\n",
    "    40 104.0\n",
    "    \n",
    "para la tabla de arriba. Usando tres instrucciones por línea en el programa, para un diseño compacto del código, podemos escribir todo el programa como:\n",
    "\n",
    "    C=-20; F=9.0/5*C+32; printC,F \n",
    "    C=-15; F=9.0/5*C+32; printC,F \n",
    "    C=-10; F=9.0/5*C+32; printC,F \n",
    "    C= -5; F=9.0/5*C+32; printC,F \n",
    "    C= 0; F=9.0/5*C+32; printC,F \n",
    "    C= 5; F=9.0/5*C+32; printC,F \n",
    "    C= 10; F=9.0/5*C+32; printC,F \n",
    "    C= 15; F=9.0/5*C+32; printC,F \n",
    "    C= 20; F=9.0/5*C+32; printC,F \n",
    "    C= 25; F=9.0/5*C+32; printC,F \n",
    "    C= 30; F=9.0/5*C+32; printC,F \n",
    "    C= 35; F=9.0/5*C+32; printC,F\n",
    "    C= 40; F=9.0/5*C+32; printC,F\n",
    "    \n",
    "Al ejecutar este programa (que se almacena en el archivo c2f_table_repeat.py), se demuestra que la salida se convierte en   \n",
    "    \n",
    "    -20 -4.0\n",
    "    -15 5.0\n",
    "    -10 14.0\n",
    "    -5 23.0\n",
    "    0 32.0\n",
    "    5 41.0\n",
    "    10 50.0\n",
    "    15 59.0\n",
    "    20 68.0\n",
    "    25 77.0\n",
    "    30 86.0\n",
    "    35 95.0\n",
    "    40 104.0\n",
    "    \n",
    "Esta salida está sujeta a un formato algo feo, pero ese problema puede solucionarse rápidamente reemplazando la impresión C, F por una declaración de impresión basada en el formato de printf. Volveremos a este detalle más adelante.\n",
    "\n",
    "El principal problema con el programa anterior es que muchas declaraciones son idénticas y repetidas. En primer lugar, es aburrido escribir este tipo de declaraciones repetidas, especialmente si queremos muchos más valores de C y F en la tabla. En segundo lugar, la idea de la computadora es automatizar la repetición. Por lo tanto, todos los lenguajes informáticos tienen construcciones para expresar de manera eficiente la repetición. Estas construcciones se denominan bucles y vienen en dos variantes en Python: while bucles y para bucles. La mayoría de los programas en este libro emplean bucles, por lo que este concepto es extremadamente importante para aprender.    \n",
    "   "
   ]
  },
  {
   "cell_type": "markdown",
   "metadata": {},
   "source": [
    "### 2.1.2 mientras bucles\n",
    "\n",
    "El bucle while se usa para repetir un conjunto de declaraciones siempre que una condición sea verdadera. Vamos a introducir este tipo de bucle a través de un ejemplo. La tarea es generar las filas de la tabla de valores C y F. El valor de C comienza en 20 y se incrementa en 5 mientras C <= 40. Para cada valor de C, calculamos el valor de F correspondiente y escribimos las dos temperaturas. Además, también agregamos una línea de guiones encima y debajo de la tabla.\n",
    "\n",
    "La lista de tareas a realizar se puede resumir de la siguiente manera:\n",
    "\n",
    "- Línea de impresión con guiones \n",
    "- C = 20\n",
    "- While C <= 40:\n",
    "    - F = 9/5 C + 32\n",
    "    - Print C y F\n",
    "    - Incremento C por 5\n",
    "- Línea de impresión con guiones\n",
    "\n",
    "Este es el algoritmo de nuestra tarea de programación. El camino de un algoritmo detallado a un código de Python completamente funcional se puede hacer muy corto, lo que es definitivamente cierto en el presente caso:\n",
    "\n",
    "\n",
    "    print ’------------------’     # table heading\n",
    "    C = -20                        # start value for C\n",
    "    dC = 5                          # increment of C in loop\n",
    "    while C <= 40:                   # loop heading with condition\n",
    "        F = (9.0/5)*C + 32             # 1st statement inside loop\n",
    "        print C, F                    # 2nd statement inside loop\n",
    "        C = C + dC               # 3rd statement inside loop\n",
    "    print ’------------------’      # end of table line (after loop)\n",
    "\n",
    "\n",
    "Ahora se encuentra una característica muy importante de Python: el bloque de instrucciones que se ejecutará en cada paso del bucle while debe estar sangrado. En el ejemplo anterior, el bloque consta de tres líneas, y todas estas líneas deben tener exactamente la misma sangría. Nuestra elección de sangría en este libro son cuatro espacios. La primera declaración cuya sangría coincide con la de la línea while marca el final del bucle y se ejecuta después de que el bucle haya terminado. En este ejemplo, esta es la declaración de impresión final. Se le recomienda escribir el código anterior en un archivo, sangrar los últimos cuatro espacios de la línea y observar lo que sucede (verá que las líneas de la tabla están separadas por una línea de guiones: ––––).\n",
    "\n",
    "Muchos programadores principiantes de Python olvidan los dos puntos al final de la línea while: estos dos puntos son esenciales y marcan el comienzo del bloque de declaraciones con sangría dentro del bucle. Más adelante, veremos que hay muchas otras construcciones de programas similares en Python donde hay un encabezado que termina con dos puntos, seguido de un bloque de declaraciones con sangría.\n",
    "\n",
    "Los programadores deben comprender completamente lo que está sucediendo en un programa y poder simular el programa a mano. Hagamos esto con el segmento de programa arriba. Primero, definimos el valor de inicio para la secuencia de temperaturas Celsius: C = -20. También definimos el incremento dC que se agregará a C dentro del bucle. Entonces entramos en la condición de bucle C <= 40. La primera vez que C es -20, lo que implica que C <= 40 (equivalente a C ⇧ 40 en notación matemática) es verdadero. Dado que la condición de bucle es verdadera, ingresamos al bucle y ejecutamos todas las sentencias con sangría. Es decir, calculamos F correspondiente al valor actual de C, imprimimos las temperaturas e incrementamos C en dC. Para simplificar, hemos utilizado una letra C, F sin formato, por lo que las columnas no se alinearán, pero esto puede solucionarse fácilmente más adelante.\n",
    "\n",
    "A partir de entonces, entramos en la segunda pasada del bucle. Primero verificamos la condición: C es -15 y C <= 40 sigue siendo cierto. Ejecutamos las instrucciones en el bloque de bucle con sangría, C se convierte en -10, esto es aún menor o igual a 40, por lo que ingresamos nuevamente en el bloque de bucle. Este procedimiento se repite hasta que C se actualiza de 40 a 45 en la declaración final en el bloque de bucle. Cuando luego probamos la condición, C <= 40, esta condición ya no es verdadera y el ciclo se termina. Continuamos con la siguiente declaración que tiene la misma sangría que la instrucción while, que es la declaración de impresión final en este ejemplo.\n",
    "\n",
    "Los recién llegados a la programación a veces se confunden con declaraciones como\n",
    "\n",
    "    C = C + dC\n",
    "\n",
    "Esta línea parece errónea desde un punto de vista matemático, pero la declaración es un código de computadora perfectamente válido, porque primero evaluamos la expresión en el lado derecho del signo de igualdad y luego dejamos que la variable en el lado izquierdo se refiera a Resultado de esta evaluación. En nuestro caso, C y dC son dos objetos int diferentes. La operación C + dC da como resultado un nuevo objeto int, que en la asignación C = C + dC está vinculado al nombre C. Antes de esta asignación, C ya estaba vinculado a un objeto int, y este objeto se destruye automáticamente cuando C es enlazado a un nuevo objeto y no hay otros nombres (variables) que se refieran a este objeto anterior (si no obtuvo este último punto, simplemente relájese y continúe leyendo).\n",
    "\n",
    "Como el incremento del valor de una variable se realiza con frecuencia en programas informáticos, hay una notación corta especial para esta y otras operaciones relacionadas:\n",
    "   "
   ]
  },
  {
   "cell_type": "code",
   "execution_count": 1,
   "metadata": {},
   "outputs": [
    {
     "name": "stdout",
     "output_type": "stream",
     "text": [
      "’------------------’\n",
      "-20 -4.0\n",
      "-15 5.0\n",
      "-10 14.0\n",
      "-5 23.0\n",
      "0 32.0\n",
      "5 41.0\n",
      "10 50.0\n",
      "15 59.0\n",
      "20 68.0\n",
      "25 77.0\n",
      "30 86.0\n",
      "35 95.0\n",
      "40 104.0\n",
      "’------------------’\n"
     ]
    }
   ],
   "source": [
    "print (\"’------------------’\")     # table heading\n",
    "C = -20                        # start value for C\n",
    "dC = 5                          # increment of C in loop\n",
    "while C <= 40:                   # loop heading with condition\n",
    "    F = (9.0/5)*C + 32             # 1st statement inside loop\n",
    "    print (C, F)                    # 2nd statement inside loop\n",
    "    C = C + dC               # 3rd statement inside loop\n",
    "print (\"’------------------’\")      # end of table line (after loop)"
   ]
  },
  {
   "cell_type": "code",
   "execution_count": 2,
   "metadata": {},
   "outputs": [],
   "source": [
    "C+=dC #equivalenttoC=C+dC \n",
    "C-=dC #equivalenttoC=C-dC \n",
    "C*= dC # equivalent to C = C*dC \n",
    "C/= dC # equivalent to C = C/dC"
   ]
  },
  {
   "cell_type": "markdown",
   "metadata": {},
   "source": [
    "### 2.1.3 expresiones booleanas\n",
    "\n",
    "En nuestro primer ejemplo en un bucle while, trabajamos con una condición C <= 40, que se evalúa como verdadera o falsa, escrita como Verdadero o Falso en Python. Otras comparaciones también son útiles:"
   ]
  },
  {
   "cell_type": "code",
   "execution_count": 3,
   "metadata": {},
   "outputs": [
    {
     "data": {
      "text/plain": [
       "False"
      ]
     },
     "execution_count": 3,
     "metadata": {},
     "output_type": "execute_result"
    }
   ],
   "source": [
    "C==40 #C equals 40\n",
    "C!=40 #C does not equal 40\n",
    "C>=40 #C is greater than or equal to 40 \n",
    "C> 40 #C is greater than 40\n",
    "C< 40 # C is less than 40"
   ]
  },
  {
   "cell_type": "markdown",
   "metadata": {},
   "source": [
    "No solo las comparaciones entre números se pueden usar como condiciones en bucles while: se puede usar cualquier expresión que tenga un valor booleano (Verdadero o Falso). Estas expresiones se conocen como expresiones lógicas o booleanas.\n",
    "\n",
    "La palabra clave no se puede insertar delante de la expresión booleana para cambiar el valor de Verdadero a Falso o de Falso a Verdadero. Para evaluar not C == 40, primero evaluamos C == 40, for C = 1 this is False, y luego no convertimos el valor en True. Por el contrario, si C == 40 es verdadero, no C == 40 se convierte en falso. Matemáticamente es más fácil leer C! = 40 que no C == 40, pero estas dos expresiones booleanas son equivalentes.\n",
    "\n",
    "Las expresiones booleanas se pueden combinar con y o para formar nuevas expresiones booleanas compuestas, como en"
   ]
  },
  {
   "cell_type": "raw",
   "metadata": {},
   "source": [
    "While x > 0 and y <= 1:\n",
    "    print (x, y) "
   ]
  },
  {
   "cell_type": "markdown",
   "metadata": {},
   "source": [
    "Si cond1 y cond2 son dos expresiones booleanas con valores Verdadero o Falso, la expresión booleana compuesta cond1 y cond2 es verdadera si cond1 y cond2 son verdaderas. Por otro lado, cond1 o cond2 es verdadero si al menos una de las condiciones, cond1 o cond2, es verdadero\n",
    "\n",
    "---\n",
    "**Observación**\n",
    "\n",
    "En Python, cond1 y cond2 o cond1 o cond2 devuelve uno de los operandos y no solo valores verdaderos o falsos como en la mayoría de los otros lenguajes de computadora. Los operandos cond1 o cond2 pueden ser expresiones u objetos. En el caso de las expresiones, éstas se evalúan primero en un objeto antes de evaluar la expresión booleana compuesta. Por ejemplo, (5 + 1) o -1 se evalúa como 6 (el segundo operando no se evalúa cuando el primero es Verdadero), y (5 + 1) y -1 se evalúa como -1.\n",
    "\n",
    "---\n",
    "\n",
    "Aquí hay algunos ejemplos más de una sesión interactiva en la que solo evaluamos las expresiones booleanas en sí mismas sin usarlas en condiciones de bucle:\n",
    "\n"
   ]
  },
  {
   "cell_type": "markdown",
   "metadata": {},
   "source": [
    "x=0\n",
    "y=1.2 \n",
    "x >= 0 and y < 1 False\n",
    "x >= 0 or y < 1 True\n",
    "x > 0 or y > 1\n",
    "True\n",
    "x > 0 or not y > 1\n",
    "False\n",
    "-1<x<=0 # -1<xandx<=0 True\n",
    "not (x > 0 or y > 0)\n",
    "False"
   ]
  },
  {
   "cell_type": "markdown",
   "metadata": {},
   "source": [
    "En la última expresión de muestra, no se aplica al valor de la expresión booleana entre paréntesis: x > 0 es False, y > 0 es True, por lo que la expresión combinada con or es True, y no convierte este valor en False\n",
    "\n",
    "Los valores booleanos comunes en Python son Verdadero, Falso, **0** (falso) y cualquier entero distinto a cero (verdadero). Para ver tales valores en acción, recomendamos hacer los Ejercicios 2.21 y 2.17.\n",
    "\n",
    "---\n",
    "**Evaluación booleana de un objeto.**\n",
    "\n",
    "* De hecho, todos los objetos en Python se pueden evaluar en un contexto booleano, y todos son verdaderos, excepto Falso, números cero y cadenas vacías, listas y diccionarios:"
   ]
  },
  {
   "cell_type": "code",
   "execution_count": 4,
   "metadata": {},
   "outputs": [
    {
     "data": {
      "text/plain": [
       "False"
      ]
     },
     "execution_count": 4,
     "metadata": {},
     "output_type": "execute_result"
    }
   ],
   "source": [
    ">>> s = \"’some string’\"\n",
    ">>> bool(s)\n",
    "True\n",
    ">>> s = \"\"  # empty string\n",
    ">>> bool(s)\n",
    "False\n",
    ">>> L = [1, 4, 6]\n",
    ">>> bool(L)\n",
    "True\n",
    ">>> L = []\n",
    ">>> bool(L)\n",
    "False\n",
    ">>> a = 88.0\n",
    ">>> bool(a)\n",
    "True\n",
    ">>> a = 0.0\n",
    ">>> bool(a)\n",
    "False"
   ]
  },
  {
   "cell_type": "markdown",
   "metadata": {},
   "source": [
    "* Esencialmente, si una prueba si a es un objeto no vacío o si es un valor distinto de cero. Tales construcciones son frecuentes en el código Python.\n",
    "\n",
    "El pensamiento erróneo sobre las expresiones booleanas es una de las fuentes más comunes de errores en los programas de computadora, por lo que debe tener cuidado cada vez que encuentre una expresión booleana y verificar que esté correctamente establecida.\n"
   ]
  },
  {
   "cell_type": "markdown",
   "metadata": {},
   "source": [
    "### 2.1.4 Implementación en bucle de una suma\n",
    "\n",
    "Las sumas frecuentemente aparecen en las matemáticas. Por ejemplo, la función seno se puede calcular como un polinomio:\n",
    "\n",
    "#### Ecuacion Nº 2.1\n",
    "\n",
    "\n",
    "$$\n",
    "\\sin(x) \\approx x- \\frac{x^3}{3!}+\\frac{x^5}{5!}-\\frac{x^7}{7!}+...\n",
    "$$\n",
    "\n",
    "donde 3! = 3 · 2 · 1, 5! = 5 · 4 · 3 · 2 · 1, etc., son expresiones factoriales. Computando k! = k (k 1) (k 2) · · · 2 · 1 se realiza mediante **math.factorial (k)**.\n",
    "\n",
    "Se necesita un número infinito de términos en el lado derecho de (2.1)\n",
    "para que el signo de igualdad se mantenga. Con un número finito de términos, obtenemos una aproximación a sin(x), que es adecuada para ser calculada en un programa ya que solo están involucradas las potencias y las cuatro operaciones aritméticas básicas. Digamos que queremos calcular el lado derecho de (2.1) para potencias hasta N = 25. Escribir e implementar cada uno de estos términos es un trabajo tedioso que se puede automatizar fácilmente mediante un ciclo.\n",
    "\n",
    "El cálculo de la suma en (2.1) mediante un bucle while en Python, utiliza (i) un contador k que corre a través de números impares desde 1 hasta una potencia máxima dada N, y (ii) una variable de suma, digamos s, que acumula los términos, uno a la vez. El propósito de cada paso del bucle es calcular un nuevo término y agregarlo a s. Como el signo de cada término se alterna, introducimos un signo variable que cambia entre -1 y 1 en cada pasada del bucle.\n",
    "\n",
    "El párrafo anterior se puede expresar con precisión mediante este código de Python:"
   ]
  },
  {
   "cell_type": "code",
   "execution_count": 5,
   "metadata": {},
   "outputs": [
    {
     "name": "stdout",
     "output_type": "stream",
     "text": [
      "sin(1.2) = 0.932039 (approximation with 25 terms)\n"
     ]
    }
   ],
   "source": [
    "x = 1.2 # assign some value\n",
    "N = 25 # maximum power in sum \n",
    "k=1\n",
    "s=x\n",
    "sign = 1.0\n",
    "\n",
    "import math\n",
    "\n",
    "while k < N:\n",
    "    sign = - sign\n",
    "    k=k+2\n",
    "    term = sign*x**k/math.factorial(k) \n",
    "    s = s + term\n",
    "\n",
    "print (\"sin(%g) = %g (approximation with %d terms)\" % (x, s, N))"
   ]
  },
  {
   "cell_type": "markdown",
   "metadata": {},
   "source": [
    "La mejor manera de entender un programa así es simularlo a mano. Es decir, repasamos las declaraciones, una por una, y escribimos en un pedazo de papel cuál es el estado de cada variable.\n",
    "\n",
    "Cuando el bucle se ingresa por primera vez, k < N implica 1 < 25, que es verdadero, por lo que ingresamos al bloque de bucle. Allí, calculamos el signo = -1.0, k = 3, el término = -1.0 * x ** 3 / (3 * 2 * 1)) (tenga en cuenta que el signo es flotante, por lo que siempre tenemos float dividido por int), y s = x - x ** 3/6, que es igual a los dos primeros términos en la suma. Luego probamos la condición del bucle: 3 <25 es Verdadero, por lo que ingresamos nuevamente en el bloque del bucle. Esta vez obtenemos el término = 1.0 * x ** 5 / math.factorial (5), que implementa correctamente el tercer término en la suma. En algún momento, k se actualiza de 23 a 25 dentro del bucle y la condición del bucle se convierte en 25 <25, lo que es Falso, lo que implica que el programa salta sobre el bloque del bucle y continúa con la declaración de print (que tiene la misma sangría). como la sentencia while).\n"
   ]
  },
  {
   "cell_type": "markdown",
   "metadata": {},
   "source": [
    "## 2.2 Listas\n",
    "\n",
    "Hasta ahora, una variable ha contenido típicamente un solo número. A veces los números se agrupan de forma natural. Por ejemplo, todos los grados Celsius en la primera columna de nuestra tabla de la Sección 2.1.2 podrían almacenarse convenientemente juntos como un grupo. Se puede utilizar una lista de Python para representar tal grupo de números en un programa. Con una variable que hace referencia a la lista, podemos trabajar con todo el grupo a la vez, pero también podemos acceder a elementos individuales del grupo. **La Figura 2.1** ilustra la diferencia entre un objeto int y un objeto de lista. En general, una lista puede contener una secuencia de objetos arbitrarios en un orden dado. Python tiene una gran funcionalidad para examinar y manipular tales secuencias de objetos, que se demostrarán a continuación."
   ]
  },
  {
   "cell_type": "markdown",
   "metadata": {},
   "source": [
    "![Turing's Device](http://www.google.com/logos/2012/turing-doodle-static.jpg)\n",
    "\n",
    "**Fig. 2.1** Ilustración de dos variables: var1 se refiere a un objeto int con valor 21, creado por la declaración var1 = 21, y var2 se refiere a un objeto de lista con valor [20, 21, 29, 4.0], es decir, tres objetos int y un flotante objeto, creado por la sentencia var2 = [20, 21, 29, 4.0]."
   ]
  },
  {
   "cell_type": "markdown",
   "metadata": {},
   "source": [
    "## 2.2.1 Operaciones de lista básicas\n",
    "\n",
    "Para crear una lista con los números de la primera columna de nuestra tabla, solo colocamos todos los números entre corchetes y separamos los números con comas:\n",
    "\n",
    "     C = [-20, -15, -10, -5, 0, 5, 10, 15, 20, 25, 30, 35, 40]\n",
    "\n",
    "La variable C ahora se refiere a un objeto de lista que contiene 13 elementos de lista. Todos los elementos de la lista son en este caso int objetos.\n",
    "\n",
    "Cada elemento de una lista está asociado con un índice, que refleja la posición del elemento en la lista. El primer elemento tiene índice 0, el segundo índice 1 y así sucesivamente. Asociados a la lista C anterior tenemos 13 índices, comenzando con 0 y terminando con 12. Para acceder al elemento con el índice 3, es decir, el cuarto elemento de la lista, podemos escribir C [3]. Como vemos en la lista, C [3] se refiere a un objeto int con el valor -5.\n",
    "\n",
    "Los elementos de las listas se pueden eliminar y los nuevos elementos se pueden insertar en cualquier lugar. La funcionalidad para hacer esto está integrada en el objeto de lista y se accede mediante una notación de puntos. Dos ejemplos son **C.append (v)**, que agrega un nuevo elemento v al final de la lista, y **C.insert (i, v)**, que inserta un nuevo elemento v en el número de posición i en la lista. El número de elementos en una lista viene dado por **len (C)**. Ejemplifiquemos algunas operaciones de lista en una sesión interactiva para ver el efecto de las operaciones:"
   ]
  },
  {
   "cell_type": "code",
   "execution_count": 6,
   "metadata": {},
   "outputs": [
    {
     "data": {
      "text/plain": [
       "[-10, -5, 0, 5, 10, 15, 20, 25, 30, 35]"
      ]
     },
     "execution_count": 6,
     "metadata": {},
     "output_type": "execute_result"
    }
   ],
   "source": [
    ">>> C = [-10, -5, 0, 5, 10, 15, 20, 25, 30]     # create list\n",
    ">>> C.append(35)              # add new element 35 at the end\n",
    ">>> C                         # view list C\n",
    "[-10, -5, 0, 5, 10, 15, 20, 25, 30, 35]"
   ]
  },
  {
   "cell_type": "markdown",
   "metadata": {},
   "source": [
    "Se pueden añadir dos listas:"
   ]
  },
  {
   "cell_type": "code",
   "execution_count": 7,
   "metadata": {},
   "outputs": [
    {
     "data": {
      "text/plain": [
       "[-10, -5, 0, 5, 10, 15, 20, 25, 30, 35, 40, 45]"
      ]
     },
     "execution_count": 7,
     "metadata": {},
     "output_type": "execute_result"
    }
   ],
   "source": [
    ">>> C = C + [40, 45]          # extend C at the end\n",
    ">>> C\n",
    "[-10, -5, 0, 5, 10, 15, 20, 25, 30, 35, 40, 45]"
   ]
  },
  {
   "cell_type": "markdown",
   "metadata": {},
   "source": [
    "Lo que significa agregar dos listas depende del objeto de la lista para definir, y no es sorprendente que la adición de dos listas se defina como la adición de la segunda lista a la primera. El resultado de C + [40,45] es un nuevo objeto de lista, que luego asignamos a C de modo que este nombre se refiera a esta nueva lista. De hecho, cada objeto en Python y todo lo que puedes hacer con él está definido por programas creados por humanos. Con las técnicas de programación de clases (consulte el Capítulo 7), puede crear sus propios objetos y definir (si lo desea) lo que significa agregar dichos objetos. Todo esto da un enorme poder en manos de los programadores. Como ejemplo, puede definir su propio objeto de lista si no está satisfecho con la funcionalidad de las propias listas de Python.\n",
    "\n",
    "Se pueden insertar nuevos elementos en cualquier parte de la lista (y no solo al final como hicimos con **C.append**):"
   ]
  },
  {
   "cell_type": "code",
   "execution_count": 8,
   "metadata": {},
   "outputs": [
    {
     "data": {
      "text/plain": [
       "[-15, -10, -5, 0, 5, 10, 15, 20, 25, 30, 35, 40, 45]"
      ]
     },
     "execution_count": 8,
     "metadata": {},
     "output_type": "execute_result"
    }
   ],
   "source": [
    ">>> C.insert(0, -15)          # insert new element -15 as index 0\n",
    ">>> C\n",
    "[-15, -10, -5, 0, 5, 10, 15, 20, 25, 30, 35, 40, 45]"
   ]
  },
  {
   "cell_type": "markdown",
   "metadata": {},
   "source": [
    "Con **del** `C [i]` podemos eliminar un elemento con índice **i** de la lista C. Observe que esto cambia la lista, por lo que `C [i]` se refiere a otro elemento (el siguiente) después de la eliminación :"
   ]
  },
  {
   "cell_type": "code",
   "execution_count": 9,
   "metadata": {},
   "outputs": [
    {
     "data": {
      "text/plain": [
       "11"
      ]
     },
     "execution_count": 9,
     "metadata": {},
     "output_type": "execute_result"
    }
   ],
   "source": [
    ">>> del C[2]                  # delete 3rd element\n",
    ">>> C\n",
    "[-15, -10, 0, 5, 10, 15, 20, 25, 30, 35, 40, 45]\n",
    ">>> del C[2]                  # delete what is now 3rd element\n",
    ">>> C\n",
    "[-15, -10, 5, 10, 15, 20, 25, 30, 35, 40, 45]\n",
    ">>> len(C)                    # length of list\n",
    "11"
   ]
  },
  {
   "cell_type": "markdown",
   "metadata": {},
   "source": [
    "El comando **C.index** (10) devuelve el índice correspondiente al primer elemento con valor 10 (este es el cuarto elemento en nuestra lista de muestra, con el índice 3):"
   ]
  },
  {
   "cell_type": "code",
   "execution_count": 10,
   "metadata": {},
   "outputs": [
    {
     "data": {
      "text/plain": [
       "3"
      ]
     },
     "execution_count": 10,
     "metadata": {},
     "output_type": "execute_result"
    }
   ],
   "source": [
    ">>> C.index(10)               # find index for an element (10)"
   ]
  },
  {
   "cell_type": "markdown",
   "metadata": {},
   "source": [
    "Para probar si un objeto con el valor 10 es un elemento de la lista, se puede escribir la expresión booleana 10 en C:"
   ]
  },
  {
   "cell_type": "code",
   "execution_count": 11,
   "metadata": {},
   "outputs": [
    {
     "data": {
      "text/plain": [
       "True"
      ]
     },
     "execution_count": 11,
     "metadata": {},
     "output_type": "execute_result"
    }
   ],
   "source": [
    ">>> 10 in C                   # is 10 an element in C?"
   ]
  },
  {
   "cell_type": "markdown",
   "metadata": {},
   "source": [
    "Python permite índices negativos, lo que lleva a la indexación desde la derecha. Como se muestra a continuación, C [-1] proporciona el último elemento de la lista C. C [-2] es el elemento anterior a C [-1], y así sucesivamente."
   ]
  },
  {
   "cell_type": "code",
   "execution_count": 12,
   "metadata": {},
   "outputs": [
    {
     "data": {
      "text/plain": [
       "40"
      ]
     },
     "execution_count": 12,
     "metadata": {},
     "output_type": "execute_result"
    }
   ],
   "source": [
    ">>> C[-1]                     # view the last list element\n",
    "45\n",
    ">>> C[-2]                     # view the next last list element\n",
    "40"
   ]
  },
  {
   "cell_type": "markdown",
   "metadata": {},
   "source": [
    "Crear listas largas anotando todos los elementos separados por comas es un proceso tedioso que se puede automatizar fácilmente mediante un bucle, utilizando ideas de la Sección 2.1.4. Digamos que queremos construir una lista de grados de -50 a 200 en pasos de 2.5 grados. Luego comenzamos con una lista vacía y usamos un bucle while para agregar un elemento a la vez:"
   ]
  },
  {
   "cell_type": "code",
   "execution_count": 13,
   "metadata": {},
   "outputs": [
    {
     "name": "stdout",
     "output_type": "stream",
     "text": [
      "[-50, -47.5, -45.0, -42.5, -40.0, -37.5, -35.0, -32.5, -30.0, -27.5, -25.0, -22.5, -20.0, -17.5, -15.0, -12.5, -10.0, -7.5, -5.0, -2.5, 0.0, 2.5, 5.0, 7.5, 10.0, 12.5, 15.0, 17.5, 20.0, 22.5, 25.0, 27.5, 30.0, 32.5, 35.0, 37.5, 40.0, 42.5, 45.0, 47.5, 50.0, 52.5, 55.0, 57.5, 60.0, 62.5, 65.0, 67.5, 70.0, 72.5, 75.0, 77.5, 80.0, 82.5, 85.0, 87.5, 90.0, 92.5, 95.0, 97.5, 100.0, 102.5, 105.0, 107.5, 110.0, 112.5, 115.0, 117.5, 120.0, 122.5, 125.0, 127.5, 130.0, 132.5, 135.0, 137.5, 140.0, 142.5, 145.0, 147.5, 150.0, 152.5, 155.0, 157.5, 160.0, 162.5, 165.0, 167.5, 170.0, 172.5, 175.0, 177.5, 180.0, 182.5, 185.0, 187.5, 190.0, 192.5, 195.0, 197.5, 200.0]\n"
     ]
    }
   ],
   "source": [
    "C= []\n",
    "C_value = -50\n",
    "C_max = 200\n",
    "while C_value <= C_max:\n",
    "    C.append(C_value)\n",
    "    C_value+=2.5\n",
    "print(C)"
   ]
  },
  {
   "cell_type": "markdown",
   "metadata": {},
   "source": [
    "En las siguientes secciones, veremos cómo podemos expresar estas seis líneas de código con una sola declaración.\n",
    "\n",
    "Hay una sintaxis compacta para crear variables que se refieren a los diversos elementos de la lista. Simplemente liste una secuencia de variables en el lado izquierdo de una asignación a una lista:"
   ]
  },
  {
   "cell_type": "code",
   "execution_count": 14,
   "metadata": {},
   "outputs": [
    {
     "name": "stdout",
     "output_type": "stream",
     "text": [
      "book.tex book.log book.pdf\n"
     ]
    }
   ],
   "source": [
    ">>> somelist = [\"book.tex\", \"book.log\", \"book.pdf\"]\n",
    ">>> texfile, logfile, pdf = somelist\n",
    ">>> texfile\n",
    "\"book.tex\"\n",
    ">>> logfile\n",
    "\"book.log\"\n",
    ">>> pdf\n",
    "\"book.pdf\"\n",
    "print(texfile,logfile,pdf)"
   ]
  },
  {
   "cell_type": "markdown",
   "metadata": {},
   "source": [
    "El número de variables en el lado izquierdo debe coincidir con el número de elementos en la lista, de lo contrario se produce un error.\n",
    "\n",
    "Un comentario final se refiere a la sintaxis: algunas operaciones de lista son alcanzadas por una notación de puntos, como en **C.append(e)**, mientras que otras operaciones requieren el objeto de lista como un argumento de una función, como en **len(C)**. Aunque C.append para un programador se comporta como una función, es una función que se alcanza a través de un objeto de lista, y es común decir que **append** es un método en el objeto de lista, no una función. No hay reglas estrictas en Python si la funcionalidad con respecto a un objeto se alcanza a través de un método o una función."
   ]
  },
  {
   "cell_type": "markdown",
   "metadata": {},
   "source": [
    "## 2.2.2 Para bucles\n",
    "\n",
    "**La naturaleza de los bucles**. Cuando los datos se recopilan en una lista, a menudo queremos realizar las mismas operaciones en cada elemento de la lista. Entonces necesitamos recorrer todos los elementos de la lista. Los lenguajes informáticos tienen una construcción especial para hacer esto convenientemente, y esta construcción está en Python y en muchos otros lenguajes llamados bucle for. Usemos un bucle for para imprimir todos los elementos de la lista:"
   ]
  },
  {
   "cell_type": "code",
   "execution_count": 15,
   "metadata": {},
   "outputs": [
    {
     "name": "stdout",
     "output_type": "stream",
     "text": [
      "list element: 0\n",
      "list element: 10\n",
      "list element: 20\n",
      "list element: 40\n",
      "list element: 100\n",
      "The degrees list has 5 elements\n"
     ]
    }
   ],
   "source": [
    "degrees = [0, 10, 20, 40, 100]\n",
    "for C in degrees:\n",
    "    print (\"list element:\", C)\n",
    "print (\"The degrees list has\", len(degrees), \"elements\")"
   ]
  },
  {
   "cell_type": "markdown",
   "metadata": {},
   "source": [
    "La construcción de degrees C en grados crea un bucle sobre todos los elementos en los degrees de la lista. En cada paso del bucle, la variable C se refiere a un elemento de la lista, comenzando con degrees [0], procediendo con degrees [1] y así sucesivamente, antes de terminar con los degrees del último elemento [n-1] (si n denota el número de elementos en la lista, **len(degrees)**).\n",
    "\n",
    "La especificación de bucle for termina con dos puntos, y después de dos puntos viene un bloque de instrucciones que hace algo útil con el elemento actual. Cada instrucción en el bloque debe estar sangrada, como explicamos para los bucles while. En el ejemplo anterior, el bloque que pertenece al bucle for solo contiene una declaración. La instrucción de impresión final tiene la misma sangría (ninguna en este ejemplo) que la instrucción for y se ejecuta tan pronto como se termina el ciclo.\n",
    "\n",
    "Como ya se mencionó, a menudo es una buena idea comprender todos los detalles de un programa siguiendo el flujo del programa a mano. Aquí, primero definimos una lista de grados que contiene 5 elementos. Luego entramos en el bucle for. En la primera pasada del bucle, C se refiere al primer elemento en los grados de la lista, es decir, el objeto int que tiene el valor 0. Dentro del bucle, imprimimos el texto 'elemento de la lista:' y el valor de C, que es 0. No hay más declaraciones en el bloque de bucle, por lo que procedemos con la siguiente pasada del bucle. C se refiere al objeto int 10, la salida ahora imprime 10 después del texto inicial, procedemos con C como los enteros 20 y 40, y finalmente C es 100. Después de haber impreso el elemento de lista con el valor 100, pasamos a la declaración después del bloque de bucle con sangría, que imprime el número de elementos de la lista. La producción total se convierte en\n",
    "\n",
    "    list element: 0\n",
    "    list element: 10\n",
    "    list element: 20\n",
    "    list element: 40\n",
    "    list element: 100\n",
    "    The degrees list has 5 elements\n",
    "    \n",
    "La sangría correcta de las declaraciones es crucial en Python, por lo que le recomendamos encarecidamente que trabaje en el Ejercicio 2.22 para aprender más sobre este tema.\n",
    "\n",
    "**Haciendo la mesa**. Nuestro conocimiento de listas y de bucles sobre elementos en listas nos coloca en una buena posición para escribir un programa donde recopilamos todos los grados Celsius para aparecer en la tabla en una lista de grados centígrados, y luego usar un ciclo for para calcular y escribir los grados Fahrenheit correspondientes. El programa completo puede verse así:"
   ]
  },
  {
   "cell_type": "code",
   "execution_count": 16,
   "metadata": {},
   "outputs": [
    {
     "name": "stdout",
     "output_type": "stream",
     "text": [
      "-20 -4.0\n",
      "-15 5.0\n",
      "-10 14.0\n",
      "-5 23.0\n",
      "0 32.0\n",
      "5 41.0\n",
      "10 50.0\n",
      "15 59.0\n",
      "20 68.0\n",
      "25 77.0\n",
      "30 86.0\n",
      "35 95.0\n",
      "40 104.0\n"
     ]
    }
   ],
   "source": [
    "Cdegrees = [-20, -15, -10, -5, 0, 5, 10, 15, 20, 25, 30, 35, 40]\n",
    "for C in Cdegrees:\n",
    "    F = (9.0/5)*C + 32\n",
    "    print (C, F)"
   ]
  },
  {
   "cell_type": "markdown",
   "metadata": {},
   "source": [
    "La declaración de impresión C, F solo imprime el valor de C y F con un formato predeterminado, donde cada número está separado por un carácter de espacio (en blanco). Esto no se parece a una buena mesa (la salida es idéntica a la que se muestra en la Sección 2.1.1. El buen formato se obtiene forzando que C y F se escriban en campos de ancho fijo y con un número fijo de decimales. El formato de printf es% 5d (o% 5.0f) para C y% 5.1f para F. También podemos agregar un título a la tabla. El programa completo se convierte en:"
   ]
  },
  {
   "cell_type": "code",
   "execution_count": 17,
   "metadata": {},
   "outputs": [
    {
     "name": "stdout",
     "output_type": "stream",
     "text": [
      " C    F\n",
      "  -20  -4.0\n",
      "  -15   5.0\n",
      "  -10  14.0\n",
      "   -5  23.0\n",
      "    0  32.0\n",
      "    5  41.0\n",
      "   10  50.0\n",
      "   15  59.0\n",
      "   20  68.0\n",
      "   25  77.0\n",
      "   30  86.0\n",
      "   35  95.0\n",
      "   40 104.0\n"
     ]
    }
   ],
   "source": [
    "Cdegrees = [-20, -15, -10, -5, 0, 5, 10, 15, 20, 25, 30, 35, 40]\n",
    "print (\" C    F\")\n",
    "for C in Cdegrees:\n",
    "    F = (9.0/5)*C + 32\n",
    "#   print (\"%5d %5.1f\" % (C, F))\n",
    "    print(\"{:5} {:5}\".format(C,F))\n",
    "    \n",
    "#This code is found in the file c2f_table_list.py and its output becomes"
   ]
  },
  {
   "cell_type": "markdown",
   "metadata": {},
   "source": [
    "## 2.3 Implementaciones alternativas con listas y bucles.\n",
    "\n",
    "Ya hemos resuelto el problema de imprimir una tabla de conversión de buen aspecto para grados Celsius y Fahrenheit. Sin embargo, generalmente hay muchas formas alternativas de escribir un programa que resuelve un problema específico. Los siguientes párrafos exploran otras posibles construcciones y programas de Python para almacenar números en listas e imprimir tablas. Los diversos fragmentos de código se recopilan en el archivo de programa session.py.\n",
    "\n",
    "### 2.3.1 Implementación en bucle de un bucle for\n",
    "\n",
    "Cualquier bucle for puede implementarse como un bucle while. El codigo general\n"
   ]
  },
  {
   "cell_type": "code",
   "execution_count": 18,
   "metadata": {},
   "outputs": [],
   "source": [
    "for element in somelist:\n",
    "    #<process element>\n",
    "    continue"
   ]
  },
  {
   "cell_type": "markdown",
   "metadata": {},
   "source": [
    "Se puede transformar en este bucle **while**:"
   ]
  },
  {
   "cell_type": "code",
   "execution_count": 19,
   "metadata": {},
   "outputs": [],
   "source": [
    "index = 0\n",
    "while index < len(somelist):\n",
    "    element = somelist[index]\n",
    "    #<process element>\n",
    "    index += 1"
   ]
  },
  {
   "cell_type": "markdown",
   "metadata": {},
   "source": [
    "En particular, el ejemplo relacionado con la impresión de una tabla de grados Celsius y Fahrenheit se puede implementar de la siguiente manera en términos de un bucle while"
   ]
  },
  {
   "cell_type": "code",
   "execution_count": 20,
   "metadata": {},
   "outputs": [
    {
     "name": "stdout",
     "output_type": "stream",
     "text": [
      "’    C    F’\n",
      "  -20  -4.0\n",
      "  -15   5.0\n",
      "  -10  14.0\n",
      "   -5  23.0\n",
      "    0  32.0\n",
      "    5  41.0\n",
      "   10  50.0\n",
      "   15  59.0\n",
      "   20  68.0\n",
      "   25  77.0\n",
      "   30  86.0\n",
      "   35  95.0\n",
      "   40 104.0\n"
     ]
    }
   ],
   "source": [
    "Cdegrees = [-20, -15, -10, -5, 0, 5, 10, 15, 20, 25, 30, 35, 40]\n",
    "index = 0\n",
    "print (\"’    C    F’\")\n",
    "while index < len(Cdegrees):\n",
    "    C = Cdegrees[index]\n",
    "    F = (9.0/5)*C + 32\n",
    "    print(\"{:5} {:5}\".format(C,F))\n",
    "    index += 1"
   ]
  },
  {
   "cell_type": "code",
   "execution_count": null,
   "metadata": {},
   "outputs": [],
   "source": []
  },
  {
   "cell_type": "code",
   "execution_count": null,
   "metadata": {},
   "outputs": [],
   "source": []
  },
  {
   "cell_type": "code",
   "execution_count": null,
   "metadata": {},
   "outputs": [],
   "source": []
  },
  {
   "cell_type": "code",
   "execution_count": null,
   "metadata": {},
   "outputs": [],
   "source": []
  },
  {
   "cell_type": "code",
   "execution_count": null,
   "metadata": {},
   "outputs": [],
   "source": []
  },
  {
   "cell_type": "code",
   "execution_count": null,
   "metadata": {},
   "outputs": [],
   "source": []
  },
  {
   "cell_type": "code",
   "execution_count": null,
   "metadata": {},
   "outputs": [],
   "source": []
  },
  {
   "cell_type": "code",
   "execution_count": null,
   "metadata": {},
   "outputs": [],
   "source": []
  },
  {
   "cell_type": "code",
   "execution_count": null,
   "metadata": {},
   "outputs": [],
   "source": []
  },
  {
   "cell_type": "code",
   "execution_count": null,
   "metadata": {},
   "outputs": [],
   "source": []
  },
  {
   "cell_type": "code",
   "execution_count": null,
   "metadata": {},
   "outputs": [],
   "source": []
  },
  {
   "cell_type": "code",
   "execution_count": null,
   "metadata": {},
   "outputs": [],
   "source": []
  },
  {
   "cell_type": "code",
   "execution_count": null,
   "metadata": {},
   "outputs": [],
   "source": []
  },
  {
   "cell_type": "code",
   "execution_count": null,
   "metadata": {},
   "outputs": [],
   "source": []
  },
  {
   "cell_type": "code",
   "execution_count": null,
   "metadata": {},
   "outputs": [],
   "source": []
  },
  {
   "cell_type": "markdown",
   "metadata": {},
   "source": []
  }
 ],
 "metadata": {
  "kernelspec": {
   "display_name": "Python 3",
   "language": "python",
   "name": "python3"
  },
  "language_info": {
   "codemirror_mode": {
    "name": "ipython",
    "version": 3
   },
   "file_extension": ".py",
   "mimetype": "text/x-python",
   "name": "python",
   "nbconvert_exporter": "python",
   "pygments_lexer": "ipython3",
   "version": "3.6.8"
  }
 },
 "nbformat": 4,
 "nbformat_minor": 2
}
