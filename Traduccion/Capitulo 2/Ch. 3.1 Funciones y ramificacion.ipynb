{
 "cells": [
  {
   "cell_type": "markdown",
   "metadata": {},
   "source": [
    "## Ch. 3.1 Funciones y ramificacion.\n",
    "\n",
    "Este capítulo presenta dos conceptos fundamentales y extremadamente útiles en la programación: funciones definidas por el usuario y ramificación del flujo del programa, este último a menudo se denomina como **if test**. Los programas asociados con el capítulo se encuentran en la carpeta **src/funcif(1)**.\n",
    "\n",
    "### 3.1 Funciones\n",
    "\n",
    "En un lenguaje informático como Python, el término función significa más que una simple función matemática. Una función es una colección de sentencias que puede ejecutar donde y cuando quiera en el programa. Puede enviar variables a la función para influir en lo que las declaraciones en la función calculan, y la función puede devolverle nuevos objetos.\n",
    "\n",
    "En particular, las funciones ayudan a evitar la duplicación de fragmentos de código al colocar todos los fragmentos similares en un lugar común. Esta estrategia ahorra la escritura y hace que sea más fácil cambiar el programa más adelante. Las funciones a menudo también se usan para dividir un programa largo en partes más pequeñas y manejables, para que el programa y su propio pensamiento se vuelvan más claros. Python viene con muchas funciones predefinidas (math.sqrt, range y len son ejemplos que hemos conocido hasta ahora). Esta sección explica cómo puedes definir tus propias funciones.\n",
    "\n",
    "### 3.1.1 Funciones matemáticas como funciones de Python\n",
    "\n",
    "Comencemos haciendo una función Python que evalúa una función matemática, más precisamente la función F(C) para convertir grados Celsius C a los grados Fahrenheit correspondientes F:\n",
    "\n",
    "http://tinyurl.com/pwyasaa/funcif\n",
    "\n",
    "$$\n",
    "F(C) = \\frac{9}{5} C + 32\n",
    "$$\n",
    "\n",
    "\n"
   ]
  },
  {
   "cell_type": "markdown",
   "metadata": {},
   "source": [
    "La función Python correspondiente debe tomar C como argumento y devolver el valor F (C). El código para esto parece"
   ]
  },
  {
   "cell_type": "code",
   "execution_count": 1,
   "metadata": {},
   "outputs": [],
   "source": [
    "def F(C):\n",
    "    return (9.0/5) * C + 32"
   ]
  },
  {
   "cell_type": "markdown",
   "metadata": {},
   "source": [
    "Todas las funciones de Python comienzan con `def`, seguidas del nombre de la función y, a continuación, entre paréntesis, una lista de argumentos de función separados por comas. Aquí solo tenemos un argumento C. Este argumento actúa como una variable estándar dentro de la función. Las sentencias a realizar dentro de la función deben estar sangradas. Al final de una función es común devolver un valor, es decir, enviar un valor \"fuera de la función\". Este valor normalmente se asocia con el nombre de la función, como en el presente caso donde el valor devuelto es el resultado de la función matemática F (C).\n",
    "\n",
    "La línea de `def` con el nombre de la función y los argumentos a menudo se denomina encabezado de la función, mientras que las declaraciones con sangría constituyen el cuerpo de la función.\n",
    "\n",
    "Para usar una función, debemos llamarla (o invocarla). Debido a que la función devuelve un valor, necesitamos almacenar este valor en una variable o usarlo de otras maneras. Aquí hay algunas llamadas a F:\n"
   ]
  },
  {
   "cell_type": "code",
   "execution_count": 2,
   "metadata": {},
   "outputs": [
    {
     "name": "stdout",
     "output_type": "stream",
     "text": [
      "51.8\n"
     ]
    }
   ],
   "source": [
    "temp1 = F(15.5)\n",
    "a = 10\n",
    "temp2 = F(a)\n",
    "print (F(a+1))\n",
    "sum_temp = F(10) + F(20)"
   ]
  },
  {
   "cell_type": "markdown",
   "metadata": {},
   "source": [
    "El objeto devuelto de F (C) es en nuestro caso un objeto `float`. Por lo tanto, la llamada F (C) se puede colocar en cualquier lugar de un código donde un objeto `float` sería válido. La declaración `print` de arriba es un ejemplo.\n",
    "Como otro ejemplo, digamos que tenemos una lista `Cdegrees` de grados Celsius y queremos calcular una lista de los grados Fahrenheit correspondientes utilizando la función F de arriba en una lista de comprensión:"
   ]
  },
  {
   "cell_type": "code",
   "execution_count": 9,
   "metadata": {},
   "outputs": [],
   "source": [
    "Cdegrees = []\n",
    "Fdegrees = [F (C) for C in Cdegrees]"
   ]
  },
  {
   "cell_type": "markdown",
   "metadata": {},
   "source": [
    "Otro ejemplo más puede implicar una ligera variación de nuestra función F (C), donde se devuelve una cadena formateada en lugar de un número real:"
   ]
  },
  {
   "cell_type": "code",
   "execution_count": 11,
   "metadata": {},
   "outputs": [],
   "source": [
    "def F2(C):\n",
    "    F_value = (9.0/5) * C + 32\n",
    "    return (\"%.1f degrees Celsius corresponds to \"\\\n",
    "               \"%.1f degrees Fahrenheit\" % (C, F_value))"
   ]
  },
  {
   "cell_type": "code",
   "execution_count": 13,
   "metadata": {},
   "outputs": [
    {
     "data": {
      "text/plain": [
       "'21.0 degrees Celsius corresponds to 69.8 degrees Fahrenheit'"
      ]
     },
     "execution_count": 13,
     "metadata": {},
     "output_type": "execute_result"
    }
   ],
   "source": [
    "s1 = F2(21)\n",
    "s1"
   ]
  },
  {
   "cell_type": "markdown",
   "metadata": {},
   "source": [
    "La asignación a `F_value` demuestra que podemos crear variables dentro de una función según sea necesario."
   ]
  },
  {
   "cell_type": "markdown",
   "metadata": {},
   "source": [
    "### 3.1.2 Entendiendo el flujo del programa\n",
    "\n",
    "Un programador debe tener una comprensión profunda de la secuencia de instrucciones que se ejecutan en el programa y poder simular a mano lo que sucede con un programa en la computadora. Para ayudar a desarrollar esta comprensión, un depurador (ver la Sección F.1) o el Online Python Tutor2 son herramientas excelentes. Un depurador se puede utilizar para todo tipo de programas, grandes y pequeños, mientras que el Tutor de Python en línea es principalmente una herramienta educativa para programas pequeños. Lo demostraremos aquí.\n",
    "\n",
    "A continuación se muestra un programa **c2f.py** que tiene una función y un bucle `for`, con el propósito de imprimir una tabla para la conversión de grados Celsius a grados Fahrenheit:"
   ]
  },
  {
   "cell_type": "code",
   "execution_count": 14,
   "metadata": {},
   "outputs": [
    {
     "name": "stdout",
     "output_type": "stream",
     "text": [
      "-30.0 -22.000000000000000000000000000000000000000000000000000\n",
      "-20.0 -4.000000000000000000000000000000000000000000000000000\n",
      "-10.0 14.000000000000000000000000000000000000000000000000000\n",
      "  0.0 32.000000000000000000000000000000000000000000000000000\n",
      " 10.0 50.000000000000000000000000000000000000000000000000000\n",
      " 20.0 68.000000000000000000000000000000000000000000000000000\n",
      " 30.0 86.000000000000000000000000000000000000000000000000000\n",
      " 40.0 104.000000000000000000000000000000000000000000000000000\n",
      " 50.0 122.000000000000000000000000000000000000000000000000000\n"
     ]
    }
   ],
   "source": [
    "def F(C):\n",
    "    F = 9./5*C + 32\n",
    "    return F\n",
    "dC = 10\n",
    "C = -30\n",
    "while C <= 50:\n",
    "    print (\"%5.1f %.51f\" % (C, F(C)))\n",
    "    C += dC"
   ]
  },
  {
   "cell_type": "markdown",
   "metadata": {},
   "source": [
    "Ahora le pediremos al Tutor de Python en línea que explique visualmente cómo se ejecuta el programa. Vaya a http://www.pythontutor.com/visualize. html, borre el código allí y escriba o pegue el archivo c2f.py en el área del editor. Haga clic en Visualizar Ejecución. Presione el botón de avance para avanzar una frase a la vez y observe la evolución de las variables a la derecha en la ventana. Esta demostración ilustra cómo el programa salta en el bucle y sube a la función F (C) y luego regresa. La Figura 3.1 proporciona una instantánea del estado de las variables, la salida del terminal y las declaraciones actuales y siguientes.\n",
    "\n",
    "---\n",
    "**Tips: ¿Cómo funciona realmente un programa?**\n",
    "\n",
    "Cada vez que no esté seguro de cómo avanza el flujo de instrucciones en un programa con bucles y / o funciones, vaya a \n",
    "http://www.pythontutor.com/visualize.html, pegue su programa y vea exactamente qué sucede.\n",
    "\n",
    "---\n",
    "\n",
    "http://www.pythontutor.com/\n",
    "\n",
    "## FALTA IMAGEN\n",
    "Fig. 3.1 Captura de pantalla del Tutor de Python en línea y ejecución paso a paso del programa c2f.py."
   ]
  },
  {
   "cell_type": "markdown",
   "metadata": {},
   "source": []
  },
  {
   "cell_type": "code",
   "execution_count": null,
   "metadata": {},
   "outputs": [],
   "source": []
  },
  {
   "cell_type": "code",
   "execution_count": null,
   "metadata": {},
   "outputs": [],
   "source": []
  },
  {
   "cell_type": "code",
   "execution_count": null,
   "metadata": {},
   "outputs": [],
   "source": []
  },
  {
   "cell_type": "code",
   "execution_count": null,
   "metadata": {},
   "outputs": [],
   "source": []
  },
  {
   "cell_type": "code",
   "execution_count": null,
   "metadata": {},
   "outputs": [],
   "source": []
  },
  {
   "cell_type": "code",
   "execution_count": null,
   "metadata": {},
   "outputs": [],
   "source": []
  },
  {
   "cell_type": "code",
   "execution_count": null,
   "metadata": {},
   "outputs": [],
   "source": []
  },
  {
   "cell_type": "code",
   "execution_count": null,
   "metadata": {},
   "outputs": [],
   "source": []
  }
 ],
 "metadata": {
  "kernelspec": {
   "display_name": "Python 3",
   "language": "python",
   "name": "python3"
  },
  "language_info": {
   "codemirror_mode": {
    "name": "ipython",
    "version": 3
   },
   "file_extension": ".py",
   "mimetype": "text/x-python",
   "name": "python",
   "nbconvert_exporter": "python",
   "pygments_lexer": "ipython3",
   "version": "3.6.8"
  }
 },
 "nbformat": 4,
 "nbformat_minor": 2
}
