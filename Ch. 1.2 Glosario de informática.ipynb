{
 "cells": [
  {
   "cell_type": "markdown",
   "metadata": {},
   "source": [
    "## 1.2 Glosario de informática\n",
    "\n",
    "Ahora es el momento de aprender algunas palabras importantes que usan los programadores cuando hablan de programación: algoritmo, aplicación, asignación, espacios en blanco (espacio en blanco), error, código, segmento de código, fragmento de código, depuración, eliminación de errores, ejecución, ejecutable, Implementación, implementación, entrada, biblioteca, sistema operativo, salida, declaración, sintaxis, usuario, verificación y verificación. Estas palabras se usan con frecuencia en inglés en muchos contextos, pero tienen un significado preciso en informática.\n",
    "\n",
    "Programa y código son términos intercambiables. Un segmento de código / programa es una colección de declaraciones consecutivas de un programa. Otro término con significado similar es código de código. Muchos también usan la palabra aplicación en el mismo significado que programa y código. Un término relacionado es el código fuente, que es el mismo que el texto que constituye el programa. Encontrará el código fuente de un programa en uno o más archivos de texto. (Tenga en cuenta que los archivos de texto normalmente tienen la extensión .txt, mientras que los archivos de programa tienen una extensión relacionada con el lenguaje de programación, por ejemplo, .py para los programas de Python. El contenido de un archivo .py es, sin embargo, texto plano como en un .txt expediente.)\n",
    "\n",
    "Hablamos de ejecutar un programa, o ejecutar un programa de manera equivalente o ejecutar un archivo. El archivo que ejecutamos es el archivo en el que se almacena el texto del programa. Este archivo a menudo se llama un ejecutable o una aplicación. El texto del programa puede aparecer en muchos archivos, pero el ejecutable es solo el archivo que inicia todo el programa cuando ejecutamos ese archivo. La ejecución de un archivo se puede hacer de varias formas, por ejemplo, haciendo doble clic en el icono del archivo, escribiendo el nombre de archivo en una ventana de terminal o asignando el nombre de archivo a algún programa. Esta última técnica es la que hemos utilizado hasta ahora en este libro: alimentamos el nombre del archivo al programa python. Es decir, ejecutamos un programa Python ejecutando otro programa python, que interpreta el texto en nuestro archivo de programa Python.\n",
    "\n",
    "El término biblioteca se usa ampliamente para una colección de piezas de programa generalmente útiles que se pueden aplicar en muchos contextos diferentes. Tener acceso a buenas bibliotecas significa que no necesita programar fragmentos de código que otros ya han programado (¡lo más probable es que sea mejor!). Hay un gran número de bibliotecas de Python. En la terminología de Python, las bibliotecas están compuestas de módulos y paquetes. La Sección 1.4 ofrece un primer vistazo del módulo `math`, que contiene un conjunto de funciones matemáticas estándar para sin x, cos x, ln x, ex, sinh x, sin 1 x, etc. Más adelante, conocerá muchos otros módulos útiles. Los paquetes son sólo colecciones de módulos. La distribución estándar de Python viene con una gran cantidad de módulos y paquetes, pero puede descargar muchos más desde Internet, en particular www.python.org/pypi. Muy a menudo, cuando encuentra una tarea de programación que es probable que ocurra en muchos otros contextos, puede encontrar un módulo de Python donde el trabajo ya está hecho. Para mencionar solo un ejemplo, diga que necesita calcular cuántos días hay entre dos fechas. Esta es una tarea no trivial que muchos otros programadores deben haber enfrentado, por lo que no es una gran sorpresa que Python venga con un módulo `datetime` para hacer cálculos con fechas.\n",
    "\n",
    "La receta para lo que la computadora debe hacer en un programa se llama algoritmo. En los ejemplos de los primeros capítulos de este libro, los algoritmos son tan simples que difícilmente podemos distinguirlos del texto del programa, pero más adelante en el libro configuraremos un algoritmo cuidadosamente antes de intentar implementarlo en un programa. Esto es útil cuando el algoritmo es mucho más compacto que el código de programa resultante. El algoritmo en el ejemplo actual consta de tres pasos:\n",
    "\n",
    " - inicialice las variables $v_0, g, y ,t$ con valores numéricos,\n",
    " - evalúe y de acuerdo con la fórmula (1.1),\n",
    " - imprimir el valor de y en la pantalla.\n",
    "\n",
    "El programa Python está muy cerca de este texto, pero algunos programadores menos experimentados pueden querer escribir las tareas en inglés antes de traducirlas a Python.\n",
    "\n",
    "La implementación de un algoritmo es el proceso de escribir y probar un programa. La fase de prueba también se conoce como verificación: después de escribir el texto del programa, debemos verificar que el programa funciona correctamente. Este es un paso muy importante que recibirá una atención sustancial en el presente libro. El software matemático produce números, y normalmente es una tarea bastante difícil verificar que los números sean correctos.\n",
    "\n",
    "Un error en un programa se conoce como error, y el proceso de localización y eliminación de errores se denomina depuración. Muchos consideran que la depuración es la parte más difícil y desafiante de la programación de computadoras. De hecho, hemos dedicado el Apéndice F al arte de la depuración en este libro. El origen de los términos extraños error y depuración se puede encontrar en Wikipedia3.\n",
    "Los programas están construidos de declaraciones. Hay muchos tipos de declaraciones:"
   ]
  },
  {
   "cell_type": "code",
   "execution_count": null,
   "metadata": {},
   "outputs": [],
   "source": [
    "v0=3"
   ]
  },
  {
   "cell_type": "markdown",
   "metadata": {},
   "source": [
    "es una declaración de asignación, mientras"
   ]
  },
  {
   "cell_type": "code",
   "execution_count": null,
   "metadata": {},
   "outputs": [],
   "source": [
    "print (y)"
   ]
  },
  {
   "cell_type": "markdown",
   "metadata": {},
   "source": [
    "es una declaración impresa. Es común tener una declaración en cada línea, pero es posible escribir varias declaraciones en una línea si las declaraciones están separadas por punto y coma. Aquí hay un ejemplo:"
   ]
  },
  {
   "cell_type": "code",
   "execution_count": null,
   "metadata": {},
   "outputs": [],
   "source": [
    "v0 = 3; g = 9.81; t = 0.6\n",
    "y = v0*t - 0.5*g*t**2\n",
    "print (y)"
   ]
  },
  {
   "cell_type": "markdown",
   "metadata": {},
   "source": [
    "Aunque la mayoría de los recién llegados a la programación informática pensarán que comprenden el significado de las líneas en el programa anterior, es importante tener en cuenta algunas diferencias importantes entre la notación en un programa informático y la notación matemática. Cuando ve el signo de igualdad = en matemáticas, tiene una cierta interpretación como una ecuación $(x + 2 = 5)$ o una definición $(f (x) = x2 + 1)$. Sin embargo, en un programa de computadora, el signo de igualdad tiene un significado bastante diferente, y se denomina asignación. El lado derecho de una asignación contiene una expresión, que es una combinación de valores, variables y operadores. Cuando se evalúa la expresión, se obtiene un valor al que se referirá la variable en el lado izquierdo. A menudo decimos que el valor del lado derecho se asigna a la variable del lado izquierdo. En el contexto actual, significa que en la primera línea asignamos el número 3 a la variable v0, 9.81 a g, y 0.6 a t. En la siguiente línea, la expresión del lado derecho **v0 * t - 0.5 * g * t ** 2** se evalúa primero y el resultado se asigna a la variable y.\n",
    "Considere la declaración de asignación"
   ]
  },
  {
   "cell_type": "code",
   "execution_count": null,
   "metadata": {},
   "outputs": [],
   "source": [
    "y=y+3"
   ]
  },
  {
   "cell_type": "markdown",
   "metadata": {},
   "source": [
    "Esta declaración es matemáticamente falsa, pero en un programa solo significa que evaluamos la expresión del lado derecho y asignamos su valor a la variable y. Es decir, primero tomamos el valor actual de y y agregamos 3. El valor de esta operación se asigna a y. El antiguo valor de y entonces se pierde.\n",
    "Puede pensar en el = como una flecha, y <- y + 3, en lugar de un signo de igualdad, para ilustrar que el valor a la derecha de la flecha se almacena en la variable a la izquierda de la flecha. De hecho, el lenguaje de programación R para computación estadística en realidad aplica una flecha, muchos lenguajes antiguos\n",
    "(como Algol, Simula y Pascal) usó: = para indicar explícitamente que no estamos tratando con una igualdad matemática.\n",
    "Un ejemplo ilustrará el principio de asignación a una variable:"
   ]
  },
  {
   "cell_type": "code",
   "execution_count": null,
   "metadata": {},
   "outputs": [],
   "source": [
    "y = 3\n",
    "print y\n",
    "y = y + 4\n",
    "print (y)\n",
    "y = y + 4 \n",
    "  "
   ]
  },
  {
   "cell_type": "markdown",
   "metadata": {},
   "source": [
    "La ejecución de este programa da como resultado tres números: 3, 7, 49. Repase el programa y convéncase de que entiende cuál es el resultado de cada afirmación.\n",
    "Un programa de computadora debe tener la sintaxis correcta, lo que significa que el texto en el programa debe seguir las reglas estrictas del lenguaje de computadora para construir declaraciones. Por ejemplo, la sintaxis de la declaración de impresión es la palabra impresa, seguida de uno o más espacios, seguida de una expresión de lo que queremos imprimir (una variable de Python, texto entre comillas, un número, por ejemplo). Las computadoras son muy exigentes con la sintaxis! Por ejemplo, un humano que haya leído todas las páginas anteriores puede entender fácilmente lo que hace este programa,"
   ]
  },
  {
   "cell_type": "code",
   "execution_count": null,
   "metadata": {},
   "outputs": [],
   "source": [
    "yvar = 5.2\n",
    "prinnt (Myvar)"
   ]
  },
  {
   "cell_type": "markdown",
   "metadata": {},
   "source": [
    "pero la computadora encontrará dos errores en la última línea: prinnt es una instrucción desconocida y Myvar es una variable no definida. Solo se informa el primer error (un error de sintaxis), porque Python detiene el programa una vez que se encuentra un error. Todos los errores que Python encuentra son fáciles de eliminar. La dificultad con la programación es eliminar el resto de los errores, como los errores en las fórmulas o la secuencia de operaciones.\n",
    "Los espacios en blanco pueden o no ser importantes en los programas de Python. En la Sección 2.1.2 verá que los espacios en blanco son, en algunas ocasiones, esenciales para un programa correcto. Alrededor de los operadores aritméticos =, sin embargo, los espacios en blanco no importan. Por lo tanto, podríamos escribir nuestro programa de la Sección 1.1.7 como"
   ]
  },
  {
   "cell_type": "code",
   "execution_count": null,
   "metadata": {},
   "outputs": [],
   "source": [
    "v0=3;g=9.81;t=0.6;y=v0*t-0.5*g*t**2;print y"
   ]
  },
  {
   "cell_type": "markdown",
   "metadata": {},
   "source": [
    "Esta no es una buena idea porque los espacios en blanco son esenciales para la lectura fácil de un código de programa, y la lectura fácil es esencial para encontrar errores, y encontrar errores es la parte difícil de la programación. El diseño recomendado en los programas de Python especifica un espacio en blanco alrededor de =, + y -, y no hay espacios en blanco alrededor de `*, /, y **`. Tenga en cuenta que el espacio en blanco después de la impresión es esencial: imprimir es un comando en Python y printy no se reconoce como ningún comando válido. (Python se quejará de que printy es una variable no definida). Los científicos informáticos a menudo usan el término espacios en blanco cuando se refieren a un espacio en blanco. (Para ser más precisos, el espacio en blanco es el carácter producido por la barra espaciadora en el teclado, mientras que el espacio en blanco denota cualquier carácter que, si se imprime, no imprime tinta en el papel: un espacio en blanco, un carácter de tabulador (producido por la barra invertida) seguido de t), o un carácter de nueva línea (producido por la barra invertida seguida de n). (El carácter de nueva línea se explica en la Sección 1.1.11).\n",
    "Cuando interactuamos con programas de computadora, generalmente proporcionamos cierta información al programa y obtenemos cierta información. Es común para utilizar el término datos de entrada, o simplemente entrada, para la información que debe conocerse de antemano. El resultado de un programa se conoce de manera similar como datos de salida, o simplemente salida. En nuestro ejemplo, v0, g y t constituyen entrada, mientras que y es salida. Todos los datos de entrada deben tener valores asignados en el programa antes de poder calcular la salida. Los datos de entrada pueden inicializarse explícitamente en el programa, como lo hacemos en el presente ejemplo, o el usuario puede proporcionar los datos a través de la escritura del teclado mientras el programa se está ejecutando (consulte el Capítulo 4). Los datos de salida pueden imprimirse en la ventana del terminal, como en el ejemplo actual, mostrados como gráficos en la pantalla, como se hizo en la Sección 5.3, o almacenados en un archivo para su posterior acceso, como se explica en la Sección 4.6.\n",
    "La palabra usuario generalmente tiene un significado especial en ciencias de la computación: significa un humano que interactúa con un programa. Eres un usuario de un editor de texto para escribir programas de Python, y eres un usuario de tus propios programas. Cuando escribes programas, es difícil imaginar cómo otros usuarios interactuarán con el programa. Tal vez proporcionan una entrada incorrecta o malinterpretan la salida. Hacer programas fáciles de usar es muy desafiante y depende en gran medida de la audiencia objetivo de los usuarios. El autor tenía en mente al lector promedio del libro como un usuario típico cuando desarrollaba programas para este libro.\n",
    "Una parte central de una computadora es el sistema operativo. Esto es en realidad una colección de programas que administra los recursos de hardware y software en la computadora. Hay tres sistemas operativos dominantes hoy en día en las computadoras: Windows, Mac OS X y Linux. Además, tenemos Android e iOS para dispositivos de mano. Varias versiones de Windows han aparecido desde la década de 1990: Windows 95, 98, 2000, ME, XP, Vista, Windows 7 y Windows 8. Unix fue inventado ya en 1970 y viene en muchas versiones diferentes. Hoy en día, dos implementaciones de código abierto de Unix, Linux y Free BSD Unix, son las más comunes. Este último forma el núcleo del sistema operativo Mac OS X en las máquinas Macintosh, mientras que Linux existe en sabores ligeramente diferentes: Red Hat, Debian, Ubuntu y OpenSuse para mencionar las distribuciones más importantes. Usaremos el término Unix en este libro como un sinónimo de todos los sistemas operativos que heredan de Unix clásico, como Solaris, Free BSD, Mac OS X y cualquier variante de Linux. Como usuario y lector de este libro, debe saber exactamente qué sistema operativo tiene.\n",
    "\n",
    "La interacción del usuario con el sistema operativo es a través de un conjunto de programas. El más utilizado de estos permite ver el contenido de las carpetas o iniciar otros programas. Para interactuar con el sistema operativo, como usuario, puede emitir comandos en una ventana de terminal o usar programas gráficos. Por ejemplo, para ver el contenido del archivo de una carpeta, puede ejecutar el comando ls en una ventana de terminal Unix o dir en una ventana de terminal DOS (Windows). Las alternativas gráficas son muchas, algunas de las más comunes son Windows Explorer en Windows, Nautilus y Konqueror en Unix, y Finder en Mac. Para iniciar un programa, es común hacer doble clic en el icono de un archivo o escribir el nombre del programa en una ventana de terminal."
   ]
  },
  {
   "cell_type": "code",
   "execution_count": null,
   "metadata": {},
   "outputs": [],
   "source": []
  }
 ],
 "metadata": {
  "kernelspec": {
   "display_name": "Python 3",
   "language": "python",
   "name": "python3"
  },
  "language_info": {
   "codemirror_mode": {
    "name": "ipython",
    "version": 3
   },
   "file_extension": ".py",
   "mimetype": "text/x-python",
   "name": "python",
   "nbconvert_exporter": "python",
   "pygments_lexer": "ipython3",
   "version": "3.6.8"
  }
 },
 "nbformat": 4,
 "nbformat_minor": 2
}
