{
 "cells": [
  {
   "cell_type": "markdown",
   "metadata": {},
   "source": [
    "## 1.1 Introducción\n",
    "\n",
    "El objetivo de este libro es enseñar programación de computadoras usando ejemplos de matemáticas y ciencias naturales. Hemos elegido utilizar el lenguaje de programación Python porque combina un poder expresivo notable con una sintaxis muy limpia, simple y compacta. Python es fácil de aprender y muy adecuado para una introducción a la programación de computadoras. Python también es bastante similar a MATLAB y es un buen lenguaje para hacer computación matemática. Es fácil combinar Python con lenguajes compilados, como Fortran, C y C ++, que son lenguajes ampliamente utilizados para cálculos científicos.\n",
    "Los ejemplos en este libro integran la programación con aplicaciones en matemáticas, física, biología y finanzas. Se espera que el lector tenga conocimiento del cálculo básico de una variable como se enseña en los programas intensivos de matemáticas en las escuelas secundarias. Sin duda, es una ventaja tomar un curso de cálculo universitario en paralelo, que contiene preferiblemente aspectos tanto clásicos como numéricos del cálculo. Aunque no es estrictamente necesario, los antecedentes en física de la escuela secundaria hacen que muchos de los ejemplos sean más significativos.\n",
    "Muchos libros de programación de introducción son bastante compactos y se centran en la funcionalidad de listado de un lenguaje de programación. Sin embargo, aprender a programar es aprender a pensar como programador. Este libro tiene su enfoque principal en el proceso de pensamiento, o de manera equivalente: la programación como una técnica de resolución de problemas. Es por eso que la mayoría de las páginas están dedicadas a estudios de caso en programación, donde definimos un problema y explicamos cómo crear el programa correspondiente. Las construcciones nuevas y los estilos de programación (lo que podríamos llamar teoría) también se presentan generalmente a través de ejemplos. Se presta especial atención a la verificación de los programas y a la búsqueda de errores. Estos temas son muy exigentes para el software matemático, ya que los inevitables errores de aproximación numérica posiblemente se mezclan con los errores de programación.\n"
   ]
  },
  {
   "cell_type": "markdown",
   "metadata": {},
   "source": [
    "Al estudiar los muchos ejemplos del libro, espero que los lectores aprendan a pensar correctamente y, por lo tanto, escriban programas de una manera más rápida y confiable. Recuerde, nadie puede aprender a programar solo con la lectura, uno tiene que resolver una gran cantidad de ejercicios con las manos. Por lo tanto, el libro está lleno de ejercicios de varios tipos: modificaciones de ejemplos existentes, problemas completamente nuevos o depuración de programas dados.\n",
    "Para trabajar con este libro, recomiendo usar la versión 2.7 de Python. Para los capítulos 5-9 y los apéndices A-E necesita los paquetes NumPy y Matplotlib, preferiblemente también los paquetes IPython y SciTools, y para el Apéndice G se requiere Cython. Otros paquetes usados ​​ocasionalmente en el texto son nose y sympy. La Sección H.1 tiene más información sobre cómo obtener acceso a Python y los paquetes mencionados.\n",
    "Hay una página web asociada con este libro, http://hplgit.github.com/scipro-primer, que contiene todos los programas de ejemplo del libro, así como información sobre la instalación del software en varias plataformas.\n",
    "\n",
    "**Python versión 2 o 3?** Un problema común entre los programadores de Python es elegir entre la versión 2 o 3, lo que en el momento de escribir esto significa elegir entre la versión 2.7 y 3.4. La recomendación general es elegir Python 3, porque esta es la versión que se desarrollará en el futuro. Sin embargo, todavía existe el problema de que mucho software matemático útil en Python aún no se ha portado a Python 3. Por lo tanto, la computación científica con Python aún funciona con la versión 2. Una estrategia muy utilizada por los desarrolladores de software que desean escribir código Python que funciona con ambas versiones, es desarrollar para la versión 2.7, que está muy cerca de la versión 3.4, y luego usar la herramienta de traducción 2to3 para traducir automáticamente de Python 2 a Python 3.\n",
    "Cuando use v2.7, debe emplear la sintaxis y los módulos más nuevos que hacen que las diferencias entre Python 2 y 3 sean muy pequeñas. Esta estrategia es adoptada en el presente libro. Solo se espera que dos diferencias entre las versiones 2 y 3 sean significativas para los programas del libro: a / b para enteros a y b implica la división flotante de Python 3 y la división de enteros en Python 2. Además, imprima 'Hola' en Python 2. se convierta en una función de impresión de llamada ('Hola') en Python 3. Ninguna de estas diferencias debe conducir a problemas molestos cuando los futuros lectores estudien los ejemplos v2.7 del libro, pero programen en Python 3. De todos modos, ejecute **2to3** en el ejemplo archivos genera el código correspondiente de Python 3.\n",
    "\n",
    "**Contenido.** El Capítulo 1 introduce variables, objetos, módulos y formato de texto a través de ejemplos relacionados con la evaluación de fórmulas matemáticas. El Capítulo 2 presenta la programación con while y para bucles, así como listas, incluidas listas anidadas. El siguiente capítulo trata sobre otros dos conceptos fundamentales en la programación: funciones y pruebas if-else. La lectura posterior exitosa del libro exige que los capítulos 1-3 sean digeridos.\n",
    "\n",
    "---"
   ]
  },
  {
   "cell_type": "markdown",
   "metadata": {},
   "source": [
    "La forma de leer datos en los programas y tratar los errores en la entrada son los temas del Capítulo 4. El Capítulo 5 introduce matrices y computación matricial (incluida la vectorización) y cómo se usa para trazar curvas y = f (x) y hacer una animación de curvas. Muchos de los ejemplos en los primeros cinco capítulos están fuertemente relacionados. Típicamente, las fórmulas de la primera.\n",
    "capítulo se utilizan para producir tablas de números en el segundo capítulo. Luego las fórmulas se encapsulan en funciones en el tercer capítulo. En el siguiente capítulo, la entrada a las funciones se obtiene desde la línea de comandos, o desde un diálogo de preguntas y respuestas con el usuario, y se agregan verificaciones de validez de la entrada. Las fórmulas se muestran como gráficas en el Capítulo 5. Después de haber estudiado los Capítulos 1 a 5, el lector debe tener suficiente conocimiento de la programación para resolver problemas matemáticos por lo que muchos denominan programación de \"estilo MATLAB\".\n",
    "\n",
    "El Capítulo 6 explica cómo trabajar diccionarios y cadenas, especialmente para interpretar datos de texto en archivos y almacenar la información extraída en estructuras de datos flexibles. La programación de clases, incluidos los tipos definidos por el usuario para cálculos matemáticos (con operadores sobrecargados), se presenta en el Capítulo 7. El Capítulo 8 trata los números aleatorios y la computación estadística con aplicaciones para juegos y paseos aleatorios. La programación orientada a objetos, en el sentido de jerarquías de clase y herencia, es el tema del Capítulo 9. Los ejemplos clave aquí se refieren a la construcción de kits de herramientas para la diferenciación e integración numérica, así como a los gráficos.\n",
    "\n",
    "El apéndice A introduce modelos matemáticos, utilizando secuencias y ecuaciones en diferencias. En este apéndice solo se utilizan los conceptos de programación de los Capítulos 1-5, cuyo objetivo es consolidar los conocimientos básicos de programación y aplicarlos a problemas matemáticos. Algunos temas matemáticos importantes se introducen a través de ecuaciones de diferencias de una manera sencilla: el método de Newton, las series de Taylor, las funciones inversas y los sistemas dinámicos."
   ]
  },
  {
   "cell_type": "markdown",
   "metadata": {},
   "source": [
    "El Apéndice B trata sobre las funciones de una malla, la diferenciación numérica y la integración numérica. Una introducción simple a las ecuaciones diferenciales ordinarias y su tratamiento numérico se proporciona en el Apéndice C. El Apéndice D muestra cómo se puede resolver un proyecto completo en física mediante modelos matemáticos, métodos numéricos y elementos de programación de los Capítulos 1-5. Este proyecto es un buen ejemplo de resolución de problemas en ciencias computacionales, donde es necesario integrar la física, las matemáticas, la numérica y la informática.\n",
    "El tema del Apéndice E es cómo crear software para resolver ecuaciones diferenciales ordinarias, utilizando programación basada en funciones y orientada a objetos. El material en este apéndice reúne muchas partes del libro en el contexto de las aplicaciones físicas.\n"
   ]
  },
  {
   "cell_type": "markdown",
   "metadata": {},
   "source": [
    "El Apéndice F está dedicado al arte de la depuración y, de hecho, a la resolución de problemas en general. Acelerar los cálculos numéricos en Python por la migración de código a C a través de Cython se ilustra en el Apéndice G ,. Finalmente, el Apéndice H trata varios temas técnicos más avanzados.\n",
    "\n",
    "---\n",
    "\n",
    "La mayoría de los ejemplos y ejercicios en este libro son bastante cortos. Sin embargo, muchos de los ejercicios están relacionados, y juntos forman proyectos más grandes, por ejemplo, en la Serie de Fourier (3.15, 4.20, 4.21, 5.39, 5.40), integración numérica (3.6, 3.7, 5.47, 5.48, A.12), Taylor serie\n",
    "(3.31, 5.30, 5.37, A.14, A.15, 7.23), funciones constantes por partes (3.23-3.27, 5.32, 5.45, 5.46, 7.19-7.21), funciones inversas (E.17-E.20), cayendo objetos (E.8, E.9, E.38, E.39), crecimiento poblacional oscilatorio (A.19, A.21, A.22, A.23), modelos de enfermedades epidémicas (E.41-E. 48), optimización y finanzas (A.24, 8.39, 8.40), estadística y probabilidad (4.23, 4.24, 8.21, 8.22), juegos de riesgo (8.8-8.13), caminata aleatoria y física estadística (8.30-8.37), análisis de datos ruidosos (8.41-8.43), métodos numéricos (5.23-5.25, 7.8, 7.9, A.9, 7.22, 9.15-9.17, E.30-E.37), construyendo una calculadora de cálculo (7.33, 9.18, 9.19) , y creando un conjunto de herramientas para simular.\n",
    "Sistemas de ingeniería vibrante (E.50-E.55).\n",
    "\n",
    "Los capítulos 1-9 junto con los apéndices A y E se han formado a partir de 2007 el núcleo de un primer curso de primer semestre de licenciatura en programación científica en la Universidad de Oslo (INF1100, 10 créditos ECTS)."
   ]
  },
  {
   "cell_type": "markdown",
   "metadata": {},
   "source": [
    "**Cambios de la tercera a la cuarta edición.** Un gran número de los ejercicios han sido reformulados y reorganizados. Por lo general, los ejercicios más largos se dividen en los puntos a), b), c), etc., varios tipos de ayuda se eliminan en párrafos separados marcados con **Sugerencia**, y la información que coloca el ejercicio en un contexto más amplio se coloca al final debajo de el encabezado **Observaciones**. Bastantes algunos ejercicios relacionados se han fusionado.\n",
    "\n",
    "Otro cambio importante es el enfoque forzado en las pruebas y la verificación. Ya tan pronto como se introducen las funciones en el Capítulo 3, comenzamos a verificar las implementaciones a través de funciones de prueba escritas de acuerdo con las convenciones en el marco de prueba de la nariz. Esto se continúa a lo largo del libro y se incorpora especialmente en los ejercicios reformulados. Las pruebas son desafiantes en programas que contienen errores de aproximación desconocidos, por lo que las estrategias para encontrar problemas de prueba apropiados también se han convertido en una parte integral de la cuarta edición.\n",
    "Muchos capítulos ahora se refieren al Tutor de Python en línea para visualizar el flujo del programa. Esta es una herramienta espléndida para aprender lo que sucede con las variables y la ejecución de sentencias en programas pequeños. El paquete sympy para computación simbólica es una herramienta poderosa en la programación científica y ya se introdujo en el Capítulo 1. Las secciones en el Capítulo 4 se reorganizaron, y la información básica sobre lectura y escritura de archivos se trasladó del Capítulo 6 al Capítulo 4. La cuarta edición claramente presenta tres partes distintas: conceptos de programación básicos en los capítulos 1 al 5, conceptos de programación más avanzados en los capítulos 6 al 9 y programación para resolver problemas científicos en el Apéndice AE.\n"
   ]
  },
  {
   "cell_type": "markdown",
   "metadata": {},
   "source": [
    "Las secciones 4.9 y 4.10.2 se han reescrito para enfatizar la importancia de las funciones de prueba. La información sobre cómo hacer animaciones y los videos en las Secciones 5.3.4 y 5.3.5 han sufrido una revisión sustancial. La sección 6.1.7 se ha reescrito por completo para reflejar mejor cómo trabajar con los datos asociados con las fechas.\n",
    "\n",
    "---\n",
    "\n",
    "El Apéndice E se ha modificado para que la programación basada en funciones y la programación orientada a objetos aparezcan en secciones separadas. Esto permite leer el apéndice y resolver EDO sin conocimiento de clases y herencia. Gran parte del texto en el Apéndice E se ha reescrito y ampliado, los ejercicios se han revisado sustancialmente y se han agregado varios ejercicios nuevos.\n",
    "\n",
    "La sección H.1 es nueva y describe las diversas opciones para obtener acceso a Python y sus paquetes para cálculos científicos. Este tema incluye, por ejemplo, instalar software en computadoras portátiles personales y escribir cuadernos en servicios en la nube.\n",
    "\n",
    "Además de los cambios mencionados, una gran cantidad de actualizaciones más pequeñas, explicaciones mejoradas y corrección de errores tipográficos se han incorporado en la nueva edición. Estoy muy agradecido a todos los lectores, instructores y estudiantes que han enviado correos electrónicos con correcciones o sugerencias de mejoras.\n",
    "\n",
    "El cambio quizás más grande para mí fue mover todo el manuscrito de LATEX a DocOnce1. Este movimiento permite una composición de temas mucho más flexible para varios propósitos, y soporte para salida en diferentes formatos, como LATEX, HTML, Sphinx, Markdown, notebooks IPython y MediaWiki. Los capítulos se han hecho más independientes al repetir el conocimiento clave, lo que abre una lectura significativa de solo partes del libro, incluso las partes más avanzadas."
   ]
  },
  {
   "cell_type": "markdown",
   "metadata": {},
   "source": [
    "**Expresiones de gratitud.** Este libro nació de discusiones estimulantes con mi colega cercano Aslak Tveito, y comenzó a escribir lo que ahora son los apéndices B y C. El proyecto del libro completo y el curso universitario asociado dependían de manera crítica del papel entusiasta de Aslak en 2007. El apoyo continuo de Aslak respecto a mis proyectos de libros es muy apreciado y contribuye enormemente a mi fuerte motivación. Otro contribuyente clave en los primeros días fue Ilmar Wilbers. Hizo grandes esfuerzos para ayudar al proyecto del libro y establecer el curso universitario INF1100. Siento que sin Ilmar y sus soluciones a numerosos problemas técnicos, la primera edición del libro nunca se habría completado. Johannes H. Ring también merece un reconocimiento especial por el desarrollo de la herramienta de gráficos Easyviz y por su cuidadoso mantenimiento y soporte del software asociado con el libro a lo largo de los años.\n",
    "\n",
    "El profesor Loyce Adams estudió todo el libro, resolvió todos los ejercicios, encontró numerosos errores y sugirió muchas mejoras. Sus contribuciones son muy apreciadas. Más recientemente, Helmut Büch trabajó extremadamente cuidadosamente a través de todos los detalles en los Capítulos 1-6, probó el software, encontró muchos errores tipográficos y formuló preguntas críticas que llevaron a Muchas mejoras significativas. Estoy muy agradecido por todos sus esfuerzos y por su entusiasmo durante los preparativos de la cuarta edición.\n",
    "\n",
    "---"
   ]
  },
  {
   "cell_type": "markdown",
   "metadata": {},
   "source": [
    "\n",
    "Un agradecimiento especial a Geir Kjetil Sandve por ser el autor principal de los ejemplos de bioinformática computacional en las Secciones 3.3, 6.5, 8.3.4 y 9.5, con contribuciones de Sveinung Gundersen, Ksenia Khelik, Halfdan Rydbeck y Kai Trengereid.\n",
    "Varias personas han contribuido con sugerencias para mejorar el texto, los ejercicios y el software asociado. Mencionaré en particular a Ingrid Eide, Ståle Zerener Haugnæss, Kristian Hiorth, Arve Knudsen, Tobias Vidarssønn Langhoff, Martin Vonheim Larsen, Kine Veronica Lund, Solvillazpuzz, Gekken Mørken, Rebekka Mørken, Geken Mzrken, Rebekka Mørken, Jekken Mørken, Rebekka Mørken, Jekken Mørken Storjord, Fredrik Heffer Valdmanis y Torkil Vederhus. Hakon Adler es ampliamente reconocido por su cuidadosa lectura de varias versiones tempranas del manuscrito. Muchas gracias a los profesores Fred Espen Bent, Ørnulf Borgan, Geir Dahl, Knut Mørken y Geir Pedersen por formular varios ejercicios interesantes de varios campos de aplicación. También aprecio la imagen de portada hecha por mi buen amigo Jan Olav Langseth.\n",
    "Este libro y el curso asociado son parte de una reforma integral y exitosa en la Universidad de Oslo, llamada Informática en la Educación de la Ciencia. El objetivo de la reforma es integrar la programación y simulación de computadora en todos los cursos de licenciatura en ciencias naturales donde se usan modelos matemáticos. El presente libro sienta las bases para la técnica moderna computarizada de resolución de problemas que se aplicará en cursos posteriores. Ha sido extremadamente inspirador trabajar estrechamente con las fuerzas impulsoras detrás de esta reforma, especialmente los profesores Morten Hjorth-Jensen, Anders Malthe-Sørenssen, Knut Mørken y Arnt Inge Vistnes.\n",
    "La excelente asistencia del sistema Springer, en particular Martin Peters, Thanh-Ha Le Thi, Ruth Allewelt, Peggy Glauch-Ruge, Nadja Kroke, Thomas Schmidt, Patrick Waltemate, Donatas Akmanavicius e Yvonne Schlatter, es muy apreciada y asegurada. Producción fluida y rápida de todas las ediciones de este libro.\n",
    "\n",
    "---"
   ]
  },
  {
   "cell_type": "markdown",
   "metadata": {},
   "source": [
    "### 1 Cálculo con fórmulas\n",
    "\n",
    "#### 1.1 [El primer encuentro de programación: una fórmula](#1.1)\n",
    "\n",
    "\n",
    "-    [1.1.1  Uso de un programa como calculadora](#1.1.1) \n",
    "-    1.1.2  Acerca de los programas y la programación\n",
    "-    1.1.3  Herramientas para escribir programas \n",
    "-    1.1.4  Escribir y ejecutar su primer programa Python\n",
    "-    1.1.5  Advertencia sobre escribir texto del programa\n",
    "-    1.1.6  Verificación del resultado\n",
    "-    1.1.7  Uso de variables\n",
    "-    1.1.8  Nombres de variables\n",
    "-    1.1.9  Palabras reservadas en Python\n",
    "-    1.1.10 Comentarios\n",
    "-    1.1.11 Formattingtextandnumbers\n",
    "\n",
    "\n"
   ]
  },
  {
   "cell_type": "markdown",
   "metadata": {},
   "source": [
    "### Computando con fórmulas\n",
    "\n",
    "Nuestros primeros ejemplos sobre programación de computadoras involucran programas que evalúan fórmulas matemáticas. Aprenderá cómo escribir y ejecutar un programa Python, cómo trabajar con variables, cómo calcular con funciones matemáticas como ex y sin x, y cómo usar Python para cálculos interactivos.\n",
    "Suponemos que está familiarizado con las computadoras para saber qué son los archivos y las carpetas, cómo se mueve entre las carpetas, cómo cambia los nombres de los archivos y las carpetas, y cómo escribe y guarda el texto en un archivo. Otra palabra frecuente para carpeta es directorio.\n",
    "Todos los ejemplos de programas asociados con este capítulo pueden descargarse como un archivo tar o zipfile desde la página web http://hplgit.github.com/scipro-primer. Le recomiendo que visite esta página, descargue y empaque los archivos. Los ejemplos están organizados en un árbol de carpetas con src como raíz. Cada subcarpeta corresponde a un capítulo particular. Por ejemplo, las fórmulas de subcarpetas contienen los ejemplos de programas asociados con este primer capítulo. El nombre de la subcarpeta relevante se enumera al principio de cada capítulo.\n",
    "También se puede acceder directamente a la estructura de carpetas con programas de ejemplo en un repositorio GitHub (1) en la web. Puede hacer clic en la carpeta de fórmulas para ver todos los ejemplos del presente capítulo. Al hacer clic en un nombre de archivo se muestra una versión bien tipográfica del archivo. El archivo puede descargarse primero haciendo clic en Raw para obtener la versión de texto simple del archivo, y luego haga clic derecho en la página web y seleccione Guardar como ...\n",
    "(1) http://tinyurl.com/pwyasaa"
   ]
  },
  {
   "cell_type": "markdown",
   "metadata": {},
   "source": [
    "<a id=\"1.1\"></a>\n",
    "### **1.1 El primer encuentro de programación: una fórmula**\n",
    "\n",
    "La primera fórmula que consideraremos se refiere al movimiento vertical de una pelota lanzada en el aire. A partir de la segunda ley de movimiento de Newton, se puede configurar un modelo matemático para el movimiento de la bola y encontrar que la posición vertical de la bola, llamada *y, varía con el tiempo t* de acuerdo con la siguiente fórmula:\n",
    "\n",
    "$$y(t) = \\upsilon_0t-\\frac {1}{2}gt^2$$\n",
    "\n",
    "Aquí, $v_0$ es la velocidad inicial de la bola, *g* es la aceleración de la gravedad y *t* es el tiempo. Observe que el eje y se elige de modo que la bola comience en *y=0* cuando *t=0*. La fórmula anterior descuida la resistencia del aire, que generalmente es pequeña a menos que $v_0$ sea grande, consulte el Ejercicio 1.11.\n",
    "\n",
    "Para obtener una visión general del tiempo que tarda la pelota en moverse hacia arriba y volver a *y=0* nuevamente, podemos buscar soluciones a la ecuación *y=0* :"
   ]
  },
  {
   "cell_type": "markdown",
   "metadata": {},
   "source": [
    "$$\\upsilon_0t-\\frac {1}{2}gt^2=(\\upsilon_0-\\frac {1}{2}gt)=0$$"
   ]
  },
  {
   "cell_type": "markdown",
   "metadata": {},
   "source": [
    "$$t=0$$"
   ]
  },
  {
   "cell_type": "markdown",
   "metadata": {},
   "source": [
    "$$t=\\frac{2\\upsilon_0}{g}$$"
   ]
  },
  {
   "cell_type": "markdown",
   "metadata": {},
   "source": [
    "Es decir, la pelota regresa después de $\\frac{2v_0}{g}$ segundos y, por lo tanto, es razonable restringir el interés de **(1.1)** a *t* ∈ $0.2\\upsilon_0/g$."
   ]
  },
  {
   "cell_type": "markdown",
   "metadata": {},
   "source": [
    "<a id=\"1.1.1\"></a>\n",
    "### **1.1.1 Usando un programa como una calculadora**\n",
    "\n",
    "Nuestro primer programa evaluará (1.1) para una elección específica de v0, g y t. Elegir *v0=5m/s* y *g=9.81 m/s2* hace que la pelota regrese después de t=2v0/g ≈ 1s. Esto significa que básicamente estamos interesados en el intervalo de tiempo [0, 1]. Digamos que queremos calcular la altura de la pelota en el tiempo t=0.6 s. Desde (1.1) tenemos\n",
    "\n",
    "$$y=5*0.6-\\frac{1}{2}*9..81*0.6^2$$\n",
    "\n",
    "\n",
    "Esta expresión aritmética se puede evaluar y su valor se puede imprimir mediante un programa Python muy simple de una línea:\n",
    "\n",
    "print (5 * 0.6 - 0.5 * 9.81 * 0.6 ** 2)\n",
    "\n",
    "Los cuatro operadores aritméticos estándar se escriben como +, -, * y / en Python y en la mayoría de los otros lenguajes de computadora. La exponenciación emplea una notación de asterisco doble en Python, por ejemplo, $0.6^2$ se escribe como 0.6 ** 2.\n",
    "\n",
    "Nuestra tarea ahora es crear el programa y ejecutarlo, y esto se describirá a continuación."
   ]
  },
  {
   "cell_type": "markdown",
   "metadata": {},
   "source": [
    "\n",
    "### **1.1.2 Sobre programas y programación.**\n",
    "\n",
    "Un programa de computadora es solo una secuencia de instrucciones para la computadora, escritas en un lenguaje de computadora. La mayoría de los lenguajes informáticos se parecen al inglés, pero son mucho más simples. El número de palabras e instrucciones asociadas es muy limitado, por lo que para realizar una operación complicada debemos combinar un gran número de diferentes tipos de instrucciones. El texto del programa, que contiene la secuencia de instrucciones, se almacena en uno o más archivos. La computadora solo puede hacer exactamente lo que el programa le dice a la computadora que haga.\n",
    "\n",
    "Otra percepción de la palabra programa es un archivo que se puede ejecutar (\"hacer doble clic\") para realizar una tarea. A veces, este es un archivo con instrucciones textuales (que es el caso de Python), y otras veces este archivo es una traducción de todo el texto del programa a un lenguaje más eficiente y fácil de usar por computadora que es bastante difícil de leer para un humano. Todos los programas en este capítulo consisten en texto corto almacenado en un solo archivo. Otros programas que ha usado con frecuencia, por ejemplo, Firefox o Internet Explorer para leer páginas web, consisten en textos de programas distribuidos en una gran cantidad de archivos, escritos por una gran cantidad de personas durante muchos años. Un solo archivo contiene la traducción eficiente de la máquina de todo el programa, y ​​este es normalmente el archivo en el que hace doble clic al iniciar el programa. En general, el programa word significa este archivo único o la colección de archivos con instrucciones textuales.\n",
    "\n",
    "La programación es obviamente sobre la escritura de programas, pero este proceso es más que escribir las instrucciones correctas en un archivo. Primero, debemos entender cómo se puede resolver un problema dando una secuencia de instrucciones a la computadora. Esta es una de las cosas más difíciles de programar. Segundo, debemos expresar esta secuencia de instrucciones correctamente en un lenguaje de computadora y almacenar el texto correspondiente en un archivo (el programa). Esta es normalmente la parte más fácil. En tercer lugar, debemos averiguar cómo verificar la validez de los resultados. Por lo general, los resultados no son los esperados y necesitamos una cuarta fase en la que rastreamos los errores sistemáticamente y los corrijamos. Dominar estos cuatro pasos requiere mucha capacitación, lo que significa realizar una gran cantidad de programas (¡ejercicios en este libro, por ejemplo!) Y hacer que los programas funcionen."
   ]
  },
  {
   "cell_type": "markdown",
   "metadata": {},
   "source": [
    "### **1.1.3 Herramientas para escribir programas**\n",
    "\n",
    "Hay tres tipos alternativos de herramientas para escribir programas de Python:\n",
    "\n",
    "- Un editor de texto plano\n",
    "- Un entorno de desarrollo integrado (IDE) con un editor de texto\n",
    "- Un cuaderno IPython\n",
    "\n",
    "\n",
    "Lo que elija dependerá de cómo acceda a Python. La Sección H.1 contiene información sobre las diversas posibilidades para instalar Python en su propia computadora, acceder a un entorno Python preinstalado en un sistema informático en una institución o acceder a Python en servicios en la nube a través de su navegador web.\n",
    "\n",
    "Basado en la enseñanza de este y otros libros anteriores a más de 3000 estudiantes, mis recomendaciones son las siguientes.\n",
    "\n",
    "- Si usa este libro en un curso, es probable que el instructor haya elegido cómo debe acceder a Python; siga estos consejos.\n",
    "- Si eres estudiante en una universidad donde Linux es el sistema operativo dominante, instala una máquina virtual con Ubuntu en tu propia computadora portátil y realiza todo tu trabajo científico en Ubuntu. Escriba programas de Python en un editor como Gedit, Emacs o Vim, y ejecute programas en una ventana de terminal (se recomienda el gnome-terminal).\n",
    "- Si eres un estudiante, una universidad donde Windows es el sistema operativo dominante y tú mismo eres usuario de Windows, instala Anaconda. Escribir y ejecutar programas de Python en Spyder.\n",
    "- Si no está seguro de cuánto va a programar con Python y, en primer lugar, desea conocer primero la programación de Python, acceda a Python en la nube, por ejemplo, a través del sitio Wakari.\n",
    "- Si quieres Python en tu Mac y tienes experiencia compilando y enlazando software en el entorno de Mac OS X, instala Anaconda en la Mac. Escriba y ejecute programas en Spyder, o use un editor de texto como TextWrangler, Emacs o Vim, y ejecute programas en la aplicación Terminal. Si no está muy familiarizado con la creación de software en Mac y con variables de entorno como PATH, será más fácil acceder a Python en Ubuntu a través de una máquina virtual."
   ]
  },
  {
   "cell_type": "markdown",
   "metadata": {},
   "source": [
    "### **1.1.4 Escribiendo y ejecutando tu primer programa de Python**\n",
    "\n",
    "  Supongo que ha tomado una decisión sobre cómo acceder a Python, que determina si va a escribir programas en un editor de texto o en un cuaderno de IPython. Lo que escribas será lo mismo, la diferencia está en cómo ejecutas el programa. Las Secciones H.1.7 y H.1.9 describen brevemente cómo escribir programas en un editor de texto, ejecutarlos en una ventana de terminal o en Spyder, y cómo operar un cuaderno IPython.    Recomiendo echar un vistazo a ese material antes de continuar.\n",
    "  Abre tu editor de texto elegido y escribe la siguiente línea:\n",
    "\n",
    "print 5 * 0.6 - 0.5 * 9.81 * 0.6 ** 2\n",
    "\n",
    "  Este es un programa completo de Python para evaluar la fórmula (1.2).   Guarde la línea en un archivo con el nombre ball1.py.\n",
    "  \n",
    "  La acción requerida para ejecutar este programa depende del tipo de herramienta que use para ejecutar programas:\n",
    "  \n",
    "\n",
    "- terminal de window: desplácese a la carpeta donde se encuentra ball1.py y escriba python ball1.py\n",
    "- Cuaderno IPython: haga clic en el botón \"jugar\" para ejecutar la celda\n",
    "- Spyder: elija Ejecutar en el menú desplegable Ejecutar\n",
    "\n",
    "La salida es 1.2342 y aparece.\n",
    "\n",
    "- justo después del comando python ball1.py en una ventana de terminal • justo después de la línea de programa (celda) en el cuaderno IPython\n",
    "- en la ventana inferior derecha en Spyder\n",
    "\n",
    "Observamos que hay otras formas de ejecutar programas de Python en la ventana de la terminal, vea el Apéndice H.2.\n",
    "\n",
    "Supongamos que desea evaluar (1.1) para v0 = 1 y t = 0.1. Esto es fácil: mueva el cursor a la ventana del editor, edite el texto del programa para\n",
    "\n",
    "print (1 * 0.1 - 0.5 * 9.81 * 0.1 ** 2)\n",
    "\n",
    "Ejecute el programa nuevamente en Spyder o vuelva a ejecutar la celda en un cuaderno IPython. Si usa un editor de texto plano, recuerde siempre guardar el archivo después de editarlo, luego vuelva a la ventana del terminal y ejecute el programa como antes:\n",
    "\n",
    "Ejecute el programa nuevamente en Spyder o vuelva a ejecutar la celda en un cuaderno IPython. Si usa un editor de texto plano, recuerde siempre guardar el archivo después de editarlo, luego vuelva a la ventana del terminal y ejecute el programa como antes:\n",
    "\n",
    "---\n",
    "Terminal> python ball1.py\n",
    "0.05095\n",
    "\n",
    "---\n",
    "\n",
    "---\n",
    "\n",
    "#### Composición tipográfica de comandos del sistema operativo\n",
    "*Usamos el indicador de Terminal> en este libro para indicar los comandos en una ventana de terminal Unix o DOS / PowerShell. El texto que sigue al indicador de Terminal> debe ser un comando de sistema operativo válido. Es probable que vea un mensaje diferente en la ventana del terminal en su máquina, tal vez algo que refleje su nombre de usuario o la carpeta actual.*\n",
    "\n",
    "---"
   ]
  },
  {
   "cell_type": "markdown",
   "metadata": {},
   "source": [
    "### 1.1.5 Advertencia sobre la escritura del texto del programa\n",
    "\n",
    "A pesar de que un programa es solo un texto, hay una diferencia importante entre un texto en un programa y un texto destinado a ser leído por un humano. Cuando un humano lee un texto, él o ella puede entender el mensaje del texto incluso si el texto no es perfectamente preciso o si hay errores gramaticales. Si nuestro programa de una línea se expresó como\n",
    "\n",
    " write (5 * 0.6 - 0.5 * 9.81 * 0.6^2)\n",
    "\n",
    "la mayoría de los humanos interpretarían **write** e **print** como lo mismo, y muchos también interpretarían 6 ^ 2 como $6^2$. Sin embargo, en el lenguaje Python, escribir es un error gramatical y 6 ^ 2 significa una operación muy diferente de la exponenciación 6 ** 2. Nuestra comunicación con una computadora a través de un programa debe ser perfectamente precisa sin una sola gramática o error lógico. El famoso científico informático Donald Knuth lo expresó de esta manera:\n",
    "La programación exige un nivel de precisión significativamente más alto. Las cosas no solo tienen que tener sentido para otro ser humano, deben tener sentido para una computadora. Donald Knuth [12, pág. 18], 1938-.\n",
    "Es decir, la computadora solo hará exactamente lo que le pedimos que haga. Cualquier error en el programa, por pequeño que sea, puede afectar al programa. Existe la posibilidad de que nunca lo notemos, pero la mayoría de las veces un error hace que el programa se detenga o produzca resultados incorrectos. La conclusión es que las computadoras tienen una actitud mucho más pedante al lenguaje que lo que\n",
    "(la mayoría) los humanos tienen.\n",
    "Ahora entiendes por qué cualquier texto del programa debe ser escrito con cuidado,\n",
    "Prestando atención a la corrección de cada personaje. Si prueba los textos de programa de este libro, asegúrese de escribirlos exactamente como los ve en el libro. Los espacios en blanco, por ejemplo, a menudo son importantes en Python, por lo que es un buen hábito contarlos siempre y escribirlos correctamente. Cualquier intento de no seguir este consejo te causará frustraciones, sudor y hasta lágrimas."
   ]
  },
  {
   "cell_type": "markdown",
   "metadata": {},
   "source": [
    "### 1.1.6 Verificando el resultado\n",
    "\n",
    "Siempre debemos controlar cuidadosamente que la salida de un programa de computadora sea correcta. Experimentará que, en la mayoría de los casos, al menos hasta que sea un programador experimentado, el resultado es incorrecto y debe buscar errores. En la presente aplicación podemos simplemente usar una calculadora para controlar el programa. Al establecer t = 0.6 y $v_0 = 5$ en la fórmula, la calculadora confirma que 1.2342 es la solución correcta para nuestro problema matemático."
   ]
  },
  {
   "cell_type": "markdown",
   "metadata": {},
   "source": [
    "### 1.1.7 Uso de variables\n",
    "\n",
    "Cuando queremos evaluar *y(t)* para muchos valores de *t*, debemos modificar el valor de *t* en dos lugares de nuestro programa. Cambiar otro parámetro, como $v_0$, es en principio sencillo, pero en la práctica es fácil modificar el número equivocado. Tales modificaciones serían más sencillas de realizar si expresamos nuestra fórmula en términos de variables, es decir, símbolos, en lugar de valores numéricos. La mayoría de los lenguajes de programación, incluido Python, tienen variables similares al concepto de variables en matemáticas. Esto significa que podemos definir $v_0$, *g*, *t* e *y* como variables en el programa, inicializar los tres primeros con valores numéricos y combinar estas tres variables a la expresión del lado derecho deseado en (1.1), y asignar el resultado a la variable *y*.\n",
    "La versión alternativa de nuestro programa, donde usamos variables, puede escribirse como este texto:\n",
    "\n",
    "  \n",
    "\n"
   ]
  },
  {
   "cell_type": "code",
   "execution_count": 1,
   "metadata": {},
   "outputs": [
    {
     "name": "stdout",
     "output_type": "stream",
     "text": [
      "1.2342\n"
     ]
    }
   ],
   "source": [
    "v0=5\n",
    "g=9.81\n",
    "t=0.6\n",
    "y=v0*t - 0.5*g*t**2\n",
    "print (y)"
   ]
  },
  {
   "cell_type": "markdown",
   "metadata": {},
   "source": [
    "Las variables en Python se definen estableciendo un nombre (aquí $v_0$, *g, t o y*) igual a un valor numérico o una expresión que involucra variables ya definidas.\n",
    "Tenga en cuenta que este segundo programa es mucho más fácil de leer porque está más cerca de la notación matemática utilizada en la fórmula (1.1). El programa también es más seguro de modificar, porque vemos claramente qué es cada número cuando hay un nombre asociado con él. En particular, podemos cambiar *t* solo en un lugar (la línea t = 0.6) y no en dos como se requería en el programa anterior.\n",
    "Almacenamos el texto del programa en un archivo ball2.py. Ejecutando los resultados del programa en la salida correcta 1.2342.\n"
   ]
  },
  {
   "cell_type": "markdown",
   "metadata": {},
   "source": [
    "\n",
    "### 1.1.8 Nombres de variables\n",
    "\n",
    "La introducción de variables con nombres descriptivos, cercanas a las del problema matemático que vamos a resolver, se considera importante para la legibilidad y confiabilidad (corrección) del programa. Los nombres de las variables pueden contener cualquier letra mayúscula o minúscula, los números del 0 al 9 y el subrayado, pero el primer carácter no puede ser un número. Python distingue entre mayúsculas y minúsculas, por lo que X siempre es diferente de x. Aquí hay algunos ejemplos de nombres de variables alternativas en el presente ejemplo:"
   ]
  },
  {
   "cell_type": "code",
   "execution_count": 2,
   "metadata": {},
   "outputs": [
    {
     "name": "stdout",
     "output_type": "stream",
     "text": [
      "1.2342\n"
     ]
    }
   ],
   "source": [
    "initial_velocity = 5\n",
    "acceleration_of_gravity = 9.81\n",
    "TIME=0.6\n",
    "VerticalPositionOfBall = initial_velocity*TIME - 0.5*acceleration_of_gravity*TIME**2\n",
    "\n",
    "print (VerticalPositionOfBall)"
   ]
  },
  {
   "cell_type": "markdown",
   "metadata": {},
   "source": [
    "Con nombres de variables tan largos, el código para evaluar la fórmula se vuelve tan largo que hemos decidido dividirlo en dos líneas. Esto se hace con una barra invertida al final de la línea (¡asegúrese de que no haya espacios en blanco después de la barra invertida!).\n",
    "En este libro adoptaremos la convención de que los nombres de las variables tienen letras minúsculas donde las palabras están separadas por un guión bajo. Cuando la variable representa un símbolo matemático, usamos el símbolo o una buena aproximación a él como nombre de variable. Por ejemplo, y en matemáticas se convierte en y en el programa, y ​​v0 en matemáticas se convierte en v_0 en el programa. Una buena semejanza entre los símbolos matemáticos en la descripción del problema y los nombres de las variables es importante para una fácil lectura del código y para detectar errores. Este principio se ilustra en el fragmento de código anterior: incluso si los nombres largos de las variables explican bien lo que representan, verificar la corrección de la fórmula para y es más difícil que en el programa que emplea las variables v0, g, t e y0.\n",
    "Para todas las variables donde no hay una descripción matemática precisa asociada y un símbolo, se deben usar nombres de variables descriptivos que expliquen el propósito de la variable. Por ejemplo, si una descripción del problema introduce el símbolo D para una fuerza debida a la resistencia del aire, se aplica una variable D también en el programa. Sin embargo, si la descripción del problema no define ningún símbolo para esta fuerza, se debe aplicar un nombre descriptivo, como **air_resistance, resistance_force o drag_force.**\n",
    "\n",
    "---\n",
    "\n",
    "#### Cómo elegir nombres de variables\n",
    "- Use los mismos nombres de variables en el programa que en la descripción matemática del problema que desea resolver.\n",
    "- Para todas las variables sin una definición matemática y un símbolo precisos, use un nombre descriptivo cuidadosamente elegido."
   ]
  },
  {
   "cell_type": "markdown",
   "metadata": {},
   "source": [
    "### 1.1.9 Palabras reservadas en Python\n",
    "\n",
    "Ciertas palabras están reservadas en ```Python``` porque se usan para construir el lenguaje Python. Estas palabras reservadas no se pueden usar como nombres de variables: y, como, afirmar, romper, clase, continuar, def, delif, else, excepto, False, finalmente, para, from, global, if, import, in, is, lambda, Ninguno, no local, no, o, pasar, subir, devolver, Verdadero, intentar, con, while, y ceder. Si desea utilizar una palabra reservada como nombre de variable, es común que aparezca un guión bajo al final. Por ejemplo, si necesita una cantidad matemática λ en el programa, puede trabajar con lambda_ como nombre de variable. Consulte el Ejercicio 1.16 para ver ejemplos de nombres de variables legales e ilegales.\n",
    "Los archivos de programa pueden tener un nombre elegido libremente, pero manténgase alejado de los nombres que coincidan con palabras clave o nombres de módulos en Python. Por ejemplo, no use math.py, time.py, random.py, os.py, sys.py, while.py, for.py, if.py, class.py o def.py."
   ]
  },
  {
   "cell_type": "markdown",
   "metadata": {},
   "source": [
    "### 1.1.10 Comentarios\n",
    "\n",
    "Junto con las declaraciones del programa, a menudo es informativo proporcionar algunos comentarios en un lenguaje humano natural para explicar la idea detrás de las declaraciones. Los comentarios en Python comienzan con el carácter #, y todo lo que está después de este carácter en una línea se ignora cuando se ejecuta el programa. Aquí hay un ejemplo de nuestro programa con comentarios explicativos:"
   ]
  },
  {
   "cell_type": "code",
   "execution_count": null,
   "metadata": {},
   "outputs": [],
   "source": [
    "# Programa para calcular la altura de una pelota en movimiento vertical.\n",
    "\n",
    "v0 = 5 # initial velocity\n",
    "g = 9.81 # acceleration of gravity\n",
    "t=0.6 #time\n",
    "y = v0*t - 0.5*g*t**2  # vertical position\n",
    "print (y)"
   ]
  },
  {
   "cell_type": "markdown",
   "metadata": {},
   "source": [
    "Este programa y la versión inicial en la Sección 1.1.7 son idénticos cuando se ejecutan en la computadora, pero para un humano este último es más fácil de entender debido a los comentarios.\n",
    "\n",
    "Los buenos comentarios junto con los nombres de variables bien elegidos son necesarios para cualquier programa más largo que unas pocas líneas, porque de lo contrario el programa se vuelve difícil de entender, tanto para el programador como para otros. Se requiere algo de práctica para escribir comentarios realmente instructivos. Nunca repita con palabras lo que las declaraciones del programa ya expresan claramente. En su lugar, use comentarios para proporcionar información importante que no es obvia a partir del código, por ejemplo, qué significan los nombres de las variables matemáticas, para qué se usan las variables, una descripción general rápida de un conjunto de declaraciones futuras e ideas generales detrás de la estrategia de resolución de problemas en el código.\n",
    "\n",
    "**Observación.** Si utiliza caracteres que no están en inglés en sus comentarios, Python se quejará. Por ejemplo,"
   ]
  },
  {
   "cell_type": "code",
   "execution_count": null,
   "metadata": {},
   "outputs": [],
   "source": [
    "s = 1.8   # Å. Ødegård recommended this value for s"
   ]
  },
  {
   "cell_type": "markdown",
   "metadata": {},
   "source": [
    "\n",
    "La ejecución de este programa da como resultado el mensaje de error\n",
    "\n",
    "    SyntaxError: carácter no ASCII ’\\ xc3’ en el archivo ...\n",
    "    pero ninguna codificación declarada; ver\n",
    "    http://www.python.org/peps/pep-0263.html para más detalles\n",
    "\n",
    "Se permiten caracteres que no estén en inglés si coloca la siguiente línea mágica en el programa antes de que se utilicen dichos caracteres:"
   ]
  },
  {
   "cell_type": "raw",
   "metadata": {},
   "source": [
    "# -*- coding: utf-8 -*-\n"
   ]
  },
  {
   "cell_type": "markdown",
   "metadata": {},
   "source": [
    "(Sí, este es un comentario, ¡pero Python no lo ignora!) Más información sobre caracteres y codificaciones que no están en inglés como UTF-8 se encuentra en la Sección 6.3.5."
   ]
  },
  {
   "cell_type": "markdown",
   "metadata": {},
   "source": [
    "## 1.1.11 Formato de texto y números\n",
    "\n",
    "En lugar de solo imprimir el valor numérico de y en nuestro programa introductorio, ahora queremos escribir un texto más informativo, típicamente algo como\n",
    "\n",
    "     En t = 0.6 s, la altura de la pelota es de 1.23 m.\n",
    "\n",
    "donde también tenemos el control del número de dígitos (aquí y es exacto hasta centímetros solamente).\n",
    "\n",
    "**Sintaxis de Printf.** La salida del tipo que se muestra arriba se logra mediante una declaración de impresión combinada con alguna técnica para formatear los números. La técnica más antigua y más utilizada se conoce como formateo de printf (que se origina a partir de la función printf en el lenguaje de programación C). Para un recién llegado a la programación, la sintaxis del formato de printf puede parecer incómoda, pero es bastante fácil de aprender y muy conveniente y flexible para trabajar. La sintaxis de printf también se usa en muchos otros lenguajes de programación.\n",
    "\n",
    "La salida de muestra anterior es producida por esta declaración usando la sintaxis de printf:"
   ]
  },
  {
   "cell_type": "raw",
   "metadata": {},
   "source": [
    "print ’At t=%g s, the height of the ball is %.2f m.’ % (t, y)"
   ]
  },
  {
   "cell_type": "markdown",
   "metadata": {},
   "source": [
    "Vamos a explicar esta línea en detalle. La declaración de impresión imprime una cadena: todo lo que está encerrado entre comillas (ya sea simple: ', o doble: \") denota una cadena en Python. La cadena anterior está formateada usando la sintaxis de printf. Esto significa que la cadena tiene varias\" ranuras \", comenzando con un signo de porcentaje, aquí% g y% .2f, donde se pueden colocar las variables en el programa. Tenemos dos \"slots\" en el presente caso y, por lo tanto, se deben colocar dos variables en los slots. La sintaxis relevante es para enumerar las variables dentro de paréntesis estándar después de la cadena, separados de la cadena por un signo de porcentaje. La primera variable, t, entra en la primera \"espacio\". Esta \"ranura\" tiene una especificación de formato% g, donde el signo de porcentaje marca la ranura y el siguiente carácter, g, es una especificación de formato. El formato g indica al número real que se escriba lo más compacto posible. La siguiente variable, y, va a la segunda \"ranura\". La especificación de formato aquí es .2f, lo que significa un número real escrito con dos dígitos después de la coma. La f en el formato .2f significa float, una forma corta para el número de punto flotante, que es el término utilizado para un número real en una computadora.\n",
    "\n",
    "Para completar, presentamos todo el programa, donde el texto y los números se mezclan en la salida:\n",
    "\n",
    "     v0 = 5\n",
    "     g = 9.81\n",
    "     t = 0.6\n",
    "     y = v0 * t - 0.5 * g * t ** 2\n",
    "     print ’En t =% g s, la altura de la pelota es% .2f m.’% (t, y)\n",
    "     \n",
    "El programa se encuentra en el archivo **ball_print1.py** en la carpeta **src/formulas** de la colección de programas asociados con este libro."
   ]
  },
  {
   "cell_type": "markdown",
   "metadata": {},
   "source": [
    "Hay muchas más formas de especificar formatos. Por ejemplo, e escribe un número en notación científica, es decir, con un número entre 1 y 10 seguido de una potencia de 10, como en 1.2432 · 10 3. En una computadora, dicho número está escrito en la forma 1.2432e-03. La capital E en el exponente también es posible, simplemente reemplace e por E, con el resultado 1.2432E-03.\n",
    "\n",
    "Para la notación decimal, usamos la letra f, como en% f, y el número de salida aparece con dígitos antes y / o después de una coma, por ejemplo, 0.0012432 en lugar de 1.2432E-03. Con el formato g, la salida utilizará la notación científica para los números grandes o pequeños y la notación decimal de lo contrario. Este formato es normalmente lo que da la salida más compacta de un número real. Una minúscula g conduce a una minúscula e en notación científica, mientras que la mayúscula G implica una E en lugar de una e en el exponente.\n",
    "\n",
    "También se puede especificar el formato como 10.4f o 14.6E, lo que significa que en el primer caso un flotante se escribe en notación decimal con cuatro decimales en un campo de ancho igual a 10 caracteres, y en el segundo caso un flotante escrito en notación científica Con seis decimales en un campo de 14 caracteres de ancho.\n",
    "\n",
    "Aquí hay una lista de algunas especificaciones importantes de formato de printf (el programa **printf_demo.py** ejemplifica muchas de las construcciones):"
   ]
  },
  {
   "cell_type": "markdown",
   "metadata": {},
   "source": [
    "        \n",
    "    % s      una cadena\n",
    "    % d      un entero\n",
    "    % 0xd    un entero completado con x ceros iniciales\n",
    "    % f      notación decimal con seis decimales\n",
    "    % e      notación científica compacta, e en el exponente\n",
    "    % E      notación científica compacta, E en el exponente\n",
    "    % g      decimal decimal o notación científica (con e)\n",
    "    % G      decimal compacto o notación científica (con E)\n",
    "    % xz     formato z ajustado a la derecha en un campo de ancho x\n",
    "    % -xz    formato z ajustado a la izquierda en un campo de ancho x\n",
    "    % .yz    formato z con y decimales\n",
    "    % x.yz   formatea z con y decimales en un campo de ancho x \n",
    "    %%       el signo de porcentaje% en sí mismo"
   ]
  },
  {
   "cell_type": "markdown",
   "metadata": {},
   "source": [
    "Para obtener una especificación completa de las posibles cadenas de formato de estilo printf, siga el enlace del elemento del formato de estilo de printf en el índice2 de la documentación en línea de la biblioteca estándar de Python.\n",
    "\n",
    "Podemos probar algunos formatos escribiendo más números en la pantalla de nuestro programa (el archivo correspondiente es ball_print2.py):"
   ]
  },
  {
   "cell_type": "markdown",
   "metadata": {},
   "source": [
    "    v0 = 5\n",
    "    g = 9.81\n",
    "    t = 0.6\n",
    "    y = v0*t - 0.5*g*t**2\n",
    "    print \"\"\"\n",
    "    At t=%f s, a ball with\n",
    "    initial velocity v0=%.3E m/s\n",
    "    is located at the height %.2f m.\n",
    "    \"\"\" % (t, v0, y)"
   ]
  },
  {
   "cell_type": "markdown",
   "metadata": {},
   "source": [
    "Observe aquí que usamos una cadena de comillas triples, reconocida al comenzar y terminar con tres comillas simples o dobles: \"\" o \"\". Las cadenas de comillas triples se utilizan para el texto que abarca varias líneas.\n",
    "\n",
    "En la declaración de impresión anterior, imprimimos t en el formato f, que por defecto implica seis decimales; v0 se escribe en el formato .3E, que implica tres decimales y el número se extiende en el campo más estrecho posible; e y se escribe con dos decimales en notación decimal en el campo más estrecho posible. La salida se convierte en"
   ]
  },
  {
   "cell_type": "markdown",
   "metadata": {},
   "source": [
    "        Terminal> python ball_print2.py\n",
    "        At t=0.600000 s, a ball with\n",
    "        initial velocity v0=5.000E+00 m/s\n",
    "        is located at the height 1.23 m."
   ]
  },
  {
   "cell_type": "markdown",
   "metadata": {},
   "source": [
    "Debe mirar cada número en la salida y verificar el formato en detalle.\n",
    "\n",
    "**Formato de sintaxis de cadena.** Python ofrece toda la funcionalidad del formato printf y mucho más a través de una sintaxis diferente, a menudo conocida como sintaxis de cadena de formato. Ilustremos esta sintaxis en la salida de una línea utilizada previamente para mostrar la construcción de printf. Se lee la sintaxis de cadena de formato correspondiente"
   ]
  },
  {
   "cell_type": "code",
   "execution_count": null,
   "metadata": {},
   "outputs": [],
   "source": [
    "print ’At t={t:g} s, the height of the ball is {y:.2f} m.’.format(\n",
    "    t=t, y=y)"
   ]
  },
  {
   "cell_type": "markdown",
   "metadata": {},
   "source": [
    "Las \"ranuras\" donde se insertan las variables ahora se reconocen con llaves en lugar de un signo de porcentaje. El nombre de la variable se lista con dos puntos opcionales y un especificador de formato del mismo tipo que el utilizado para el formato printf. Las diversas variables y sus valores deben enumerarse al final como se muestra. Esta vez, las \"ranuras\" tienen nombres, por lo que la secuencia de variables no es importante.\n",
    "\n",
    "El ejemplo de varias líneas se escribe de la siguiente manera en este formato alternativo:"
   ]
  },
  {
   "cell_type": "code",
   "execution_count": null,
   "metadata": {},
   "outputs": [],
   "source": [
    "print \"\"\"\n",
    "At t={t:f} s, a ball with\n",
    "initial velocity v0={v0:.3E} m/s\n",
    "is located at the height {y:.2f} m.\n",
    "\"\"\".format(t=t, v0=v0, y=y)"
   ]
  },
  {
   "cell_type": "markdown",
   "metadata": {},
   "source": [
    "**Los caracteres de nueva línea.** A menudo queremos que un programa de computadora escriba texto que abarque varias líneas. En el último ejemplo, obtuvimos dicha salida mediante cadenas de comillas triples. También podríamos usar cadenas de comillas simples y un carácter especial para indicar dónde deben ocurrir los saltos de línea. Este carácter especial lee \\ n, es decir, una barra invertida seguida de la letra n. Las dos declaraciones impresas."
   ]
  },
  {
   "cell_type": "code",
   "execution_count": null,
   "metadata": {},
   "outputs": [],
   "source": [
    "print \"\"\"y(t) is\n",
    "the position of\n",
    "our ball.\"\"\"\n",
    "print (’y(t) is\\nthe position of\\nour ball’)"
   ]
  },
  {
   "cell_type": "markdown",
   "metadata": {},
   "source": [
    "resultado en salida idéntica:\n",
    "\n",
    "    y (t) es\n",
    "    la posición de\n",
    "    nuestra pelota"
   ]
  },
  {
   "cell_type": "markdown",
   "metadata": {},
   "source": []
  },
  {
   "cell_type": "markdown",
   "metadata": {},
   "source": []
  },
  {
   "cell_type": "markdown",
   "metadata": {},
   "source": []
  }
 ],
 "metadata": {
  "kernelspec": {
   "display_name": "Python 3",
   "language": "python",
   "name": "python3"
  },
  "language_info": {
   "codemirror_mode": {
    "name": "ipython",
    "version": 3
   },
   "file_extension": ".py",
   "mimetype": "text/x-python",
   "name": "python",
   "nbconvert_exporter": "python",
   "pygments_lexer": "ipython3",
   "version": "3.6.8"
  }
 },
 "nbformat": 4,
 "nbformat_minor": 2
}
